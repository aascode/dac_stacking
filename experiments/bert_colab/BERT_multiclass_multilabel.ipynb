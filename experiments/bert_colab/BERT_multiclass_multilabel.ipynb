{
  "nbformat": 4,
  "nbformat_minor": 0,
  "metadata": {
    "colab": {
      "name": "BERT_multiclass_multilabel.ipynb",
      "provenance": [],
      "collapsed_sections": [
        "RNZWnNqkf84d",
        "_rx5PNubfknI"
      ],
      "toc_visible": true
    },
    "kernelspec": {
      "name": "python3",
      "display_name": "Python 3"
    },
    "accelerator": "GPU"
  },
  "cells": [
    {
      "cell_type": "markdown",
      "metadata": {
        "id": "63P4ejZUJpSS"
      },
      "source": [
        "### 1.0 Generating multi-label, multi-class model with BERT"
      ]
    },
    {
      "cell_type": "markdown",
      "metadata": {
        "id": "0gNKD60iJyvC"
      },
      "source": [
        "Example-based experiment [BERT for Multi-label Classification](https://github.com/javaidnabi31/Multi-Label-Text-classification-Using-BERT/blob/master/multi-label-classification-bert.ipynb) and [Using BERT For Classifying Documents with Long Texts](https://github.com/ArmandDS/bert_for_long_text/blob/master/final_bert_long_docs.ipynb)."
      ]
    },
    {
      "cell_type": "markdown",
      "metadata": {
        "id": "nGccda9Vt7fA"
      },
      "source": [
        "#### 1.1 Load libs from RecurrentNetworks project for test dataset with BERT model"
      ]
    },
    {
      "cell_type": "code",
      "metadata": {
        "id": "cJWyDlbLLG9F",
        "colab": {
          "base_uri": "https://localhost:8080/"
        },
        "outputId": "4a838099-6347-4579-be1e-36ab1514b16c"
      },
      "source": [
        "# install bert if not already done\n",
        "# !pip uninstall tensorflow==2.2.0\n",
        "!pip install tensorflow==1.15.0\n",
        "!pip install bert-tensorflow==1.0.1\n",
        "!pip install keras==2.2.5"
      ],
      "execution_count": null,
      "outputs": [
        {
          "output_type": "stream",
          "text": [
            "Collecting tensorflow==1.15.0\n",
            "\u001b[?25l  Downloading https://files.pythonhosted.org/packages/3f/98/5a99af92fb911d7a88a0005ad55005f35b4c1ba8d75fba02df726cd936e6/tensorflow-1.15.0-cp36-cp36m-manylinux2010_x86_64.whl (412.3MB)\n",
            "\u001b[K     |████████████████████████████████| 412.3MB 43kB/s \n",
            "\u001b[?25hRequirement already satisfied: astor>=0.6.0 in /usr/local/lib/python3.6/dist-packages (from tensorflow==1.15.0) (0.8.1)\n",
            "Collecting keras-applications>=1.0.8\n",
            "\u001b[?25l  Downloading https://files.pythonhosted.org/packages/71/e3/19762fdfc62877ae9102edf6342d71b28fbfd9dea3d2f96a882ce099b03f/Keras_Applications-1.0.8-py3-none-any.whl (50kB)\n",
            "\u001b[K     |████████████████████████████████| 51kB 8.8MB/s \n",
            "\u001b[?25hRequirement already satisfied: opt-einsum>=2.3.2 in /usr/local/lib/python3.6/dist-packages (from tensorflow==1.15.0) (3.3.0)\n",
            "Requirement already satisfied: numpy<2.0,>=1.16.0 in /usr/local/lib/python3.6/dist-packages (from tensorflow==1.15.0) (1.18.5)\n",
            "Requirement already satisfied: absl-py>=0.7.0 in /usr/local/lib/python3.6/dist-packages (from tensorflow==1.15.0) (0.10.0)\n",
            "Requirement already satisfied: wrapt>=1.11.1 in /usr/local/lib/python3.6/dist-packages (from tensorflow==1.15.0) (1.12.1)\n",
            "Collecting tensorboard<1.16.0,>=1.15.0\n",
            "\u001b[?25l  Downloading https://files.pythonhosted.org/packages/1e/e9/d3d747a97f7188f48aa5eda486907f3b345cd409f0a0850468ba867db246/tensorboard-1.15.0-py3-none-any.whl (3.8MB)\n",
            "\u001b[K     |████████████████████████████████| 3.8MB 37.7MB/s \n",
            "\u001b[?25hRequirement already satisfied: wheel>=0.26 in /usr/local/lib/python3.6/dist-packages (from tensorflow==1.15.0) (0.35.1)\n",
            "Collecting gast==0.2.2\n",
            "  Downloading https://files.pythonhosted.org/packages/4e/35/11749bf99b2d4e3cceb4d55ca22590b0d7c2c62b9de38ac4a4a7f4687421/gast-0.2.2.tar.gz\n",
            "Requirement already satisfied: protobuf>=3.6.1 in /usr/local/lib/python3.6/dist-packages (from tensorflow==1.15.0) (3.12.4)\n",
            "Requirement already satisfied: six>=1.10.0 in /usr/local/lib/python3.6/dist-packages (from tensorflow==1.15.0) (1.15.0)\n",
            "Requirement already satisfied: grpcio>=1.8.6 in /usr/local/lib/python3.6/dist-packages (from tensorflow==1.15.0) (1.33.2)\n",
            "Requirement already satisfied: google-pasta>=0.1.6 in /usr/local/lib/python3.6/dist-packages (from tensorflow==1.15.0) (0.2.0)\n",
            "Requirement already satisfied: keras-preprocessing>=1.0.5 in /usr/local/lib/python3.6/dist-packages (from tensorflow==1.15.0) (1.1.2)\n",
            "Collecting tensorflow-estimator==1.15.1\n",
            "\u001b[?25l  Downloading https://files.pythonhosted.org/packages/de/62/2ee9cd74c9fa2fa450877847ba560b260f5d0fb70ee0595203082dafcc9d/tensorflow_estimator-1.15.1-py2.py3-none-any.whl (503kB)\n",
            "\u001b[K     |████████████████████████████████| 512kB 50.0MB/s \n",
            "\u001b[?25hRequirement already satisfied: termcolor>=1.1.0 in /usr/local/lib/python3.6/dist-packages (from tensorflow==1.15.0) (1.1.0)\n",
            "Requirement already satisfied: h5py in /usr/local/lib/python3.6/dist-packages (from keras-applications>=1.0.8->tensorflow==1.15.0) (2.10.0)\n",
            "Requirement already satisfied: setuptools>=41.0.0 in /usr/local/lib/python3.6/dist-packages (from tensorboard<1.16.0,>=1.15.0->tensorflow==1.15.0) (50.3.2)\n",
            "Requirement already satisfied: markdown>=2.6.8 in /usr/local/lib/python3.6/dist-packages (from tensorboard<1.16.0,>=1.15.0->tensorflow==1.15.0) (3.3.3)\n",
            "Requirement already satisfied: werkzeug>=0.11.15 in /usr/local/lib/python3.6/dist-packages (from tensorboard<1.16.0,>=1.15.0->tensorflow==1.15.0) (1.0.1)\n",
            "Requirement already satisfied: importlib-metadata; python_version < \"3.8\" in /usr/local/lib/python3.6/dist-packages (from markdown>=2.6.8->tensorboard<1.16.0,>=1.15.0->tensorflow==1.15.0) (2.0.0)\n",
            "Requirement already satisfied: zipp>=0.5 in /usr/local/lib/python3.6/dist-packages (from importlib-metadata; python_version < \"3.8\"->markdown>=2.6.8->tensorboard<1.16.0,>=1.15.0->tensorflow==1.15.0) (3.4.0)\n",
            "Building wheels for collected packages: gast\n",
            "  Building wheel for gast (setup.py) ... \u001b[?25l\u001b[?25hdone\n",
            "  Created wheel for gast: filename=gast-0.2.2-cp36-none-any.whl size=7542 sha256=218ddd991196b8ae61fccc5404f48b25c6147c7f1568a201714196f96208578f\n",
            "  Stored in directory: /root/.cache/pip/wheels/5c/2e/7e/a1d4d4fcebe6c381f378ce7743a3ced3699feb89bcfbdadadd\n",
            "Successfully built gast\n",
            "\u001b[31mERROR: tensorflow-probability 0.11.0 has requirement gast>=0.3.2, but you'll have gast 0.2.2 which is incompatible.\u001b[0m\n",
            "Installing collected packages: keras-applications, tensorboard, gast, tensorflow-estimator, tensorflow\n",
            "  Found existing installation: tensorboard 2.3.0\n",
            "    Uninstalling tensorboard-2.3.0:\n",
            "      Successfully uninstalled tensorboard-2.3.0\n",
            "  Found existing installation: gast 0.3.3\n",
            "    Uninstalling gast-0.3.3:\n",
            "      Successfully uninstalled gast-0.3.3\n",
            "  Found existing installation: tensorflow-estimator 2.3.0\n",
            "    Uninstalling tensorflow-estimator-2.3.0:\n",
            "      Successfully uninstalled tensorflow-estimator-2.3.0\n",
            "  Found existing installation: tensorflow 2.3.0\n",
            "    Uninstalling tensorflow-2.3.0:\n",
            "      Successfully uninstalled tensorflow-2.3.0\n",
            "Successfully installed gast-0.2.2 keras-applications-1.0.8 tensorboard-1.15.0 tensorflow-1.15.0 tensorflow-estimator-1.15.1\n",
            "Collecting bert-tensorflow==1.0.1\n",
            "\u001b[?25l  Downloading https://files.pythonhosted.org/packages/a6/66/7eb4e8b6ea35b7cc54c322c816f976167a43019750279a8473d355800a93/bert_tensorflow-1.0.1-py2.py3-none-any.whl (67kB)\n",
            "\u001b[K     |████████████████████████████████| 71kB 7.0MB/s \n",
            "\u001b[?25hRequirement already satisfied: six in /usr/local/lib/python3.6/dist-packages (from bert-tensorflow==1.0.1) (1.15.0)\n",
            "Installing collected packages: bert-tensorflow\n",
            "Successfully installed bert-tensorflow-1.0.1\n",
            "Collecting keras==2.2.5\n",
            "\u001b[?25l  Downloading https://files.pythonhosted.org/packages/f8/ba/2d058dcf1b85b9c212cc58264c98a4a7dd92c989b798823cc5690d062bb2/Keras-2.2.5-py2.py3-none-any.whl (336kB)\n",
            "\u001b[K     |████████████████████████████████| 337kB 13.4MB/s \n",
            "\u001b[?25hRequirement already satisfied: six>=1.9.0 in /usr/local/lib/python3.6/dist-packages (from keras==2.2.5) (1.15.0)\n",
            "Requirement already satisfied: keras-preprocessing>=1.1.0 in /usr/local/lib/python3.6/dist-packages (from keras==2.2.5) (1.1.2)\n",
            "Requirement already satisfied: numpy>=1.9.1 in /usr/local/lib/python3.6/dist-packages (from keras==2.2.5) (1.18.5)\n",
            "Requirement already satisfied: pyyaml in /usr/local/lib/python3.6/dist-packages (from keras==2.2.5) (3.13)\n",
            "Requirement already satisfied: h5py in /usr/local/lib/python3.6/dist-packages (from keras==2.2.5) (2.10.0)\n",
            "Requirement already satisfied: scipy>=0.14 in /usr/local/lib/python3.6/dist-packages (from keras==2.2.5) (1.4.1)\n",
            "Requirement already satisfied: keras-applications>=1.0.8 in /usr/local/lib/python3.6/dist-packages (from keras==2.2.5) (1.0.8)\n",
            "Installing collected packages: keras\n",
            "  Found existing installation: Keras 2.4.3\n",
            "    Uninstalling Keras-2.4.3:\n",
            "      Successfully uninstalled Keras-2.4.3\n",
            "Successfully installed keras-2.2.5\n"
          ],
          "name": "stdout"
        }
      ]
    },
    {
      "cell_type": "code",
      "metadata": {
        "id": "sXnpiId_JSfZ",
        "colab": {
          "base_uri": "https://localhost:8080/"
        },
        "outputId": "2caa67a7-e789-4332-9fc1-376cc1189ecf"
      },
      "source": [
        "from google.colab import drive\n",
        "drive.mount('/content/drive/', force_remount=True)"
      ],
      "execution_count": null,
      "outputs": [
        {
          "output_type": "stream",
          "text": [
            "Mounted at /content/drive/\n"
          ],
          "name": "stdout"
        }
      ]
    },
    {
      "cell_type": "code",
      "metadata": {
        "id": "rtLTka8rJrhn",
        "colab": {
          "base_uri": "https://localhost:8080/"
        },
        "outputId": "bbc032bc-e693-496d-d3a2-abf68c0f8674"
      },
      "source": [
        "import os\n",
        "import collections\n",
        "import sys\n",
        "sys.path.insert(0, os.path.abspath('/content/drive/My Drive/RecurrentNetworks/'))\n",
        "\n",
        "# Disable warnings\n",
        "import warnings\n",
        "warnings.filterwarnings('ignore')\n",
        "os.environ['TF_CPP_MIN_LOG_LEVEL'] = '2'\n",
        "\n",
        "import numpy as np\n",
        "import pandas as pd\n",
        "import re\n",
        "import pandas.io.json as pd_json\n",
        "import utils.definition_network as dn\n",
        "from utils.metrics import Metrics\n",
        "from datetime import datetime\n",
        "from sklearn.preprocessing import LabelEncoder\n",
        "\n",
        "# Tensorflow\n",
        "import tensorflow as tf\n",
        "import tensorflow_hub as hub\n",
        "\n",
        "# metrics\n",
        "from sklearn.metrics import roc_auc_score\n",
        "from sklearn.metrics import f1_score\n",
        "from sklearn.metrics import precision_score\n",
        "from sklearn.metrics import recall_score\n",
        "from sklearn.metrics import classification_report"
      ],
      "execution_count": null,
      "outputs": [
        {
          "output_type": "stream",
          "text": [
            "Using TensorFlow backend.\n"
          ],
          "name": "stderr"
        }
      ]
    },
    {
      "cell_type": "code",
      "metadata": {
        "id": "NA0EPVUm9v3a"
      },
      "source": [
        "import keras\n",
        "from keras import layers\n",
        "from keras import Sequential\n",
        "from keras.utils import Sequence\n",
        "from keras.layers import LSTM, Dense, Masking\n",
        "from keras.utils import np_utils\n",
        "from keras import optimizers\n",
        "from keras.models import Sequential, Model\n",
        "from keras.layers import Embedding, Dense, Input, concatenate, Layer, Lambda, Dropout, Activation\n",
        "from keras.callbacks import ModelCheckpoint, EarlyStopping, Callback, TensorBoard"
      ],
      "execution_count": null,
      "outputs": []
    },
    {
      "cell_type": "code",
      "metadata": {
        "id": "-xBUY5DyxQQx",
        "colab": {
          "base_uri": "https://localhost:8080/"
        },
        "outputId": "02d1b7be-6e14-48fb-fcdc-2f7287158ae3"
      },
      "source": [
        "# BERT\n",
        "import bert\n",
        "from bert import optimization\n",
        "from bert import tokenization\n",
        "# from bert import modeling"
      ],
      "execution_count": null,
      "outputs": [
        {
          "output_type": "stream",
          "text": [
            "WARNING:tensorflow:From /usr/local/lib/python3.6/dist-packages/bert/optimization.py:87: The name tf.train.Optimizer is deprecated. Please use tf.compat.v1.train.Optimizer instead.\n",
            "\n"
          ],
          "name": "stdout"
        }
      ]
    },
    {
      "cell_type": "markdown",
      "metadata": {
        "id": "L0QsucZO6tb3"
      },
      "source": [
        "#### 1.2 Auxiliary Functions (Load dataset and Prepare for BERT format)"
      ]
    },
    {
      "cell_type": "code",
      "metadata": {
        "id": "hhAXg0OZF4et",
        "colab": {
          "base_uri": "https://localhost:8080/"
        },
        "outputId": "c5827e4e-8588-4778-f7eb-30c272053543"
      },
      "source": [
        "# The list containing all the classes (train['SECTION'].unique())\n",
        "LABELS_SET_INDEX = [0,1,2]\n",
        "LABELS_SET = ['control', 'anxiety', 'depression']\n",
        "print(\" %s = %s\" % (LABELS_SET, LABELS_SET_INDEX))"
      ],
      "execution_count": null,
      "outputs": [
        {
          "output_type": "stream",
          "text": [
            " ['control', 'anxiety', 'depression'] = [0, 1, 2]\n"
          ],
          "name": "stdout"
        }
      ]
    },
    {
      "cell_type": "markdown",
      "metadata": {
        "id": "got3AcEaMRT_"
      },
      "source": [
        "#### 1.2.1 Load Dataset "
      ]
    },
    {
      "cell_type": "code",
      "metadata": {
        "id": "0_H5gCEv0gAt"
      },
      "source": [
        "def sub_samples(path_dataset, total_by_class):\n",
        "  data_df = pd.read_pickle(path_dataset)\n",
        "  labels = data_df.label.unique()\n",
        "\n",
        "  sub_samples = []\n",
        "  for label in labels:\n",
        "    sub_samples.append(data_df[data_df.label == label].head(total_by_class))\n",
        "\n",
        "  return pd.concat(sub_samples)"
      ],
      "execution_count": null,
      "outputs": []
    },
    {
      "cell_type": "code",
      "metadata": {
        "id": "T69eAISi0IyR"
      },
      "source": [
        "def load_datasets():\n",
        "  train_df = pd.read_pickle(dn.PATH_PROJECT + 'dataset/anx_dep_multilabel/SMHD_train_2640.df')\n",
        "  valid_df = pd.read_pickle(dn.PATH_PROJECT + 'dataset/anx_dep_multilabel/SMHD_validation_2640.df')\n",
        "  test_df = pd.read_pickle(dn.PATH_PROJECT + 'dataset/anx_dep_multilabel/SMHD_test_2640.df')\n",
        "\n",
        "  test_stk_df = pd.read_pickle(dn.PATH_PROJECT + 'dataset/anx_dep_multilabel/SMHD_multi_label_test_test_528.df')\n",
        "  return train_df, valid_df, test_df, test_stk_df"
      ],
      "execution_count": null,
      "outputs": []
    },
    {
      "cell_type": "markdown",
      "metadata": {
        "id": "XdVaolQeMYjJ"
      },
      "source": [
        "#### 1.2.2 Pre-process Dataset"
      ]
    },
    {
      "cell_type": "code",
      "metadata": {
        "id": "T2toR0XvB809"
      },
      "source": [
        "def preprocess_to_categorical_y(data_df, multi_label=True):\n",
        "  if multi_label:\n",
        "    data_df.insert(len(data_df.columns), 'control', 0.0)\n",
        "    data_df.insert(len(data_df.columns), 'anxiety', 0.0)\n",
        "    data_df.insert(len(data_df.columns), 'depression', 0.0)\n",
        "\n",
        "    data_df.loc[data_df.label == 'control', 'control'] = 1.0\n",
        "    data_df.loc[data_df.label == 'anxiety', 'anxiety'] = 1.0\n",
        "    data_df.loc[data_df.label == 'depression', 'depression'] = 1.0\n",
        "    data_df.loc[data_df.label == 'anxiety,depression', ['anxiety','depression']] = 1.0\n",
        "\n",
        "    labels = list((data_df[['control','anxiety','depression']].values))\n",
        "    data_df = pd.DataFrame({'texts': data_df.texts,\n",
        "                            'label': labels})\n",
        "  else:\n",
        "    LE = LabelEncoder()\n",
        "    data_df['label'] = LE.fit_transform(data_df['label'])\n",
        "\n",
        "  # Shuffle rows of the dataframe and return all rows (frac=1)\n",
        "  data_df = data_df.sample(frac = 1) \n",
        "  return data_df"
      ],
      "execution_count": null,
      "outputs": []
    },
    {
      "cell_type": "code",
      "metadata": {
        "id": "K0b-ZQ7Ztdy6"
      },
      "source": [
        "def clean_txt(text):\n",
        "  text = re.sub(\"'\", \"\",text)\n",
        "  text=re.sub(\"(\\\\W)+\",\" \",text)    \n",
        "  return text"
      ],
      "execution_count": null,
      "outputs": []
    },
    {
      "cell_type": "code",
      "metadata": {
        "id": "Yyf9AM1xu3IL"
      },
      "source": [
        "# Splitting the Data into smaller chunks\n",
        "def get_split(text1):\n",
        "  l_total = []\n",
        "  l_parcial = []\n",
        "  if len(text1.split())//150 > 0:\n",
        "    n = len(text1.split())//150\n",
        "  else: \n",
        "    n = 1\n",
        "  for w in range(n):\n",
        "    if w == 0:\n",
        "      l_parcial = text1.split()[:200]\n",
        "      l_total.append(\" \".join(l_parcial))\n",
        "    else:\n",
        "      l_parcial = text1.split()[w*150:w*150 + 200]\n",
        "      l_total.append(\" \".join(l_parcial))\n",
        "  return l_total"
      ],
      "execution_count": null,
      "outputs": []
    },
    {
      "cell_type": "code",
      "metadata": {
        "id": "-IPJnlCpxgVw"
      },
      "source": [
        "def build_post_list_by_user(data_df):\n",
        "  data_l = []\n",
        "  label_l = []\n",
        "  index_l =[]\n",
        "  for idx,row in data_df.iterrows():\n",
        "    for l in row['text_split']:\n",
        "      data_l.append(l)\n",
        "      label_l.append(row['label'])\n",
        "      index_l.append(idx)\n",
        "\n",
        "  return data_l, label_l, index_l"
      ],
      "execution_count": null,
      "outputs": []
    },
    {
      "cell_type": "code",
      "metadata": {
        "id": "Qe9dBKPwGek3"
      },
      "source": [
        "def preprocess_dataset_to_bert_format(data_df, multi_label=True):\n",
        "  # Convert y to categorical output format accordance required by BERT\n",
        "  data_raw_df = preprocess_to_categorical_y(data_df, multi_label)\n",
        "\n",
        "  # Unify post lists by user, and clean special caracters in text\n",
        "  data_raw_df.loc[:, 'texts'] = data_raw_df.texts.apply(lambda x: clean_txt(\" \".join(eval(x))))\n",
        "  data_src_df = data_raw_df.copy()\n",
        "\n",
        "  data_src_df.reset_index(drop=True, inplace=True)\n",
        "  print(\"Data Set Shape :\", data_src_df.shape)\n",
        "\n",
        "  # Splitting text user in chunks of the 200 tokens each\n",
        "  data_src_df['text_split'] = data_src_df['texts'].apply(get_split)\n",
        "\n",
        "  # Final dataset for training\n",
        "  data_l, label_l, index_l = build_post_list_by_user(data_src_df)\n",
        "  print(\"Len dataset format: text_l = %s, label_l = %s, index_l = %s\" % (len(data_l), len(label_l), len(index_l)))\n",
        "\n",
        "  new_data_df = pd.DataFrame({'text':data_l, 'label':label_l})\n",
        "\n",
        "  return data_src_df, new_data_df, index_l"
      ],
      "execution_count": null,
      "outputs": []
    },
    {
      "cell_type": "markdown",
      "metadata": {
        "id": "Uwaoy3zj9QSC"
      },
      "source": [
        "#### 1.2.3 Adapts functions of the BERT module in the run_classifier.py file for multi-label classification"
      ]
    },
    {
      "cell_type": "code",
      "metadata": {
        "id": "rJ-fIWHb9P54"
      },
      "source": [
        "class InputExample(object):\n",
        "  \"\"\"A single training/test example for simple sequence classification.\"\"\"\n",
        "\n",
        "  def __init__(self, guid, text_a, text_b=None, label=None):\n",
        "    \"\"\"Constructs a InputExample.\n",
        "\n",
        "    Args:\n",
        "      guid: Unique id for the example.\n",
        "      text_a: string. The untokenized text of the first sequence. For single\n",
        "        sequence tasks, only this sequence must be specified.\n",
        "      text_b: (Optional) string. The untokenized text of the second sequence.\n",
        "        Only must be specified for sequence pair tasks.\n",
        "      label: (Optional) string. The label of the example. This should be\n",
        "        specified for train and dev examples, but not for test examples.\n",
        "    \"\"\"\n",
        "    self.guid = guid\n",
        "    self.text_a = text_a\n",
        "    self.text_b = text_b\n",
        "    self.label = label\n",
        "\n",
        "\n",
        "class PaddingInputExample(object):\n",
        "  \"\"\"Fake example so the num input examples is a multiple of the batch size.\n",
        "\n",
        "  When running eval/predict on the TPU, we need to pad the number of examples\n",
        "  to be a multiple of the batch size, because the TPU requires a fixed batch\n",
        "  size. The alternative is to drop the last batch, which is bad because it means\n",
        "  the entire output data won't be generated.\n",
        "\n",
        "  We use this class instead of `None` because treating `None` as padding\n",
        "  battches could cause silent errors.\n",
        "  \"\"\"\n",
        "\n",
        "\n",
        "class InputFeatures(object):\n",
        "  \"\"\"A single set of features of data.\"\"\"\n",
        "\n",
        "  def __init__(self,\n",
        "               input_ids,\n",
        "               input_mask,\n",
        "               segment_ids,\n",
        "               label_id,\n",
        "               is_real_example=True):\n",
        "    self.input_ids = input_ids\n",
        "    self.input_mask = input_mask\n",
        "    self.segment_ids = segment_ids\n",
        "    self.label_id = label_id\n",
        "    self.is_real_example = is_real_example"
      ],
      "execution_count": null,
      "outputs": []
    },
    {
      "cell_type": "code",
      "metadata": {
        "id": "IUCxPqC29opO"
      },
      "source": [
        "def convert_single_example(ex_index, example, label_list, max_seq_length,\n",
        "                           tokenizer, multi_label=False):\n",
        "  \"\"\"Converts a single `InputExample` into a single `InputFeatures`.\"\"\"\n",
        "\n",
        "  if isinstance(example, PaddingInputExample):\n",
        "    return InputFeatures(\n",
        "        input_ids=[0] * max_seq_length,\n",
        "        input_mask=[0] * max_seq_length,\n",
        "        segment_ids=[0] * max_seq_length,\n",
        "        label_id=0,\n",
        "        is_real_example=False)\n",
        "\n",
        "  tokens_a = tokenizer.tokenize(example.text_a)\n",
        "  tokens_b = None\n",
        "  if example.text_b:\n",
        "    tokens_b = tokenizer.tokenize(example.text_b)\n",
        "\n",
        "  if tokens_b:\n",
        "    # Modifies `tokens_a` and `tokens_b` in place so that the total\n",
        "    # length is less than the specified length.\n",
        "    # Account for [CLS], [SEP], [SEP] with \"- 3\"\n",
        "    _truncate_seq_pair(tokens_a, tokens_b, max_seq_length - 3)\n",
        "  else:\n",
        "    # Account for [CLS] and [SEP] with \"- 2\"\n",
        "    if len(tokens_a) > max_seq_length - 2:\n",
        "      tokens_a = tokens_a[0:(max_seq_length - 2)]\n",
        "\n",
        "  # The convention in BERT is:\n",
        "  # (a) For sequence pairs:\n",
        "  #  tokens:   [CLS] is this jack ##son ##ville ? [SEP] no it is not . [SEP]\n",
        "  #  type_ids: 0     0  0    0    0     0       0 0     1  1  1  1   1 1\n",
        "  # (b) For single sequences:\n",
        "  #  tokens:   [CLS] the dog is hairy . [SEP]\n",
        "  #  type_ids: 0     0   0   0  0     0 0\n",
        "  #\n",
        "  # Where \"type_ids\" are used to indicate whether this is the first\n",
        "  # sequence or the second sequence. The embedding vectors for `type=0` and\n",
        "  # `type=1` were learned during pre-training and are added to the wordpiece\n",
        "  # embedding vector (and position vector). This is not *strictly* necessary\n",
        "  # since the [SEP] token unambiguously separates the sequences, but it makes\n",
        "  # it easier for the model to learn the concept of sequences.\n",
        "  #\n",
        "  # For classification tasks, the first vector (corresponding to [CLS]) is\n",
        "  # used as the \"sentence vector\". Note that this only makes sense because\n",
        "  # the entire model is fine-tuned.\n",
        "  tokens = []\n",
        "  segment_ids = []\n",
        "  tokens.append(\"[CLS]\")\n",
        "  segment_ids.append(0)\n",
        "  for token in tokens_a:\n",
        "    tokens.append(token)\n",
        "    segment_ids.append(0)\n",
        "  tokens.append(\"[SEP]\")\n",
        "  segment_ids.append(0)\n",
        "\n",
        "  if tokens_b:\n",
        "    for token in tokens_b:\n",
        "      tokens.append(token)\n",
        "      segment_ids.append(1)\n",
        "    tokens.append(\"[SEP]\")\n",
        "    segment_ids.append(1)\n",
        "\n",
        "  input_ids = tokenizer.convert_tokens_to_ids(tokens)\n",
        "\n",
        "  # The mask has 1 for real tokens and 0 for padding tokens. Only real\n",
        "  # tokens are attended to.\n",
        "  input_mask = [1] * len(input_ids)\n",
        "\n",
        "  # Zero-pad up to the sequence length.\n",
        "  while len(input_ids) < max_seq_length:\n",
        "    input_ids.append(0)\n",
        "    input_mask.append(0)\n",
        "    segment_ids.append(0)\n",
        "\n",
        "  assert len(input_ids) == max_seq_length\n",
        "  assert len(input_mask) == max_seq_length\n",
        "  assert len(segment_ids) == max_seq_length\n",
        "\n",
        "  if multi_label:\n",
        "    label_id = []\n",
        "    for label in example.label:\n",
        "        label_id.append(label)\n",
        "  else:\n",
        "    label_map = {}\n",
        "    for (i, label) in enumerate(label_list):\n",
        "      label_map[label] = i\n",
        "    \n",
        "    label_id = label_map[example.label]\n",
        "  \n",
        "  if ex_index < 5:\n",
        "    tf.logging.info(\"*** Example ***\")\n",
        "    tf.logging.info(\"guid: %s\" % (example.guid))\n",
        "    tf.logging.info(\"tokens: %s\" % \" \".join(\n",
        "        [tokenization.printable_text(x) for x in tokens]))\n",
        "    tf.logging.info(\"input_ids: %s\" % \" \".join([str(x) for x in input_ids]))\n",
        "    tf.logging.info(\"input_mask: %s\" % \" \".join([str(x) for x in input_mask]))\n",
        "    tf.logging.info(\"segment_ids: %s\" % \" \".join([str(x) for x in segment_ids]))\n",
        "    tf.logging.info(\"label: %s (id = %s)\" % (example.label, str(label_id)))\n",
        "\n",
        "  feature = InputFeatures(\n",
        "      input_ids=input_ids,\n",
        "      input_mask=input_mask,\n",
        "      segment_ids=segment_ids,\n",
        "      label_id=label_id,\n",
        "      is_real_example=True)\n",
        "  return feature"
      ],
      "execution_count": null,
      "outputs": []
    },
    {
      "cell_type": "code",
      "metadata": {
        "id": "uoTNtC_j9x7E"
      },
      "source": [
        "def convert_examples_to_features(examples, label_list, max_seq_length,\n",
        "                                 tokenizer, multi_label=False):\n",
        "  \"\"\"Convert a set of `InputExample`s to a list of `InputFeatures`.\"\"\"\n",
        "\n",
        "  features = []\n",
        "  for (ex_index, example) in enumerate(examples):\n",
        "    if ex_index % 10000 == 0:\n",
        "      tf.logging.info(\"Writing example %d of %d\" % (ex_index, len(examples)))\n",
        "\n",
        "    feature = convert_single_example(ex_index, example, label_list,\n",
        "                                     max_seq_length, tokenizer, multi_label)\n",
        "\n",
        "    features.append(feature)\n",
        "  return features\n"
      ],
      "execution_count": null,
      "outputs": []
    },
    {
      "cell_type": "code",
      "metadata": {
        "id": "-E8xXM0tC57V"
      },
      "source": [
        "def input_fn_builder(features, seq_length, is_training, drop_remainder):\n",
        "  \"\"\"Creates an `input_fn` closure to be passed to TPUEstimator.\"\"\"\n",
        "\n",
        "  all_input_ids = []\n",
        "  all_input_mask = []\n",
        "  all_segment_ids = []\n",
        "  all_label_ids = []\n",
        "\n",
        "  for feature in features:\n",
        "    all_input_ids.append(feature.input_ids)\n",
        "    all_input_mask.append(feature.input_mask)\n",
        "    all_segment_ids.append(feature.segment_ids)\n",
        "    all_label_ids.append(feature.label_id)\n",
        "\n",
        "  def input_fn(params):\n",
        "    \"\"\"The actual input function.\"\"\"\n",
        "    batch_size = params[\"batch_size\"]\n",
        "\n",
        "    num_examples = len(features)\n",
        "\n",
        "    # This is for demo purposes and does NOT scale to large data sets. We do\n",
        "    # not use Dataset.from_generator() because that uses tf.py_func which is\n",
        "    # not TPU compatible. The right way to load data is with TFRecordReader.\n",
        "    d = tf.data.Dataset.from_tensor_slices({\n",
        "        \"input_ids\":\n",
        "            tf.constant(\n",
        "                all_input_ids, shape=[num_examples, seq_length],\n",
        "                dtype=tf.int32),\n",
        "        \"input_mask\":\n",
        "            tf.constant(\n",
        "                all_input_mask,\n",
        "                shape=[num_examples, seq_length],\n",
        "                dtype=tf.int32),\n",
        "        \"segment_ids\":\n",
        "            tf.constant(\n",
        "                all_segment_ids,\n",
        "                shape=[num_examples, seq_length],\n",
        "                dtype=tf.int32),\n",
        "        \"label_ids\":\n",
        "            tf.constant(all_label_ids, shape=[num_examples, len(LABELS_SET)], \n",
        "                        dtype=tf.int32),\n",
        "    })\n",
        "\n",
        "    if is_training:\n",
        "      d = d.repeat()\n",
        "      d = d.shuffle(buffer_size=100)\n",
        "\n",
        "    d = d.batch(batch_size=batch_size, drop_remainder=drop_remainder)\n",
        "    return d\n",
        "\n",
        "  return input_fn"
      ],
      "execution_count": null,
      "outputs": []
    },
    {
      "cell_type": "markdown",
      "metadata": {
        "id": "Rj3htOuVzQ6_"
      },
      "source": [
        "#### 1.2.4 Pre-process with pre-trained BERT, Create Tokenizer BERT\n"
      ]
    },
    {
      "cell_type": "code",
      "metadata": {
        "id": "32nbFZ4Y4RMR"
      },
      "source": [
        "def process_data_bert(data_df):\n",
        "  return data_df.apply(lambda x: InputExample(guid=None,\n",
        "                                              text_a = x['text'], \n",
        "                                              text_b = None, \n",
        "                                              label = np.array(x['label']).astype(int)), \n",
        "                       axis = 1)"
      ],
      "execution_count": null,
      "outputs": []
    },
    {
      "cell_type": "code",
      "metadata": {
        "id": "5o3EVRWs4kFM"
      },
      "source": [
        "def create_tokenizer_from_hub_module(bert_model_hub):\n",
        "  \"\"\"Get the vocab file and casing info from the Hub module.\"\"\"\n",
        "  with tf.Graph().as_default():\n",
        "    bert_module = hub.Module(bert_model_hub)\n",
        "    tokenization_info = bert_module(signature=\"tokenization_info\", as_dict=True)\n",
        "    with tf.Session() as sess:\n",
        "      vocab_file, do_lower_case = sess.run([tokenization_info[\"vocab_file\"],\n",
        "                                            tokenization_info[\"do_lower_case\"]])\n",
        "      \n",
        "  return bert.tokenization.FullTokenizer(\n",
        "      vocab_file=vocab_file, do_lower_case=do_lower_case)"
      ],
      "execution_count": null,
      "outputs": []
    },
    {
      "cell_type": "markdown",
      "metadata": {
        "id": "cfg5kDTsLZBs"
      },
      "source": [
        "#### 1.2.5 BERT: Creating A Multi-Class Multi-Label Classifier Model\n"
      ]
    },
    {
      "cell_type": "code",
      "metadata": {
        "id": "HWFnl-1H55aD"
      },
      "source": [
        "def create_model(is_predicting, input_ids, input_mask, segment_ids, labels,\n",
        "                 num_labels):\n",
        "  \n",
        "  bert_module = hub.Module(\n",
        "      BERT_MODEL_HUB,\n",
        "      trainable=True)\n",
        "  bert_inputs = dict(\n",
        "      input_ids=input_ids,\n",
        "      input_mask=input_mask,\n",
        "      segment_ids=segment_ids)\n",
        "  bert_outputs = bert_module(\n",
        "      inputs=bert_inputs,\n",
        "      signature=\"tokens\",\n",
        "      as_dict=True)\n",
        "\n",
        "  # Use \"pooled_output\" for classification tasks on an entire sentence.\n",
        "  # Use \"sequence_outputs\" for token-level output.\n",
        "  output_layer = bert_outputs[\"pooled_output\"]\n",
        "  # with tf.Session() as sess:\n",
        "  output_layer1 = bert_outputs[\"pooled_output\"]\n",
        "  # output_layer1 = 999\n",
        "  hidden_size = output_layer.shape[-1].value\n",
        "\n",
        "  # Create our own layer to tune for politeness data.\n",
        "  output_weights = tf.get_variable(\n",
        "      \"output_weights\", [num_labels, hidden_size],\n",
        "      initializer=tf.truncated_normal_initializer(stddev=0.02))\n",
        "\n",
        "  output_bias = tf.get_variable(\n",
        "      \"output_bias\", [num_labels], initializer=tf.zeros_initializer())\n",
        "\n",
        "  with tf.variable_scope(\"loss\"):\n",
        "\n",
        "    # Dropout helps prevent overfitting\n",
        "    output_layer = tf.nn.dropout(output_layer, keep_prob=0.8)\n",
        "    logits = tf.matmul(output_layer, output_weights, transpose_b=True)\n",
        "    logits = tf.nn.bias_add(logits, output_bias)\n",
        "    log_probs = tf.nn.sigmoid(logits)\n",
        "\n",
        "    predicted_labels = tf.round(log_probs)\n",
        "    # If we're predicting, we want predicted labels and the probabiltiies.\n",
        "    if is_predicting:\n",
        "      return (predicted_labels, log_probs, output_layer1)\n",
        "\n",
        "    # If we're train/eval, compute loss between predicted and actual label\n",
        "    # labels = tf.cast(labels, tf.float32)\n",
        "    per_example_loss = tf.nn.sigmoid_cross_entropy_with_logits(logits=logits, labels=labels)\n",
        "    loss = tf.reduce_mean(per_example_loss)\n",
        "    tf.logging.info(\"loss:{};predicted_labels:{};log_probs{};labels:{}\".\\\n",
        "                    format(loss, predicted_labels, log_probs, labels))\n",
        "\n",
        "    return (loss, predicted_labels, log_probs)"
      ],
      "execution_count": null,
      "outputs": []
    },
    {
      "cell_type": "code",
      "metadata": {
        "id": "SPl1CH0_6EAz"
      },
      "source": [
        "def model_fn_builder(num_labels, learning_rate, num_train_steps,\n",
        "                     num_warmup_steps):\n",
        "  \"\"\"Returns `model_fn` closure for TPUEstimator.\"\"\"\n",
        "  def model_fn(features, labels, mode, params):  # pylint: disable=unused-argument\n",
        "    \"\"\"The `model_fn` for TPUEstimator.\"\"\"\n",
        "\n",
        "    input_ids = features[\"input_ids\"]\n",
        "    input_mask = features[\"input_mask\"]\n",
        "    segment_ids = features[\"segment_ids\"]\n",
        "    label_ids = tf.cast(features[\"label_ids\"], tf.float32)\n",
        "\n",
        "    is_predicting = (mode == tf.estimator.ModeKeys.PREDICT)\n",
        "    \n",
        "    # TRAIN and EVAL\n",
        "    if not is_predicting:\n",
        "\n",
        "      (loss, predicted_labels, log_probs) = create_model(\n",
        "        is_predicting, input_ids, input_mask, segment_ids, label_ids, \n",
        "        num_labels)\n",
        "\n",
        "      train_op = bert.optimization.create_optimizer(\n",
        "          loss, learning_rate, num_train_steps, num_warmup_steps, use_tpu=False)\n",
        "\n",
        "      # Calculate evaluation metrics. \n",
        "      def metric_fn(label_ids, predicted_labels):\n",
        "        accuracy = tf.metrics.accuracy(label_ids, predicted_labels)\n",
        "        true_pos = tf.metrics.true_positives(\n",
        "            label_ids,\n",
        "            predicted_labels)\n",
        "        true_neg = tf.metrics.true_negatives(\n",
        "            label_ids,\n",
        "            predicted_labels)   \n",
        "        false_pos = tf.metrics.false_positives(\n",
        "            label_ids,\n",
        "            predicted_labels)  \n",
        "        false_neg = tf.metrics.false_negatives(\n",
        "            label_ids,\n",
        "            predicted_labels)\n",
        "        # rep_ml_dict = classification_report(label_ids, predicted_labels, \n",
        "        #                                     labels=gLabel_list, \n",
        "        #                                     target_names=gLabel_name, \n",
        "        #                                     zero_division=0, output_dict=True)\n",
        "        \n",
        "        return {\n",
        "            \"eval_accuracy\": accuracy,\n",
        "            \"true_positives\": true_pos,\n",
        "            \"true_negatives\": true_neg,\n",
        "            \"false_positives\": false_pos,\n",
        "            \"false_negatives\": false_neg,\n",
        "            # \"multi_label_report\": rep_ml_dict,\n",
        "            }\n",
        "\n",
        "      eval_metrics = metric_fn(label_ids, predicted_labels)\n",
        "\n",
        "      if mode == tf.estimator.ModeKeys.TRAIN:\n",
        "        return tf.estimator.EstimatorSpec(mode=mode,\n",
        "          loss=loss,\n",
        "          train_op=train_op)\n",
        "      else:\n",
        "          return tf.estimator.EstimatorSpec(mode=mode,\n",
        "            loss=loss,\n",
        "            eval_metric_ops=eval_metrics)\n",
        "    else:\n",
        "      (predicted_labels, log_probs, output_layer) = create_model(\n",
        "        is_predicting, input_ids, input_mask, segment_ids, label_ids, \n",
        "        num_labels)\n",
        "      predictions = {\n",
        "          'probabilities': log_probs,\n",
        "          'labels': predicted_labels,\n",
        "          'pooled_output': output_layer\n",
        "      }\n",
        "      return tf.estimator.EstimatorSpec(mode, predictions=predictions)\n",
        "\n",
        "  # Return the actual model function in the closure\n",
        "  return model_fn"
      ],
      "execution_count": null,
      "outputs": []
    },
    {
      "cell_type": "markdown",
      "metadata": {
        "id": "Rk9T_wouLbBb"
      },
      "source": [
        "#### 1.2.6 Sets: Output directory BERT and Metrics\n"
      ]
    },
    {
      "cell_type": "code",
      "metadata": {
        "id": "1uYOXOgxwPu1"
      },
      "source": [
        "def set_output_dir_bert(bert_dir_name='bert_news_category'):\n",
        "  #@markdown Whether or not to clear/delete the directory and create a new one\n",
        "  DO_DELETE = True #@param {type:\"boolean\"}\n",
        "\n",
        "  if DO_DELETE:\n",
        "    try:\n",
        "      tf.gfile.DeleteRecursively(bert_dir_name)\n",
        "    except:\n",
        "      pass\n",
        "\n",
        "  tf.gfile.MakeDirs(bert_dir_name)\n",
        "  print('***** Model output directory: {} *****'.format(bert_dir_name))"
      ],
      "execution_count": null,
      "outputs": []
    },
    {
      "cell_type": "code",
      "metadata": {
        "id": "mxy7jnVKioSx"
      },
      "source": [
        "def print_metrics(y_true, y_pred):\n",
        "  score_roc = roc_auc_score(y_true, y_pred)\n",
        "  score_f1=  f1_score(y_true, y_pred)\n",
        "  score_precision = precision_score(y_true, y_pred)\n",
        "  score_recall = recall_score(y_true, y_pred)\n",
        "\n",
        "  print(\"\\n ROC-AUC score: %.6f \\n\" % (score_roc))    \n",
        "  print(\"\\n Metrics \\nPrecision\\t Recall\\t F1-measure\")  \n",
        "  print(\"\\n%.6f \\t%.6f \\t%.6f\\n\" % (score_precision, score_recall, score_f1))  "
      ],
      "execution_count": null,
      "outputs": []
    },
    {
      "cell_type": "code",
      "metadata": {
        "id": "Jr4xb7NG4Hgw"
      },
      "source": [
        "def multitask_metrics(y_test, y_pred, label_set, experiment_name, model_name, metrics_based_sample=False):\n",
        "  metrics_test = Metrics()\n",
        "\n",
        "  final_metrics = metrics_test.calc_metrics_multilabel(y_test, y_pred, label_set, dn.TypePredictionLabel.MULTI_LABEL_CATEGORICAL, metrics_based_sample)\n",
        "\n",
        "  metrics_test.save_predict_results(experiment_name + '_SMHD_2640_test_predict_results',\n",
        "                                    dn.TypePredictionLabel.MULTI_LABEL_CATEGORICAL, y_pred, y_test)\n",
        "\n",
        "  print('Correct Prediction per Label: ' + str(final_metrics['Correct Prediction per Label']))\n",
        "  print('Exact Match Ratio: ' + str(final_metrics['Exact Match Ratio']))\n",
        "  print('Hamming Loss: ' + str(final_metrics['Hamming Loss']))\n",
        "  print('Confusion Matrix: \\n' + str(final_metrics['Multi-label Confusion Matrix']))\n",
        "  print('=== Model Performance - Multi-label Metrics ===\\n' + str(final_metrics['Multi-label Report']))\n",
        "  print('\\n\\n=== Model Performance - Single-label Metrics ===\\n' + str(final_metrics['Single-label Report']))\n",
        "    \n",
        "  metrics_results = dict({'test': experiment_name,\n",
        "                                        'iteraction': str(1),\n",
        "                                        'model': model_name,\n",
        "                                        'CPLC': final_metrics['Correct Prediction per Label'][0],\n",
        "                                        'CPLA': final_metrics['Correct Prediction per Label'][1],\n",
        "                                        'CPLD': final_metrics['Correct Prediction per Label'][2],\n",
        "                                        'EMR': final_metrics['Exact Match Ratio'],\n",
        "                                        'HL': final_metrics['Hamming Loss'],\n",
        "                                        'metrics_multilabel': final_metrics['Multi-label Report Dict'],\n",
        "                                        'metrics_singlelabel': final_metrics['Single-label Report Dict']})\n",
        "  data_pd = pd_json.json_normalize(metrics_results)\n",
        "  data_pd.to_pickle(dn.PATH_PROJECT + experiment_name + str('_metrics.df'))"
      ],
      "execution_count": null,
      "outputs": []
    },
    {
      "cell_type": "markdown",
      "metadata": {
        "id": "m7d70tv1LbPf"
      },
      "source": [
        "#### 1.3 BERT: Training, valid and testing model using BERT\n"
      ]
    },
    {
      "cell_type": "code",
      "metadata": {
        "id": "AFQogfTgFJA-",
        "colab": {
          "base_uri": "https://localhost:8080/"
        },
        "outputId": "9ed9e71e-7d27-499c-8ec6-e77afa8c67ea"
      },
      "source": [
        "# Load dataset and pre-process to bert format\n",
        "train_df, valid_df, test_df, test_stk_df = load_datasets()\n",
        "\n",
        "# train_df = sub_samples(dn.PATH_PROJECT + 'dataset/anx_dep_multilabel/SMHD_train_2640.df', 10)\n",
        "train_src_df, train_df, train_index = preprocess_dataset_to_bert_format(train_df, multi_label=True)\n",
        "\n",
        "# valid_df = sub_samples(dn.PATH_PROJECT + 'dataset/anx_dep_multilabel/SMHD_validation_2640.df', 10)\n",
        "valid_src_df, valid_df, valid_index = preprocess_dataset_to_bert_format(valid_df, multi_label=True)\n",
        "\n",
        "# test_df = sub_samples(dn.PATH_PROJECT + 'dataset/anx_dep_multilabel/SMHD_test_2640.df', 10)\n",
        "test_src_df, test_df, test_index = preprocess_dataset_to_bert_format(test_df, multi_label=True)\n",
        "\n",
        "test_stk_src_df, test_stk_df, test_stk_index = preprocess_dataset_to_bert_format(test_stk_df, multi_label=True)"
      ],
      "execution_count": null,
      "outputs": [
        {
          "output_type": "stream",
          "text": [
            "Data Set Shape : (2200, 2)\n",
            "Len dataset format: text_l = 103590, label_l = 103590, index_l = 103590\n",
            "Data Set Shape : (2200, 2)\n",
            "Len dataset format: text_l = 102474, label_l = 102474, index_l = 102474\n",
            "Data Set Shape : (2200, 2)\n",
            "Len dataset format: text_l = 101804, label_l = 101804, index_l = 101804\n",
            "Data Set Shape : (440, 2)\n",
            "Len dataset format: text_l = 20479, label_l = 20479, index_l = 20479\n"
          ],
          "name": "stdout"
        }
      ]
    },
    {
      "cell_type": "code",
      "metadata": {
        "id": "PyZxEirlbY9L",
        "colab": {
          "base_uri": "https://localhost:8080/",
          "height": 204
        },
        "outputId": "93a696b4-7655-40e7-f010-0e8c3c5fbb91"
      },
      "source": [
        "train_src_df.head(5)"
      ],
      "execution_count": null,
      "outputs": [
        {
          "output_type": "execute_result",
          "data": {
            "text/html": [
              "<div>\n",
              "<style scoped>\n",
              "    .dataframe tbody tr th:only-of-type {\n",
              "        vertical-align: middle;\n",
              "    }\n",
              "\n",
              "    .dataframe tbody tr th {\n",
              "        vertical-align: top;\n",
              "    }\n",
              "\n",
              "    .dataframe thead th {\n",
              "        text-align: right;\n",
              "    }\n",
              "</style>\n",
              "<table border=\"1\" class=\"dataframe\">\n",
              "  <thead>\n",
              "    <tr style=\"text-align: right;\">\n",
              "      <th></th>\n",
              "      <th>texts</th>\n",
              "      <th>label</th>\n",
              "      <th>text_split</th>\n",
              "    </tr>\n",
              "  </thead>\n",
              "  <tbody>\n",
              "    <tr>\n",
              "      <th>0</th>\n",
              "      <td>Yeah lots of people say that its the worst mov...</td>\n",
              "      <td>[0.0, 0.0, 1.0]</td>\n",
              "      <td>[Yeah lots of people say that its the worst mo...</td>\n",
              "    </tr>\n",
              "    <tr>\n",
              "      <th>1</th>\n",
              "      <td>I am a Sofie and I too am bitchy Tan Giant Woo...</td>\n",
              "      <td>[0.0, 1.0, 1.0]</td>\n",
              "      <td>[I am a Sofie and I too am bitchy Tan Giant Wo...</td>\n",
              "    </tr>\n",
              "    <tr>\n",
              "      <th>2</th>\n",
              "      <td>After dying my hair from brunette to blonde I ...</td>\n",
              "      <td>[0.0, 1.0, 0.0]</td>\n",
              "      <td>[After dying my hair from brunette to blonde I...</td>\n",
              "    </tr>\n",
              "    <tr>\n",
              "      <th>3</th>\n",
              "      <td>removed Does anyone know what country the Gre...</td>\n",
              "      <td>[0.0, 1.0, 0.0]</td>\n",
              "      <td>[removed Does anyone know what country the Gre...</td>\n",
              "    </tr>\n",
              "    <tr>\n",
              "      <th>4</th>\n",
              "      <td>LOLLL Cant stop laughing here Looks like the b...</td>\n",
              "      <td>[1.0, 0.0, 0.0]</td>\n",
              "      <td>[LOLLL Cant stop laughing here Looks like the ...</td>\n",
              "    </tr>\n",
              "  </tbody>\n",
              "</table>\n",
              "</div>"
            ],
            "text/plain": [
              "                                               texts  ...                                         text_split\n",
              "0  Yeah lots of people say that its the worst mov...  ...  [Yeah lots of people say that its the worst mo...\n",
              "1  I am a Sofie and I too am bitchy Tan Giant Woo...  ...  [I am a Sofie and I too am bitchy Tan Giant Wo...\n",
              "2  After dying my hair from brunette to blonde I ...  ...  [After dying my hair from brunette to blonde I...\n",
              "3   removed Does anyone know what country the Gre...  ...  [removed Does anyone know what country the Gre...\n",
              "4  LOLLL Cant stop laughing here Looks like the b...  ...  [LOLLL Cant stop laughing here Looks like the ...\n",
              "\n",
              "[5 rows x 3 columns]"
            ]
          },
          "metadata": {
            "tags": []
          },
          "execution_count": 26
        }
      ]
    },
    {
      "cell_type": "code",
      "metadata": {
        "id": "XWa5oRpKolL0",
        "colab": {
          "base_uri": "https://localhost:8080/",
          "height": 204
        },
        "outputId": "e4bc1c56-5ce4-4361-f9f2-6e5bd422e902"
      },
      "source": [
        "train_df.head(5)"
      ],
      "execution_count": null,
      "outputs": [
        {
          "output_type": "execute_result",
          "data": {
            "text/html": [
              "<div>\n",
              "<style scoped>\n",
              "    .dataframe tbody tr th:only-of-type {\n",
              "        vertical-align: middle;\n",
              "    }\n",
              "\n",
              "    .dataframe tbody tr th {\n",
              "        vertical-align: top;\n",
              "    }\n",
              "\n",
              "    .dataframe thead th {\n",
              "        text-align: right;\n",
              "    }\n",
              "</style>\n",
              "<table border=\"1\" class=\"dataframe\">\n",
              "  <thead>\n",
              "    <tr style=\"text-align: right;\">\n",
              "      <th></th>\n",
              "      <th>text</th>\n",
              "      <th>label</th>\n",
              "    </tr>\n",
              "  </thead>\n",
              "  <tbody>\n",
              "    <tr>\n",
              "      <th>0</th>\n",
              "      <td>Yeah lots of people say that its the worst mov...</td>\n",
              "      <td>[0.0, 0.0, 1.0]</td>\n",
              "    </tr>\n",
              "    <tr>\n",
              "      <th>1</th>\n",
              "      <td>Do the different modules require different pro...</td>\n",
              "      <td>[0.0, 0.0, 1.0]</td>\n",
              "    </tr>\n",
              "    <tr>\n",
              "      <th>2</th>\n",
              "      <td>get almost 2 Qa both without frenzy There are ...</td>\n",
              "      <td>[0.0, 0.0, 1.0]</td>\n",
              "    </tr>\n",
              "    <tr>\n",
              "      <th>3</th>\n",
              "      <td>game keeps getting stuck on loading Im just pl...</td>\n",
              "      <td>[0.0, 0.0, 1.0]</td>\n",
              "    </tr>\n",
              "    <tr>\n",
              "      <th>4</th>\n",
              "      <td>with If you want to choose your role every tim...</td>\n",
              "      <td>[0.0, 0.0, 1.0]</td>\n",
              "    </tr>\n",
              "  </tbody>\n",
              "</table>\n",
              "</div>"
            ],
            "text/plain": [
              "                                                text            label\n",
              "0  Yeah lots of people say that its the worst mov...  [0.0, 0.0, 1.0]\n",
              "1  Do the different modules require different pro...  [0.0, 0.0, 1.0]\n",
              "2  get almost 2 Qa both without frenzy There are ...  [0.0, 0.0, 1.0]\n",
              "3  game keeps getting stuck on loading Im just pl...  [0.0, 0.0, 1.0]\n",
              "4  with If you want to choose your role every tim...  [0.0, 0.0, 1.0]"
            ]
          },
          "metadata": {
            "tags": []
          },
          "execution_count": 27
        }
      ]
    },
    {
      "cell_type": "code",
      "metadata": {
        "id": "qnlVilO7_lf4"
      },
      "source": [
        "# BERT: Data Preprocessing\n",
        "train_InputExamples = process_data_bert(train_df)\n",
        "valid_InputExamples = process_data_bert(valid_df)\n",
        "test_InputExamples = process_data_bert(test_df)\n",
        "test_stk_InputExamples = process_data_bert(test_stk_df)"
      ],
      "execution_count": null,
      "outputs": []
    },
    {
      "cell_type": "code",
      "metadata": {
        "id": "0q4zis_lGVDe",
        "colab": {
          "base_uri": "https://localhost:8080/"
        },
        "outputId": "956b60fb-f8e5-406f-834a-8c15650e3796"
      },
      "source": [
        "train_InputExamples"
      ],
      "execution_count": null,
      "outputs": [
        {
          "output_type": "execute_result",
          "data": {
            "text/plain": [
              "0         <__main__.InputExample object at 0x7f2b52adc4a8>\n",
              "1         <__main__.InputExample object at 0x7f2b52adc390>\n",
              "2         <__main__.InputExample object at 0x7f2b52adc9e8>\n",
              "3         <__main__.InputExample object at 0x7f2b52adc6a0>\n",
              "4         <__main__.InputExample object at 0x7f2b52adc400>\n",
              "                                ...                       \n",
              "103585    <__main__.InputExample object at 0x7f2b50c01f28>\n",
              "103586    <__main__.InputExample object at 0x7f2b50c01f60>\n",
              "103587    <__main__.InputExample object at 0x7f2b50c01f98>\n",
              "103588    <__main__.InputExample object at 0x7f2b50c01fd0>\n",
              "103589    <__main__.InputExample object at 0x7f2b50c07048>\n",
              "Length: 103590, dtype: object"
            ]
          },
          "metadata": {
            "tags": []
          },
          "execution_count": 29
        }
      ]
    },
    {
      "cell_type": "code",
      "metadata": {
        "id": "FQCiuD4sAXTw",
        "colab": {
          "base_uri": "https://localhost:8080/"
        },
        "outputId": "e4532157-a8b5-47e5-e2c5-74a85a33c67d"
      },
      "source": [
        "print(\"Row 0 - guid of training set : \", train_InputExamples.iloc[0].guid)\n",
        "print(\"\\n__________\\nRow 0 - text_a of training set : \", train_InputExamples.iloc[0].text_a)\n",
        "print(\"\\n__________\\nRow 0 - text_b of training set : \", train_InputExamples.iloc[0].text_b)\n",
        "print(\"\\n__________\\nRow 0 - label of training set : \", train_InputExamples.iloc[0].label)"
      ],
      "execution_count": null,
      "outputs": [
        {
          "output_type": "stream",
          "text": [
            "Row 0 - guid of training set :  None\n",
            "\n",
            "__________\n",
            "Row 0 - text_a of training set :  Yeah lots of people say that its the worst movie ever and it gets scores as low as 5 But I saw the movie today and its quite good in my opinion the ending is quite abrupt but I really dont get why people dislike it so much Youre right Im going to hell for this p More like Scumbag Gabe if you ask me OK http i imgur com 5pdWr jpg http i imgur com y0Lrp jpg Lets try this D Hmm I live there I might pass by Best one so far Good job Me and a couple of friends are planning to make a game in the near future using GM Ive been thinking however how does all the exportation to mobile devices work I mean I guess you cant just open an old project you made in GM S with an iOS module and export it Do the different modules require different programming in terms of input etc Or can we just make something in the normal version and buy Studio plus an Android module later if we think we made a decent game and export to iOS and or Android I would love some information\n",
            "\n",
            "__________\n",
            "Row 0 - text_b of training set :  None\n",
            "\n",
            "__________\n",
            "Row 0 - label of training set :  [0 0 1]\n"
          ],
          "name": "stdout"
        }
      ]
    },
    {
      "cell_type": "code",
      "metadata": {
        "id": "S2x8zSfX4-GK",
        "colab": {
          "base_uri": "https://localhost:8080/"
        },
        "outputId": "d54dc07b-e74c-49a4-a02a-52a61865ca30"
      },
      "source": [
        "# BERT: Loading the pre-trained model\n",
        "BERT_MODEL_HUB = \"https://tfhub.dev/google/bert_uncased_L-12_H-768_A-12/1\"\n",
        "\n",
        "tokenizer = create_tokenizer_from_hub_module(BERT_MODEL_HUB)"
      ],
      "execution_count": null,
      "outputs": [
        {
          "output_type": "stream",
          "text": [
            "INFO:tensorflow:Saver not created because there are no variables in the graph to restore\n"
          ],
          "name": "stdout"
        },
        {
          "output_type": "stream",
          "text": [
            "INFO:tensorflow:Saver not created because there are no variables in the graph to restore\n"
          ],
          "name": "stderr"
        },
        {
          "output_type": "stream",
          "text": [
            "WARNING:tensorflow:From /usr/local/lib/python3.6/dist-packages/bert/tokenization.py:125: The name tf.gfile.GFile is deprecated. Please use tf.io.gfile.GFile instead.\n",
            "\n"
          ],
          "name": "stdout"
        },
        {
          "output_type": "stream",
          "text": [
            "WARNING:tensorflow:From /usr/local/lib/python3.6/dist-packages/bert/tokenization.py:125: The name tf.gfile.GFile is deprecated. Please use tf.io.gfile.GFile instead.\n",
            "\n"
          ],
          "name": "stderr"
        }
      ]
    },
    {
      "cell_type": "code",
      "metadata": {
        "id": "GdGSIN22O0ZM",
        "colab": {
          "base_uri": "https://localhost:8080/"
        },
        "outputId": "7b88c28a-318d-47db-bb8c-0c08fa52ee50"
      },
      "source": [
        "len(tokenizer.vocab.keys())"
      ],
      "execution_count": null,
      "outputs": [
        {
          "output_type": "execute_result",
          "data": {
            "text/plain": [
              "30522"
            ]
          },
          "metadata": {
            "tags": []
          },
          "execution_count": 32
        }
      ]
    },
    {
      "cell_type": "code",
      "metadata": {
        "id": "EXtfd9AsKBJ_",
        "colab": {
          "base_uri": "https://localhost:8080/"
        },
        "outputId": "80a9be59-d498-4b1f-f070-861a69861e93"
      },
      "source": [
        "#Here is what the tokenised sample of the first training set observation looks like\n",
        "print(tokenizer.tokenize(train_InputExamples.iloc[0].text_a))"
      ],
      "execution_count": null,
      "outputs": [
        {
          "output_type": "stream",
          "text": [
            "['yeah', 'lots', 'of', 'people', 'say', 'that', 'its', 'the', 'worst', 'movie', 'ever', 'and', 'it', 'gets', 'scores', 'as', 'low', 'as', '5', 'but', 'i', 'saw', 'the', 'movie', 'today', 'and', 'its', 'quite', 'good', 'in', 'my', 'opinion', 'the', 'ending', 'is', 'quite', 'abrupt', 'but', 'i', 'really', 'don', '##t', 'get', 'why', 'people', 'dislike', 'it', 'so', 'much', 'your', '##e', 'right', 'im', 'going', 'to', 'hell', 'for', 'this', 'p', 'more', 'like', 'sc', '##umb', '##ag', 'gabe', 'if', 'you', 'ask', 'me', 'ok', 'http', 'i', 'im', '##gur', 'com', '5', '##pd', '##wr', 'jp', '##g', 'http', 'i', 'im', '##gur', 'com', 'y', '##0', '##lr', '##p', 'jp', '##g', 'lets', 'try', 'this', 'd', 'hmm', 'i', 'live', 'there', 'i', 'might', 'pass', 'by', 'best', 'one', 'so', 'far', 'good', 'job', 'me', 'and', 'a', 'couple', 'of', 'friends', 'are', 'planning', 'to', 'make', 'a', 'game', 'in', 'the', 'near', 'future', 'using', 'gm', 'iv', '##e', 'been', 'thinking', 'however', 'how', 'does', 'all', 'the', 'export', '##ation', 'to', 'mobile', 'devices', 'work', 'i', 'mean', 'i', 'guess', 'you', 'can', '##t', 'just', 'open', 'an', 'old', 'project', 'you', 'made', 'in', 'gm', 's', 'with', 'an', 'ios', 'module', 'and', 'export', 'it', 'do', 'the', 'different', 'modules', 'require', 'different', 'programming', 'in', 'terms', 'of', 'input', 'etc', 'or', 'can', 'we', 'just', 'make', 'something', 'in', 'the', 'normal', 'version', 'and', 'buy', 'studio', 'plus', 'an', 'android', 'module', 'later', 'if', 'we', 'think', 'we', 'made', 'a', 'decent', 'game', 'and', 'export', 'to', 'ios', 'and', 'or', 'android', 'i', 'would', 'love', 'some', 'information']\n"
          ],
          "name": "stdout"
        }
      ]
    },
    {
      "cell_type": "code",
      "metadata": {
        "id": "mQgxwLRGHB68",
        "colab": {
          "base_uri": "https://localhost:8080/"
        },
        "outputId": "51bb49d3-1d55-45ed-a9b6-2cf46d1d72b9"
      },
      "source": [
        "# Setting The Output Directory for BERT\n",
        "OUTPUT_DIR = dn.PATH_PROJECT + 'bert_multi_task'\n",
        "\n",
        "set_output_dir_bert(OUTPUT_DIR)"
      ],
      "execution_count": null,
      "outputs": [
        {
          "output_type": "stream",
          "text": [
            "***** Model output directory: /content/drive/My Drive/RecurrentNetworks/bert_multi_task *****\n"
          ],
          "name": "stdout"
        }
      ]
    },
    {
      "cell_type": "code",
      "metadata": {
        "id": "3UH7OWnP51fB",
        "colab": {
          "base_uri": "https://localhost:8080/"
        },
        "outputId": "94021b37-5475-4681-cdf3-02fc870e3200"
      },
      "source": [
        "MAX_SEQ_LENGTH = 200\n",
        "# Convert our dataset features to InputFeatures that BERT understands.\n",
        "train_features = convert_examples_to_features(train_InputExamples, LABELS_SET_INDEX, MAX_SEQ_LENGTH, tokenizer, multi_label=True)\n",
        "valid_features = convert_examples_to_features(valid_InputExamples, LABELS_SET_INDEX, MAX_SEQ_LENGTH, tokenizer, multi_label=True)\n",
        "test_features = convert_examples_to_features(test_InputExamples, LABELS_SET_INDEX, MAX_SEQ_LENGTH, tokenizer, multi_label=True)\n",
        "test_stk_features = convert_examples_to_features(test_stk_InputExamples, LABELS_SET_INDEX, MAX_SEQ_LENGTH, tokenizer, multi_label=True)"
      ],
      "execution_count": null,
      "outputs": [
        {
          "output_type": "stream",
          "text": [
            "INFO:tensorflow:Writing example 0 of 103590\n"
          ],
          "name": "stdout"
        },
        {
          "output_type": "stream",
          "text": [
            "INFO:tensorflow:Writing example 0 of 103590\n"
          ],
          "name": "stderr"
        },
        {
          "output_type": "stream",
          "text": [
            "INFO:tensorflow:*** Example ***\n"
          ],
          "name": "stdout"
        },
        {
          "output_type": "stream",
          "text": [
            "INFO:tensorflow:*** Example ***\n"
          ],
          "name": "stderr"
        },
        {
          "output_type": "stream",
          "text": [
            "INFO:tensorflow:guid: None\n"
          ],
          "name": "stdout"
        },
        {
          "output_type": "stream",
          "text": [
            "INFO:tensorflow:guid: None\n"
          ],
          "name": "stderr"
        },
        {
          "output_type": "stream",
          "text": [
            "INFO:tensorflow:tokens: [CLS] yeah lots of people say that its the worst movie ever and it gets scores as low as 5 but i saw the movie today and its quite good in my opinion the ending is quite abrupt but i really don ##t get why people dislike it so much your ##e right im going to hell for this p more like sc ##umb ##ag gabe if you ask me ok http i im ##gur com 5 ##pd ##wr jp ##g http i im ##gur com y ##0 ##lr ##p jp ##g lets try this d hmm i live there i might pass by best one so far good job me and a couple of friends are planning to make a game in the near future using gm iv ##e been thinking however how does all the export ##ation to mobile devices work i mean i guess you can ##t just open an old project you made in gm s with an ios module and export it do the different modules require different programming in terms of input etc or can we just make something in the normal version and buy studio plus an android module later if we [SEP]\n"
          ],
          "name": "stdout"
        },
        {
          "output_type": "stream",
          "text": [
            "INFO:tensorflow:tokens: [CLS] yeah lots of people say that its the worst movie ever and it gets scores as low as 5 but i saw the movie today and its quite good in my opinion the ending is quite abrupt but i really don ##t get why people dislike it so much your ##e right im going to hell for this p more like sc ##umb ##ag gabe if you ask me ok http i im ##gur com 5 ##pd ##wr jp ##g http i im ##gur com y ##0 ##lr ##p jp ##g lets try this d hmm i live there i might pass by best one so far good job me and a couple of friends are planning to make a game in the near future using gm iv ##e been thinking however how does all the export ##ation to mobile devices work i mean i guess you can ##t just open an old project you made in gm s with an ios module and export it do the different modules require different programming in terms of input etc or can we just make something in the normal version and buy studio plus an android module later if we [SEP]\n"
          ],
          "name": "stderr"
        },
        {
          "output_type": "stream",
          "text": [
            "INFO:tensorflow:input_ids: 101 3398 7167 1997 2111 2360 2008 2049 1996 5409 3185 2412 1998 2009 4152 7644 2004 2659 2004 1019 2021 1045 2387 1996 3185 2651 1998 2049 3243 2204 1999 2026 5448 1996 4566 2003 3243 18772 2021 1045 2428 2123 2102 2131 2339 2111 18959 2009 2061 2172 2115 2063 2157 10047 2183 2000 3109 2005 2023 1052 2062 2066 8040 25438 8490 12900 2065 2017 3198 2033 7929 8299 1045 10047 27390 4012 1019 17299 13088 16545 2290 8299 1045 10047 27390 4012 1061 2692 20974 2361 16545 2290 11082 3046 2023 1040 17012 1045 2444 2045 1045 2453 3413 2011 2190 2028 2061 2521 2204 3105 2033 1998 1037 3232 1997 2814 2024 4041 2000 2191 1037 2208 1999 1996 2379 2925 2478 13938 4921 2063 2042 3241 2174 2129 2515 2035 1996 9167 3370 2000 4684 5733 2147 1045 2812 1045 3984 2017 2064 2102 2074 2330 2019 2214 2622 2017 2081 1999 13938 1055 2007 2019 16380 11336 1998 9167 2009 2079 1996 2367 14184 5478 2367 4730 1999 3408 1997 7953 4385 2030 2064 2057 2074 2191 2242 1999 1996 3671 2544 1998 4965 2996 4606 2019 11924 11336 2101 2065 2057 102\n"
          ],
          "name": "stdout"
        },
        {
          "output_type": "stream",
          "text": [
            "INFO:tensorflow:input_ids: 101 3398 7167 1997 2111 2360 2008 2049 1996 5409 3185 2412 1998 2009 4152 7644 2004 2659 2004 1019 2021 1045 2387 1996 3185 2651 1998 2049 3243 2204 1999 2026 5448 1996 4566 2003 3243 18772 2021 1045 2428 2123 2102 2131 2339 2111 18959 2009 2061 2172 2115 2063 2157 10047 2183 2000 3109 2005 2023 1052 2062 2066 8040 25438 8490 12900 2065 2017 3198 2033 7929 8299 1045 10047 27390 4012 1019 17299 13088 16545 2290 8299 1045 10047 27390 4012 1061 2692 20974 2361 16545 2290 11082 3046 2023 1040 17012 1045 2444 2045 1045 2453 3413 2011 2190 2028 2061 2521 2204 3105 2033 1998 1037 3232 1997 2814 2024 4041 2000 2191 1037 2208 1999 1996 2379 2925 2478 13938 4921 2063 2042 3241 2174 2129 2515 2035 1996 9167 3370 2000 4684 5733 2147 1045 2812 1045 3984 2017 2064 2102 2074 2330 2019 2214 2622 2017 2081 1999 13938 1055 2007 2019 16380 11336 1998 9167 2009 2079 1996 2367 14184 5478 2367 4730 1999 3408 1997 7953 4385 2030 2064 2057 2074 2191 2242 1999 1996 3671 2544 1998 4965 2996 4606 2019 11924 11336 2101 2065 2057 102\n"
          ],
          "name": "stderr"
        },
        {
          "output_type": "stream",
          "text": [
            "INFO:tensorflow:input_mask: 1 1 1 1 1 1 1 1 1 1 1 1 1 1 1 1 1 1 1 1 1 1 1 1 1 1 1 1 1 1 1 1 1 1 1 1 1 1 1 1 1 1 1 1 1 1 1 1 1 1 1 1 1 1 1 1 1 1 1 1 1 1 1 1 1 1 1 1 1 1 1 1 1 1 1 1 1 1 1 1 1 1 1 1 1 1 1 1 1 1 1 1 1 1 1 1 1 1 1 1 1 1 1 1 1 1 1 1 1 1 1 1 1 1 1 1 1 1 1 1 1 1 1 1 1 1 1 1 1 1 1 1 1 1 1 1 1 1 1 1 1 1 1 1 1 1 1 1 1 1 1 1 1 1 1 1 1 1 1 1 1 1 1 1 1 1 1 1 1 1 1 1 1 1 1 1 1 1 1 1 1 1 1 1 1 1 1 1 1 1 1 1 1 1 1 1 1 1 1 1\n"
          ],
          "name": "stdout"
        },
        {
          "output_type": "stream",
          "text": [
            "INFO:tensorflow:input_mask: 1 1 1 1 1 1 1 1 1 1 1 1 1 1 1 1 1 1 1 1 1 1 1 1 1 1 1 1 1 1 1 1 1 1 1 1 1 1 1 1 1 1 1 1 1 1 1 1 1 1 1 1 1 1 1 1 1 1 1 1 1 1 1 1 1 1 1 1 1 1 1 1 1 1 1 1 1 1 1 1 1 1 1 1 1 1 1 1 1 1 1 1 1 1 1 1 1 1 1 1 1 1 1 1 1 1 1 1 1 1 1 1 1 1 1 1 1 1 1 1 1 1 1 1 1 1 1 1 1 1 1 1 1 1 1 1 1 1 1 1 1 1 1 1 1 1 1 1 1 1 1 1 1 1 1 1 1 1 1 1 1 1 1 1 1 1 1 1 1 1 1 1 1 1 1 1 1 1 1 1 1 1 1 1 1 1 1 1 1 1 1 1 1 1 1 1 1 1 1 1\n"
          ],
          "name": "stderr"
        },
        {
          "output_type": "stream",
          "text": [
            "INFO:tensorflow:segment_ids: 0 0 0 0 0 0 0 0 0 0 0 0 0 0 0 0 0 0 0 0 0 0 0 0 0 0 0 0 0 0 0 0 0 0 0 0 0 0 0 0 0 0 0 0 0 0 0 0 0 0 0 0 0 0 0 0 0 0 0 0 0 0 0 0 0 0 0 0 0 0 0 0 0 0 0 0 0 0 0 0 0 0 0 0 0 0 0 0 0 0 0 0 0 0 0 0 0 0 0 0 0 0 0 0 0 0 0 0 0 0 0 0 0 0 0 0 0 0 0 0 0 0 0 0 0 0 0 0 0 0 0 0 0 0 0 0 0 0 0 0 0 0 0 0 0 0 0 0 0 0 0 0 0 0 0 0 0 0 0 0 0 0 0 0 0 0 0 0 0 0 0 0 0 0 0 0 0 0 0 0 0 0 0 0 0 0 0 0 0 0 0 0 0 0 0 0 0 0 0 0\n"
          ],
          "name": "stdout"
        },
        {
          "output_type": "stream",
          "text": [
            "INFO:tensorflow:segment_ids: 0 0 0 0 0 0 0 0 0 0 0 0 0 0 0 0 0 0 0 0 0 0 0 0 0 0 0 0 0 0 0 0 0 0 0 0 0 0 0 0 0 0 0 0 0 0 0 0 0 0 0 0 0 0 0 0 0 0 0 0 0 0 0 0 0 0 0 0 0 0 0 0 0 0 0 0 0 0 0 0 0 0 0 0 0 0 0 0 0 0 0 0 0 0 0 0 0 0 0 0 0 0 0 0 0 0 0 0 0 0 0 0 0 0 0 0 0 0 0 0 0 0 0 0 0 0 0 0 0 0 0 0 0 0 0 0 0 0 0 0 0 0 0 0 0 0 0 0 0 0 0 0 0 0 0 0 0 0 0 0 0 0 0 0 0 0 0 0 0 0 0 0 0 0 0 0 0 0 0 0 0 0 0 0 0 0 0 0 0 0 0 0 0 0 0 0 0 0 0 0\n"
          ],
          "name": "stderr"
        },
        {
          "output_type": "stream",
          "text": [
            "INFO:tensorflow:label: [0 0 1] (id = [0, 0, 1])\n"
          ],
          "name": "stdout"
        },
        {
          "output_type": "stream",
          "text": [
            "INFO:tensorflow:label: [0 0 1] (id = [0, 0, 1])\n"
          ],
          "name": "stderr"
        },
        {
          "output_type": "stream",
          "text": [
            "INFO:tensorflow:*** Example ***\n"
          ],
          "name": "stdout"
        },
        {
          "output_type": "stream",
          "text": [
            "INFO:tensorflow:*** Example ***\n"
          ],
          "name": "stderr"
        },
        {
          "output_type": "stream",
          "text": [
            "INFO:tensorflow:guid: None\n"
          ],
          "name": "stdout"
        },
        {
          "output_type": "stream",
          "text": [
            "INFO:tensorflow:guid: None\n"
          ],
          "name": "stderr"
        },
        {
          "output_type": "stream",
          "text": [
            "INFO:tensorflow:tokens: [CLS] do the different modules require different programming in terms of input etc or can we just make something in the normal version and buy studio plus an android module later if we think we made a decent game and export to ios and or android i would love some information thanks edit spelling thank you for the information this pretty much answers all my questions i have already bought gm i think when it was on version 6 speaking of resolution not all android phones have the same resolution how does that work out i love how the picture is upside down i think me and you have the same friend ri ##to pl ##s totally in love with the 6th one ill keep your name saved somewhere it seems to me they just give less with and without fr ##en ##zie ##s i just got only 350 t from one whereas i used to get almost 2 q ##a both without frenzy there are two cookie multi ##pl ##ier upgrades unlock ##ing at 500 ##hc and 2000 ##hc the 3rd upgrade might be the classic sac ##ri ##fi ##cial rolling pins if your ##e wondering that upgrade [SEP]\n"
          ],
          "name": "stdout"
        },
        {
          "output_type": "stream",
          "text": [
            "INFO:tensorflow:tokens: [CLS] do the different modules require different programming in terms of input etc or can we just make something in the normal version and buy studio plus an android module later if we think we made a decent game and export to ios and or android i would love some information thanks edit spelling thank you for the information this pretty much answers all my questions i have already bought gm i think when it was on version 6 speaking of resolution not all android phones have the same resolution how does that work out i love how the picture is upside down i think me and you have the same friend ri ##to pl ##s totally in love with the 6th one ill keep your name saved somewhere it seems to me they just give less with and without fr ##en ##zie ##s i just got only 350 t from one whereas i used to get almost 2 q ##a both without frenzy there are two cookie multi ##pl ##ier upgrades unlock ##ing at 500 ##hc and 2000 ##hc the 3rd upgrade might be the classic sac ##ri ##fi ##cial rolling pins if your ##e wondering that upgrade [SEP]\n"
          ],
          "name": "stderr"
        },
        {
          "output_type": "stream",
          "text": [
            "INFO:tensorflow:input_ids: 101 2079 1996 2367 14184 5478 2367 4730 1999 3408 1997 7953 4385 2030 2064 2057 2074 2191 2242 1999 1996 3671 2544 1998 4965 2996 4606 2019 11924 11336 2101 2065 2057 2228 2057 2081 1037 11519 2208 1998 9167 2000 16380 1998 2030 11924 1045 2052 2293 2070 2592 4283 10086 11379 4067 2017 2005 1996 2592 2023 3492 2172 6998 2035 2026 3980 1045 2031 2525 4149 13938 1045 2228 2043 2009 2001 2006 2544 1020 4092 1997 5813 2025 2035 11924 11640 2031 1996 2168 5813 2129 2515 2008 2147 2041 1045 2293 2129 1996 3861 2003 14961 2091 1045 2228 2033 1998 2017 2031 1996 2168 2767 15544 3406 20228 2015 6135 1999 2293 2007 1996 5351 2028 5665 2562 2115 2171 5552 4873 2009 3849 2000 2033 2027 2074 2507 2625 2007 1998 2302 10424 2368 14272 2015 1045 2074 2288 2069 8698 1056 2013 2028 6168 1045 2109 2000 2131 2471 1016 1053 2050 2119 2302 21517 2045 2024 2048 17387 4800 24759 3771 18739 19829 2075 2012 3156 16257 1998 2456 16257 1996 3822 12200 2453 2022 1996 4438 17266 3089 8873 13247 5291 16300 2065 2115 2063 6603 2008 12200 102\n"
          ],
          "name": "stdout"
        },
        {
          "output_type": "stream",
          "text": [
            "INFO:tensorflow:input_ids: 101 2079 1996 2367 14184 5478 2367 4730 1999 3408 1997 7953 4385 2030 2064 2057 2074 2191 2242 1999 1996 3671 2544 1998 4965 2996 4606 2019 11924 11336 2101 2065 2057 2228 2057 2081 1037 11519 2208 1998 9167 2000 16380 1998 2030 11924 1045 2052 2293 2070 2592 4283 10086 11379 4067 2017 2005 1996 2592 2023 3492 2172 6998 2035 2026 3980 1045 2031 2525 4149 13938 1045 2228 2043 2009 2001 2006 2544 1020 4092 1997 5813 2025 2035 11924 11640 2031 1996 2168 5813 2129 2515 2008 2147 2041 1045 2293 2129 1996 3861 2003 14961 2091 1045 2228 2033 1998 2017 2031 1996 2168 2767 15544 3406 20228 2015 6135 1999 2293 2007 1996 5351 2028 5665 2562 2115 2171 5552 4873 2009 3849 2000 2033 2027 2074 2507 2625 2007 1998 2302 10424 2368 14272 2015 1045 2074 2288 2069 8698 1056 2013 2028 6168 1045 2109 2000 2131 2471 1016 1053 2050 2119 2302 21517 2045 2024 2048 17387 4800 24759 3771 18739 19829 2075 2012 3156 16257 1998 2456 16257 1996 3822 12200 2453 2022 1996 4438 17266 3089 8873 13247 5291 16300 2065 2115 2063 6603 2008 12200 102\n"
          ],
          "name": "stderr"
        },
        {
          "output_type": "stream",
          "text": [
            "INFO:tensorflow:input_mask: 1 1 1 1 1 1 1 1 1 1 1 1 1 1 1 1 1 1 1 1 1 1 1 1 1 1 1 1 1 1 1 1 1 1 1 1 1 1 1 1 1 1 1 1 1 1 1 1 1 1 1 1 1 1 1 1 1 1 1 1 1 1 1 1 1 1 1 1 1 1 1 1 1 1 1 1 1 1 1 1 1 1 1 1 1 1 1 1 1 1 1 1 1 1 1 1 1 1 1 1 1 1 1 1 1 1 1 1 1 1 1 1 1 1 1 1 1 1 1 1 1 1 1 1 1 1 1 1 1 1 1 1 1 1 1 1 1 1 1 1 1 1 1 1 1 1 1 1 1 1 1 1 1 1 1 1 1 1 1 1 1 1 1 1 1 1 1 1 1 1 1 1 1 1 1 1 1 1 1 1 1 1 1 1 1 1 1 1 1 1 1 1 1 1 1 1 1 1 1 1\n"
          ],
          "name": "stdout"
        },
        {
          "output_type": "stream",
          "text": [
            "INFO:tensorflow:input_mask: 1 1 1 1 1 1 1 1 1 1 1 1 1 1 1 1 1 1 1 1 1 1 1 1 1 1 1 1 1 1 1 1 1 1 1 1 1 1 1 1 1 1 1 1 1 1 1 1 1 1 1 1 1 1 1 1 1 1 1 1 1 1 1 1 1 1 1 1 1 1 1 1 1 1 1 1 1 1 1 1 1 1 1 1 1 1 1 1 1 1 1 1 1 1 1 1 1 1 1 1 1 1 1 1 1 1 1 1 1 1 1 1 1 1 1 1 1 1 1 1 1 1 1 1 1 1 1 1 1 1 1 1 1 1 1 1 1 1 1 1 1 1 1 1 1 1 1 1 1 1 1 1 1 1 1 1 1 1 1 1 1 1 1 1 1 1 1 1 1 1 1 1 1 1 1 1 1 1 1 1 1 1 1 1 1 1 1 1 1 1 1 1 1 1 1 1 1 1 1 1\n"
          ],
          "name": "stderr"
        },
        {
          "output_type": "stream",
          "text": [
            "INFO:tensorflow:segment_ids: 0 0 0 0 0 0 0 0 0 0 0 0 0 0 0 0 0 0 0 0 0 0 0 0 0 0 0 0 0 0 0 0 0 0 0 0 0 0 0 0 0 0 0 0 0 0 0 0 0 0 0 0 0 0 0 0 0 0 0 0 0 0 0 0 0 0 0 0 0 0 0 0 0 0 0 0 0 0 0 0 0 0 0 0 0 0 0 0 0 0 0 0 0 0 0 0 0 0 0 0 0 0 0 0 0 0 0 0 0 0 0 0 0 0 0 0 0 0 0 0 0 0 0 0 0 0 0 0 0 0 0 0 0 0 0 0 0 0 0 0 0 0 0 0 0 0 0 0 0 0 0 0 0 0 0 0 0 0 0 0 0 0 0 0 0 0 0 0 0 0 0 0 0 0 0 0 0 0 0 0 0 0 0 0 0 0 0 0 0 0 0 0 0 0 0 0 0 0 0 0\n"
          ],
          "name": "stdout"
        },
        {
          "output_type": "stream",
          "text": [
            "INFO:tensorflow:segment_ids: 0 0 0 0 0 0 0 0 0 0 0 0 0 0 0 0 0 0 0 0 0 0 0 0 0 0 0 0 0 0 0 0 0 0 0 0 0 0 0 0 0 0 0 0 0 0 0 0 0 0 0 0 0 0 0 0 0 0 0 0 0 0 0 0 0 0 0 0 0 0 0 0 0 0 0 0 0 0 0 0 0 0 0 0 0 0 0 0 0 0 0 0 0 0 0 0 0 0 0 0 0 0 0 0 0 0 0 0 0 0 0 0 0 0 0 0 0 0 0 0 0 0 0 0 0 0 0 0 0 0 0 0 0 0 0 0 0 0 0 0 0 0 0 0 0 0 0 0 0 0 0 0 0 0 0 0 0 0 0 0 0 0 0 0 0 0 0 0 0 0 0 0 0 0 0 0 0 0 0 0 0 0 0 0 0 0 0 0 0 0 0 0 0 0 0 0 0 0 0 0\n"
          ],
          "name": "stderr"
        },
        {
          "output_type": "stream",
          "text": [
            "INFO:tensorflow:label: [0 0 1] (id = [0, 0, 1])\n"
          ],
          "name": "stdout"
        },
        {
          "output_type": "stream",
          "text": [
            "INFO:tensorflow:label: [0 0 1] (id = [0, 0, 1])\n"
          ],
          "name": "stderr"
        },
        {
          "output_type": "stream",
          "text": [
            "INFO:tensorflow:*** Example ***\n"
          ],
          "name": "stdout"
        },
        {
          "output_type": "stream",
          "text": [
            "INFO:tensorflow:*** Example ***\n"
          ],
          "name": "stderr"
        },
        {
          "output_type": "stream",
          "text": [
            "INFO:tensorflow:guid: None\n"
          ],
          "name": "stdout"
        },
        {
          "output_type": "stream",
          "text": [
            "INFO:tensorflow:guid: None\n"
          ],
          "name": "stderr"
        },
        {
          "output_type": "stream",
          "text": [
            "INFO:tensorflow:tokens: [CLS] get almost 2 q ##a both without frenzy there are two cookie multi ##pl ##ier upgrades unlock ##ing at 500 ##hc and 2000 ##hc the 3rd upgrade might be the classic sac ##ri ##fi ##cial rolling pins if your ##e wondering that upgrade unlock ##s after having purchased elder pledge 10 times you also need 10 ##t cookies baked in that particular game not in total before the hc upgrades show up as he left his comrades behind clearly doubt ##ing his decision the line between guild and guilt blurred for a new era had begun im having the same issue with my ranked team did your history come back already the third one is when its the last day of the summer sale meaning your game will not become a daily or flash sale anymore edit or community sale d hey guys up until today my cookie ##cl ##ick ##er was running fine in chrome but for some reason i can ##t load it anymore the game keeps getting stuck on loading im just playing the normal version not the beta any suggestions thanks iv ##e been wondering the same i see this happening a lot even [SEP]\n"
          ],
          "name": "stdout"
        },
        {
          "output_type": "stream",
          "text": [
            "INFO:tensorflow:tokens: [CLS] get almost 2 q ##a both without frenzy there are two cookie multi ##pl ##ier upgrades unlock ##ing at 500 ##hc and 2000 ##hc the 3rd upgrade might be the classic sac ##ri ##fi ##cial rolling pins if your ##e wondering that upgrade unlock ##s after having purchased elder pledge 10 times you also need 10 ##t cookies baked in that particular game not in total before the hc upgrades show up as he left his comrades behind clearly doubt ##ing his decision the line between guild and guilt blurred for a new era had begun im having the same issue with my ranked team did your history come back already the third one is when its the last day of the summer sale meaning your game will not become a daily or flash sale anymore edit or community sale d hey guys up until today my cookie ##cl ##ick ##er was running fine in chrome but for some reason i can ##t load it anymore the game keeps getting stuck on loading im just playing the normal version not the beta any suggestions thanks iv ##e been wondering the same i see this happening a lot even [SEP]\n"
          ],
          "name": "stderr"
        },
        {
          "output_type": "stream",
          "text": [
            "INFO:tensorflow:input_ids: 101 2131 2471 1016 1053 2050 2119 2302 21517 2045 2024 2048 17387 4800 24759 3771 18739 19829 2075 2012 3156 16257 1998 2456 16257 1996 3822 12200 2453 2022 1996 4438 17266 3089 8873 13247 5291 16300 2065 2115 2063 6603 2008 12200 19829 2015 2044 2383 4156 6422 16393 2184 2335 2017 2036 2342 2184 2102 16324 17776 1999 2008 3327 2208 2025 1999 2561 2077 1996 16731 18739 2265 2039 2004 2002 2187 2010 19033 2369 4415 4797 2075 2010 3247 1996 2240 2090 9054 1998 8056 18449 2005 1037 2047 3690 2018 5625 10047 2383 1996 2168 3277 2007 2026 4396 2136 2106 2115 2381 2272 2067 2525 1996 2353 2028 2003 2043 2049 1996 2197 2154 1997 1996 2621 5096 3574 2115 2208 2097 2025 2468 1037 3679 2030 5956 5096 4902 10086 2030 2451 5096 1040 4931 4364 2039 2127 2651 2026 17387 20464 6799 2121 2001 2770 2986 1999 18546 2021 2005 2070 3114 1045 2064 2102 7170 2009 4902 1996 2208 7906 2893 5881 2006 10578 10047 2074 2652 1996 3671 2544 2025 1996 8247 2151 15690 4283 4921 2063 2042 6603 1996 2168 1045 2156 2023 6230 1037 2843 2130 102\n"
          ],
          "name": "stdout"
        },
        {
          "output_type": "stream",
          "text": [
            "INFO:tensorflow:input_ids: 101 2131 2471 1016 1053 2050 2119 2302 21517 2045 2024 2048 17387 4800 24759 3771 18739 19829 2075 2012 3156 16257 1998 2456 16257 1996 3822 12200 2453 2022 1996 4438 17266 3089 8873 13247 5291 16300 2065 2115 2063 6603 2008 12200 19829 2015 2044 2383 4156 6422 16393 2184 2335 2017 2036 2342 2184 2102 16324 17776 1999 2008 3327 2208 2025 1999 2561 2077 1996 16731 18739 2265 2039 2004 2002 2187 2010 19033 2369 4415 4797 2075 2010 3247 1996 2240 2090 9054 1998 8056 18449 2005 1037 2047 3690 2018 5625 10047 2383 1996 2168 3277 2007 2026 4396 2136 2106 2115 2381 2272 2067 2525 1996 2353 2028 2003 2043 2049 1996 2197 2154 1997 1996 2621 5096 3574 2115 2208 2097 2025 2468 1037 3679 2030 5956 5096 4902 10086 2030 2451 5096 1040 4931 4364 2039 2127 2651 2026 17387 20464 6799 2121 2001 2770 2986 1999 18546 2021 2005 2070 3114 1045 2064 2102 7170 2009 4902 1996 2208 7906 2893 5881 2006 10578 10047 2074 2652 1996 3671 2544 2025 1996 8247 2151 15690 4283 4921 2063 2042 6603 1996 2168 1045 2156 2023 6230 1037 2843 2130 102\n"
          ],
          "name": "stderr"
        },
        {
          "output_type": "stream",
          "text": [
            "INFO:tensorflow:input_mask: 1 1 1 1 1 1 1 1 1 1 1 1 1 1 1 1 1 1 1 1 1 1 1 1 1 1 1 1 1 1 1 1 1 1 1 1 1 1 1 1 1 1 1 1 1 1 1 1 1 1 1 1 1 1 1 1 1 1 1 1 1 1 1 1 1 1 1 1 1 1 1 1 1 1 1 1 1 1 1 1 1 1 1 1 1 1 1 1 1 1 1 1 1 1 1 1 1 1 1 1 1 1 1 1 1 1 1 1 1 1 1 1 1 1 1 1 1 1 1 1 1 1 1 1 1 1 1 1 1 1 1 1 1 1 1 1 1 1 1 1 1 1 1 1 1 1 1 1 1 1 1 1 1 1 1 1 1 1 1 1 1 1 1 1 1 1 1 1 1 1 1 1 1 1 1 1 1 1 1 1 1 1 1 1 1 1 1 1 1 1 1 1 1 1 1 1 1 1 1 1\n"
          ],
          "name": "stdout"
        },
        {
          "output_type": "stream",
          "text": [
            "INFO:tensorflow:input_mask: 1 1 1 1 1 1 1 1 1 1 1 1 1 1 1 1 1 1 1 1 1 1 1 1 1 1 1 1 1 1 1 1 1 1 1 1 1 1 1 1 1 1 1 1 1 1 1 1 1 1 1 1 1 1 1 1 1 1 1 1 1 1 1 1 1 1 1 1 1 1 1 1 1 1 1 1 1 1 1 1 1 1 1 1 1 1 1 1 1 1 1 1 1 1 1 1 1 1 1 1 1 1 1 1 1 1 1 1 1 1 1 1 1 1 1 1 1 1 1 1 1 1 1 1 1 1 1 1 1 1 1 1 1 1 1 1 1 1 1 1 1 1 1 1 1 1 1 1 1 1 1 1 1 1 1 1 1 1 1 1 1 1 1 1 1 1 1 1 1 1 1 1 1 1 1 1 1 1 1 1 1 1 1 1 1 1 1 1 1 1 1 1 1 1 1 1 1 1 1 1\n"
          ],
          "name": "stderr"
        },
        {
          "output_type": "stream",
          "text": [
            "INFO:tensorflow:segment_ids: 0 0 0 0 0 0 0 0 0 0 0 0 0 0 0 0 0 0 0 0 0 0 0 0 0 0 0 0 0 0 0 0 0 0 0 0 0 0 0 0 0 0 0 0 0 0 0 0 0 0 0 0 0 0 0 0 0 0 0 0 0 0 0 0 0 0 0 0 0 0 0 0 0 0 0 0 0 0 0 0 0 0 0 0 0 0 0 0 0 0 0 0 0 0 0 0 0 0 0 0 0 0 0 0 0 0 0 0 0 0 0 0 0 0 0 0 0 0 0 0 0 0 0 0 0 0 0 0 0 0 0 0 0 0 0 0 0 0 0 0 0 0 0 0 0 0 0 0 0 0 0 0 0 0 0 0 0 0 0 0 0 0 0 0 0 0 0 0 0 0 0 0 0 0 0 0 0 0 0 0 0 0 0 0 0 0 0 0 0 0 0 0 0 0 0 0 0 0 0 0\n"
          ],
          "name": "stdout"
        },
        {
          "output_type": "stream",
          "text": [
            "INFO:tensorflow:segment_ids: 0 0 0 0 0 0 0 0 0 0 0 0 0 0 0 0 0 0 0 0 0 0 0 0 0 0 0 0 0 0 0 0 0 0 0 0 0 0 0 0 0 0 0 0 0 0 0 0 0 0 0 0 0 0 0 0 0 0 0 0 0 0 0 0 0 0 0 0 0 0 0 0 0 0 0 0 0 0 0 0 0 0 0 0 0 0 0 0 0 0 0 0 0 0 0 0 0 0 0 0 0 0 0 0 0 0 0 0 0 0 0 0 0 0 0 0 0 0 0 0 0 0 0 0 0 0 0 0 0 0 0 0 0 0 0 0 0 0 0 0 0 0 0 0 0 0 0 0 0 0 0 0 0 0 0 0 0 0 0 0 0 0 0 0 0 0 0 0 0 0 0 0 0 0 0 0 0 0 0 0 0 0 0 0 0 0 0 0 0 0 0 0 0 0 0 0 0 0 0 0\n"
          ],
          "name": "stderr"
        },
        {
          "output_type": "stream",
          "text": [
            "INFO:tensorflow:label: [0 0 1] (id = [0, 0, 1])\n"
          ],
          "name": "stdout"
        },
        {
          "output_type": "stream",
          "text": [
            "INFO:tensorflow:label: [0 0 1] (id = [0, 0, 1])\n"
          ],
          "name": "stderr"
        },
        {
          "output_type": "stream",
          "text": [
            "INFO:tensorflow:*** Example ***\n"
          ],
          "name": "stdout"
        },
        {
          "output_type": "stream",
          "text": [
            "INFO:tensorflow:*** Example ***\n"
          ],
          "name": "stderr"
        },
        {
          "output_type": "stream",
          "text": [
            "INFO:tensorflow:guid: None\n"
          ],
          "name": "stdout"
        },
        {
          "output_type": "stream",
          "text": [
            "INFO:tensorflow:guid: None\n"
          ],
          "name": "stderr"
        },
        {
          "output_type": "stream",
          "text": [
            "INFO:tensorflow:tokens: [CLS] game keeps getting stuck on loading im just playing the normal version not the beta any suggestions thanks iv ##e been wondering the same i see this happening a lot even in competitive games isn ##t buying a last whisper as a 3rd item almost always a better choice iv ##e always been told that it does more damage even if the enemy does not buy a truck ##load of armor what i usually do is either keeping my two dora ##ns or getting a vamp ##iri ##c sc ##ept ##er earlier and just not building it into a bt until i have l ##w and possibly a defensive item im not a fan of this because in my opinion if you play ranked games you should be able to play any role to a decent standard sure you ##ll be better at some role but to me part of the game is not always playing the role your ##e most comfortable with if you want to choose your role every time prem ##ade ranked is the way to go not today http i im ##gur com z ##ised ##l ##q jp ##g man i really don ##t [SEP]\n"
          ],
          "name": "stdout"
        },
        {
          "output_type": "stream",
          "text": [
            "INFO:tensorflow:tokens: [CLS] game keeps getting stuck on loading im just playing the normal version not the beta any suggestions thanks iv ##e been wondering the same i see this happening a lot even in competitive games isn ##t buying a last whisper as a 3rd item almost always a better choice iv ##e always been told that it does more damage even if the enemy does not buy a truck ##load of armor what i usually do is either keeping my two dora ##ns or getting a vamp ##iri ##c sc ##ept ##er earlier and just not building it into a bt until i have l ##w and possibly a defensive item im not a fan of this because in my opinion if you play ranked games you should be able to play any role to a decent standard sure you ##ll be better at some role but to me part of the game is not always playing the role your ##e most comfortable with if you want to choose your role every time prem ##ade ranked is the way to go not today http i im ##gur com z ##ised ##l ##q jp ##g man i really don ##t [SEP]\n"
          ],
          "name": "stderr"
        },
        {
          "output_type": "stream",
          "text": [
            "INFO:tensorflow:input_ids: 101 2208 7906 2893 5881 2006 10578 10047 2074 2652 1996 3671 2544 2025 1996 8247 2151 15690 4283 4921 2063 2042 6603 1996 2168 1045 2156 2023 6230 1037 2843 2130 1999 6975 2399 3475 2102 9343 1037 2197 7204 2004 1037 3822 8875 2471 2467 1037 2488 3601 4921 2063 2467 2042 2409 2008 2009 2515 2062 4053 2130 2065 1996 4099 2515 2025 4965 1037 4744 11066 1997 8177 2054 1045 2788 2079 2003 2593 4363 2026 2048 21008 3619 2030 2893 1037 20279 15735 2278 8040 23606 2121 3041 1998 2074 2025 2311 2009 2046 1037 18411 2127 1045 2031 1048 2860 1998 4298 1037 5600 8875 10047 2025 1037 5470 1997 2023 2138 1999 2026 5448 2065 2017 2377 4396 2399 2017 2323 2022 2583 2000 2377 2151 2535 2000 1037 11519 3115 2469 2017 3363 2022 2488 2012 2070 2535 2021 2000 2033 2112 1997 1996 2208 2003 2025 2467 2652 1996 2535 2115 2063 2087 6625 2007 2065 2017 2215 2000 5454 2115 2535 2296 2051 26563 9648 4396 2003 1996 2126 2000 2175 2025 2651 8299 1045 10047 27390 4012 1062 5084 2140 4160 16545 2290 2158 1045 2428 2123 2102 102\n"
          ],
          "name": "stdout"
        },
        {
          "output_type": "stream",
          "text": [
            "INFO:tensorflow:input_ids: 101 2208 7906 2893 5881 2006 10578 10047 2074 2652 1996 3671 2544 2025 1996 8247 2151 15690 4283 4921 2063 2042 6603 1996 2168 1045 2156 2023 6230 1037 2843 2130 1999 6975 2399 3475 2102 9343 1037 2197 7204 2004 1037 3822 8875 2471 2467 1037 2488 3601 4921 2063 2467 2042 2409 2008 2009 2515 2062 4053 2130 2065 1996 4099 2515 2025 4965 1037 4744 11066 1997 8177 2054 1045 2788 2079 2003 2593 4363 2026 2048 21008 3619 2030 2893 1037 20279 15735 2278 8040 23606 2121 3041 1998 2074 2025 2311 2009 2046 1037 18411 2127 1045 2031 1048 2860 1998 4298 1037 5600 8875 10047 2025 1037 5470 1997 2023 2138 1999 2026 5448 2065 2017 2377 4396 2399 2017 2323 2022 2583 2000 2377 2151 2535 2000 1037 11519 3115 2469 2017 3363 2022 2488 2012 2070 2535 2021 2000 2033 2112 1997 1996 2208 2003 2025 2467 2652 1996 2535 2115 2063 2087 6625 2007 2065 2017 2215 2000 5454 2115 2535 2296 2051 26563 9648 4396 2003 1996 2126 2000 2175 2025 2651 8299 1045 10047 27390 4012 1062 5084 2140 4160 16545 2290 2158 1045 2428 2123 2102 102\n"
          ],
          "name": "stderr"
        },
        {
          "output_type": "stream",
          "text": [
            "INFO:tensorflow:input_mask: 1 1 1 1 1 1 1 1 1 1 1 1 1 1 1 1 1 1 1 1 1 1 1 1 1 1 1 1 1 1 1 1 1 1 1 1 1 1 1 1 1 1 1 1 1 1 1 1 1 1 1 1 1 1 1 1 1 1 1 1 1 1 1 1 1 1 1 1 1 1 1 1 1 1 1 1 1 1 1 1 1 1 1 1 1 1 1 1 1 1 1 1 1 1 1 1 1 1 1 1 1 1 1 1 1 1 1 1 1 1 1 1 1 1 1 1 1 1 1 1 1 1 1 1 1 1 1 1 1 1 1 1 1 1 1 1 1 1 1 1 1 1 1 1 1 1 1 1 1 1 1 1 1 1 1 1 1 1 1 1 1 1 1 1 1 1 1 1 1 1 1 1 1 1 1 1 1 1 1 1 1 1 1 1 1 1 1 1 1 1 1 1 1 1 1 1 1 1 1 1\n"
          ],
          "name": "stdout"
        },
        {
          "output_type": "stream",
          "text": [
            "INFO:tensorflow:input_mask: 1 1 1 1 1 1 1 1 1 1 1 1 1 1 1 1 1 1 1 1 1 1 1 1 1 1 1 1 1 1 1 1 1 1 1 1 1 1 1 1 1 1 1 1 1 1 1 1 1 1 1 1 1 1 1 1 1 1 1 1 1 1 1 1 1 1 1 1 1 1 1 1 1 1 1 1 1 1 1 1 1 1 1 1 1 1 1 1 1 1 1 1 1 1 1 1 1 1 1 1 1 1 1 1 1 1 1 1 1 1 1 1 1 1 1 1 1 1 1 1 1 1 1 1 1 1 1 1 1 1 1 1 1 1 1 1 1 1 1 1 1 1 1 1 1 1 1 1 1 1 1 1 1 1 1 1 1 1 1 1 1 1 1 1 1 1 1 1 1 1 1 1 1 1 1 1 1 1 1 1 1 1 1 1 1 1 1 1 1 1 1 1 1 1 1 1 1 1 1 1\n"
          ],
          "name": "stderr"
        },
        {
          "output_type": "stream",
          "text": [
            "INFO:tensorflow:segment_ids: 0 0 0 0 0 0 0 0 0 0 0 0 0 0 0 0 0 0 0 0 0 0 0 0 0 0 0 0 0 0 0 0 0 0 0 0 0 0 0 0 0 0 0 0 0 0 0 0 0 0 0 0 0 0 0 0 0 0 0 0 0 0 0 0 0 0 0 0 0 0 0 0 0 0 0 0 0 0 0 0 0 0 0 0 0 0 0 0 0 0 0 0 0 0 0 0 0 0 0 0 0 0 0 0 0 0 0 0 0 0 0 0 0 0 0 0 0 0 0 0 0 0 0 0 0 0 0 0 0 0 0 0 0 0 0 0 0 0 0 0 0 0 0 0 0 0 0 0 0 0 0 0 0 0 0 0 0 0 0 0 0 0 0 0 0 0 0 0 0 0 0 0 0 0 0 0 0 0 0 0 0 0 0 0 0 0 0 0 0 0 0 0 0 0 0 0 0 0 0 0\n"
          ],
          "name": "stdout"
        },
        {
          "output_type": "stream",
          "text": [
            "INFO:tensorflow:segment_ids: 0 0 0 0 0 0 0 0 0 0 0 0 0 0 0 0 0 0 0 0 0 0 0 0 0 0 0 0 0 0 0 0 0 0 0 0 0 0 0 0 0 0 0 0 0 0 0 0 0 0 0 0 0 0 0 0 0 0 0 0 0 0 0 0 0 0 0 0 0 0 0 0 0 0 0 0 0 0 0 0 0 0 0 0 0 0 0 0 0 0 0 0 0 0 0 0 0 0 0 0 0 0 0 0 0 0 0 0 0 0 0 0 0 0 0 0 0 0 0 0 0 0 0 0 0 0 0 0 0 0 0 0 0 0 0 0 0 0 0 0 0 0 0 0 0 0 0 0 0 0 0 0 0 0 0 0 0 0 0 0 0 0 0 0 0 0 0 0 0 0 0 0 0 0 0 0 0 0 0 0 0 0 0 0 0 0 0 0 0 0 0 0 0 0 0 0 0 0 0 0\n"
          ],
          "name": "stderr"
        },
        {
          "output_type": "stream",
          "text": [
            "INFO:tensorflow:label: [0 0 1] (id = [0, 0, 1])\n"
          ],
          "name": "stdout"
        },
        {
          "output_type": "stream",
          "text": [
            "INFO:tensorflow:label: [0 0 1] (id = [0, 0, 1])\n"
          ],
          "name": "stderr"
        },
        {
          "output_type": "stream",
          "text": [
            "INFO:tensorflow:*** Example ***\n"
          ],
          "name": "stdout"
        },
        {
          "output_type": "stream",
          "text": [
            "INFO:tensorflow:*** Example ***\n"
          ],
          "name": "stderr"
        },
        {
          "output_type": "stream",
          "text": [
            "INFO:tensorflow:guid: None\n"
          ],
          "name": "stdout"
        },
        {
          "output_type": "stream",
          "text": [
            "INFO:tensorflow:guid: None\n"
          ],
          "name": "stderr"
        },
        {
          "output_type": "stream",
          "text": [
            "INFO:tensorflow:tokens: [CLS] with if you want to choose your role every time prem ##ade ranked is the way to go not today http i im ##gur com z ##ised ##l ##q jp ##g man i really don ##t like this to me a huge part of playing ranked is adapting together with your team to figure out who plays what and being able to play every role to a certain extend you will be last pick sometimes meaning you have to fill sometimes so you ##ll have to be able to play any role wouldn ##t removing this allow for a lot more players that can only play for example mid and top ##lane that seems really un ##hea ##lth ##y to me seeing as having a lot of experience in one or two roles and zero experience in the other roles just is not the way a team ##game should be played right lets be honest this won ##t happen what should you do when you want to play off meta queue as ad ##c and then convince your team that you have a better chance of winning if you go jungle twitch i don ##t think your fellow [SEP]\n"
          ],
          "name": "stdout"
        },
        {
          "output_type": "stream",
          "text": [
            "INFO:tensorflow:tokens: [CLS] with if you want to choose your role every time prem ##ade ranked is the way to go not today http i im ##gur com z ##ised ##l ##q jp ##g man i really don ##t like this to me a huge part of playing ranked is adapting together with your team to figure out who plays what and being able to play every role to a certain extend you will be last pick sometimes meaning you have to fill sometimes so you ##ll have to be able to play any role wouldn ##t removing this allow for a lot more players that can only play for example mid and top ##lane that seems really un ##hea ##lth ##y to me seeing as having a lot of experience in one or two roles and zero experience in the other roles just is not the way a team ##game should be played right lets be honest this won ##t happen what should you do when you want to play off meta queue as ad ##c and then convince your team that you have a better chance of winning if you go jungle twitch i don ##t think your fellow [SEP]\n"
          ],
          "name": "stderr"
        },
        {
          "output_type": "stream",
          "text": [
            "INFO:tensorflow:input_ids: 101 2007 2065 2017 2215 2000 5454 2115 2535 2296 2051 26563 9648 4396 2003 1996 2126 2000 2175 2025 2651 8299 1045 10047 27390 4012 1062 5084 2140 4160 16545 2290 2158 1045 2428 2123 2102 2066 2023 2000 2033 1037 4121 2112 1997 2652 4396 2003 25357 2362 2007 2115 2136 2000 3275 2041 2040 3248 2054 1998 2108 2583 2000 2377 2296 2535 2000 1037 3056 7949 2017 2097 2022 2197 4060 2823 3574 2017 2031 2000 6039 2823 2061 2017 3363 2031 2000 2022 2583 2000 2377 2151 2535 2876 2102 9268 2023 3499 2005 1037 2843 2062 2867 2008 2064 2069 2377 2005 2742 3054 1998 2327 20644 2008 3849 2428 4895 20192 24658 2100 2000 2033 3773 2004 2383 1037 2843 1997 3325 1999 2028 2030 2048 4395 1998 5717 3325 1999 1996 2060 4395 2074 2003 2025 1996 2126 1037 2136 16650 2323 2022 2209 2157 11082 2022 7481 2023 2180 2102 4148 2054 2323 2017 2079 2043 2017 2215 2000 2377 2125 18804 24240 2004 4748 2278 1998 2059 8054 2115 2136 2008 2017 2031 1037 2488 3382 1997 3045 2065 2017 2175 8894 19435 1045 2123 2102 2228 2115 3507 102\n"
          ],
          "name": "stdout"
        },
        {
          "output_type": "stream",
          "text": [
            "INFO:tensorflow:input_ids: 101 2007 2065 2017 2215 2000 5454 2115 2535 2296 2051 26563 9648 4396 2003 1996 2126 2000 2175 2025 2651 8299 1045 10047 27390 4012 1062 5084 2140 4160 16545 2290 2158 1045 2428 2123 2102 2066 2023 2000 2033 1037 4121 2112 1997 2652 4396 2003 25357 2362 2007 2115 2136 2000 3275 2041 2040 3248 2054 1998 2108 2583 2000 2377 2296 2535 2000 1037 3056 7949 2017 2097 2022 2197 4060 2823 3574 2017 2031 2000 6039 2823 2061 2017 3363 2031 2000 2022 2583 2000 2377 2151 2535 2876 2102 9268 2023 3499 2005 1037 2843 2062 2867 2008 2064 2069 2377 2005 2742 3054 1998 2327 20644 2008 3849 2428 4895 20192 24658 2100 2000 2033 3773 2004 2383 1037 2843 1997 3325 1999 2028 2030 2048 4395 1998 5717 3325 1999 1996 2060 4395 2074 2003 2025 1996 2126 1037 2136 16650 2323 2022 2209 2157 11082 2022 7481 2023 2180 2102 4148 2054 2323 2017 2079 2043 2017 2215 2000 2377 2125 18804 24240 2004 4748 2278 1998 2059 8054 2115 2136 2008 2017 2031 1037 2488 3382 1997 3045 2065 2017 2175 8894 19435 1045 2123 2102 2228 2115 3507 102\n"
          ],
          "name": "stderr"
        },
        {
          "output_type": "stream",
          "text": [
            "INFO:tensorflow:input_mask: 1 1 1 1 1 1 1 1 1 1 1 1 1 1 1 1 1 1 1 1 1 1 1 1 1 1 1 1 1 1 1 1 1 1 1 1 1 1 1 1 1 1 1 1 1 1 1 1 1 1 1 1 1 1 1 1 1 1 1 1 1 1 1 1 1 1 1 1 1 1 1 1 1 1 1 1 1 1 1 1 1 1 1 1 1 1 1 1 1 1 1 1 1 1 1 1 1 1 1 1 1 1 1 1 1 1 1 1 1 1 1 1 1 1 1 1 1 1 1 1 1 1 1 1 1 1 1 1 1 1 1 1 1 1 1 1 1 1 1 1 1 1 1 1 1 1 1 1 1 1 1 1 1 1 1 1 1 1 1 1 1 1 1 1 1 1 1 1 1 1 1 1 1 1 1 1 1 1 1 1 1 1 1 1 1 1 1 1 1 1 1 1 1 1 1 1 1 1 1 1\n"
          ],
          "name": "stdout"
        },
        {
          "output_type": "stream",
          "text": [
            "INFO:tensorflow:input_mask: 1 1 1 1 1 1 1 1 1 1 1 1 1 1 1 1 1 1 1 1 1 1 1 1 1 1 1 1 1 1 1 1 1 1 1 1 1 1 1 1 1 1 1 1 1 1 1 1 1 1 1 1 1 1 1 1 1 1 1 1 1 1 1 1 1 1 1 1 1 1 1 1 1 1 1 1 1 1 1 1 1 1 1 1 1 1 1 1 1 1 1 1 1 1 1 1 1 1 1 1 1 1 1 1 1 1 1 1 1 1 1 1 1 1 1 1 1 1 1 1 1 1 1 1 1 1 1 1 1 1 1 1 1 1 1 1 1 1 1 1 1 1 1 1 1 1 1 1 1 1 1 1 1 1 1 1 1 1 1 1 1 1 1 1 1 1 1 1 1 1 1 1 1 1 1 1 1 1 1 1 1 1 1 1 1 1 1 1 1 1 1 1 1 1 1 1 1 1 1 1\n"
          ],
          "name": "stderr"
        },
        {
          "output_type": "stream",
          "text": [
            "INFO:tensorflow:segment_ids: 0 0 0 0 0 0 0 0 0 0 0 0 0 0 0 0 0 0 0 0 0 0 0 0 0 0 0 0 0 0 0 0 0 0 0 0 0 0 0 0 0 0 0 0 0 0 0 0 0 0 0 0 0 0 0 0 0 0 0 0 0 0 0 0 0 0 0 0 0 0 0 0 0 0 0 0 0 0 0 0 0 0 0 0 0 0 0 0 0 0 0 0 0 0 0 0 0 0 0 0 0 0 0 0 0 0 0 0 0 0 0 0 0 0 0 0 0 0 0 0 0 0 0 0 0 0 0 0 0 0 0 0 0 0 0 0 0 0 0 0 0 0 0 0 0 0 0 0 0 0 0 0 0 0 0 0 0 0 0 0 0 0 0 0 0 0 0 0 0 0 0 0 0 0 0 0 0 0 0 0 0 0 0 0 0 0 0 0 0 0 0 0 0 0 0 0 0 0 0 0\n"
          ],
          "name": "stdout"
        },
        {
          "output_type": "stream",
          "text": [
            "INFO:tensorflow:segment_ids: 0 0 0 0 0 0 0 0 0 0 0 0 0 0 0 0 0 0 0 0 0 0 0 0 0 0 0 0 0 0 0 0 0 0 0 0 0 0 0 0 0 0 0 0 0 0 0 0 0 0 0 0 0 0 0 0 0 0 0 0 0 0 0 0 0 0 0 0 0 0 0 0 0 0 0 0 0 0 0 0 0 0 0 0 0 0 0 0 0 0 0 0 0 0 0 0 0 0 0 0 0 0 0 0 0 0 0 0 0 0 0 0 0 0 0 0 0 0 0 0 0 0 0 0 0 0 0 0 0 0 0 0 0 0 0 0 0 0 0 0 0 0 0 0 0 0 0 0 0 0 0 0 0 0 0 0 0 0 0 0 0 0 0 0 0 0 0 0 0 0 0 0 0 0 0 0 0 0 0 0 0 0 0 0 0 0 0 0 0 0 0 0 0 0 0 0 0 0 0 0\n"
          ],
          "name": "stderr"
        },
        {
          "output_type": "stream",
          "text": [
            "INFO:tensorflow:label: [0 0 1] (id = [0, 0, 1])\n"
          ],
          "name": "stdout"
        },
        {
          "output_type": "stream",
          "text": [
            "INFO:tensorflow:label: [0 0 1] (id = [0, 0, 1])\n"
          ],
          "name": "stderr"
        },
        {
          "output_type": "stream",
          "text": [
            "INFO:tensorflow:Writing example 10000 of 103590\n"
          ],
          "name": "stdout"
        },
        {
          "output_type": "stream",
          "text": [
            "INFO:tensorflow:Writing example 10000 of 103590\n"
          ],
          "name": "stderr"
        },
        {
          "output_type": "stream",
          "text": [
            "INFO:tensorflow:Writing example 20000 of 103590\n"
          ],
          "name": "stdout"
        },
        {
          "output_type": "stream",
          "text": [
            "INFO:tensorflow:Writing example 20000 of 103590\n"
          ],
          "name": "stderr"
        },
        {
          "output_type": "stream",
          "text": [
            "INFO:tensorflow:Writing example 30000 of 103590\n"
          ],
          "name": "stdout"
        },
        {
          "output_type": "stream",
          "text": [
            "INFO:tensorflow:Writing example 30000 of 103590\n"
          ],
          "name": "stderr"
        },
        {
          "output_type": "stream",
          "text": [
            "INFO:tensorflow:Writing example 40000 of 103590\n"
          ],
          "name": "stdout"
        },
        {
          "output_type": "stream",
          "text": [
            "INFO:tensorflow:Writing example 40000 of 103590\n"
          ],
          "name": "stderr"
        },
        {
          "output_type": "stream",
          "text": [
            "INFO:tensorflow:Writing example 50000 of 103590\n"
          ],
          "name": "stdout"
        },
        {
          "output_type": "stream",
          "text": [
            "INFO:tensorflow:Writing example 50000 of 103590\n"
          ],
          "name": "stderr"
        },
        {
          "output_type": "stream",
          "text": [
            "INFO:tensorflow:Writing example 60000 of 103590\n"
          ],
          "name": "stdout"
        },
        {
          "output_type": "stream",
          "text": [
            "INFO:tensorflow:Writing example 60000 of 103590\n"
          ],
          "name": "stderr"
        },
        {
          "output_type": "stream",
          "text": [
            "INFO:tensorflow:Writing example 70000 of 103590\n"
          ],
          "name": "stdout"
        },
        {
          "output_type": "stream",
          "text": [
            "INFO:tensorflow:Writing example 70000 of 103590\n"
          ],
          "name": "stderr"
        },
        {
          "output_type": "stream",
          "text": [
            "INFO:tensorflow:Writing example 80000 of 103590\n"
          ],
          "name": "stdout"
        },
        {
          "output_type": "stream",
          "text": [
            "INFO:tensorflow:Writing example 80000 of 103590\n"
          ],
          "name": "stderr"
        },
        {
          "output_type": "stream",
          "text": [
            "INFO:tensorflow:Writing example 90000 of 103590\n"
          ],
          "name": "stdout"
        },
        {
          "output_type": "stream",
          "text": [
            "INFO:tensorflow:Writing example 90000 of 103590\n"
          ],
          "name": "stderr"
        },
        {
          "output_type": "stream",
          "text": [
            "INFO:tensorflow:Writing example 100000 of 103590\n"
          ],
          "name": "stdout"
        },
        {
          "output_type": "stream",
          "text": [
            "INFO:tensorflow:Writing example 100000 of 103590\n"
          ],
          "name": "stderr"
        },
        {
          "output_type": "stream",
          "text": [
            "INFO:tensorflow:Writing example 0 of 102474\n"
          ],
          "name": "stdout"
        },
        {
          "output_type": "stream",
          "text": [
            "INFO:tensorflow:Writing example 0 of 102474\n"
          ],
          "name": "stderr"
        },
        {
          "output_type": "stream",
          "text": [
            "INFO:tensorflow:*** Example ***\n"
          ],
          "name": "stdout"
        },
        {
          "output_type": "stream",
          "text": [
            "INFO:tensorflow:*** Example ***\n"
          ],
          "name": "stderr"
        },
        {
          "output_type": "stream",
          "text": [
            "INFO:tensorflow:guid: None\n"
          ],
          "name": "stdout"
        },
        {
          "output_type": "stream",
          "text": [
            "INFO:tensorflow:guid: None\n"
          ],
          "name": "stderr"
        },
        {
          "output_type": "stream",
          "text": [
            "INFO:tensorflow:tokens: [CLS] i love it download the files from the ex ##tal ##ia website and extract them to your maple ##stor ##y folder click ex ##tal ##iam ##s and play wherever you installed maple ##stor ##y to about the ac ##ne its due to stress you need to either drop some classes or find a way to relieve stress trust me your ac ##ne will clear up when you aren ##t under so much stress just push through it man your ##e almost there also when your ##e doing a group project be sure to detail what work you did yourself drinking under ##age smoking weed and cigarettes jay ##walk ##ing that ##s about it not every man is a complete dick by hating myself that is the plain ##est way i can explain where i get my motivation from iv ##e figured if i hate myself the only way to make me like myself is by changing who i am so i think that doing whatever i need to get done is going to make me happy if that makes sense which it probably doesn ##t i think they ##re a bad thing because they ##re always going to [SEP]\n"
          ],
          "name": "stdout"
        },
        {
          "output_type": "stream",
          "text": [
            "INFO:tensorflow:tokens: [CLS] i love it download the files from the ex ##tal ##ia website and extract them to your maple ##stor ##y folder click ex ##tal ##iam ##s and play wherever you installed maple ##stor ##y to about the ac ##ne its due to stress you need to either drop some classes or find a way to relieve stress trust me your ac ##ne will clear up when you aren ##t under so much stress just push through it man your ##e almost there also when your ##e doing a group project be sure to detail what work you did yourself drinking under ##age smoking weed and cigarettes jay ##walk ##ing that ##s about it not every man is a complete dick by hating myself that is the plain ##est way i can explain where i get my motivation from iv ##e figured if i hate myself the only way to make me like myself is by changing who i am so i think that doing whatever i need to get done is going to make me happy if that makes sense which it probably doesn ##t i think they ##re a bad thing because they ##re always going to [SEP]\n"
          ],
          "name": "stderr"
        },
        {
          "output_type": "stream",
          "text": [
            "INFO:tensorflow:input_ids: 101 1045 2293 2009 8816 1996 6764 2013 1996 4654 9080 2401 4037 1998 14817 2068 2000 2115 11035 23809 2100 19622 11562 4654 9080 25107 2015 1998 2377 11210 2017 5361 11035 23809 2100 2000 2055 1996 9353 2638 2049 2349 2000 6911 2017 2342 2000 2593 4530 2070 4280 2030 2424 1037 2126 2000 15804 6911 3404 2033 2115 9353 2638 2097 3154 2039 2043 2017 4995 2102 2104 2061 2172 6911 2074 5245 2083 2009 2158 2115 2063 2471 2045 2036 2043 2115 2063 2725 1037 2177 2622 2022 2469 2000 6987 2054 2147 2017 2106 4426 5948 2104 4270 9422 17901 1998 15001 6108 17122 2075 2008 2015 2055 2009 2025 2296 2158 2003 1037 3143 5980 2011 22650 2870 2008 2003 1996 5810 4355 2126 1045 2064 4863 2073 1045 2131 2026 14354 2013 4921 2063 6618 2065 1045 5223 2870 1996 2069 2126 2000 2191 2033 2066 2870 2003 2011 5278 2040 1045 2572 2061 1045 2228 2008 2725 3649 1045 2342 2000 2131 2589 2003 2183 2000 2191 2033 3407 2065 2008 3084 3168 2029 2009 2763 2987 2102 1045 2228 2027 2890 1037 2919 2518 2138 2027 2890 2467 2183 2000 102\n"
          ],
          "name": "stdout"
        },
        {
          "output_type": "stream",
          "text": [
            "INFO:tensorflow:input_ids: 101 1045 2293 2009 8816 1996 6764 2013 1996 4654 9080 2401 4037 1998 14817 2068 2000 2115 11035 23809 2100 19622 11562 4654 9080 25107 2015 1998 2377 11210 2017 5361 11035 23809 2100 2000 2055 1996 9353 2638 2049 2349 2000 6911 2017 2342 2000 2593 4530 2070 4280 2030 2424 1037 2126 2000 15804 6911 3404 2033 2115 9353 2638 2097 3154 2039 2043 2017 4995 2102 2104 2061 2172 6911 2074 5245 2083 2009 2158 2115 2063 2471 2045 2036 2043 2115 2063 2725 1037 2177 2622 2022 2469 2000 6987 2054 2147 2017 2106 4426 5948 2104 4270 9422 17901 1998 15001 6108 17122 2075 2008 2015 2055 2009 2025 2296 2158 2003 1037 3143 5980 2011 22650 2870 2008 2003 1996 5810 4355 2126 1045 2064 4863 2073 1045 2131 2026 14354 2013 4921 2063 6618 2065 1045 5223 2870 1996 2069 2126 2000 2191 2033 2066 2870 2003 2011 5278 2040 1045 2572 2061 1045 2228 2008 2725 3649 1045 2342 2000 2131 2589 2003 2183 2000 2191 2033 3407 2065 2008 3084 3168 2029 2009 2763 2987 2102 1045 2228 2027 2890 1037 2919 2518 2138 2027 2890 2467 2183 2000 102\n"
          ],
          "name": "stderr"
        },
        {
          "output_type": "stream",
          "text": [
            "INFO:tensorflow:input_mask: 1 1 1 1 1 1 1 1 1 1 1 1 1 1 1 1 1 1 1 1 1 1 1 1 1 1 1 1 1 1 1 1 1 1 1 1 1 1 1 1 1 1 1 1 1 1 1 1 1 1 1 1 1 1 1 1 1 1 1 1 1 1 1 1 1 1 1 1 1 1 1 1 1 1 1 1 1 1 1 1 1 1 1 1 1 1 1 1 1 1 1 1 1 1 1 1 1 1 1 1 1 1 1 1 1 1 1 1 1 1 1 1 1 1 1 1 1 1 1 1 1 1 1 1 1 1 1 1 1 1 1 1 1 1 1 1 1 1 1 1 1 1 1 1 1 1 1 1 1 1 1 1 1 1 1 1 1 1 1 1 1 1 1 1 1 1 1 1 1 1 1 1 1 1 1 1 1 1 1 1 1 1 1 1 1 1 1 1 1 1 1 1 1 1 1 1 1 1 1 1\n"
          ],
          "name": "stdout"
        },
        {
          "output_type": "stream",
          "text": [
            "INFO:tensorflow:input_mask: 1 1 1 1 1 1 1 1 1 1 1 1 1 1 1 1 1 1 1 1 1 1 1 1 1 1 1 1 1 1 1 1 1 1 1 1 1 1 1 1 1 1 1 1 1 1 1 1 1 1 1 1 1 1 1 1 1 1 1 1 1 1 1 1 1 1 1 1 1 1 1 1 1 1 1 1 1 1 1 1 1 1 1 1 1 1 1 1 1 1 1 1 1 1 1 1 1 1 1 1 1 1 1 1 1 1 1 1 1 1 1 1 1 1 1 1 1 1 1 1 1 1 1 1 1 1 1 1 1 1 1 1 1 1 1 1 1 1 1 1 1 1 1 1 1 1 1 1 1 1 1 1 1 1 1 1 1 1 1 1 1 1 1 1 1 1 1 1 1 1 1 1 1 1 1 1 1 1 1 1 1 1 1 1 1 1 1 1 1 1 1 1 1 1 1 1 1 1 1 1\n"
          ],
          "name": "stderr"
        },
        {
          "output_type": "stream",
          "text": [
            "INFO:tensorflow:segment_ids: 0 0 0 0 0 0 0 0 0 0 0 0 0 0 0 0 0 0 0 0 0 0 0 0 0 0 0 0 0 0 0 0 0 0 0 0 0 0 0 0 0 0 0 0 0 0 0 0 0 0 0 0 0 0 0 0 0 0 0 0 0 0 0 0 0 0 0 0 0 0 0 0 0 0 0 0 0 0 0 0 0 0 0 0 0 0 0 0 0 0 0 0 0 0 0 0 0 0 0 0 0 0 0 0 0 0 0 0 0 0 0 0 0 0 0 0 0 0 0 0 0 0 0 0 0 0 0 0 0 0 0 0 0 0 0 0 0 0 0 0 0 0 0 0 0 0 0 0 0 0 0 0 0 0 0 0 0 0 0 0 0 0 0 0 0 0 0 0 0 0 0 0 0 0 0 0 0 0 0 0 0 0 0 0 0 0 0 0 0 0 0 0 0 0 0 0 0 0 0 0\n"
          ],
          "name": "stdout"
        },
        {
          "output_type": "stream",
          "text": [
            "INFO:tensorflow:segment_ids: 0 0 0 0 0 0 0 0 0 0 0 0 0 0 0 0 0 0 0 0 0 0 0 0 0 0 0 0 0 0 0 0 0 0 0 0 0 0 0 0 0 0 0 0 0 0 0 0 0 0 0 0 0 0 0 0 0 0 0 0 0 0 0 0 0 0 0 0 0 0 0 0 0 0 0 0 0 0 0 0 0 0 0 0 0 0 0 0 0 0 0 0 0 0 0 0 0 0 0 0 0 0 0 0 0 0 0 0 0 0 0 0 0 0 0 0 0 0 0 0 0 0 0 0 0 0 0 0 0 0 0 0 0 0 0 0 0 0 0 0 0 0 0 0 0 0 0 0 0 0 0 0 0 0 0 0 0 0 0 0 0 0 0 0 0 0 0 0 0 0 0 0 0 0 0 0 0 0 0 0 0 0 0 0 0 0 0 0 0 0 0 0 0 0 0 0 0 0 0 0\n"
          ],
          "name": "stderr"
        },
        {
          "output_type": "stream",
          "text": [
            "INFO:tensorflow:label: [0 0 1] (id = [0, 0, 1])\n"
          ],
          "name": "stdout"
        },
        {
          "output_type": "stream",
          "text": [
            "INFO:tensorflow:label: [0 0 1] (id = [0, 0, 1])\n"
          ],
          "name": "stderr"
        },
        {
          "output_type": "stream",
          "text": [
            "INFO:tensorflow:*** Example ***\n"
          ],
          "name": "stdout"
        },
        {
          "output_type": "stream",
          "text": [
            "INFO:tensorflow:*** Example ***\n"
          ],
          "name": "stderr"
        },
        {
          "output_type": "stream",
          "text": [
            "INFO:tensorflow:guid: None\n"
          ],
          "name": "stdout"
        },
        {
          "output_type": "stream",
          "text": [
            "INFO:tensorflow:guid: None\n"
          ],
          "name": "stderr"
        },
        {
          "output_type": "stream",
          "text": [
            "INFO:tensorflow:tokens: [CLS] is going to make me happy if that makes sense which it probably doesn ##t i think they ##re a bad thing because they ##re always going to end hands down grave of the fire ##flies me and a few friends were out skating late at night as were heading home its starts getting really windy and because we were fairly hot from skating around all night we decided wed skate around in our underwear it was one of the most single greatest feelings ever anyway ##s a cop car showed up and a few of us darted down an alley ##way and put our clothes back on and skate ##d off our friend wasn ##t so lucky one of us told him to moon the car we didn ##t know it was a cop at the time they ended up stopping him and getting his details we were told to all go home after that a lego brick other than meeting the current prime minister of australia one of my teachers at school looks like jason se ##gel there was a girl who went to my school id known about her and thought she was very beautiful [SEP]\n"
          ],
          "name": "stdout"
        },
        {
          "output_type": "stream",
          "text": [
            "INFO:tensorflow:tokens: [CLS] is going to make me happy if that makes sense which it probably doesn ##t i think they ##re a bad thing because they ##re always going to end hands down grave of the fire ##flies me and a few friends were out skating late at night as were heading home its starts getting really windy and because we were fairly hot from skating around all night we decided wed skate around in our underwear it was one of the most single greatest feelings ever anyway ##s a cop car showed up and a few of us darted down an alley ##way and put our clothes back on and skate ##d off our friend wasn ##t so lucky one of us told him to moon the car we didn ##t know it was a cop at the time they ended up stopping him and getting his details we were told to all go home after that a lego brick other than meeting the current prime minister of australia one of my teachers at school looks like jason se ##gel there was a girl who went to my school id known about her and thought she was very beautiful [SEP]\n"
          ],
          "name": "stderr"
        },
        {
          "output_type": "stream",
          "text": [
            "INFO:tensorflow:input_ids: 101 2003 2183 2000 2191 2033 3407 2065 2008 3084 3168 2029 2009 2763 2987 2102 1045 2228 2027 2890 1037 2919 2518 2138 2027 2890 2467 2183 2000 2203 2398 2091 6542 1997 1996 2543 24019 2033 1998 1037 2261 2814 2020 2041 10080 2397 2012 2305 2004 2020 5825 2188 2049 4627 2893 2428 27370 1998 2138 2057 2020 7199 2980 2013 10080 2105 2035 2305 2057 2787 21981 17260 2105 1999 2256 14236 2009 2001 2028 1997 1996 2087 2309 4602 5346 2412 4312 2015 1037 8872 2482 3662 2039 1998 1037 2261 1997 2149 14051 2091 2019 8975 4576 1998 2404 2256 4253 2067 2006 1998 17260 2094 2125 2256 2767 2347 2102 2061 5341 2028 1997 2149 2409 2032 2000 4231 1996 2482 2057 2134 2102 2113 2009 2001 1037 8872 2012 1996 2051 2027 3092 2039 7458 2032 1998 2893 2010 4751 2057 2020 2409 2000 2035 2175 2188 2044 2008 1037 23853 5318 2060 2084 3116 1996 2783 3539 2704 1997 2660 2028 1997 2026 5089 2012 2082 3504 2066 4463 7367 12439 2045 2001 1037 2611 2040 2253 2000 2026 2082 8909 2124 2055 2014 1998 2245 2016 2001 2200 3376 102\n"
          ],
          "name": "stdout"
        },
        {
          "output_type": "stream",
          "text": [
            "INFO:tensorflow:input_ids: 101 2003 2183 2000 2191 2033 3407 2065 2008 3084 3168 2029 2009 2763 2987 2102 1045 2228 2027 2890 1037 2919 2518 2138 2027 2890 2467 2183 2000 2203 2398 2091 6542 1997 1996 2543 24019 2033 1998 1037 2261 2814 2020 2041 10080 2397 2012 2305 2004 2020 5825 2188 2049 4627 2893 2428 27370 1998 2138 2057 2020 7199 2980 2013 10080 2105 2035 2305 2057 2787 21981 17260 2105 1999 2256 14236 2009 2001 2028 1997 1996 2087 2309 4602 5346 2412 4312 2015 1037 8872 2482 3662 2039 1998 1037 2261 1997 2149 14051 2091 2019 8975 4576 1998 2404 2256 4253 2067 2006 1998 17260 2094 2125 2256 2767 2347 2102 2061 5341 2028 1997 2149 2409 2032 2000 4231 1996 2482 2057 2134 2102 2113 2009 2001 1037 8872 2012 1996 2051 2027 3092 2039 7458 2032 1998 2893 2010 4751 2057 2020 2409 2000 2035 2175 2188 2044 2008 1037 23853 5318 2060 2084 3116 1996 2783 3539 2704 1997 2660 2028 1997 2026 5089 2012 2082 3504 2066 4463 7367 12439 2045 2001 1037 2611 2040 2253 2000 2026 2082 8909 2124 2055 2014 1998 2245 2016 2001 2200 3376 102\n"
          ],
          "name": "stderr"
        },
        {
          "output_type": "stream",
          "text": [
            "INFO:tensorflow:input_mask: 1 1 1 1 1 1 1 1 1 1 1 1 1 1 1 1 1 1 1 1 1 1 1 1 1 1 1 1 1 1 1 1 1 1 1 1 1 1 1 1 1 1 1 1 1 1 1 1 1 1 1 1 1 1 1 1 1 1 1 1 1 1 1 1 1 1 1 1 1 1 1 1 1 1 1 1 1 1 1 1 1 1 1 1 1 1 1 1 1 1 1 1 1 1 1 1 1 1 1 1 1 1 1 1 1 1 1 1 1 1 1 1 1 1 1 1 1 1 1 1 1 1 1 1 1 1 1 1 1 1 1 1 1 1 1 1 1 1 1 1 1 1 1 1 1 1 1 1 1 1 1 1 1 1 1 1 1 1 1 1 1 1 1 1 1 1 1 1 1 1 1 1 1 1 1 1 1 1 1 1 1 1 1 1 1 1 1 1 1 1 1 1 1 1 1 1 1 1 1 1\n"
          ],
          "name": "stdout"
        },
        {
          "output_type": "stream",
          "text": [
            "INFO:tensorflow:input_mask: 1 1 1 1 1 1 1 1 1 1 1 1 1 1 1 1 1 1 1 1 1 1 1 1 1 1 1 1 1 1 1 1 1 1 1 1 1 1 1 1 1 1 1 1 1 1 1 1 1 1 1 1 1 1 1 1 1 1 1 1 1 1 1 1 1 1 1 1 1 1 1 1 1 1 1 1 1 1 1 1 1 1 1 1 1 1 1 1 1 1 1 1 1 1 1 1 1 1 1 1 1 1 1 1 1 1 1 1 1 1 1 1 1 1 1 1 1 1 1 1 1 1 1 1 1 1 1 1 1 1 1 1 1 1 1 1 1 1 1 1 1 1 1 1 1 1 1 1 1 1 1 1 1 1 1 1 1 1 1 1 1 1 1 1 1 1 1 1 1 1 1 1 1 1 1 1 1 1 1 1 1 1 1 1 1 1 1 1 1 1 1 1 1 1 1 1 1 1 1 1\n"
          ],
          "name": "stderr"
        },
        {
          "output_type": "stream",
          "text": [
            "INFO:tensorflow:segment_ids: 0 0 0 0 0 0 0 0 0 0 0 0 0 0 0 0 0 0 0 0 0 0 0 0 0 0 0 0 0 0 0 0 0 0 0 0 0 0 0 0 0 0 0 0 0 0 0 0 0 0 0 0 0 0 0 0 0 0 0 0 0 0 0 0 0 0 0 0 0 0 0 0 0 0 0 0 0 0 0 0 0 0 0 0 0 0 0 0 0 0 0 0 0 0 0 0 0 0 0 0 0 0 0 0 0 0 0 0 0 0 0 0 0 0 0 0 0 0 0 0 0 0 0 0 0 0 0 0 0 0 0 0 0 0 0 0 0 0 0 0 0 0 0 0 0 0 0 0 0 0 0 0 0 0 0 0 0 0 0 0 0 0 0 0 0 0 0 0 0 0 0 0 0 0 0 0 0 0 0 0 0 0 0 0 0 0 0 0 0 0 0 0 0 0 0 0 0 0 0 0\n"
          ],
          "name": "stdout"
        },
        {
          "output_type": "stream",
          "text": [
            "INFO:tensorflow:segment_ids: 0 0 0 0 0 0 0 0 0 0 0 0 0 0 0 0 0 0 0 0 0 0 0 0 0 0 0 0 0 0 0 0 0 0 0 0 0 0 0 0 0 0 0 0 0 0 0 0 0 0 0 0 0 0 0 0 0 0 0 0 0 0 0 0 0 0 0 0 0 0 0 0 0 0 0 0 0 0 0 0 0 0 0 0 0 0 0 0 0 0 0 0 0 0 0 0 0 0 0 0 0 0 0 0 0 0 0 0 0 0 0 0 0 0 0 0 0 0 0 0 0 0 0 0 0 0 0 0 0 0 0 0 0 0 0 0 0 0 0 0 0 0 0 0 0 0 0 0 0 0 0 0 0 0 0 0 0 0 0 0 0 0 0 0 0 0 0 0 0 0 0 0 0 0 0 0 0 0 0 0 0 0 0 0 0 0 0 0 0 0 0 0 0 0 0 0 0 0 0 0\n"
          ],
          "name": "stderr"
        },
        {
          "output_type": "stream",
          "text": [
            "INFO:tensorflow:label: [0 0 1] (id = [0, 0, 1])\n"
          ],
          "name": "stdout"
        },
        {
          "output_type": "stream",
          "text": [
            "INFO:tensorflow:label: [0 0 1] (id = [0, 0, 1])\n"
          ],
          "name": "stderr"
        },
        {
          "output_type": "stream",
          "text": [
            "INFO:tensorflow:*** Example ***\n"
          ],
          "name": "stdout"
        },
        {
          "output_type": "stream",
          "text": [
            "INFO:tensorflow:*** Example ***\n"
          ],
          "name": "stderr"
        },
        {
          "output_type": "stream",
          "text": [
            "INFO:tensorflow:guid: None\n"
          ],
          "name": "stdout"
        },
        {
          "output_type": "stream",
          "text": [
            "INFO:tensorflow:guid: None\n"
          ],
          "name": "stderr"
        },
        {
          "output_type": "stream",
          "text": [
            "INFO:tensorflow:tokens: [CLS] other than meeting the current prime minister of australia one of my teachers at school looks like jason se ##gel there was a girl who went to my school id known about her and thought she was very beautiful but id never spoken to her one morning i hadn ##t managed to get any sleep and she messages me on facebook telling me that she ##s at a friends and she ##s asleep we end up talking the whole day and night we don ##t stop talking eventually the weekend ends and we see each other at school we say hi to each other but don ##t stop and talk we hang out with our separate group of friends at school as usual we continue to talk over facebook and things are going well we are constantly talking and eventually i end up going over to her place we don ##t do much we just lie around watching movies and not talking this carries on for a while and i start staying over at her house later and later at night to the point where i ended up staying there from 12 to 12 one night i was [SEP]\n"
          ],
          "name": "stdout"
        },
        {
          "output_type": "stream",
          "text": [
            "INFO:tensorflow:tokens: [CLS] other than meeting the current prime minister of australia one of my teachers at school looks like jason se ##gel there was a girl who went to my school id known about her and thought she was very beautiful but id never spoken to her one morning i hadn ##t managed to get any sleep and she messages me on facebook telling me that she ##s at a friends and she ##s asleep we end up talking the whole day and night we don ##t stop talking eventually the weekend ends and we see each other at school we say hi to each other but don ##t stop and talk we hang out with our separate group of friends at school as usual we continue to talk over facebook and things are going well we are constantly talking and eventually i end up going over to her place we don ##t do much we just lie around watching movies and not talking this carries on for a while and i start staying over at her house later and later at night to the point where i ended up staying there from 12 to 12 one night i was [SEP]\n"
          ],
          "name": "stderr"
        },
        {
          "output_type": "stream",
          "text": [
            "INFO:tensorflow:input_ids: 101 2060 2084 3116 1996 2783 3539 2704 1997 2660 2028 1997 2026 5089 2012 2082 3504 2066 4463 7367 12439 2045 2001 1037 2611 2040 2253 2000 2026 2082 8909 2124 2055 2014 1998 2245 2016 2001 2200 3376 2021 8909 2196 5287 2000 2014 2028 2851 1045 2910 2102 3266 2000 2131 2151 3637 1998 2016 7696 2033 2006 9130 4129 2033 2008 2016 2015 2012 1037 2814 1998 2016 2015 6680 2057 2203 2039 3331 1996 2878 2154 1998 2305 2057 2123 2102 2644 3331 2776 1996 5353 4515 1998 2057 2156 2169 2060 2012 2082 2057 2360 7632 2000 2169 2060 2021 2123 2102 2644 1998 2831 2057 6865 2041 2007 2256 3584 2177 1997 2814 2012 2082 2004 5156 2057 3613 2000 2831 2058 9130 1998 2477 2024 2183 2092 2057 2024 7887 3331 1998 2776 1045 2203 2039 2183 2058 2000 2014 2173 2057 2123 2102 2079 2172 2057 2074 4682 2105 3666 5691 1998 2025 3331 2023 7883 2006 2005 1037 2096 1998 1045 2707 6595 2058 2012 2014 2160 2101 1998 2101 2012 2305 2000 1996 2391 2073 1045 3092 2039 6595 2045 2013 2260 2000 2260 2028 2305 1045 2001 102\n"
          ],
          "name": "stdout"
        },
        {
          "output_type": "stream",
          "text": [
            "INFO:tensorflow:input_ids: 101 2060 2084 3116 1996 2783 3539 2704 1997 2660 2028 1997 2026 5089 2012 2082 3504 2066 4463 7367 12439 2045 2001 1037 2611 2040 2253 2000 2026 2082 8909 2124 2055 2014 1998 2245 2016 2001 2200 3376 2021 8909 2196 5287 2000 2014 2028 2851 1045 2910 2102 3266 2000 2131 2151 3637 1998 2016 7696 2033 2006 9130 4129 2033 2008 2016 2015 2012 1037 2814 1998 2016 2015 6680 2057 2203 2039 3331 1996 2878 2154 1998 2305 2057 2123 2102 2644 3331 2776 1996 5353 4515 1998 2057 2156 2169 2060 2012 2082 2057 2360 7632 2000 2169 2060 2021 2123 2102 2644 1998 2831 2057 6865 2041 2007 2256 3584 2177 1997 2814 2012 2082 2004 5156 2057 3613 2000 2831 2058 9130 1998 2477 2024 2183 2092 2057 2024 7887 3331 1998 2776 1045 2203 2039 2183 2058 2000 2014 2173 2057 2123 2102 2079 2172 2057 2074 4682 2105 3666 5691 1998 2025 3331 2023 7883 2006 2005 1037 2096 1998 1045 2707 6595 2058 2012 2014 2160 2101 1998 2101 2012 2305 2000 1996 2391 2073 1045 3092 2039 6595 2045 2013 2260 2000 2260 2028 2305 1045 2001 102\n"
          ],
          "name": "stderr"
        },
        {
          "output_type": "stream",
          "text": [
            "INFO:tensorflow:input_mask: 1 1 1 1 1 1 1 1 1 1 1 1 1 1 1 1 1 1 1 1 1 1 1 1 1 1 1 1 1 1 1 1 1 1 1 1 1 1 1 1 1 1 1 1 1 1 1 1 1 1 1 1 1 1 1 1 1 1 1 1 1 1 1 1 1 1 1 1 1 1 1 1 1 1 1 1 1 1 1 1 1 1 1 1 1 1 1 1 1 1 1 1 1 1 1 1 1 1 1 1 1 1 1 1 1 1 1 1 1 1 1 1 1 1 1 1 1 1 1 1 1 1 1 1 1 1 1 1 1 1 1 1 1 1 1 1 1 1 1 1 1 1 1 1 1 1 1 1 1 1 1 1 1 1 1 1 1 1 1 1 1 1 1 1 1 1 1 1 1 1 1 1 1 1 1 1 1 1 1 1 1 1 1 1 1 1 1 1 1 1 1 1 1 1 1 1 1 1 1 1\n"
          ],
          "name": "stdout"
        },
        {
          "output_type": "stream",
          "text": [
            "INFO:tensorflow:input_mask: 1 1 1 1 1 1 1 1 1 1 1 1 1 1 1 1 1 1 1 1 1 1 1 1 1 1 1 1 1 1 1 1 1 1 1 1 1 1 1 1 1 1 1 1 1 1 1 1 1 1 1 1 1 1 1 1 1 1 1 1 1 1 1 1 1 1 1 1 1 1 1 1 1 1 1 1 1 1 1 1 1 1 1 1 1 1 1 1 1 1 1 1 1 1 1 1 1 1 1 1 1 1 1 1 1 1 1 1 1 1 1 1 1 1 1 1 1 1 1 1 1 1 1 1 1 1 1 1 1 1 1 1 1 1 1 1 1 1 1 1 1 1 1 1 1 1 1 1 1 1 1 1 1 1 1 1 1 1 1 1 1 1 1 1 1 1 1 1 1 1 1 1 1 1 1 1 1 1 1 1 1 1 1 1 1 1 1 1 1 1 1 1 1 1 1 1 1 1 1 1\n"
          ],
          "name": "stderr"
        },
        {
          "output_type": "stream",
          "text": [
            "INFO:tensorflow:segment_ids: 0 0 0 0 0 0 0 0 0 0 0 0 0 0 0 0 0 0 0 0 0 0 0 0 0 0 0 0 0 0 0 0 0 0 0 0 0 0 0 0 0 0 0 0 0 0 0 0 0 0 0 0 0 0 0 0 0 0 0 0 0 0 0 0 0 0 0 0 0 0 0 0 0 0 0 0 0 0 0 0 0 0 0 0 0 0 0 0 0 0 0 0 0 0 0 0 0 0 0 0 0 0 0 0 0 0 0 0 0 0 0 0 0 0 0 0 0 0 0 0 0 0 0 0 0 0 0 0 0 0 0 0 0 0 0 0 0 0 0 0 0 0 0 0 0 0 0 0 0 0 0 0 0 0 0 0 0 0 0 0 0 0 0 0 0 0 0 0 0 0 0 0 0 0 0 0 0 0 0 0 0 0 0 0 0 0 0 0 0 0 0 0 0 0 0 0 0 0 0 0\n"
          ],
          "name": "stdout"
        },
        {
          "output_type": "stream",
          "text": [
            "INFO:tensorflow:segment_ids: 0 0 0 0 0 0 0 0 0 0 0 0 0 0 0 0 0 0 0 0 0 0 0 0 0 0 0 0 0 0 0 0 0 0 0 0 0 0 0 0 0 0 0 0 0 0 0 0 0 0 0 0 0 0 0 0 0 0 0 0 0 0 0 0 0 0 0 0 0 0 0 0 0 0 0 0 0 0 0 0 0 0 0 0 0 0 0 0 0 0 0 0 0 0 0 0 0 0 0 0 0 0 0 0 0 0 0 0 0 0 0 0 0 0 0 0 0 0 0 0 0 0 0 0 0 0 0 0 0 0 0 0 0 0 0 0 0 0 0 0 0 0 0 0 0 0 0 0 0 0 0 0 0 0 0 0 0 0 0 0 0 0 0 0 0 0 0 0 0 0 0 0 0 0 0 0 0 0 0 0 0 0 0 0 0 0 0 0 0 0 0 0 0 0 0 0 0 0 0 0\n"
          ],
          "name": "stderr"
        },
        {
          "output_type": "stream",
          "text": [
            "INFO:tensorflow:label: [0 0 1] (id = [0, 0, 1])\n"
          ],
          "name": "stdout"
        },
        {
          "output_type": "stream",
          "text": [
            "INFO:tensorflow:label: [0 0 1] (id = [0, 0, 1])\n"
          ],
          "name": "stderr"
        },
        {
          "output_type": "stream",
          "text": [
            "INFO:tensorflow:*** Example ***\n"
          ],
          "name": "stdout"
        },
        {
          "output_type": "stream",
          "text": [
            "INFO:tensorflow:*** Example ***\n"
          ],
          "name": "stderr"
        },
        {
          "output_type": "stream",
          "text": [
            "INFO:tensorflow:guid: None\n"
          ],
          "name": "stdout"
        },
        {
          "output_type": "stream",
          "text": [
            "INFO:tensorflow:guid: None\n"
          ],
          "name": "stderr"
        },
        {
          "output_type": "stream",
          "text": [
            "INFO:tensorflow:tokens: [CLS] watching movies and not talking this carries on for a while and i start staying over at her house later and later at night to the point where i ended up staying there from 12 to 12 one night i was over hers again and we start watching a movie as usual we start holding hands eventually and end up cu ##ddling each other we had nearly kissed a few times but we were too comfortable with the way things were and we didn ##t want anything to change well at least i did things were perfect we were so happy with each other it was perfect this happened a few times more until one day where things just changed she stopped talking to me didn ##t want anything to do with me its been about a year now i miss her i don ##t know how she feels but she ##s still ignoring me oh well teen years dress smart don ##t wear something over the top but wear something that will show that you actually care about getting the job something that would be acceptable in a formal social event but nothing too important tri ##sh [SEP]\n"
          ],
          "name": "stdout"
        },
        {
          "output_type": "stream",
          "text": [
            "INFO:tensorflow:tokens: [CLS] watching movies and not talking this carries on for a while and i start staying over at her house later and later at night to the point where i ended up staying there from 12 to 12 one night i was over hers again and we start watching a movie as usual we start holding hands eventually and end up cu ##ddling each other we had nearly kissed a few times but we were too comfortable with the way things were and we didn ##t want anything to change well at least i did things were perfect we were so happy with each other it was perfect this happened a few times more until one day where things just changed she stopped talking to me didn ##t want anything to do with me its been about a year now i miss her i don ##t know how she feels but she ##s still ignoring me oh well teen years dress smart don ##t wear something over the top but wear something that will show that you actually care about getting the job something that would be acceptable in a formal social event but nothing too important tri ##sh [SEP]\n"
          ],
          "name": "stderr"
        },
        {
          "output_type": "stream",
          "text": [
            "INFO:tensorflow:input_ids: 101 3666 5691 1998 2025 3331 2023 7883 2006 2005 1037 2096 1998 1045 2707 6595 2058 2012 2014 2160 2101 1998 2101 2012 2305 2000 1996 2391 2073 1045 3092 2039 6595 2045 2013 2260 2000 2260 2028 2305 1045 2001 2058 5106 2153 1998 2057 2707 3666 1037 3185 2004 5156 2057 2707 3173 2398 2776 1998 2203 2039 12731 21814 2169 2060 2057 2018 3053 4782 1037 2261 2335 2021 2057 2020 2205 6625 2007 1996 2126 2477 2020 1998 2057 2134 2102 2215 2505 2000 2689 2092 2012 2560 1045 2106 2477 2020 3819 2057 2020 2061 3407 2007 2169 2060 2009 2001 3819 2023 3047 1037 2261 2335 2062 2127 2028 2154 2073 2477 2074 2904 2016 3030 3331 2000 2033 2134 2102 2215 2505 2000 2079 2007 2033 2049 2042 2055 1037 2095 2085 1045 3335 2014 1045 2123 2102 2113 2129 2016 5683 2021 2016 2015 2145 9217 2033 2821 2092 9458 2086 4377 6047 2123 2102 4929 2242 2058 1996 2327 2021 4929 2242 2008 2097 2265 2008 2017 2941 2729 2055 2893 1996 3105 2242 2008 2052 2022 11701 1999 1037 5337 2591 2724 2021 2498 2205 2590 13012 4095 102\n"
          ],
          "name": "stdout"
        },
        {
          "output_type": "stream",
          "text": [
            "INFO:tensorflow:input_ids: 101 3666 5691 1998 2025 3331 2023 7883 2006 2005 1037 2096 1998 1045 2707 6595 2058 2012 2014 2160 2101 1998 2101 2012 2305 2000 1996 2391 2073 1045 3092 2039 6595 2045 2013 2260 2000 2260 2028 2305 1045 2001 2058 5106 2153 1998 2057 2707 3666 1037 3185 2004 5156 2057 2707 3173 2398 2776 1998 2203 2039 12731 21814 2169 2060 2057 2018 3053 4782 1037 2261 2335 2021 2057 2020 2205 6625 2007 1996 2126 2477 2020 1998 2057 2134 2102 2215 2505 2000 2689 2092 2012 2560 1045 2106 2477 2020 3819 2057 2020 2061 3407 2007 2169 2060 2009 2001 3819 2023 3047 1037 2261 2335 2062 2127 2028 2154 2073 2477 2074 2904 2016 3030 3331 2000 2033 2134 2102 2215 2505 2000 2079 2007 2033 2049 2042 2055 1037 2095 2085 1045 3335 2014 1045 2123 2102 2113 2129 2016 5683 2021 2016 2015 2145 9217 2033 2821 2092 9458 2086 4377 6047 2123 2102 4929 2242 2058 1996 2327 2021 4929 2242 2008 2097 2265 2008 2017 2941 2729 2055 2893 1996 3105 2242 2008 2052 2022 11701 1999 1037 5337 2591 2724 2021 2498 2205 2590 13012 4095 102\n"
          ],
          "name": "stderr"
        },
        {
          "output_type": "stream",
          "text": [
            "INFO:tensorflow:input_mask: 1 1 1 1 1 1 1 1 1 1 1 1 1 1 1 1 1 1 1 1 1 1 1 1 1 1 1 1 1 1 1 1 1 1 1 1 1 1 1 1 1 1 1 1 1 1 1 1 1 1 1 1 1 1 1 1 1 1 1 1 1 1 1 1 1 1 1 1 1 1 1 1 1 1 1 1 1 1 1 1 1 1 1 1 1 1 1 1 1 1 1 1 1 1 1 1 1 1 1 1 1 1 1 1 1 1 1 1 1 1 1 1 1 1 1 1 1 1 1 1 1 1 1 1 1 1 1 1 1 1 1 1 1 1 1 1 1 1 1 1 1 1 1 1 1 1 1 1 1 1 1 1 1 1 1 1 1 1 1 1 1 1 1 1 1 1 1 1 1 1 1 1 1 1 1 1 1 1 1 1 1 1 1 1 1 1 1 1 1 1 1 1 1 1 1 1 1 1 1 1\n"
          ],
          "name": "stdout"
        },
        {
          "output_type": "stream",
          "text": [
            "INFO:tensorflow:input_mask: 1 1 1 1 1 1 1 1 1 1 1 1 1 1 1 1 1 1 1 1 1 1 1 1 1 1 1 1 1 1 1 1 1 1 1 1 1 1 1 1 1 1 1 1 1 1 1 1 1 1 1 1 1 1 1 1 1 1 1 1 1 1 1 1 1 1 1 1 1 1 1 1 1 1 1 1 1 1 1 1 1 1 1 1 1 1 1 1 1 1 1 1 1 1 1 1 1 1 1 1 1 1 1 1 1 1 1 1 1 1 1 1 1 1 1 1 1 1 1 1 1 1 1 1 1 1 1 1 1 1 1 1 1 1 1 1 1 1 1 1 1 1 1 1 1 1 1 1 1 1 1 1 1 1 1 1 1 1 1 1 1 1 1 1 1 1 1 1 1 1 1 1 1 1 1 1 1 1 1 1 1 1 1 1 1 1 1 1 1 1 1 1 1 1 1 1 1 1 1 1\n"
          ],
          "name": "stderr"
        },
        {
          "output_type": "stream",
          "text": [
            "INFO:tensorflow:segment_ids: 0 0 0 0 0 0 0 0 0 0 0 0 0 0 0 0 0 0 0 0 0 0 0 0 0 0 0 0 0 0 0 0 0 0 0 0 0 0 0 0 0 0 0 0 0 0 0 0 0 0 0 0 0 0 0 0 0 0 0 0 0 0 0 0 0 0 0 0 0 0 0 0 0 0 0 0 0 0 0 0 0 0 0 0 0 0 0 0 0 0 0 0 0 0 0 0 0 0 0 0 0 0 0 0 0 0 0 0 0 0 0 0 0 0 0 0 0 0 0 0 0 0 0 0 0 0 0 0 0 0 0 0 0 0 0 0 0 0 0 0 0 0 0 0 0 0 0 0 0 0 0 0 0 0 0 0 0 0 0 0 0 0 0 0 0 0 0 0 0 0 0 0 0 0 0 0 0 0 0 0 0 0 0 0 0 0 0 0 0 0 0 0 0 0 0 0 0 0 0 0\n"
          ],
          "name": "stdout"
        },
        {
          "output_type": "stream",
          "text": [
            "INFO:tensorflow:segment_ids: 0 0 0 0 0 0 0 0 0 0 0 0 0 0 0 0 0 0 0 0 0 0 0 0 0 0 0 0 0 0 0 0 0 0 0 0 0 0 0 0 0 0 0 0 0 0 0 0 0 0 0 0 0 0 0 0 0 0 0 0 0 0 0 0 0 0 0 0 0 0 0 0 0 0 0 0 0 0 0 0 0 0 0 0 0 0 0 0 0 0 0 0 0 0 0 0 0 0 0 0 0 0 0 0 0 0 0 0 0 0 0 0 0 0 0 0 0 0 0 0 0 0 0 0 0 0 0 0 0 0 0 0 0 0 0 0 0 0 0 0 0 0 0 0 0 0 0 0 0 0 0 0 0 0 0 0 0 0 0 0 0 0 0 0 0 0 0 0 0 0 0 0 0 0 0 0 0 0 0 0 0 0 0 0 0 0 0 0 0 0 0 0 0 0 0 0 0 0 0 0\n"
          ],
          "name": "stderr"
        },
        {
          "output_type": "stream",
          "text": [
            "INFO:tensorflow:label: [0 0 1] (id = [0, 0, 1])\n"
          ],
          "name": "stdout"
        },
        {
          "output_type": "stream",
          "text": [
            "INFO:tensorflow:label: [0 0 1] (id = [0, 0, 1])\n"
          ],
          "name": "stderr"
        },
        {
          "output_type": "stream",
          "text": [
            "INFO:tensorflow:*** Example ***\n"
          ],
          "name": "stdout"
        },
        {
          "output_type": "stream",
          "text": [
            "INFO:tensorflow:*** Example ***\n"
          ],
          "name": "stderr"
        },
        {
          "output_type": "stream",
          "text": [
            "INFO:tensorflow:guid: None\n"
          ],
          "name": "stdout"
        },
        {
          "output_type": "stream",
          "text": [
            "INFO:tensorflow:guid: None\n"
          ],
          "name": "stderr"
        },
        {
          "output_type": "stream",
          "text": [
            "INFO:tensorflow:tokens: [CLS] oh well teen years dress smart don ##t wear something over the top but wear something that will show that you actually care about getting the job something that would be acceptable in a formal social event but nothing too important tri ##sh ##ka come any closer and ill kill your dick gray what what does that even mean you ##ll kill my dick well ill kill your dick is ##hi speaking of killing dick ##s bullets ##torm yes sul ##la he ##s in my opinion one of the best league of legends caste ##rs out there yo ##rick is really situation ##al though as in he needs a team com ##p that supports him you win two iced coffee ##s and some chewing gum iv ##e had pictures of butt ##holes sent to me numerous times quick someone tell come ##ly its illegal but fucking easy to get at least you didn ##t giggles ##nar ##f enhance dick ring i believe its a reference to this http www youtube com watch v x ##6 ##f ##5 ##ph ##8 _ q ##1 ##m qi hoc ##us po ##cus i was in tears i bet its because your ##e [SEP]\n"
          ],
          "name": "stdout"
        },
        {
          "output_type": "stream",
          "text": [
            "INFO:tensorflow:tokens: [CLS] oh well teen years dress smart don ##t wear something over the top but wear something that will show that you actually care about getting the job something that would be acceptable in a formal social event but nothing too important tri ##sh ##ka come any closer and ill kill your dick gray what what does that even mean you ##ll kill my dick well ill kill your dick is ##hi speaking of killing dick ##s bullets ##torm yes sul ##la he ##s in my opinion one of the best league of legends caste ##rs out there yo ##rick is really situation ##al though as in he needs a team com ##p that supports him you win two iced coffee ##s and some chewing gum iv ##e had pictures of butt ##holes sent to me numerous times quick someone tell come ##ly its illegal but fucking easy to get at least you didn ##t giggles ##nar ##f enhance dick ring i believe its a reference to this http www youtube com watch v x ##6 ##f ##5 ##ph ##8 _ q ##1 ##m qi hoc ##us po ##cus i was in tears i bet its because your ##e [SEP]\n"
          ],
          "name": "stderr"
        },
        {
          "output_type": "stream",
          "text": [
            "INFO:tensorflow:input_ids: 101 2821 2092 9458 2086 4377 6047 2123 2102 4929 2242 2058 1996 2327 2021 4929 2242 2008 2097 2265 2008 2017 2941 2729 2055 2893 1996 3105 2242 2008 2052 2022 11701 1999 1037 5337 2591 2724 2021 2498 2205 2590 13012 4095 2912 2272 2151 3553 1998 5665 3102 2115 5980 3897 2054 2054 2515 2008 2130 2812 2017 3363 3102 2026 5980 2092 5665 3102 2115 5980 2003 4048 4092 1997 4288 5980 2015 10432 20654 2748 21396 2721 2002 2015 1999 2026 5448 2028 1997 1996 2190 2223 1997 9489 14542 2869 2041 2045 10930 11285 2003 2428 3663 2389 2295 2004 1999 2002 3791 1037 2136 4012 2361 2008 6753 2032 2017 2663 2048 28248 4157 2015 1998 2070 17492 16031 4921 2063 2018 4620 1997 10007 19990 2741 2000 2033 3365 2335 4248 2619 2425 2272 2135 2049 6206 2021 8239 3733 2000 2131 2012 2560 2017 2134 2102 26466 11802 2546 11598 5980 3614 1045 2903 2049 1037 4431 2000 2023 8299 7479 7858 4012 3422 1058 1060 2575 2546 2629 8458 2620 1035 1053 2487 2213 18816 21929 2271 13433 7874 1045 2001 1999 4000 1045 6655 2049 2138 2115 2063 102\n"
          ],
          "name": "stdout"
        },
        {
          "output_type": "stream",
          "text": [
            "INFO:tensorflow:input_ids: 101 2821 2092 9458 2086 4377 6047 2123 2102 4929 2242 2058 1996 2327 2021 4929 2242 2008 2097 2265 2008 2017 2941 2729 2055 2893 1996 3105 2242 2008 2052 2022 11701 1999 1037 5337 2591 2724 2021 2498 2205 2590 13012 4095 2912 2272 2151 3553 1998 5665 3102 2115 5980 3897 2054 2054 2515 2008 2130 2812 2017 3363 3102 2026 5980 2092 5665 3102 2115 5980 2003 4048 4092 1997 4288 5980 2015 10432 20654 2748 21396 2721 2002 2015 1999 2026 5448 2028 1997 1996 2190 2223 1997 9489 14542 2869 2041 2045 10930 11285 2003 2428 3663 2389 2295 2004 1999 2002 3791 1037 2136 4012 2361 2008 6753 2032 2017 2663 2048 28248 4157 2015 1998 2070 17492 16031 4921 2063 2018 4620 1997 10007 19990 2741 2000 2033 3365 2335 4248 2619 2425 2272 2135 2049 6206 2021 8239 3733 2000 2131 2012 2560 2017 2134 2102 26466 11802 2546 11598 5980 3614 1045 2903 2049 1037 4431 2000 2023 8299 7479 7858 4012 3422 1058 1060 2575 2546 2629 8458 2620 1035 1053 2487 2213 18816 21929 2271 13433 7874 1045 2001 1999 4000 1045 6655 2049 2138 2115 2063 102\n"
          ],
          "name": "stderr"
        },
        {
          "output_type": "stream",
          "text": [
            "INFO:tensorflow:input_mask: 1 1 1 1 1 1 1 1 1 1 1 1 1 1 1 1 1 1 1 1 1 1 1 1 1 1 1 1 1 1 1 1 1 1 1 1 1 1 1 1 1 1 1 1 1 1 1 1 1 1 1 1 1 1 1 1 1 1 1 1 1 1 1 1 1 1 1 1 1 1 1 1 1 1 1 1 1 1 1 1 1 1 1 1 1 1 1 1 1 1 1 1 1 1 1 1 1 1 1 1 1 1 1 1 1 1 1 1 1 1 1 1 1 1 1 1 1 1 1 1 1 1 1 1 1 1 1 1 1 1 1 1 1 1 1 1 1 1 1 1 1 1 1 1 1 1 1 1 1 1 1 1 1 1 1 1 1 1 1 1 1 1 1 1 1 1 1 1 1 1 1 1 1 1 1 1 1 1 1 1 1 1 1 1 1 1 1 1 1 1 1 1 1 1 1 1 1 1 1 1\n"
          ],
          "name": "stdout"
        },
        {
          "output_type": "stream",
          "text": [
            "INFO:tensorflow:input_mask: 1 1 1 1 1 1 1 1 1 1 1 1 1 1 1 1 1 1 1 1 1 1 1 1 1 1 1 1 1 1 1 1 1 1 1 1 1 1 1 1 1 1 1 1 1 1 1 1 1 1 1 1 1 1 1 1 1 1 1 1 1 1 1 1 1 1 1 1 1 1 1 1 1 1 1 1 1 1 1 1 1 1 1 1 1 1 1 1 1 1 1 1 1 1 1 1 1 1 1 1 1 1 1 1 1 1 1 1 1 1 1 1 1 1 1 1 1 1 1 1 1 1 1 1 1 1 1 1 1 1 1 1 1 1 1 1 1 1 1 1 1 1 1 1 1 1 1 1 1 1 1 1 1 1 1 1 1 1 1 1 1 1 1 1 1 1 1 1 1 1 1 1 1 1 1 1 1 1 1 1 1 1 1 1 1 1 1 1 1 1 1 1 1 1 1 1 1 1 1 1\n"
          ],
          "name": "stderr"
        },
        {
          "output_type": "stream",
          "text": [
            "INFO:tensorflow:segment_ids: 0 0 0 0 0 0 0 0 0 0 0 0 0 0 0 0 0 0 0 0 0 0 0 0 0 0 0 0 0 0 0 0 0 0 0 0 0 0 0 0 0 0 0 0 0 0 0 0 0 0 0 0 0 0 0 0 0 0 0 0 0 0 0 0 0 0 0 0 0 0 0 0 0 0 0 0 0 0 0 0 0 0 0 0 0 0 0 0 0 0 0 0 0 0 0 0 0 0 0 0 0 0 0 0 0 0 0 0 0 0 0 0 0 0 0 0 0 0 0 0 0 0 0 0 0 0 0 0 0 0 0 0 0 0 0 0 0 0 0 0 0 0 0 0 0 0 0 0 0 0 0 0 0 0 0 0 0 0 0 0 0 0 0 0 0 0 0 0 0 0 0 0 0 0 0 0 0 0 0 0 0 0 0 0 0 0 0 0 0 0 0 0 0 0 0 0 0 0 0 0\n"
          ],
          "name": "stdout"
        },
        {
          "output_type": "stream",
          "text": [
            "INFO:tensorflow:segment_ids: 0 0 0 0 0 0 0 0 0 0 0 0 0 0 0 0 0 0 0 0 0 0 0 0 0 0 0 0 0 0 0 0 0 0 0 0 0 0 0 0 0 0 0 0 0 0 0 0 0 0 0 0 0 0 0 0 0 0 0 0 0 0 0 0 0 0 0 0 0 0 0 0 0 0 0 0 0 0 0 0 0 0 0 0 0 0 0 0 0 0 0 0 0 0 0 0 0 0 0 0 0 0 0 0 0 0 0 0 0 0 0 0 0 0 0 0 0 0 0 0 0 0 0 0 0 0 0 0 0 0 0 0 0 0 0 0 0 0 0 0 0 0 0 0 0 0 0 0 0 0 0 0 0 0 0 0 0 0 0 0 0 0 0 0 0 0 0 0 0 0 0 0 0 0 0 0 0 0 0 0 0 0 0 0 0 0 0 0 0 0 0 0 0 0 0 0 0 0 0 0\n"
          ],
          "name": "stderr"
        },
        {
          "output_type": "stream",
          "text": [
            "INFO:tensorflow:label: [0 0 1] (id = [0, 0, 1])\n"
          ],
          "name": "stdout"
        },
        {
          "output_type": "stream",
          "text": [
            "INFO:tensorflow:label: [0 0 1] (id = [0, 0, 1])\n"
          ],
          "name": "stderr"
        },
        {
          "output_type": "stream",
          "text": [
            "INFO:tensorflow:Writing example 10000 of 102474\n"
          ],
          "name": "stdout"
        },
        {
          "output_type": "stream",
          "text": [
            "INFO:tensorflow:Writing example 10000 of 102474\n"
          ],
          "name": "stderr"
        },
        {
          "output_type": "stream",
          "text": [
            "INFO:tensorflow:Writing example 20000 of 102474\n"
          ],
          "name": "stdout"
        },
        {
          "output_type": "stream",
          "text": [
            "INFO:tensorflow:Writing example 20000 of 102474\n"
          ],
          "name": "stderr"
        },
        {
          "output_type": "stream",
          "text": [
            "INFO:tensorflow:Writing example 30000 of 102474\n"
          ],
          "name": "stdout"
        },
        {
          "output_type": "stream",
          "text": [
            "INFO:tensorflow:Writing example 30000 of 102474\n"
          ],
          "name": "stderr"
        },
        {
          "output_type": "stream",
          "text": [
            "INFO:tensorflow:Writing example 40000 of 102474\n"
          ],
          "name": "stdout"
        },
        {
          "output_type": "stream",
          "text": [
            "INFO:tensorflow:Writing example 40000 of 102474\n"
          ],
          "name": "stderr"
        },
        {
          "output_type": "stream",
          "text": [
            "INFO:tensorflow:Writing example 50000 of 102474\n"
          ],
          "name": "stdout"
        },
        {
          "output_type": "stream",
          "text": [
            "INFO:tensorflow:Writing example 50000 of 102474\n"
          ],
          "name": "stderr"
        },
        {
          "output_type": "stream",
          "text": [
            "INFO:tensorflow:Writing example 60000 of 102474\n"
          ],
          "name": "stdout"
        },
        {
          "output_type": "stream",
          "text": [
            "INFO:tensorflow:Writing example 60000 of 102474\n"
          ],
          "name": "stderr"
        },
        {
          "output_type": "stream",
          "text": [
            "INFO:tensorflow:Writing example 70000 of 102474\n"
          ],
          "name": "stdout"
        },
        {
          "output_type": "stream",
          "text": [
            "INFO:tensorflow:Writing example 70000 of 102474\n"
          ],
          "name": "stderr"
        },
        {
          "output_type": "stream",
          "text": [
            "INFO:tensorflow:Writing example 80000 of 102474\n"
          ],
          "name": "stdout"
        },
        {
          "output_type": "stream",
          "text": [
            "INFO:tensorflow:Writing example 80000 of 102474\n"
          ],
          "name": "stderr"
        },
        {
          "output_type": "stream",
          "text": [
            "INFO:tensorflow:Writing example 90000 of 102474\n"
          ],
          "name": "stdout"
        },
        {
          "output_type": "stream",
          "text": [
            "INFO:tensorflow:Writing example 90000 of 102474\n"
          ],
          "name": "stderr"
        },
        {
          "output_type": "stream",
          "text": [
            "INFO:tensorflow:Writing example 100000 of 102474\n"
          ],
          "name": "stdout"
        },
        {
          "output_type": "stream",
          "text": [
            "INFO:tensorflow:Writing example 100000 of 102474\n"
          ],
          "name": "stderr"
        },
        {
          "output_type": "stream",
          "text": [
            "INFO:tensorflow:Writing example 0 of 101804\n"
          ],
          "name": "stdout"
        },
        {
          "output_type": "stream",
          "text": [
            "INFO:tensorflow:Writing example 0 of 101804\n"
          ],
          "name": "stderr"
        },
        {
          "output_type": "stream",
          "text": [
            "INFO:tensorflow:*** Example ***\n"
          ],
          "name": "stdout"
        },
        {
          "output_type": "stream",
          "text": [
            "INFO:tensorflow:*** Example ***\n"
          ],
          "name": "stderr"
        },
        {
          "output_type": "stream",
          "text": [
            "INFO:tensorflow:guid: None\n"
          ],
          "name": "stdout"
        },
        {
          "output_type": "stream",
          "text": [
            "INFO:tensorflow:guid: None\n"
          ],
          "name": "stderr"
        },
        {
          "output_type": "stream",
          "text": [
            "INFO:tensorflow:tokens: [CLS] definitely can then your shit smells mint ##y sweet jesus have mercy i have the same thing but i don ##t see it as a problem and when jesus smells shitty sweet tooth ##pas ##te have mercy that has happened to me far too often good sir far too often may the force be with you young one mission accomplished assuming its not a true story in which case i am deeply sorry for the bad news yes i have multiple times especially when im riding my motor ##bi ##ke sometimes i close my eyes and speed up hoping to hit a wall or another vehicle to hit me first time seeing star wars it was a moment of victory don ##t take her ne ##gat ##ivity seriously and just focus on what you are meant to be learning in class the best way to get back at him her is by getting good grades i was bull ##ied by one of my teachers from the first day i walked to his class i hated him more than anything and i responded to it by not putting any effort into his subject and not talking to him after [SEP]\n"
          ],
          "name": "stdout"
        },
        {
          "output_type": "stream",
          "text": [
            "INFO:tensorflow:tokens: [CLS] definitely can then your shit smells mint ##y sweet jesus have mercy i have the same thing but i don ##t see it as a problem and when jesus smells shitty sweet tooth ##pas ##te have mercy that has happened to me far too often good sir far too often may the force be with you young one mission accomplished assuming its not a true story in which case i am deeply sorry for the bad news yes i have multiple times especially when im riding my motor ##bi ##ke sometimes i close my eyes and speed up hoping to hit a wall or another vehicle to hit me first time seeing star wars it was a moment of victory don ##t take her ne ##gat ##ivity seriously and just focus on what you are meant to be learning in class the best way to get back at him her is by getting good grades i was bull ##ied by one of my teachers from the first day i walked to his class i hated him more than anything and i responded to it by not putting any effort into his subject and not talking to him after [SEP]\n"
          ],
          "name": "stderr"
        },
        {
          "output_type": "stream",
          "text": [
            "INFO:tensorflow:input_ids: 101 5791 2064 2059 2115 4485 14747 12927 2100 4086 4441 2031 8673 1045 2031 1996 2168 2518 2021 1045 2123 2102 2156 2009 2004 1037 3291 1998 2043 4441 14747 28543 4086 11868 19707 2618 2031 8673 2008 2038 3047 2000 2033 2521 2205 2411 2204 2909 2521 2205 2411 2089 1996 2486 2022 2007 2017 2402 2028 3260 8885 10262 2049 2025 1037 2995 2466 1999 2029 2553 1045 2572 6171 3374 2005 1996 2919 2739 2748 1045 2031 3674 2335 2926 2043 10047 5559 2026 5013 5638 3489 2823 1045 2485 2026 2159 1998 3177 2039 5327 2000 2718 1037 2813 2030 2178 4316 2000 2718 2033 2034 2051 3773 2732 5233 2009 2001 1037 2617 1997 3377 2123 2102 2202 2014 11265 20697 7730 5667 1998 2074 3579 2006 2054 2017 2024 3214 2000 2022 4083 1999 2465 1996 2190 2126 2000 2131 2067 2012 2032 2014 2003 2011 2893 2204 7022 1045 2001 7087 6340 2011 2028 1997 2026 5089 2013 1996 2034 2154 1045 2939 2000 2010 2465 1045 6283 2032 2062 2084 2505 1998 1045 5838 2000 2009 2011 2025 5128 2151 3947 2046 2010 3395 1998 2025 3331 2000 2032 2044 102\n"
          ],
          "name": "stdout"
        },
        {
          "output_type": "stream",
          "text": [
            "INFO:tensorflow:input_ids: 101 5791 2064 2059 2115 4485 14747 12927 2100 4086 4441 2031 8673 1045 2031 1996 2168 2518 2021 1045 2123 2102 2156 2009 2004 1037 3291 1998 2043 4441 14747 28543 4086 11868 19707 2618 2031 8673 2008 2038 3047 2000 2033 2521 2205 2411 2204 2909 2521 2205 2411 2089 1996 2486 2022 2007 2017 2402 2028 3260 8885 10262 2049 2025 1037 2995 2466 1999 2029 2553 1045 2572 6171 3374 2005 1996 2919 2739 2748 1045 2031 3674 2335 2926 2043 10047 5559 2026 5013 5638 3489 2823 1045 2485 2026 2159 1998 3177 2039 5327 2000 2718 1037 2813 2030 2178 4316 2000 2718 2033 2034 2051 3773 2732 5233 2009 2001 1037 2617 1997 3377 2123 2102 2202 2014 11265 20697 7730 5667 1998 2074 3579 2006 2054 2017 2024 3214 2000 2022 4083 1999 2465 1996 2190 2126 2000 2131 2067 2012 2032 2014 2003 2011 2893 2204 7022 1045 2001 7087 6340 2011 2028 1997 2026 5089 2013 1996 2034 2154 1045 2939 2000 2010 2465 1045 6283 2032 2062 2084 2505 1998 1045 5838 2000 2009 2011 2025 5128 2151 3947 2046 2010 3395 1998 2025 3331 2000 2032 2044 102\n"
          ],
          "name": "stderr"
        },
        {
          "output_type": "stream",
          "text": [
            "INFO:tensorflow:input_mask: 1 1 1 1 1 1 1 1 1 1 1 1 1 1 1 1 1 1 1 1 1 1 1 1 1 1 1 1 1 1 1 1 1 1 1 1 1 1 1 1 1 1 1 1 1 1 1 1 1 1 1 1 1 1 1 1 1 1 1 1 1 1 1 1 1 1 1 1 1 1 1 1 1 1 1 1 1 1 1 1 1 1 1 1 1 1 1 1 1 1 1 1 1 1 1 1 1 1 1 1 1 1 1 1 1 1 1 1 1 1 1 1 1 1 1 1 1 1 1 1 1 1 1 1 1 1 1 1 1 1 1 1 1 1 1 1 1 1 1 1 1 1 1 1 1 1 1 1 1 1 1 1 1 1 1 1 1 1 1 1 1 1 1 1 1 1 1 1 1 1 1 1 1 1 1 1 1 1 1 1 1 1 1 1 1 1 1 1 1 1 1 1 1 1 1 1 1 1 1 1\n"
          ],
          "name": "stdout"
        },
        {
          "output_type": "stream",
          "text": [
            "INFO:tensorflow:input_mask: 1 1 1 1 1 1 1 1 1 1 1 1 1 1 1 1 1 1 1 1 1 1 1 1 1 1 1 1 1 1 1 1 1 1 1 1 1 1 1 1 1 1 1 1 1 1 1 1 1 1 1 1 1 1 1 1 1 1 1 1 1 1 1 1 1 1 1 1 1 1 1 1 1 1 1 1 1 1 1 1 1 1 1 1 1 1 1 1 1 1 1 1 1 1 1 1 1 1 1 1 1 1 1 1 1 1 1 1 1 1 1 1 1 1 1 1 1 1 1 1 1 1 1 1 1 1 1 1 1 1 1 1 1 1 1 1 1 1 1 1 1 1 1 1 1 1 1 1 1 1 1 1 1 1 1 1 1 1 1 1 1 1 1 1 1 1 1 1 1 1 1 1 1 1 1 1 1 1 1 1 1 1 1 1 1 1 1 1 1 1 1 1 1 1 1 1 1 1 1 1\n"
          ],
          "name": "stderr"
        },
        {
          "output_type": "stream",
          "text": [
            "INFO:tensorflow:segment_ids: 0 0 0 0 0 0 0 0 0 0 0 0 0 0 0 0 0 0 0 0 0 0 0 0 0 0 0 0 0 0 0 0 0 0 0 0 0 0 0 0 0 0 0 0 0 0 0 0 0 0 0 0 0 0 0 0 0 0 0 0 0 0 0 0 0 0 0 0 0 0 0 0 0 0 0 0 0 0 0 0 0 0 0 0 0 0 0 0 0 0 0 0 0 0 0 0 0 0 0 0 0 0 0 0 0 0 0 0 0 0 0 0 0 0 0 0 0 0 0 0 0 0 0 0 0 0 0 0 0 0 0 0 0 0 0 0 0 0 0 0 0 0 0 0 0 0 0 0 0 0 0 0 0 0 0 0 0 0 0 0 0 0 0 0 0 0 0 0 0 0 0 0 0 0 0 0 0 0 0 0 0 0 0 0 0 0 0 0 0 0 0 0 0 0 0 0 0 0 0 0\n"
          ],
          "name": "stdout"
        },
        {
          "output_type": "stream",
          "text": [
            "INFO:tensorflow:segment_ids: 0 0 0 0 0 0 0 0 0 0 0 0 0 0 0 0 0 0 0 0 0 0 0 0 0 0 0 0 0 0 0 0 0 0 0 0 0 0 0 0 0 0 0 0 0 0 0 0 0 0 0 0 0 0 0 0 0 0 0 0 0 0 0 0 0 0 0 0 0 0 0 0 0 0 0 0 0 0 0 0 0 0 0 0 0 0 0 0 0 0 0 0 0 0 0 0 0 0 0 0 0 0 0 0 0 0 0 0 0 0 0 0 0 0 0 0 0 0 0 0 0 0 0 0 0 0 0 0 0 0 0 0 0 0 0 0 0 0 0 0 0 0 0 0 0 0 0 0 0 0 0 0 0 0 0 0 0 0 0 0 0 0 0 0 0 0 0 0 0 0 0 0 0 0 0 0 0 0 0 0 0 0 0 0 0 0 0 0 0 0 0 0 0 0 0 0 0 0 0 0\n"
          ],
          "name": "stderr"
        },
        {
          "output_type": "stream",
          "text": [
            "INFO:tensorflow:label: [0 1 0] (id = [0, 1, 0])\n"
          ],
          "name": "stdout"
        },
        {
          "output_type": "stream",
          "text": [
            "INFO:tensorflow:label: [0 1 0] (id = [0, 1, 0])\n"
          ],
          "name": "stderr"
        },
        {
          "output_type": "stream",
          "text": [
            "INFO:tensorflow:*** Example ***\n"
          ],
          "name": "stdout"
        },
        {
          "output_type": "stream",
          "text": [
            "INFO:tensorflow:*** Example ***\n"
          ],
          "name": "stderr"
        },
        {
          "output_type": "stream",
          "text": [
            "INFO:tensorflow:guid: None\n"
          ],
          "name": "stdout"
        },
        {
          "output_type": "stream",
          "text": [
            "INFO:tensorflow:guid: None\n"
          ],
          "name": "stderr"
        },
        {
          "output_type": "stream",
          "text": [
            "INFO:tensorflow:tokens: [CLS] one of my teachers from the first day i walked to his class i hated him more than anything and i responded to it by not putting any effort into his subject and not talking to him after a while i calmed down a bit and realized he was just joking around and now every time he bull ##ies me i just smile nod and do a better job at getting good grades f ##7 ##u ##12 let me think yep red ##dit the i see all the cool kids do it but im too much of a pussy to do it game that is a question you have to ask to yourself or the taste of a japanese giant ultra ##man cosmos did any of you ever watch that growing up good to know im not the only one i don ##t care what others say the scary face guy can never be over used cracks me up every time d i get these random mood swings that take me to a massive low and when the mood swings happen it feels like im not me anymore like something else takes over iv ##e managed to limit [SEP]\n"
          ],
          "name": "stdout"
        },
        {
          "output_type": "stream",
          "text": [
            "INFO:tensorflow:tokens: [CLS] one of my teachers from the first day i walked to his class i hated him more than anything and i responded to it by not putting any effort into his subject and not talking to him after a while i calmed down a bit and realized he was just joking around and now every time he bull ##ies me i just smile nod and do a better job at getting good grades f ##7 ##u ##12 let me think yep red ##dit the i see all the cool kids do it but im too much of a pussy to do it game that is a question you have to ask to yourself or the taste of a japanese giant ultra ##man cosmos did any of you ever watch that growing up good to know im not the only one i don ##t care what others say the scary face guy can never be over used cracks me up every time d i get these random mood swings that take me to a massive low and when the mood swings happen it feels like im not me anymore like something else takes over iv ##e managed to limit [SEP]\n"
          ],
          "name": "stderr"
        },
        {
          "output_type": "stream",
          "text": [
            "INFO:tensorflow:input_ids: 101 2028 1997 2026 5089 2013 1996 2034 2154 1045 2939 2000 2010 2465 1045 6283 2032 2062 2084 2505 1998 1045 5838 2000 2009 2011 2025 5128 2151 3947 2046 2010 3395 1998 2025 3331 2000 2032 2044 1037 2096 1045 20869 2091 1037 2978 1998 3651 2002 2001 2074 16644 2105 1998 2085 2296 2051 2002 7087 3111 2033 1045 2074 2868 7293 1998 2079 1037 2488 3105 2012 2893 2204 7022 1042 2581 2226 12521 2292 2033 2228 15624 2417 23194 1996 1045 2156 2035 1996 4658 4268 2079 2009 2021 10047 2205 2172 1997 1037 22418 2000 2079 2009 2208 2008 2003 1037 3160 2017 2031 2000 3198 2000 4426 2030 1996 5510 1997 1037 2887 5016 11087 2386 21182 2106 2151 1997 2017 2412 3422 2008 3652 2039 2204 2000 2113 10047 2025 1996 2069 2028 1045 2123 2102 2729 2054 2500 2360 1996 12459 2227 3124 2064 2196 2022 2058 2109 15288 2033 2039 2296 2051 1040 1045 2131 2122 6721 6888 18755 2008 2202 2033 2000 1037 5294 2659 1998 2043 1996 6888 18755 4148 2009 5683 2066 10047 2025 2033 4902 2066 2242 2842 3138 2058 4921 2063 3266 2000 5787 102\n"
          ],
          "name": "stdout"
        },
        {
          "output_type": "stream",
          "text": [
            "INFO:tensorflow:input_ids: 101 2028 1997 2026 5089 2013 1996 2034 2154 1045 2939 2000 2010 2465 1045 6283 2032 2062 2084 2505 1998 1045 5838 2000 2009 2011 2025 5128 2151 3947 2046 2010 3395 1998 2025 3331 2000 2032 2044 1037 2096 1045 20869 2091 1037 2978 1998 3651 2002 2001 2074 16644 2105 1998 2085 2296 2051 2002 7087 3111 2033 1045 2074 2868 7293 1998 2079 1037 2488 3105 2012 2893 2204 7022 1042 2581 2226 12521 2292 2033 2228 15624 2417 23194 1996 1045 2156 2035 1996 4658 4268 2079 2009 2021 10047 2205 2172 1997 1037 22418 2000 2079 2009 2208 2008 2003 1037 3160 2017 2031 2000 3198 2000 4426 2030 1996 5510 1997 1037 2887 5016 11087 2386 21182 2106 2151 1997 2017 2412 3422 2008 3652 2039 2204 2000 2113 10047 2025 1996 2069 2028 1045 2123 2102 2729 2054 2500 2360 1996 12459 2227 3124 2064 2196 2022 2058 2109 15288 2033 2039 2296 2051 1040 1045 2131 2122 6721 6888 18755 2008 2202 2033 2000 1037 5294 2659 1998 2043 1996 6888 18755 4148 2009 5683 2066 10047 2025 2033 4902 2066 2242 2842 3138 2058 4921 2063 3266 2000 5787 102\n"
          ],
          "name": "stderr"
        },
        {
          "output_type": "stream",
          "text": [
            "INFO:tensorflow:input_mask: 1 1 1 1 1 1 1 1 1 1 1 1 1 1 1 1 1 1 1 1 1 1 1 1 1 1 1 1 1 1 1 1 1 1 1 1 1 1 1 1 1 1 1 1 1 1 1 1 1 1 1 1 1 1 1 1 1 1 1 1 1 1 1 1 1 1 1 1 1 1 1 1 1 1 1 1 1 1 1 1 1 1 1 1 1 1 1 1 1 1 1 1 1 1 1 1 1 1 1 1 1 1 1 1 1 1 1 1 1 1 1 1 1 1 1 1 1 1 1 1 1 1 1 1 1 1 1 1 1 1 1 1 1 1 1 1 1 1 1 1 1 1 1 1 1 1 1 1 1 1 1 1 1 1 1 1 1 1 1 1 1 1 1 1 1 1 1 1 1 1 1 1 1 1 1 1 1 1 1 1 1 1 1 1 1 1 1 1 1 1 1 1 1 1 1 1 1 1 1 1\n"
          ],
          "name": "stdout"
        },
        {
          "output_type": "stream",
          "text": [
            "INFO:tensorflow:input_mask: 1 1 1 1 1 1 1 1 1 1 1 1 1 1 1 1 1 1 1 1 1 1 1 1 1 1 1 1 1 1 1 1 1 1 1 1 1 1 1 1 1 1 1 1 1 1 1 1 1 1 1 1 1 1 1 1 1 1 1 1 1 1 1 1 1 1 1 1 1 1 1 1 1 1 1 1 1 1 1 1 1 1 1 1 1 1 1 1 1 1 1 1 1 1 1 1 1 1 1 1 1 1 1 1 1 1 1 1 1 1 1 1 1 1 1 1 1 1 1 1 1 1 1 1 1 1 1 1 1 1 1 1 1 1 1 1 1 1 1 1 1 1 1 1 1 1 1 1 1 1 1 1 1 1 1 1 1 1 1 1 1 1 1 1 1 1 1 1 1 1 1 1 1 1 1 1 1 1 1 1 1 1 1 1 1 1 1 1 1 1 1 1 1 1 1 1 1 1 1 1\n"
          ],
          "name": "stderr"
        },
        {
          "output_type": "stream",
          "text": [
            "INFO:tensorflow:segment_ids: 0 0 0 0 0 0 0 0 0 0 0 0 0 0 0 0 0 0 0 0 0 0 0 0 0 0 0 0 0 0 0 0 0 0 0 0 0 0 0 0 0 0 0 0 0 0 0 0 0 0 0 0 0 0 0 0 0 0 0 0 0 0 0 0 0 0 0 0 0 0 0 0 0 0 0 0 0 0 0 0 0 0 0 0 0 0 0 0 0 0 0 0 0 0 0 0 0 0 0 0 0 0 0 0 0 0 0 0 0 0 0 0 0 0 0 0 0 0 0 0 0 0 0 0 0 0 0 0 0 0 0 0 0 0 0 0 0 0 0 0 0 0 0 0 0 0 0 0 0 0 0 0 0 0 0 0 0 0 0 0 0 0 0 0 0 0 0 0 0 0 0 0 0 0 0 0 0 0 0 0 0 0 0 0 0 0 0 0 0 0 0 0 0 0 0 0 0 0 0 0\n"
          ],
          "name": "stdout"
        },
        {
          "output_type": "stream",
          "text": [
            "INFO:tensorflow:segment_ids: 0 0 0 0 0 0 0 0 0 0 0 0 0 0 0 0 0 0 0 0 0 0 0 0 0 0 0 0 0 0 0 0 0 0 0 0 0 0 0 0 0 0 0 0 0 0 0 0 0 0 0 0 0 0 0 0 0 0 0 0 0 0 0 0 0 0 0 0 0 0 0 0 0 0 0 0 0 0 0 0 0 0 0 0 0 0 0 0 0 0 0 0 0 0 0 0 0 0 0 0 0 0 0 0 0 0 0 0 0 0 0 0 0 0 0 0 0 0 0 0 0 0 0 0 0 0 0 0 0 0 0 0 0 0 0 0 0 0 0 0 0 0 0 0 0 0 0 0 0 0 0 0 0 0 0 0 0 0 0 0 0 0 0 0 0 0 0 0 0 0 0 0 0 0 0 0 0 0 0 0 0 0 0 0 0 0 0 0 0 0 0 0 0 0 0 0 0 0 0 0\n"
          ],
          "name": "stderr"
        },
        {
          "output_type": "stream",
          "text": [
            "INFO:tensorflow:label: [0 1 0] (id = [0, 1, 0])\n"
          ],
          "name": "stdout"
        },
        {
          "output_type": "stream",
          "text": [
            "INFO:tensorflow:label: [0 1 0] (id = [0, 1, 0])\n"
          ],
          "name": "stderr"
        },
        {
          "output_type": "stream",
          "text": [
            "INFO:tensorflow:*** Example ***\n"
          ],
          "name": "stdout"
        },
        {
          "output_type": "stream",
          "text": [
            "INFO:tensorflow:*** Example ***\n"
          ],
          "name": "stderr"
        },
        {
          "output_type": "stream",
          "text": [
            "INFO:tensorflow:guid: None\n"
          ],
          "name": "stdout"
        },
        {
          "output_type": "stream",
          "text": [
            "INFO:tensorflow:guid: None\n"
          ],
          "name": "stderr"
        },
        {
          "output_type": "stream",
          "text": [
            "INFO:tensorflow:tokens: [CLS] me up every time d i get these random mood swings that take me to a massive low and when the mood swings happen it feels like im not me anymore like something else takes over iv ##e managed to limit what i do in these swings by cutting myself for some reason it gives me a eu ##ph ##oric feeling like a natural high that calm ##s me down and stops me from doing anything worse what ##s pink silver and is running towards a corner of the wall a baby with forks in its eyes what ##s green and silver and is sitting in the corner same baby 6 months later what do you do when you see a dead baby on the ground stop laughing and re ##load i don ##t know im still trying to work it out with the school counsel ##lor but cutting has been a part of me since i was a kid that it doesn ##t really bother me if anything i kinda enjoy it and its a quick way of bringing myself back to a normal state in case my mood swing happens in public holy crap i sha [SEP]\n"
          ],
          "name": "stdout"
        },
        {
          "output_type": "stream",
          "text": [
            "INFO:tensorflow:tokens: [CLS] me up every time d i get these random mood swings that take me to a massive low and when the mood swings happen it feels like im not me anymore like something else takes over iv ##e managed to limit what i do in these swings by cutting myself for some reason it gives me a eu ##ph ##oric feeling like a natural high that calm ##s me down and stops me from doing anything worse what ##s pink silver and is running towards a corner of the wall a baby with forks in its eyes what ##s green and silver and is sitting in the corner same baby 6 months later what do you do when you see a dead baby on the ground stop laughing and re ##load i don ##t know im still trying to work it out with the school counsel ##lor but cutting has been a part of me since i was a kid that it doesn ##t really bother me if anything i kinda enjoy it and its a quick way of bringing myself back to a normal state in case my mood swing happens in public holy crap i sha [SEP]\n"
          ],
          "name": "stderr"
        },
        {
          "output_type": "stream",
          "text": [
            "INFO:tensorflow:input_ids: 101 2033 2039 2296 2051 1040 1045 2131 2122 6721 6888 18755 2008 2202 2033 2000 1037 5294 2659 1998 2043 1996 6888 18755 4148 2009 5683 2066 10047 2025 2033 4902 2066 2242 2842 3138 2058 4921 2063 3266 2000 5787 2054 1045 2079 1999 2122 18755 2011 6276 2870 2005 2070 3114 2009 3957 2033 1037 7327 8458 29180 3110 2066 1037 3019 2152 2008 5475 2015 2033 2091 1998 6762 2033 2013 2725 2505 4788 2054 2015 5061 3165 1998 2003 2770 2875 1037 3420 1997 1996 2813 1037 3336 2007 19896 1999 2049 2159 2054 2015 2665 1998 3165 1998 2003 3564 1999 1996 3420 2168 3336 1020 2706 2101 2054 2079 2017 2079 2043 2017 2156 1037 2757 3336 2006 1996 2598 2644 5870 1998 2128 11066 1045 2123 2102 2113 10047 2145 2667 2000 2147 2009 2041 2007 1996 2082 9517 10626 2021 6276 2038 2042 1037 2112 1997 2033 2144 1045 2001 1037 4845 2008 2009 2987 2102 2428 8572 2033 2065 2505 1045 17704 5959 2009 1998 2049 1037 4248 2126 1997 5026 2870 2067 2000 1037 3671 2110 1999 2553 2026 6888 7370 6433 1999 2270 4151 10231 1045 21146 102\n"
          ],
          "name": "stdout"
        },
        {
          "output_type": "stream",
          "text": [
            "INFO:tensorflow:input_ids: 101 2033 2039 2296 2051 1040 1045 2131 2122 6721 6888 18755 2008 2202 2033 2000 1037 5294 2659 1998 2043 1996 6888 18755 4148 2009 5683 2066 10047 2025 2033 4902 2066 2242 2842 3138 2058 4921 2063 3266 2000 5787 2054 1045 2079 1999 2122 18755 2011 6276 2870 2005 2070 3114 2009 3957 2033 1037 7327 8458 29180 3110 2066 1037 3019 2152 2008 5475 2015 2033 2091 1998 6762 2033 2013 2725 2505 4788 2054 2015 5061 3165 1998 2003 2770 2875 1037 3420 1997 1996 2813 1037 3336 2007 19896 1999 2049 2159 2054 2015 2665 1998 3165 1998 2003 3564 1999 1996 3420 2168 3336 1020 2706 2101 2054 2079 2017 2079 2043 2017 2156 1037 2757 3336 2006 1996 2598 2644 5870 1998 2128 11066 1045 2123 2102 2113 10047 2145 2667 2000 2147 2009 2041 2007 1996 2082 9517 10626 2021 6276 2038 2042 1037 2112 1997 2033 2144 1045 2001 1037 4845 2008 2009 2987 2102 2428 8572 2033 2065 2505 1045 17704 5959 2009 1998 2049 1037 4248 2126 1997 5026 2870 2067 2000 1037 3671 2110 1999 2553 2026 6888 7370 6433 1999 2270 4151 10231 1045 21146 102\n"
          ],
          "name": "stderr"
        },
        {
          "output_type": "stream",
          "text": [
            "INFO:tensorflow:input_mask: 1 1 1 1 1 1 1 1 1 1 1 1 1 1 1 1 1 1 1 1 1 1 1 1 1 1 1 1 1 1 1 1 1 1 1 1 1 1 1 1 1 1 1 1 1 1 1 1 1 1 1 1 1 1 1 1 1 1 1 1 1 1 1 1 1 1 1 1 1 1 1 1 1 1 1 1 1 1 1 1 1 1 1 1 1 1 1 1 1 1 1 1 1 1 1 1 1 1 1 1 1 1 1 1 1 1 1 1 1 1 1 1 1 1 1 1 1 1 1 1 1 1 1 1 1 1 1 1 1 1 1 1 1 1 1 1 1 1 1 1 1 1 1 1 1 1 1 1 1 1 1 1 1 1 1 1 1 1 1 1 1 1 1 1 1 1 1 1 1 1 1 1 1 1 1 1 1 1 1 1 1 1 1 1 1 1 1 1 1 1 1 1 1 1 1 1 1 1 1 1\n"
          ],
          "name": "stdout"
        },
        {
          "output_type": "stream",
          "text": [
            "INFO:tensorflow:input_mask: 1 1 1 1 1 1 1 1 1 1 1 1 1 1 1 1 1 1 1 1 1 1 1 1 1 1 1 1 1 1 1 1 1 1 1 1 1 1 1 1 1 1 1 1 1 1 1 1 1 1 1 1 1 1 1 1 1 1 1 1 1 1 1 1 1 1 1 1 1 1 1 1 1 1 1 1 1 1 1 1 1 1 1 1 1 1 1 1 1 1 1 1 1 1 1 1 1 1 1 1 1 1 1 1 1 1 1 1 1 1 1 1 1 1 1 1 1 1 1 1 1 1 1 1 1 1 1 1 1 1 1 1 1 1 1 1 1 1 1 1 1 1 1 1 1 1 1 1 1 1 1 1 1 1 1 1 1 1 1 1 1 1 1 1 1 1 1 1 1 1 1 1 1 1 1 1 1 1 1 1 1 1 1 1 1 1 1 1 1 1 1 1 1 1 1 1 1 1 1 1\n"
          ],
          "name": "stderr"
        },
        {
          "output_type": "stream",
          "text": [
            "INFO:tensorflow:segment_ids: 0 0 0 0 0 0 0 0 0 0 0 0 0 0 0 0 0 0 0 0 0 0 0 0 0 0 0 0 0 0 0 0 0 0 0 0 0 0 0 0 0 0 0 0 0 0 0 0 0 0 0 0 0 0 0 0 0 0 0 0 0 0 0 0 0 0 0 0 0 0 0 0 0 0 0 0 0 0 0 0 0 0 0 0 0 0 0 0 0 0 0 0 0 0 0 0 0 0 0 0 0 0 0 0 0 0 0 0 0 0 0 0 0 0 0 0 0 0 0 0 0 0 0 0 0 0 0 0 0 0 0 0 0 0 0 0 0 0 0 0 0 0 0 0 0 0 0 0 0 0 0 0 0 0 0 0 0 0 0 0 0 0 0 0 0 0 0 0 0 0 0 0 0 0 0 0 0 0 0 0 0 0 0 0 0 0 0 0 0 0 0 0 0 0 0 0 0 0 0 0\n"
          ],
          "name": "stdout"
        },
        {
          "output_type": "stream",
          "text": [
            "INFO:tensorflow:segment_ids: 0 0 0 0 0 0 0 0 0 0 0 0 0 0 0 0 0 0 0 0 0 0 0 0 0 0 0 0 0 0 0 0 0 0 0 0 0 0 0 0 0 0 0 0 0 0 0 0 0 0 0 0 0 0 0 0 0 0 0 0 0 0 0 0 0 0 0 0 0 0 0 0 0 0 0 0 0 0 0 0 0 0 0 0 0 0 0 0 0 0 0 0 0 0 0 0 0 0 0 0 0 0 0 0 0 0 0 0 0 0 0 0 0 0 0 0 0 0 0 0 0 0 0 0 0 0 0 0 0 0 0 0 0 0 0 0 0 0 0 0 0 0 0 0 0 0 0 0 0 0 0 0 0 0 0 0 0 0 0 0 0 0 0 0 0 0 0 0 0 0 0 0 0 0 0 0 0 0 0 0 0 0 0 0 0 0 0 0 0 0 0 0 0 0 0 0 0 0 0 0\n"
          ],
          "name": "stderr"
        },
        {
          "output_type": "stream",
          "text": [
            "INFO:tensorflow:label: [0 1 0] (id = [0, 1, 0])\n"
          ],
          "name": "stdout"
        },
        {
          "output_type": "stream",
          "text": [
            "INFO:tensorflow:label: [0 1 0] (id = [0, 1, 0])\n"
          ],
          "name": "stderr"
        },
        {
          "output_type": "stream",
          "text": [
            "INFO:tensorflow:*** Example ***\n"
          ],
          "name": "stdout"
        },
        {
          "output_type": "stream",
          "text": [
            "INFO:tensorflow:*** Example ***\n"
          ],
          "name": "stderr"
        },
        {
          "output_type": "stream",
          "text": [
            "INFO:tensorflow:guid: None\n"
          ],
          "name": "stdout"
        },
        {
          "output_type": "stream",
          "text": [
            "INFO:tensorflow:guid: None\n"
          ],
          "name": "stderr"
        },
        {
          "output_type": "stream",
          "text": [
            "INFO:tensorflow:tokens: [CLS] kid that it doesn ##t really bother me if anything i kinda enjoy it and its a quick way of bringing myself back to a normal state in case my mood swing happens in public holy crap i sha ##t myself laughing when i saw the fa ##p that shit face i am the 66 ##6th person to up ##vot ##e this all hail my name for my name is satan oh and im baked as shit sometimes i wake up in a really bad mood and keep going down throughout the day without a reason but usually when something gets me angry i don ##t stop getting angry until i cut myself bt ##w i really appreciate you asking continuously it makes me feel better to know that someone cares im not taking med ##s and i don ##t think i want to it ##ll make me feel less normal than what i already feel i don ##t think i would still cut myself if i didn ##t get mood swings the problem is i don ##t know how to get rid of the mood swings it all started when my parents split up and my dad [SEP]\n"
          ],
          "name": "stdout"
        },
        {
          "output_type": "stream",
          "text": [
            "INFO:tensorflow:tokens: [CLS] kid that it doesn ##t really bother me if anything i kinda enjoy it and its a quick way of bringing myself back to a normal state in case my mood swing happens in public holy crap i sha ##t myself laughing when i saw the fa ##p that shit face i am the 66 ##6th person to up ##vot ##e this all hail my name for my name is satan oh and im baked as shit sometimes i wake up in a really bad mood and keep going down throughout the day without a reason but usually when something gets me angry i don ##t stop getting angry until i cut myself bt ##w i really appreciate you asking continuously it makes me feel better to know that someone cares im not taking med ##s and i don ##t think i want to it ##ll make me feel less normal than what i already feel i don ##t think i would still cut myself if i didn ##t get mood swings the problem is i don ##t know how to get rid of the mood swings it all started when my parents split up and my dad [SEP]\n"
          ],
          "name": "stderr"
        },
        {
          "output_type": "stream",
          "text": [
            "INFO:tensorflow:input_ids: 101 4845 2008 2009 2987 2102 2428 8572 2033 2065 2505 1045 17704 5959 2009 1998 2049 1037 4248 2126 1997 5026 2870 2067 2000 1037 3671 2110 1999 2553 2026 6888 7370 6433 1999 2270 4151 10231 1045 21146 2102 2870 5870 2043 1045 2387 1996 6904 2361 2008 4485 2227 1045 2572 1996 5764 25994 2711 2000 2039 22994 2063 2023 2035 16889 2026 2171 2005 2026 2171 2003 16795 2821 1998 10047 17776 2004 4485 2823 1045 5256 2039 1999 1037 2428 2919 6888 1998 2562 2183 2091 2802 1996 2154 2302 1037 3114 2021 2788 2043 2242 4152 2033 4854 1045 2123 2102 2644 2893 4854 2127 1045 3013 2870 18411 2860 1045 2428 9120 2017 4851 10843 2009 3084 2033 2514 2488 2000 2113 2008 2619 14977 10047 2025 2635 19960 2015 1998 1045 2123 2102 2228 1045 2215 2000 2009 3363 2191 2033 2514 2625 3671 2084 2054 1045 2525 2514 1045 2123 2102 2228 1045 2052 2145 3013 2870 2065 1045 2134 2102 2131 6888 18755 1996 3291 2003 1045 2123 2102 2113 2129 2000 2131 9436 1997 1996 6888 18755 2009 2035 2318 2043 2026 3008 3975 2039 1998 2026 3611 102\n"
          ],
          "name": "stdout"
        },
        {
          "output_type": "stream",
          "text": [
            "INFO:tensorflow:input_ids: 101 4845 2008 2009 2987 2102 2428 8572 2033 2065 2505 1045 17704 5959 2009 1998 2049 1037 4248 2126 1997 5026 2870 2067 2000 1037 3671 2110 1999 2553 2026 6888 7370 6433 1999 2270 4151 10231 1045 21146 2102 2870 5870 2043 1045 2387 1996 6904 2361 2008 4485 2227 1045 2572 1996 5764 25994 2711 2000 2039 22994 2063 2023 2035 16889 2026 2171 2005 2026 2171 2003 16795 2821 1998 10047 17776 2004 4485 2823 1045 5256 2039 1999 1037 2428 2919 6888 1998 2562 2183 2091 2802 1996 2154 2302 1037 3114 2021 2788 2043 2242 4152 2033 4854 1045 2123 2102 2644 2893 4854 2127 1045 3013 2870 18411 2860 1045 2428 9120 2017 4851 10843 2009 3084 2033 2514 2488 2000 2113 2008 2619 14977 10047 2025 2635 19960 2015 1998 1045 2123 2102 2228 1045 2215 2000 2009 3363 2191 2033 2514 2625 3671 2084 2054 1045 2525 2514 1045 2123 2102 2228 1045 2052 2145 3013 2870 2065 1045 2134 2102 2131 6888 18755 1996 3291 2003 1045 2123 2102 2113 2129 2000 2131 9436 1997 1996 6888 18755 2009 2035 2318 2043 2026 3008 3975 2039 1998 2026 3611 102\n"
          ],
          "name": "stderr"
        },
        {
          "output_type": "stream",
          "text": [
            "INFO:tensorflow:input_mask: 1 1 1 1 1 1 1 1 1 1 1 1 1 1 1 1 1 1 1 1 1 1 1 1 1 1 1 1 1 1 1 1 1 1 1 1 1 1 1 1 1 1 1 1 1 1 1 1 1 1 1 1 1 1 1 1 1 1 1 1 1 1 1 1 1 1 1 1 1 1 1 1 1 1 1 1 1 1 1 1 1 1 1 1 1 1 1 1 1 1 1 1 1 1 1 1 1 1 1 1 1 1 1 1 1 1 1 1 1 1 1 1 1 1 1 1 1 1 1 1 1 1 1 1 1 1 1 1 1 1 1 1 1 1 1 1 1 1 1 1 1 1 1 1 1 1 1 1 1 1 1 1 1 1 1 1 1 1 1 1 1 1 1 1 1 1 1 1 1 1 1 1 1 1 1 1 1 1 1 1 1 1 1 1 1 1 1 1 1 1 1 1 1 1 1 1 1 1 1 1\n"
          ],
          "name": "stdout"
        },
        {
          "output_type": "stream",
          "text": [
            "INFO:tensorflow:input_mask: 1 1 1 1 1 1 1 1 1 1 1 1 1 1 1 1 1 1 1 1 1 1 1 1 1 1 1 1 1 1 1 1 1 1 1 1 1 1 1 1 1 1 1 1 1 1 1 1 1 1 1 1 1 1 1 1 1 1 1 1 1 1 1 1 1 1 1 1 1 1 1 1 1 1 1 1 1 1 1 1 1 1 1 1 1 1 1 1 1 1 1 1 1 1 1 1 1 1 1 1 1 1 1 1 1 1 1 1 1 1 1 1 1 1 1 1 1 1 1 1 1 1 1 1 1 1 1 1 1 1 1 1 1 1 1 1 1 1 1 1 1 1 1 1 1 1 1 1 1 1 1 1 1 1 1 1 1 1 1 1 1 1 1 1 1 1 1 1 1 1 1 1 1 1 1 1 1 1 1 1 1 1 1 1 1 1 1 1 1 1 1 1 1 1 1 1 1 1 1 1\n"
          ],
          "name": "stderr"
        },
        {
          "output_type": "stream",
          "text": [
            "INFO:tensorflow:segment_ids: 0 0 0 0 0 0 0 0 0 0 0 0 0 0 0 0 0 0 0 0 0 0 0 0 0 0 0 0 0 0 0 0 0 0 0 0 0 0 0 0 0 0 0 0 0 0 0 0 0 0 0 0 0 0 0 0 0 0 0 0 0 0 0 0 0 0 0 0 0 0 0 0 0 0 0 0 0 0 0 0 0 0 0 0 0 0 0 0 0 0 0 0 0 0 0 0 0 0 0 0 0 0 0 0 0 0 0 0 0 0 0 0 0 0 0 0 0 0 0 0 0 0 0 0 0 0 0 0 0 0 0 0 0 0 0 0 0 0 0 0 0 0 0 0 0 0 0 0 0 0 0 0 0 0 0 0 0 0 0 0 0 0 0 0 0 0 0 0 0 0 0 0 0 0 0 0 0 0 0 0 0 0 0 0 0 0 0 0 0 0 0 0 0 0 0 0 0 0 0 0\n"
          ],
          "name": "stdout"
        },
        {
          "output_type": "stream",
          "text": [
            "INFO:tensorflow:segment_ids: 0 0 0 0 0 0 0 0 0 0 0 0 0 0 0 0 0 0 0 0 0 0 0 0 0 0 0 0 0 0 0 0 0 0 0 0 0 0 0 0 0 0 0 0 0 0 0 0 0 0 0 0 0 0 0 0 0 0 0 0 0 0 0 0 0 0 0 0 0 0 0 0 0 0 0 0 0 0 0 0 0 0 0 0 0 0 0 0 0 0 0 0 0 0 0 0 0 0 0 0 0 0 0 0 0 0 0 0 0 0 0 0 0 0 0 0 0 0 0 0 0 0 0 0 0 0 0 0 0 0 0 0 0 0 0 0 0 0 0 0 0 0 0 0 0 0 0 0 0 0 0 0 0 0 0 0 0 0 0 0 0 0 0 0 0 0 0 0 0 0 0 0 0 0 0 0 0 0 0 0 0 0 0 0 0 0 0 0 0 0 0 0 0 0 0 0 0 0 0 0\n"
          ],
          "name": "stderr"
        },
        {
          "output_type": "stream",
          "text": [
            "INFO:tensorflow:label: [0 1 0] (id = [0, 1, 0])\n"
          ],
          "name": "stdout"
        },
        {
          "output_type": "stream",
          "text": [
            "INFO:tensorflow:label: [0 1 0] (id = [0, 1, 0])\n"
          ],
          "name": "stderr"
        },
        {
          "output_type": "stream",
          "text": [
            "INFO:tensorflow:*** Example ***\n"
          ],
          "name": "stdout"
        },
        {
          "output_type": "stream",
          "text": [
            "INFO:tensorflow:*** Example ***\n"
          ],
          "name": "stderr"
        },
        {
          "output_type": "stream",
          "text": [
            "INFO:tensorflow:guid: None\n"
          ],
          "name": "stdout"
        },
        {
          "output_type": "stream",
          "text": [
            "INFO:tensorflow:guid: None\n"
          ],
          "name": "stderr"
        },
        {
          "output_type": "stream",
          "text": [
            "INFO:tensorflow:tokens: [CLS] still cut myself if i didn ##t get mood swings the problem is i don ##t know how to get rid of the mood swings it all started when my parents split up and my dad abandoned me with my grand parents taking me away from my mum since then i tend to bottle up my anger and when the bottle is full i burst un ##con ##tro ##lla ##bly makes me ashamed of being indonesian ill rep ##hra ##se one of many reasons im ashamed of being indonesian ha ##ha ##ha nah im proud of who i am and where i come from and i love indonesia can ##t say the same thing about those corrupt bastards in power though so you from jakarta im from bali but currently living in sydney always good to know an indonesian red ##itt ##or i burst into laughter when i saw it thank you for making the rt ##he people on the bus think im crazy people generally don ##t know when im angry i don ##t feel comfortable showing it to people so iv ##e never experienced someone telling me to calm down when im angry but i would [SEP]\n"
          ],
          "name": "stdout"
        },
        {
          "output_type": "stream",
          "text": [
            "INFO:tensorflow:tokens: [CLS] still cut myself if i didn ##t get mood swings the problem is i don ##t know how to get rid of the mood swings it all started when my parents split up and my dad abandoned me with my grand parents taking me away from my mum since then i tend to bottle up my anger and when the bottle is full i burst un ##con ##tro ##lla ##bly makes me ashamed of being indonesian ill rep ##hra ##se one of many reasons im ashamed of being indonesian ha ##ha ##ha nah im proud of who i am and where i come from and i love indonesia can ##t say the same thing about those corrupt bastards in power though so you from jakarta im from bali but currently living in sydney always good to know an indonesian red ##itt ##or i burst into laughter when i saw it thank you for making the rt ##he people on the bus think im crazy people generally don ##t know when im angry i don ##t feel comfortable showing it to people so iv ##e never experienced someone telling me to calm down when im angry but i would [SEP]\n"
          ],
          "name": "stderr"
        },
        {
          "output_type": "stream",
          "text": [
            "INFO:tensorflow:input_ids: 101 2145 3013 2870 2065 1045 2134 2102 2131 6888 18755 1996 3291 2003 1045 2123 2102 2113 2129 2000 2131 9436 1997 1996 6888 18755 2009 2035 2318 2043 2026 3008 3975 2039 1998 2026 3611 4704 2033 2007 2026 2882 3008 2635 2033 2185 2013 2026 12954 2144 2059 1045 7166 2000 5835 2039 2026 4963 1998 2043 1996 5835 2003 2440 1045 6532 4895 8663 13181 4571 6321 3084 2033 14984 1997 2108 9003 5665 16360 13492 3366 2028 1997 2116 4436 10047 14984 1997 2108 9003 5292 3270 3270 20976 10047 7098 1997 2040 1045 2572 1998 2073 1045 2272 2013 1998 1045 2293 6239 2064 2102 2360 1996 2168 2518 2055 2216 13593 21123 1999 2373 2295 2061 2017 2013 14426 10047 2013 20222 2021 2747 2542 1999 3994 2467 2204 2000 2113 2019 9003 2417 12474 2953 1045 6532 2046 7239 2043 1045 2387 2009 4067 2017 2005 2437 1996 19387 5369 2111 2006 1996 3902 2228 10047 4689 2111 3227 2123 2102 2113 2043 10047 4854 1045 2123 2102 2514 6625 4760 2009 2000 2111 2061 4921 2063 2196 5281 2619 4129 2033 2000 5475 2091 2043 10047 4854 2021 1045 2052 102\n"
          ],
          "name": "stdout"
        },
        {
          "output_type": "stream",
          "text": [
            "INFO:tensorflow:input_ids: 101 2145 3013 2870 2065 1045 2134 2102 2131 6888 18755 1996 3291 2003 1045 2123 2102 2113 2129 2000 2131 9436 1997 1996 6888 18755 2009 2035 2318 2043 2026 3008 3975 2039 1998 2026 3611 4704 2033 2007 2026 2882 3008 2635 2033 2185 2013 2026 12954 2144 2059 1045 7166 2000 5835 2039 2026 4963 1998 2043 1996 5835 2003 2440 1045 6532 4895 8663 13181 4571 6321 3084 2033 14984 1997 2108 9003 5665 16360 13492 3366 2028 1997 2116 4436 10047 14984 1997 2108 9003 5292 3270 3270 20976 10047 7098 1997 2040 1045 2572 1998 2073 1045 2272 2013 1998 1045 2293 6239 2064 2102 2360 1996 2168 2518 2055 2216 13593 21123 1999 2373 2295 2061 2017 2013 14426 10047 2013 20222 2021 2747 2542 1999 3994 2467 2204 2000 2113 2019 9003 2417 12474 2953 1045 6532 2046 7239 2043 1045 2387 2009 4067 2017 2005 2437 1996 19387 5369 2111 2006 1996 3902 2228 10047 4689 2111 3227 2123 2102 2113 2043 10047 4854 1045 2123 2102 2514 6625 4760 2009 2000 2111 2061 4921 2063 2196 5281 2619 4129 2033 2000 5475 2091 2043 10047 4854 2021 1045 2052 102\n"
          ],
          "name": "stderr"
        },
        {
          "output_type": "stream",
          "text": [
            "INFO:tensorflow:input_mask: 1 1 1 1 1 1 1 1 1 1 1 1 1 1 1 1 1 1 1 1 1 1 1 1 1 1 1 1 1 1 1 1 1 1 1 1 1 1 1 1 1 1 1 1 1 1 1 1 1 1 1 1 1 1 1 1 1 1 1 1 1 1 1 1 1 1 1 1 1 1 1 1 1 1 1 1 1 1 1 1 1 1 1 1 1 1 1 1 1 1 1 1 1 1 1 1 1 1 1 1 1 1 1 1 1 1 1 1 1 1 1 1 1 1 1 1 1 1 1 1 1 1 1 1 1 1 1 1 1 1 1 1 1 1 1 1 1 1 1 1 1 1 1 1 1 1 1 1 1 1 1 1 1 1 1 1 1 1 1 1 1 1 1 1 1 1 1 1 1 1 1 1 1 1 1 1 1 1 1 1 1 1 1 1 1 1 1 1 1 1 1 1 1 1 1 1 1 1 1 1\n"
          ],
          "name": "stdout"
        },
        {
          "output_type": "stream",
          "text": [
            "INFO:tensorflow:input_mask: 1 1 1 1 1 1 1 1 1 1 1 1 1 1 1 1 1 1 1 1 1 1 1 1 1 1 1 1 1 1 1 1 1 1 1 1 1 1 1 1 1 1 1 1 1 1 1 1 1 1 1 1 1 1 1 1 1 1 1 1 1 1 1 1 1 1 1 1 1 1 1 1 1 1 1 1 1 1 1 1 1 1 1 1 1 1 1 1 1 1 1 1 1 1 1 1 1 1 1 1 1 1 1 1 1 1 1 1 1 1 1 1 1 1 1 1 1 1 1 1 1 1 1 1 1 1 1 1 1 1 1 1 1 1 1 1 1 1 1 1 1 1 1 1 1 1 1 1 1 1 1 1 1 1 1 1 1 1 1 1 1 1 1 1 1 1 1 1 1 1 1 1 1 1 1 1 1 1 1 1 1 1 1 1 1 1 1 1 1 1 1 1 1 1 1 1 1 1 1 1\n"
          ],
          "name": "stderr"
        },
        {
          "output_type": "stream",
          "text": [
            "INFO:tensorflow:segment_ids: 0 0 0 0 0 0 0 0 0 0 0 0 0 0 0 0 0 0 0 0 0 0 0 0 0 0 0 0 0 0 0 0 0 0 0 0 0 0 0 0 0 0 0 0 0 0 0 0 0 0 0 0 0 0 0 0 0 0 0 0 0 0 0 0 0 0 0 0 0 0 0 0 0 0 0 0 0 0 0 0 0 0 0 0 0 0 0 0 0 0 0 0 0 0 0 0 0 0 0 0 0 0 0 0 0 0 0 0 0 0 0 0 0 0 0 0 0 0 0 0 0 0 0 0 0 0 0 0 0 0 0 0 0 0 0 0 0 0 0 0 0 0 0 0 0 0 0 0 0 0 0 0 0 0 0 0 0 0 0 0 0 0 0 0 0 0 0 0 0 0 0 0 0 0 0 0 0 0 0 0 0 0 0 0 0 0 0 0 0 0 0 0 0 0 0 0 0 0 0 0\n"
          ],
          "name": "stdout"
        },
        {
          "output_type": "stream",
          "text": [
            "INFO:tensorflow:segment_ids: 0 0 0 0 0 0 0 0 0 0 0 0 0 0 0 0 0 0 0 0 0 0 0 0 0 0 0 0 0 0 0 0 0 0 0 0 0 0 0 0 0 0 0 0 0 0 0 0 0 0 0 0 0 0 0 0 0 0 0 0 0 0 0 0 0 0 0 0 0 0 0 0 0 0 0 0 0 0 0 0 0 0 0 0 0 0 0 0 0 0 0 0 0 0 0 0 0 0 0 0 0 0 0 0 0 0 0 0 0 0 0 0 0 0 0 0 0 0 0 0 0 0 0 0 0 0 0 0 0 0 0 0 0 0 0 0 0 0 0 0 0 0 0 0 0 0 0 0 0 0 0 0 0 0 0 0 0 0 0 0 0 0 0 0 0 0 0 0 0 0 0 0 0 0 0 0 0 0 0 0 0 0 0 0 0 0 0 0 0 0 0 0 0 0 0 0 0 0 0 0\n"
          ],
          "name": "stderr"
        },
        {
          "output_type": "stream",
          "text": [
            "INFO:tensorflow:label: [0 1 0] (id = [0, 1, 0])\n"
          ],
          "name": "stdout"
        },
        {
          "output_type": "stream",
          "text": [
            "INFO:tensorflow:label: [0 1 0] (id = [0, 1, 0])\n"
          ],
          "name": "stderr"
        },
        {
          "output_type": "stream",
          "text": [
            "INFO:tensorflow:Writing example 10000 of 101804\n"
          ],
          "name": "stdout"
        },
        {
          "output_type": "stream",
          "text": [
            "INFO:tensorflow:Writing example 10000 of 101804\n"
          ],
          "name": "stderr"
        },
        {
          "output_type": "stream",
          "text": [
            "INFO:tensorflow:Writing example 20000 of 101804\n"
          ],
          "name": "stdout"
        },
        {
          "output_type": "stream",
          "text": [
            "INFO:tensorflow:Writing example 20000 of 101804\n"
          ],
          "name": "stderr"
        },
        {
          "output_type": "stream",
          "text": [
            "INFO:tensorflow:Writing example 30000 of 101804\n"
          ],
          "name": "stdout"
        },
        {
          "output_type": "stream",
          "text": [
            "INFO:tensorflow:Writing example 30000 of 101804\n"
          ],
          "name": "stderr"
        },
        {
          "output_type": "stream",
          "text": [
            "INFO:tensorflow:Writing example 40000 of 101804\n"
          ],
          "name": "stdout"
        },
        {
          "output_type": "stream",
          "text": [
            "INFO:tensorflow:Writing example 40000 of 101804\n"
          ],
          "name": "stderr"
        },
        {
          "output_type": "stream",
          "text": [
            "INFO:tensorflow:Writing example 50000 of 101804\n"
          ],
          "name": "stdout"
        },
        {
          "output_type": "stream",
          "text": [
            "INFO:tensorflow:Writing example 50000 of 101804\n"
          ],
          "name": "stderr"
        },
        {
          "output_type": "stream",
          "text": [
            "INFO:tensorflow:Writing example 60000 of 101804\n"
          ],
          "name": "stdout"
        },
        {
          "output_type": "stream",
          "text": [
            "INFO:tensorflow:Writing example 60000 of 101804\n"
          ],
          "name": "stderr"
        },
        {
          "output_type": "stream",
          "text": [
            "INFO:tensorflow:Writing example 70000 of 101804\n"
          ],
          "name": "stdout"
        },
        {
          "output_type": "stream",
          "text": [
            "INFO:tensorflow:Writing example 70000 of 101804\n"
          ],
          "name": "stderr"
        },
        {
          "output_type": "stream",
          "text": [
            "INFO:tensorflow:Writing example 80000 of 101804\n"
          ],
          "name": "stdout"
        },
        {
          "output_type": "stream",
          "text": [
            "INFO:tensorflow:Writing example 80000 of 101804\n"
          ],
          "name": "stderr"
        },
        {
          "output_type": "stream",
          "text": [
            "INFO:tensorflow:Writing example 90000 of 101804\n"
          ],
          "name": "stdout"
        },
        {
          "output_type": "stream",
          "text": [
            "INFO:tensorflow:Writing example 90000 of 101804\n"
          ],
          "name": "stderr"
        },
        {
          "output_type": "stream",
          "text": [
            "INFO:tensorflow:Writing example 100000 of 101804\n"
          ],
          "name": "stdout"
        },
        {
          "output_type": "stream",
          "text": [
            "INFO:tensorflow:Writing example 100000 of 101804\n"
          ],
          "name": "stderr"
        },
        {
          "output_type": "stream",
          "text": [
            "INFO:tensorflow:Writing example 0 of 20479\n"
          ],
          "name": "stdout"
        },
        {
          "output_type": "stream",
          "text": [
            "INFO:tensorflow:Writing example 0 of 20479\n"
          ],
          "name": "stderr"
        },
        {
          "output_type": "stream",
          "text": [
            "INFO:tensorflow:*** Example ***\n"
          ],
          "name": "stdout"
        },
        {
          "output_type": "stream",
          "text": [
            "INFO:tensorflow:*** Example ***\n"
          ],
          "name": "stderr"
        },
        {
          "output_type": "stream",
          "text": [
            "INFO:tensorflow:guid: None\n"
          ],
          "name": "stdout"
        },
        {
          "output_type": "stream",
          "text": [
            "INFO:tensorflow:guid: None\n"
          ],
          "name": "stderr"
        },
        {
          "output_type": "stream",
          "text": [
            "INFO:tensorflow:tokens: [CLS] perhaps something like the stomach va ##gina ##s that shoot like br ##im ##stone front and back i disagree i think the habit sc ##ap ##ular wa ##fer is better possibly not 100 true but the combo has definitely is useful ha ##ha ##ae ur tr ##ole ##ing here x ##dd ##dd ##dd that should be epic fe ##tus ah bis ##na ##p love him to death learned breaking in isaac through him as well g ##g friend iv ##e been wondering myself if you will rec ##ie ##ve a free copy by way of purchasing a copy on ps ##3 previously it looks good can ##t wait for the beta to come out tomorrow around when it was first announced did u touched h ##te bobo ##s dub ##e fu k ye ##a dan ##k bog wat ##e r basically aqua teen but what time does it launch simply glorious i love your house its the most green red candy cane iv ##e ever seen lick my balls m ##hart ##i lick my fucking balls got number 69 day made i don ##t know if he moved in or something but he used to not live there [SEP]\n"
          ],
          "name": "stdout"
        },
        {
          "output_type": "stream",
          "text": [
            "INFO:tensorflow:tokens: [CLS] perhaps something like the stomach va ##gina ##s that shoot like br ##im ##stone front and back i disagree i think the habit sc ##ap ##ular wa ##fer is better possibly not 100 true but the combo has definitely is useful ha ##ha ##ae ur tr ##ole ##ing here x ##dd ##dd ##dd that should be epic fe ##tus ah bis ##na ##p love him to death learned breaking in isaac through him as well g ##g friend iv ##e been wondering myself if you will rec ##ie ##ve a free copy by way of purchasing a copy on ps ##3 previously it looks good can ##t wait for the beta to come out tomorrow around when it was first announced did u touched h ##te bobo ##s dub ##e fu k ye ##a dan ##k bog wat ##e r basically aqua teen but what time does it launch simply glorious i love your house its the most green red candy cane iv ##e ever seen lick my balls m ##hart ##i lick my fucking balls got number 69 day made i don ##t know if he moved in or something but he used to not live there [SEP]\n"
          ],
          "name": "stderr"
        },
        {
          "output_type": "stream",
          "text": [
            "INFO:tensorflow:input_ids: 101 3383 2242 2066 1996 4308 12436 20876 2015 2008 5607 2066 7987 5714 9221 2392 1998 2067 1045 21090 1045 2228 1996 10427 8040 9331 7934 11333 7512 2003 2488 4298 2025 2531 2995 2021 1996 25025 2038 5791 2003 6179 5292 3270 6679 24471 19817 9890 2075 2182 1060 14141 14141 14141 2008 2323 2022 8680 10768 5809 6289 20377 2532 2361 2293 2032 2000 2331 4342 4911 1999 7527 2083 2032 2004 2092 1043 2290 2767 4921 2063 2042 6603 2870 2065 2017 2097 28667 2666 3726 1037 2489 6100 2011 2126 1997 13131 1037 6100 2006 8827 2509 3130 2009 3504 2204 2064 2102 3524 2005 1996 8247 2000 2272 2041 4826 2105 2043 2009 2001 2034 2623 2106 1057 5028 1044 2618 27418 2015 12931 2063 11865 1047 6300 2050 4907 2243 22132 28194 2063 1054 10468 28319 9458 2021 2054 2051 2515 2009 4888 3432 14013 1045 2293 2115 2160 2049 1996 2087 2665 2417 9485 11942 4921 2063 2412 2464 15385 2026 7395 1049 10686 2072 15385 2026 8239 7395 2288 2193 6353 2154 2081 1045 2123 2102 2113 2065 2002 2333 1999 2030 2242 2021 2002 2109 2000 2025 2444 2045 102\n"
          ],
          "name": "stdout"
        },
        {
          "output_type": "stream",
          "text": [
            "INFO:tensorflow:input_ids: 101 3383 2242 2066 1996 4308 12436 20876 2015 2008 5607 2066 7987 5714 9221 2392 1998 2067 1045 21090 1045 2228 1996 10427 8040 9331 7934 11333 7512 2003 2488 4298 2025 2531 2995 2021 1996 25025 2038 5791 2003 6179 5292 3270 6679 24471 19817 9890 2075 2182 1060 14141 14141 14141 2008 2323 2022 8680 10768 5809 6289 20377 2532 2361 2293 2032 2000 2331 4342 4911 1999 7527 2083 2032 2004 2092 1043 2290 2767 4921 2063 2042 6603 2870 2065 2017 2097 28667 2666 3726 1037 2489 6100 2011 2126 1997 13131 1037 6100 2006 8827 2509 3130 2009 3504 2204 2064 2102 3524 2005 1996 8247 2000 2272 2041 4826 2105 2043 2009 2001 2034 2623 2106 1057 5028 1044 2618 27418 2015 12931 2063 11865 1047 6300 2050 4907 2243 22132 28194 2063 1054 10468 28319 9458 2021 2054 2051 2515 2009 4888 3432 14013 1045 2293 2115 2160 2049 1996 2087 2665 2417 9485 11942 4921 2063 2412 2464 15385 2026 7395 1049 10686 2072 15385 2026 8239 7395 2288 2193 6353 2154 2081 1045 2123 2102 2113 2065 2002 2333 1999 2030 2242 2021 2002 2109 2000 2025 2444 2045 102\n"
          ],
          "name": "stderr"
        },
        {
          "output_type": "stream",
          "text": [
            "INFO:tensorflow:input_mask: 1 1 1 1 1 1 1 1 1 1 1 1 1 1 1 1 1 1 1 1 1 1 1 1 1 1 1 1 1 1 1 1 1 1 1 1 1 1 1 1 1 1 1 1 1 1 1 1 1 1 1 1 1 1 1 1 1 1 1 1 1 1 1 1 1 1 1 1 1 1 1 1 1 1 1 1 1 1 1 1 1 1 1 1 1 1 1 1 1 1 1 1 1 1 1 1 1 1 1 1 1 1 1 1 1 1 1 1 1 1 1 1 1 1 1 1 1 1 1 1 1 1 1 1 1 1 1 1 1 1 1 1 1 1 1 1 1 1 1 1 1 1 1 1 1 1 1 1 1 1 1 1 1 1 1 1 1 1 1 1 1 1 1 1 1 1 1 1 1 1 1 1 1 1 1 1 1 1 1 1 1 1 1 1 1 1 1 1 1 1 1 1 1 1 1 1 1 1 1 1\n"
          ],
          "name": "stdout"
        },
        {
          "output_type": "stream",
          "text": [
            "INFO:tensorflow:input_mask: 1 1 1 1 1 1 1 1 1 1 1 1 1 1 1 1 1 1 1 1 1 1 1 1 1 1 1 1 1 1 1 1 1 1 1 1 1 1 1 1 1 1 1 1 1 1 1 1 1 1 1 1 1 1 1 1 1 1 1 1 1 1 1 1 1 1 1 1 1 1 1 1 1 1 1 1 1 1 1 1 1 1 1 1 1 1 1 1 1 1 1 1 1 1 1 1 1 1 1 1 1 1 1 1 1 1 1 1 1 1 1 1 1 1 1 1 1 1 1 1 1 1 1 1 1 1 1 1 1 1 1 1 1 1 1 1 1 1 1 1 1 1 1 1 1 1 1 1 1 1 1 1 1 1 1 1 1 1 1 1 1 1 1 1 1 1 1 1 1 1 1 1 1 1 1 1 1 1 1 1 1 1 1 1 1 1 1 1 1 1 1 1 1 1 1 1 1 1 1 1\n"
          ],
          "name": "stderr"
        },
        {
          "output_type": "stream",
          "text": [
            "INFO:tensorflow:segment_ids: 0 0 0 0 0 0 0 0 0 0 0 0 0 0 0 0 0 0 0 0 0 0 0 0 0 0 0 0 0 0 0 0 0 0 0 0 0 0 0 0 0 0 0 0 0 0 0 0 0 0 0 0 0 0 0 0 0 0 0 0 0 0 0 0 0 0 0 0 0 0 0 0 0 0 0 0 0 0 0 0 0 0 0 0 0 0 0 0 0 0 0 0 0 0 0 0 0 0 0 0 0 0 0 0 0 0 0 0 0 0 0 0 0 0 0 0 0 0 0 0 0 0 0 0 0 0 0 0 0 0 0 0 0 0 0 0 0 0 0 0 0 0 0 0 0 0 0 0 0 0 0 0 0 0 0 0 0 0 0 0 0 0 0 0 0 0 0 0 0 0 0 0 0 0 0 0 0 0 0 0 0 0 0 0 0 0 0 0 0 0 0 0 0 0 0 0 0 0 0 0\n"
          ],
          "name": "stdout"
        },
        {
          "output_type": "stream",
          "text": [
            "INFO:tensorflow:segment_ids: 0 0 0 0 0 0 0 0 0 0 0 0 0 0 0 0 0 0 0 0 0 0 0 0 0 0 0 0 0 0 0 0 0 0 0 0 0 0 0 0 0 0 0 0 0 0 0 0 0 0 0 0 0 0 0 0 0 0 0 0 0 0 0 0 0 0 0 0 0 0 0 0 0 0 0 0 0 0 0 0 0 0 0 0 0 0 0 0 0 0 0 0 0 0 0 0 0 0 0 0 0 0 0 0 0 0 0 0 0 0 0 0 0 0 0 0 0 0 0 0 0 0 0 0 0 0 0 0 0 0 0 0 0 0 0 0 0 0 0 0 0 0 0 0 0 0 0 0 0 0 0 0 0 0 0 0 0 0 0 0 0 0 0 0 0 0 0 0 0 0 0 0 0 0 0 0 0 0 0 0 0 0 0 0 0 0 0 0 0 0 0 0 0 0 0 0 0 0 0 0\n"
          ],
          "name": "stderr"
        },
        {
          "output_type": "stream",
          "text": [
            "INFO:tensorflow:label: [0 1 0] (id = [0, 1, 0])\n"
          ],
          "name": "stdout"
        },
        {
          "output_type": "stream",
          "text": [
            "INFO:tensorflow:label: [0 1 0] (id = [0, 1, 0])\n"
          ],
          "name": "stderr"
        },
        {
          "output_type": "stream",
          "text": [
            "INFO:tensorflow:*** Example ***\n"
          ],
          "name": "stdout"
        },
        {
          "output_type": "stream",
          "text": [
            "INFO:tensorflow:*** Example ***\n"
          ],
          "name": "stderr"
        },
        {
          "output_type": "stream",
          "text": [
            "INFO:tensorflow:guid: None\n"
          ],
          "name": "stdout"
        },
        {
          "output_type": "stream",
          "text": [
            "INFO:tensorflow:guid: None\n"
          ],
          "name": "stderr"
        },
        {
          "output_type": "stream",
          "text": [
            "INFO:tensorflow:tokens: [CLS] don ##t know if he moved in or something but he used to not live there kin ##ky yes what the fuck kind of drugs are you on because i want some bis ##na ##p indefinitely i used to be obsessed with nl but then i found bis ##na ##p imagine how i felt when nl started talking about bis ##na ##p in his videos the two most op enemies come together how can i get rid of all of my mod ##s on the steam version i kinda messed up one of the characters and i can ##t change it now help is much ##o appreciated iv ##e tried that but my mod ##s were still there i suppose i could try it again once i get the chance i mean i don ##t mind it too badly its just that my computer is really slow it takes no ex ##agger ##ating here about 5 10 minutes just to get to the log in screen any help would be wonderful the first time i look at the comments on any post of this sub ##red ##dit and this shit is happening im very scared i just got [SEP]\n"
          ],
          "name": "stdout"
        },
        {
          "output_type": "stream",
          "text": [
            "INFO:tensorflow:tokens: [CLS] don ##t know if he moved in or something but he used to not live there kin ##ky yes what the fuck kind of drugs are you on because i want some bis ##na ##p indefinitely i used to be obsessed with nl but then i found bis ##na ##p imagine how i felt when nl started talking about bis ##na ##p in his videos the two most op enemies come together how can i get rid of all of my mod ##s on the steam version i kinda messed up one of the characters and i can ##t change it now help is much ##o appreciated iv ##e tried that but my mod ##s were still there i suppose i could try it again once i get the chance i mean i don ##t mind it too badly its just that my computer is really slow it takes no ex ##agger ##ating here about 5 10 minutes just to get to the log in screen any help would be wonderful the first time i look at the comments on any post of this sub ##red ##dit and this shit is happening im very scared i just got [SEP]\n"
          ],
          "name": "stderr"
        },
        {
          "output_type": "stream",
          "text": [
            "INFO:tensorflow:input_ids: 101 2123 2102 2113 2065 2002 2333 1999 2030 2242 2021 2002 2109 2000 2025 2444 2045 12631 4801 2748 2054 1996 6616 2785 1997 5850 2024 2017 2006 2138 1045 2215 2070 20377 2532 2361 20733 1045 2109 2000 2022 15896 2007 17953 2021 2059 1045 2179 20377 2532 2361 5674 2129 1045 2371 2043 17953 2318 3331 2055 20377 2532 2361 1999 2010 6876 1996 2048 2087 6728 6716 2272 2362 2129 2064 1045 2131 9436 1997 2035 1997 2026 16913 2015 2006 1996 5492 2544 1045 17704 18358 2039 2028 1997 1996 3494 1998 1045 2064 2102 2689 2009 2085 2393 2003 2172 2080 12315 4921 2063 2699 2008 2021 2026 16913 2015 2020 2145 2045 1045 6814 1045 2071 3046 2009 2153 2320 1045 2131 1996 3382 1045 2812 1045 2123 2102 2568 2009 2205 6649 2049 2074 2008 2026 3274 2003 2428 4030 2009 3138 2053 4654 27609 5844 2182 2055 1019 2184 2781 2074 2000 2131 2000 1996 8833 1999 3898 2151 2393 2052 2022 6919 1996 2034 2051 1045 2298 2012 1996 7928 2006 2151 2695 1997 2023 4942 5596 23194 1998 2023 4485 2003 6230 10047 2200 6015 1045 2074 2288 102\n"
          ],
          "name": "stdout"
        },
        {
          "output_type": "stream",
          "text": [
            "INFO:tensorflow:input_ids: 101 2123 2102 2113 2065 2002 2333 1999 2030 2242 2021 2002 2109 2000 2025 2444 2045 12631 4801 2748 2054 1996 6616 2785 1997 5850 2024 2017 2006 2138 1045 2215 2070 20377 2532 2361 20733 1045 2109 2000 2022 15896 2007 17953 2021 2059 1045 2179 20377 2532 2361 5674 2129 1045 2371 2043 17953 2318 3331 2055 20377 2532 2361 1999 2010 6876 1996 2048 2087 6728 6716 2272 2362 2129 2064 1045 2131 9436 1997 2035 1997 2026 16913 2015 2006 1996 5492 2544 1045 17704 18358 2039 2028 1997 1996 3494 1998 1045 2064 2102 2689 2009 2085 2393 2003 2172 2080 12315 4921 2063 2699 2008 2021 2026 16913 2015 2020 2145 2045 1045 6814 1045 2071 3046 2009 2153 2320 1045 2131 1996 3382 1045 2812 1045 2123 2102 2568 2009 2205 6649 2049 2074 2008 2026 3274 2003 2428 4030 2009 3138 2053 4654 27609 5844 2182 2055 1019 2184 2781 2074 2000 2131 2000 1996 8833 1999 3898 2151 2393 2052 2022 6919 1996 2034 2051 1045 2298 2012 1996 7928 2006 2151 2695 1997 2023 4942 5596 23194 1998 2023 4485 2003 6230 10047 2200 6015 1045 2074 2288 102\n"
          ],
          "name": "stderr"
        },
        {
          "output_type": "stream",
          "text": [
            "INFO:tensorflow:input_mask: 1 1 1 1 1 1 1 1 1 1 1 1 1 1 1 1 1 1 1 1 1 1 1 1 1 1 1 1 1 1 1 1 1 1 1 1 1 1 1 1 1 1 1 1 1 1 1 1 1 1 1 1 1 1 1 1 1 1 1 1 1 1 1 1 1 1 1 1 1 1 1 1 1 1 1 1 1 1 1 1 1 1 1 1 1 1 1 1 1 1 1 1 1 1 1 1 1 1 1 1 1 1 1 1 1 1 1 1 1 1 1 1 1 1 1 1 1 1 1 1 1 1 1 1 1 1 1 1 1 1 1 1 1 1 1 1 1 1 1 1 1 1 1 1 1 1 1 1 1 1 1 1 1 1 1 1 1 1 1 1 1 1 1 1 1 1 1 1 1 1 1 1 1 1 1 1 1 1 1 1 1 1 1 1 1 1 1 1 1 1 1 1 1 1 1 1 1 1 1 1\n"
          ],
          "name": "stdout"
        },
        {
          "output_type": "stream",
          "text": [
            "INFO:tensorflow:input_mask: 1 1 1 1 1 1 1 1 1 1 1 1 1 1 1 1 1 1 1 1 1 1 1 1 1 1 1 1 1 1 1 1 1 1 1 1 1 1 1 1 1 1 1 1 1 1 1 1 1 1 1 1 1 1 1 1 1 1 1 1 1 1 1 1 1 1 1 1 1 1 1 1 1 1 1 1 1 1 1 1 1 1 1 1 1 1 1 1 1 1 1 1 1 1 1 1 1 1 1 1 1 1 1 1 1 1 1 1 1 1 1 1 1 1 1 1 1 1 1 1 1 1 1 1 1 1 1 1 1 1 1 1 1 1 1 1 1 1 1 1 1 1 1 1 1 1 1 1 1 1 1 1 1 1 1 1 1 1 1 1 1 1 1 1 1 1 1 1 1 1 1 1 1 1 1 1 1 1 1 1 1 1 1 1 1 1 1 1 1 1 1 1 1 1 1 1 1 1 1 1\n"
          ],
          "name": "stderr"
        },
        {
          "output_type": "stream",
          "text": [
            "INFO:tensorflow:segment_ids: 0 0 0 0 0 0 0 0 0 0 0 0 0 0 0 0 0 0 0 0 0 0 0 0 0 0 0 0 0 0 0 0 0 0 0 0 0 0 0 0 0 0 0 0 0 0 0 0 0 0 0 0 0 0 0 0 0 0 0 0 0 0 0 0 0 0 0 0 0 0 0 0 0 0 0 0 0 0 0 0 0 0 0 0 0 0 0 0 0 0 0 0 0 0 0 0 0 0 0 0 0 0 0 0 0 0 0 0 0 0 0 0 0 0 0 0 0 0 0 0 0 0 0 0 0 0 0 0 0 0 0 0 0 0 0 0 0 0 0 0 0 0 0 0 0 0 0 0 0 0 0 0 0 0 0 0 0 0 0 0 0 0 0 0 0 0 0 0 0 0 0 0 0 0 0 0 0 0 0 0 0 0 0 0 0 0 0 0 0 0 0 0 0 0 0 0 0 0 0 0\n"
          ],
          "name": "stdout"
        },
        {
          "output_type": "stream",
          "text": [
            "INFO:tensorflow:segment_ids: 0 0 0 0 0 0 0 0 0 0 0 0 0 0 0 0 0 0 0 0 0 0 0 0 0 0 0 0 0 0 0 0 0 0 0 0 0 0 0 0 0 0 0 0 0 0 0 0 0 0 0 0 0 0 0 0 0 0 0 0 0 0 0 0 0 0 0 0 0 0 0 0 0 0 0 0 0 0 0 0 0 0 0 0 0 0 0 0 0 0 0 0 0 0 0 0 0 0 0 0 0 0 0 0 0 0 0 0 0 0 0 0 0 0 0 0 0 0 0 0 0 0 0 0 0 0 0 0 0 0 0 0 0 0 0 0 0 0 0 0 0 0 0 0 0 0 0 0 0 0 0 0 0 0 0 0 0 0 0 0 0 0 0 0 0 0 0 0 0 0 0 0 0 0 0 0 0 0 0 0 0 0 0 0 0 0 0 0 0 0 0 0 0 0 0 0 0 0 0 0\n"
          ],
          "name": "stderr"
        },
        {
          "output_type": "stream",
          "text": [
            "INFO:tensorflow:label: [0 1 0] (id = [0, 1, 0])\n"
          ],
          "name": "stdout"
        },
        {
          "output_type": "stream",
          "text": [
            "INFO:tensorflow:label: [0 1 0] (id = [0, 1, 0])\n"
          ],
          "name": "stderr"
        },
        {
          "output_type": "stream",
          "text": [
            "INFO:tensorflow:*** Example ***\n"
          ],
          "name": "stdout"
        },
        {
          "output_type": "stream",
          "text": [
            "INFO:tensorflow:*** Example ***\n"
          ],
          "name": "stderr"
        },
        {
          "output_type": "stream",
          "text": [
            "INFO:tensorflow:guid: None\n"
          ],
          "name": "stdout"
        },
        {
          "output_type": "stream",
          "text": [
            "INFO:tensorflow:guid: None\n"
          ],
          "name": "stderr"
        },
        {
          "output_type": "stream",
          "text": [
            "INFO:tensorflow:tokens: [CLS] any help would be wonderful the first time i look at the comments on any post of this sub ##red ##dit and this shit is happening im very scared i just got a 3d ##s and animal crossing new leaf whenever i go to set up my game i can ##t name my town or set the time and date all of my friends are able to but i just can ##t seem to do it any advice gladly give me a little while how to sp ##el ##unk mac thank god im a glass cannon i forgot to kappa expansion ##s are much ##o app ##re ##cia ##do as well c ps my flair is a wish ##list with just ca ##h expansion ##s thanks in advance do you still have any http am ##z ##n com w 3 ##rot ##tl ##k ##wo ##u ##8 ##j ##5 thanks in advance lt 3 id love to but my printers e ##ffed up and i can ##t mo ##och off of any of my friends because they don ##t have printers pretty stupid sit ##ch im in on that front i have one it was very worth it ios [SEP]\n"
          ],
          "name": "stdout"
        },
        {
          "output_type": "stream",
          "text": [
            "INFO:tensorflow:tokens: [CLS] any help would be wonderful the first time i look at the comments on any post of this sub ##red ##dit and this shit is happening im very scared i just got a 3d ##s and animal crossing new leaf whenever i go to set up my game i can ##t name my town or set the time and date all of my friends are able to but i just can ##t seem to do it any advice gladly give me a little while how to sp ##el ##unk mac thank god im a glass cannon i forgot to kappa expansion ##s are much ##o app ##re ##cia ##do as well c ps my flair is a wish ##list with just ca ##h expansion ##s thanks in advance do you still have any http am ##z ##n com w 3 ##rot ##tl ##k ##wo ##u ##8 ##j ##5 thanks in advance lt 3 id love to but my printers e ##ffed up and i can ##t mo ##och off of any of my friends because they don ##t have printers pretty stupid sit ##ch im in on that front i have one it was very worth it ios [SEP]\n"
          ],
          "name": "stderr"
        },
        {
          "output_type": "stream",
          "text": [
            "INFO:tensorflow:input_ids: 101 2151 2393 2052 2022 6919 1996 2034 2051 1045 2298 2012 1996 7928 2006 2151 2695 1997 2023 4942 5596 23194 1998 2023 4485 2003 6230 10047 2200 6015 1045 2074 2288 1037 7605 2015 1998 4111 5153 2047 7053 7188 1045 2175 2000 2275 2039 2026 2208 1045 2064 2102 2171 2026 2237 2030 2275 1996 2051 1998 3058 2035 1997 2026 2814 2024 2583 2000 2021 1045 2074 2064 2102 4025 2000 2079 2009 2151 6040 24986 2507 2033 1037 2210 2096 2129 2000 11867 2884 16814 6097 4067 2643 10047 1037 3221 8854 1045 9471 2000 16000 4935 2015 2024 2172 2080 10439 2890 7405 3527 2004 2092 1039 8827 2026 22012 2003 1037 4299 9863 2007 2074 6187 2232 4935 2015 4283 1999 5083 2079 2017 2145 2031 2151 8299 2572 2480 2078 4012 1059 1017 21709 19646 2243 12155 2226 2620 3501 2629 4283 1999 5083 8318 1017 8909 2293 2000 2021 2026 23557 1041 15388 2039 1998 1045 2064 2102 9587 11663 2125 1997 2151 1997 2026 2814 2138 2027 2123 2102 2031 23557 3492 5236 4133 2818 10047 1999 2006 2008 2392 1045 2031 2028 2009 2001 2200 4276 2009 16380 102\n"
          ],
          "name": "stdout"
        },
        {
          "output_type": "stream",
          "text": [
            "INFO:tensorflow:input_ids: 101 2151 2393 2052 2022 6919 1996 2034 2051 1045 2298 2012 1996 7928 2006 2151 2695 1997 2023 4942 5596 23194 1998 2023 4485 2003 6230 10047 2200 6015 1045 2074 2288 1037 7605 2015 1998 4111 5153 2047 7053 7188 1045 2175 2000 2275 2039 2026 2208 1045 2064 2102 2171 2026 2237 2030 2275 1996 2051 1998 3058 2035 1997 2026 2814 2024 2583 2000 2021 1045 2074 2064 2102 4025 2000 2079 2009 2151 6040 24986 2507 2033 1037 2210 2096 2129 2000 11867 2884 16814 6097 4067 2643 10047 1037 3221 8854 1045 9471 2000 16000 4935 2015 2024 2172 2080 10439 2890 7405 3527 2004 2092 1039 8827 2026 22012 2003 1037 4299 9863 2007 2074 6187 2232 4935 2015 4283 1999 5083 2079 2017 2145 2031 2151 8299 2572 2480 2078 4012 1059 1017 21709 19646 2243 12155 2226 2620 3501 2629 4283 1999 5083 8318 1017 8909 2293 2000 2021 2026 23557 1041 15388 2039 1998 1045 2064 2102 9587 11663 2125 1997 2151 1997 2026 2814 2138 2027 2123 2102 2031 23557 3492 5236 4133 2818 10047 1999 2006 2008 2392 1045 2031 2028 2009 2001 2200 4276 2009 16380 102\n"
          ],
          "name": "stderr"
        },
        {
          "output_type": "stream",
          "text": [
            "INFO:tensorflow:input_mask: 1 1 1 1 1 1 1 1 1 1 1 1 1 1 1 1 1 1 1 1 1 1 1 1 1 1 1 1 1 1 1 1 1 1 1 1 1 1 1 1 1 1 1 1 1 1 1 1 1 1 1 1 1 1 1 1 1 1 1 1 1 1 1 1 1 1 1 1 1 1 1 1 1 1 1 1 1 1 1 1 1 1 1 1 1 1 1 1 1 1 1 1 1 1 1 1 1 1 1 1 1 1 1 1 1 1 1 1 1 1 1 1 1 1 1 1 1 1 1 1 1 1 1 1 1 1 1 1 1 1 1 1 1 1 1 1 1 1 1 1 1 1 1 1 1 1 1 1 1 1 1 1 1 1 1 1 1 1 1 1 1 1 1 1 1 1 1 1 1 1 1 1 1 1 1 1 1 1 1 1 1 1 1 1 1 1 1 1 1 1 1 1 1 1 1 1 1 1 1 1\n"
          ],
          "name": "stdout"
        },
        {
          "output_type": "stream",
          "text": [
            "INFO:tensorflow:input_mask: 1 1 1 1 1 1 1 1 1 1 1 1 1 1 1 1 1 1 1 1 1 1 1 1 1 1 1 1 1 1 1 1 1 1 1 1 1 1 1 1 1 1 1 1 1 1 1 1 1 1 1 1 1 1 1 1 1 1 1 1 1 1 1 1 1 1 1 1 1 1 1 1 1 1 1 1 1 1 1 1 1 1 1 1 1 1 1 1 1 1 1 1 1 1 1 1 1 1 1 1 1 1 1 1 1 1 1 1 1 1 1 1 1 1 1 1 1 1 1 1 1 1 1 1 1 1 1 1 1 1 1 1 1 1 1 1 1 1 1 1 1 1 1 1 1 1 1 1 1 1 1 1 1 1 1 1 1 1 1 1 1 1 1 1 1 1 1 1 1 1 1 1 1 1 1 1 1 1 1 1 1 1 1 1 1 1 1 1 1 1 1 1 1 1 1 1 1 1 1 1\n"
          ],
          "name": "stderr"
        },
        {
          "output_type": "stream",
          "text": [
            "INFO:tensorflow:segment_ids: 0 0 0 0 0 0 0 0 0 0 0 0 0 0 0 0 0 0 0 0 0 0 0 0 0 0 0 0 0 0 0 0 0 0 0 0 0 0 0 0 0 0 0 0 0 0 0 0 0 0 0 0 0 0 0 0 0 0 0 0 0 0 0 0 0 0 0 0 0 0 0 0 0 0 0 0 0 0 0 0 0 0 0 0 0 0 0 0 0 0 0 0 0 0 0 0 0 0 0 0 0 0 0 0 0 0 0 0 0 0 0 0 0 0 0 0 0 0 0 0 0 0 0 0 0 0 0 0 0 0 0 0 0 0 0 0 0 0 0 0 0 0 0 0 0 0 0 0 0 0 0 0 0 0 0 0 0 0 0 0 0 0 0 0 0 0 0 0 0 0 0 0 0 0 0 0 0 0 0 0 0 0 0 0 0 0 0 0 0 0 0 0 0 0 0 0 0 0 0 0\n"
          ],
          "name": "stdout"
        },
        {
          "output_type": "stream",
          "text": [
            "INFO:tensorflow:segment_ids: 0 0 0 0 0 0 0 0 0 0 0 0 0 0 0 0 0 0 0 0 0 0 0 0 0 0 0 0 0 0 0 0 0 0 0 0 0 0 0 0 0 0 0 0 0 0 0 0 0 0 0 0 0 0 0 0 0 0 0 0 0 0 0 0 0 0 0 0 0 0 0 0 0 0 0 0 0 0 0 0 0 0 0 0 0 0 0 0 0 0 0 0 0 0 0 0 0 0 0 0 0 0 0 0 0 0 0 0 0 0 0 0 0 0 0 0 0 0 0 0 0 0 0 0 0 0 0 0 0 0 0 0 0 0 0 0 0 0 0 0 0 0 0 0 0 0 0 0 0 0 0 0 0 0 0 0 0 0 0 0 0 0 0 0 0 0 0 0 0 0 0 0 0 0 0 0 0 0 0 0 0 0 0 0 0 0 0 0 0 0 0 0 0 0 0 0 0 0 0 0\n"
          ],
          "name": "stderr"
        },
        {
          "output_type": "stream",
          "text": [
            "INFO:tensorflow:label: [0 1 0] (id = [0, 1, 0])\n"
          ],
          "name": "stdout"
        },
        {
          "output_type": "stream",
          "text": [
            "INFO:tensorflow:label: [0 1 0] (id = [0, 1, 0])\n"
          ],
          "name": "stderr"
        },
        {
          "output_type": "stream",
          "text": [
            "INFO:tensorflow:*** Example ***\n"
          ],
          "name": "stdout"
        },
        {
          "output_type": "stream",
          "text": [
            "INFO:tensorflow:*** Example ***\n"
          ],
          "name": "stderr"
        },
        {
          "output_type": "stream",
          "text": [
            "INFO:tensorflow:guid: None\n"
          ],
          "name": "stdout"
        },
        {
          "output_type": "stream",
          "text": [
            "INFO:tensorflow:guid: None\n"
          ],
          "name": "stderr"
        },
        {
          "output_type": "stream",
          "text": [
            "INFO:tensorflow:tokens: [CLS] printers pretty stupid sit ##ch im in on that front i have one it was very worth it ios pl ##es do it old ##fa ##g gt ##fo 0 10 down ##fo ##ted report ##d what fucking website is this holy shit what is this life also little planet is a new item that makes your tears circle around you 76 4 completed the tutor ##ial are you serious oh yeah good point i just got basement boy after 69 420 deaths wat when is this going to be public or is it already wonderful nope i believe its mountain lion the fact that there ##s 69 up ##vot ##es makes this even better regardless there ##s no problem with that i can ##t seem to bring myself to do it iv ##e tried several times but i can ##t get it out i do take certain medications and no i va ##pe but that ##s it i may im a little bit busy right now but when i get the chance if i remember that is ill message you about it thank you i will try to take your advice http g ##ya ##zo com 37 ##20 [SEP]\n"
          ],
          "name": "stdout"
        },
        {
          "output_type": "stream",
          "text": [
            "INFO:tensorflow:tokens: [CLS] printers pretty stupid sit ##ch im in on that front i have one it was very worth it ios pl ##es do it old ##fa ##g gt ##fo 0 10 down ##fo ##ted report ##d what fucking website is this holy shit what is this life also little planet is a new item that makes your tears circle around you 76 4 completed the tutor ##ial are you serious oh yeah good point i just got basement boy after 69 420 deaths wat when is this going to be public or is it already wonderful nope i believe its mountain lion the fact that there ##s 69 up ##vot ##es makes this even better regardless there ##s no problem with that i can ##t seem to bring myself to do it iv ##e tried several times but i can ##t get it out i do take certain medications and no i va ##pe but that ##s it i may im a little bit busy right now but when i get the chance if i remember that is ill message you about it thank you i will try to take your advice http g ##ya ##zo com 37 ##20 [SEP]\n"
          ],
          "name": "stderr"
        },
        {
          "output_type": "stream",
          "text": [
            "INFO:tensorflow:input_ids: 101 23557 3492 5236 4133 2818 10047 1999 2006 2008 2392 1045 2031 2028 2009 2001 2200 4276 2009 16380 20228 2229 2079 2009 2214 7011 2290 14181 14876 1014 2184 2091 14876 3064 3189 2094 2054 8239 4037 2003 2023 4151 4485 2054 2003 2023 2166 2036 2210 4774 2003 1037 2047 8875 2008 3084 2115 4000 4418 2105 2017 6146 1018 2949 1996 14924 4818 2024 2017 3809 2821 3398 2204 2391 1045 2074 2288 8102 2879 2044 6353 17442 6677 28194 2043 2003 2023 2183 2000 2022 2270 2030 2003 2009 2525 6919 16780 1045 2903 2049 3137 7006 1996 2755 2008 2045 2015 6353 2039 22994 2229 3084 2023 2130 2488 7539 2045 2015 2053 3291 2007 2008 1045 2064 2102 4025 2000 3288 2870 2000 2079 2009 4921 2063 2699 2195 2335 2021 1045 2064 2102 2131 2009 2041 1045 2079 2202 3056 20992 1998 2053 1045 12436 5051 2021 2008 2015 2009 1045 2089 10047 1037 2210 2978 5697 2157 2085 2021 2043 1045 2131 1996 3382 2065 1045 3342 2008 2003 5665 4471 2017 2055 2009 4067 2017 1045 2097 3046 2000 2202 2115 6040 8299 1043 3148 6844 4012 4261 11387 102\n"
          ],
          "name": "stdout"
        },
        {
          "output_type": "stream",
          "text": [
            "INFO:tensorflow:input_ids: 101 23557 3492 5236 4133 2818 10047 1999 2006 2008 2392 1045 2031 2028 2009 2001 2200 4276 2009 16380 20228 2229 2079 2009 2214 7011 2290 14181 14876 1014 2184 2091 14876 3064 3189 2094 2054 8239 4037 2003 2023 4151 4485 2054 2003 2023 2166 2036 2210 4774 2003 1037 2047 8875 2008 3084 2115 4000 4418 2105 2017 6146 1018 2949 1996 14924 4818 2024 2017 3809 2821 3398 2204 2391 1045 2074 2288 8102 2879 2044 6353 17442 6677 28194 2043 2003 2023 2183 2000 2022 2270 2030 2003 2009 2525 6919 16780 1045 2903 2049 3137 7006 1996 2755 2008 2045 2015 6353 2039 22994 2229 3084 2023 2130 2488 7539 2045 2015 2053 3291 2007 2008 1045 2064 2102 4025 2000 3288 2870 2000 2079 2009 4921 2063 2699 2195 2335 2021 1045 2064 2102 2131 2009 2041 1045 2079 2202 3056 20992 1998 2053 1045 12436 5051 2021 2008 2015 2009 1045 2089 10047 1037 2210 2978 5697 2157 2085 2021 2043 1045 2131 1996 3382 2065 1045 3342 2008 2003 5665 4471 2017 2055 2009 4067 2017 1045 2097 3046 2000 2202 2115 6040 8299 1043 3148 6844 4012 4261 11387 102\n"
          ],
          "name": "stderr"
        },
        {
          "output_type": "stream",
          "text": [
            "INFO:tensorflow:input_mask: 1 1 1 1 1 1 1 1 1 1 1 1 1 1 1 1 1 1 1 1 1 1 1 1 1 1 1 1 1 1 1 1 1 1 1 1 1 1 1 1 1 1 1 1 1 1 1 1 1 1 1 1 1 1 1 1 1 1 1 1 1 1 1 1 1 1 1 1 1 1 1 1 1 1 1 1 1 1 1 1 1 1 1 1 1 1 1 1 1 1 1 1 1 1 1 1 1 1 1 1 1 1 1 1 1 1 1 1 1 1 1 1 1 1 1 1 1 1 1 1 1 1 1 1 1 1 1 1 1 1 1 1 1 1 1 1 1 1 1 1 1 1 1 1 1 1 1 1 1 1 1 1 1 1 1 1 1 1 1 1 1 1 1 1 1 1 1 1 1 1 1 1 1 1 1 1 1 1 1 1 1 1 1 1 1 1 1 1 1 1 1 1 1 1 1 1 1 1 1 1\n"
          ],
          "name": "stdout"
        },
        {
          "output_type": "stream",
          "text": [
            "INFO:tensorflow:input_mask: 1 1 1 1 1 1 1 1 1 1 1 1 1 1 1 1 1 1 1 1 1 1 1 1 1 1 1 1 1 1 1 1 1 1 1 1 1 1 1 1 1 1 1 1 1 1 1 1 1 1 1 1 1 1 1 1 1 1 1 1 1 1 1 1 1 1 1 1 1 1 1 1 1 1 1 1 1 1 1 1 1 1 1 1 1 1 1 1 1 1 1 1 1 1 1 1 1 1 1 1 1 1 1 1 1 1 1 1 1 1 1 1 1 1 1 1 1 1 1 1 1 1 1 1 1 1 1 1 1 1 1 1 1 1 1 1 1 1 1 1 1 1 1 1 1 1 1 1 1 1 1 1 1 1 1 1 1 1 1 1 1 1 1 1 1 1 1 1 1 1 1 1 1 1 1 1 1 1 1 1 1 1 1 1 1 1 1 1 1 1 1 1 1 1 1 1 1 1 1 1\n"
          ],
          "name": "stderr"
        },
        {
          "output_type": "stream",
          "text": [
            "INFO:tensorflow:segment_ids: 0 0 0 0 0 0 0 0 0 0 0 0 0 0 0 0 0 0 0 0 0 0 0 0 0 0 0 0 0 0 0 0 0 0 0 0 0 0 0 0 0 0 0 0 0 0 0 0 0 0 0 0 0 0 0 0 0 0 0 0 0 0 0 0 0 0 0 0 0 0 0 0 0 0 0 0 0 0 0 0 0 0 0 0 0 0 0 0 0 0 0 0 0 0 0 0 0 0 0 0 0 0 0 0 0 0 0 0 0 0 0 0 0 0 0 0 0 0 0 0 0 0 0 0 0 0 0 0 0 0 0 0 0 0 0 0 0 0 0 0 0 0 0 0 0 0 0 0 0 0 0 0 0 0 0 0 0 0 0 0 0 0 0 0 0 0 0 0 0 0 0 0 0 0 0 0 0 0 0 0 0 0 0 0 0 0 0 0 0 0 0 0 0 0 0 0 0 0 0 0\n"
          ],
          "name": "stdout"
        },
        {
          "output_type": "stream",
          "text": [
            "INFO:tensorflow:segment_ids: 0 0 0 0 0 0 0 0 0 0 0 0 0 0 0 0 0 0 0 0 0 0 0 0 0 0 0 0 0 0 0 0 0 0 0 0 0 0 0 0 0 0 0 0 0 0 0 0 0 0 0 0 0 0 0 0 0 0 0 0 0 0 0 0 0 0 0 0 0 0 0 0 0 0 0 0 0 0 0 0 0 0 0 0 0 0 0 0 0 0 0 0 0 0 0 0 0 0 0 0 0 0 0 0 0 0 0 0 0 0 0 0 0 0 0 0 0 0 0 0 0 0 0 0 0 0 0 0 0 0 0 0 0 0 0 0 0 0 0 0 0 0 0 0 0 0 0 0 0 0 0 0 0 0 0 0 0 0 0 0 0 0 0 0 0 0 0 0 0 0 0 0 0 0 0 0 0 0 0 0 0 0 0 0 0 0 0 0 0 0 0 0 0 0 0 0 0 0 0 0\n"
          ],
          "name": "stderr"
        },
        {
          "output_type": "stream",
          "text": [
            "INFO:tensorflow:label: [0 1 0] (id = [0, 1, 0])\n"
          ],
          "name": "stdout"
        },
        {
          "output_type": "stream",
          "text": [
            "INFO:tensorflow:label: [0 1 0] (id = [0, 1, 0])\n"
          ],
          "name": "stderr"
        },
        {
          "output_type": "stream",
          "text": [
            "INFO:tensorflow:*** Example ***\n"
          ],
          "name": "stdout"
        },
        {
          "output_type": "stream",
          "text": [
            "INFO:tensorflow:*** Example ***\n"
          ],
          "name": "stderr"
        },
        {
          "output_type": "stream",
          "text": [
            "INFO:tensorflow:guid: None\n"
          ],
          "name": "stdout"
        },
        {
          "output_type": "stream",
          "text": [
            "INFO:tensorflow:guid: None\n"
          ],
          "name": "stderr"
        },
        {
          "output_type": "stream",
          "text": [
            "INFO:tensorflow:tokens: [CLS] i get the chance if i remember that is ill message you about it thank you i will try to take your advice http g ##ya ##zo com 37 ##20 ##ef ##0 ##9 ##f ##9 ##a ##7 ##8 ##33 ##6 ##cd ##57 ##be ##52 ##dd ##17 ##d ##8 ##c ##f ill ##umi ##nat ##i confirmed unnatural hair color girls with glasses girls with ta ##ts and sex in the shower or bath tub i don ##t know why male oh yeah well you need me because im the only one that knows were per ##du ##cci is and where that is is that he is in istanbul danger ##es ##que 3 this is utter bullshit they hound ##ing have to fight for their right for marriage what kind of world do we live in where someone can ##t spend the rest of their life with their loved ones you know what i meant so basically what your ##e saying is that because your ##e wrong other people have to think your ##e right if i had money id totally buy something from you i have it downloaded but i have no idea how to use it some help [SEP]\n"
          ],
          "name": "stdout"
        },
        {
          "output_type": "stream",
          "text": [
            "INFO:tensorflow:tokens: [CLS] i get the chance if i remember that is ill message you about it thank you i will try to take your advice http g ##ya ##zo com 37 ##20 ##ef ##0 ##9 ##f ##9 ##a ##7 ##8 ##33 ##6 ##cd ##57 ##be ##52 ##dd ##17 ##d ##8 ##c ##f ill ##umi ##nat ##i confirmed unnatural hair color girls with glasses girls with ta ##ts and sex in the shower or bath tub i don ##t know why male oh yeah well you need me because im the only one that knows were per ##du ##cci is and where that is is that he is in istanbul danger ##es ##que 3 this is utter bullshit they hound ##ing have to fight for their right for marriage what kind of world do we live in where someone can ##t spend the rest of their life with their loved ones you know what i meant so basically what your ##e saying is that because your ##e wrong other people have to think your ##e right if i had money id totally buy something from you i have it downloaded but i have no idea how to use it some help [SEP]\n"
          ],
          "name": "stderr"
        },
        {
          "output_type": "stream",
          "text": [
            "INFO:tensorflow:input_ids: 101 1045 2131 1996 3382 2065 1045 3342 2008 2003 5665 4471 2017 2055 2009 4067 2017 1045 2097 3046 2000 2202 2115 6040 8299 1043 3148 6844 4012 4261 11387 12879 2692 2683 2546 2683 2050 2581 2620 22394 2575 19797 28311 4783 25746 14141 16576 2094 2620 2278 2546 5665 12717 19833 2072 4484 21242 2606 3609 3057 2007 7877 3057 2007 11937 3215 1998 3348 1999 1996 6457 2030 7198 14366 1045 2123 2102 2113 2339 3287 2821 3398 2092 2017 2342 2033 2138 10047 1996 2069 2028 2008 4282 2020 2566 8566 14693 2003 1998 2073 2008 2003 2003 2008 2002 2003 1999 9960 5473 2229 4226 1017 2023 2003 14395 14636 2027 19598 2075 2031 2000 2954 2005 2037 2157 2005 3510 2054 2785 1997 2088 2079 2057 2444 1999 2073 2619 2064 2102 5247 1996 2717 1997 2037 2166 2007 2037 3866 3924 2017 2113 2054 1045 3214 2061 10468 2054 2115 2063 3038 2003 2008 2138 2115 2063 3308 2060 2111 2031 2000 2228 2115 2063 2157 2065 1045 2018 2769 8909 6135 4965 2242 2013 2017 1045 2031 2009 22817 2021 1045 2031 2053 2801 2129 2000 2224 2009 2070 2393 102\n"
          ],
          "name": "stdout"
        },
        {
          "output_type": "stream",
          "text": [
            "INFO:tensorflow:input_ids: 101 1045 2131 1996 3382 2065 1045 3342 2008 2003 5665 4471 2017 2055 2009 4067 2017 1045 2097 3046 2000 2202 2115 6040 8299 1043 3148 6844 4012 4261 11387 12879 2692 2683 2546 2683 2050 2581 2620 22394 2575 19797 28311 4783 25746 14141 16576 2094 2620 2278 2546 5665 12717 19833 2072 4484 21242 2606 3609 3057 2007 7877 3057 2007 11937 3215 1998 3348 1999 1996 6457 2030 7198 14366 1045 2123 2102 2113 2339 3287 2821 3398 2092 2017 2342 2033 2138 10047 1996 2069 2028 2008 4282 2020 2566 8566 14693 2003 1998 2073 2008 2003 2003 2008 2002 2003 1999 9960 5473 2229 4226 1017 2023 2003 14395 14636 2027 19598 2075 2031 2000 2954 2005 2037 2157 2005 3510 2054 2785 1997 2088 2079 2057 2444 1999 2073 2619 2064 2102 5247 1996 2717 1997 2037 2166 2007 2037 3866 3924 2017 2113 2054 1045 3214 2061 10468 2054 2115 2063 3038 2003 2008 2138 2115 2063 3308 2060 2111 2031 2000 2228 2115 2063 2157 2065 1045 2018 2769 8909 6135 4965 2242 2013 2017 1045 2031 2009 22817 2021 1045 2031 2053 2801 2129 2000 2224 2009 2070 2393 102\n"
          ],
          "name": "stderr"
        },
        {
          "output_type": "stream",
          "text": [
            "INFO:tensorflow:input_mask: 1 1 1 1 1 1 1 1 1 1 1 1 1 1 1 1 1 1 1 1 1 1 1 1 1 1 1 1 1 1 1 1 1 1 1 1 1 1 1 1 1 1 1 1 1 1 1 1 1 1 1 1 1 1 1 1 1 1 1 1 1 1 1 1 1 1 1 1 1 1 1 1 1 1 1 1 1 1 1 1 1 1 1 1 1 1 1 1 1 1 1 1 1 1 1 1 1 1 1 1 1 1 1 1 1 1 1 1 1 1 1 1 1 1 1 1 1 1 1 1 1 1 1 1 1 1 1 1 1 1 1 1 1 1 1 1 1 1 1 1 1 1 1 1 1 1 1 1 1 1 1 1 1 1 1 1 1 1 1 1 1 1 1 1 1 1 1 1 1 1 1 1 1 1 1 1 1 1 1 1 1 1 1 1 1 1 1 1 1 1 1 1 1 1 1 1 1 1 1 1\n"
          ],
          "name": "stdout"
        },
        {
          "output_type": "stream",
          "text": [
            "INFO:tensorflow:input_mask: 1 1 1 1 1 1 1 1 1 1 1 1 1 1 1 1 1 1 1 1 1 1 1 1 1 1 1 1 1 1 1 1 1 1 1 1 1 1 1 1 1 1 1 1 1 1 1 1 1 1 1 1 1 1 1 1 1 1 1 1 1 1 1 1 1 1 1 1 1 1 1 1 1 1 1 1 1 1 1 1 1 1 1 1 1 1 1 1 1 1 1 1 1 1 1 1 1 1 1 1 1 1 1 1 1 1 1 1 1 1 1 1 1 1 1 1 1 1 1 1 1 1 1 1 1 1 1 1 1 1 1 1 1 1 1 1 1 1 1 1 1 1 1 1 1 1 1 1 1 1 1 1 1 1 1 1 1 1 1 1 1 1 1 1 1 1 1 1 1 1 1 1 1 1 1 1 1 1 1 1 1 1 1 1 1 1 1 1 1 1 1 1 1 1 1 1 1 1 1 1\n"
          ],
          "name": "stderr"
        },
        {
          "output_type": "stream",
          "text": [
            "INFO:tensorflow:segment_ids: 0 0 0 0 0 0 0 0 0 0 0 0 0 0 0 0 0 0 0 0 0 0 0 0 0 0 0 0 0 0 0 0 0 0 0 0 0 0 0 0 0 0 0 0 0 0 0 0 0 0 0 0 0 0 0 0 0 0 0 0 0 0 0 0 0 0 0 0 0 0 0 0 0 0 0 0 0 0 0 0 0 0 0 0 0 0 0 0 0 0 0 0 0 0 0 0 0 0 0 0 0 0 0 0 0 0 0 0 0 0 0 0 0 0 0 0 0 0 0 0 0 0 0 0 0 0 0 0 0 0 0 0 0 0 0 0 0 0 0 0 0 0 0 0 0 0 0 0 0 0 0 0 0 0 0 0 0 0 0 0 0 0 0 0 0 0 0 0 0 0 0 0 0 0 0 0 0 0 0 0 0 0 0 0 0 0 0 0 0 0 0 0 0 0 0 0 0 0 0 0\n"
          ],
          "name": "stdout"
        },
        {
          "output_type": "stream",
          "text": [
            "INFO:tensorflow:segment_ids: 0 0 0 0 0 0 0 0 0 0 0 0 0 0 0 0 0 0 0 0 0 0 0 0 0 0 0 0 0 0 0 0 0 0 0 0 0 0 0 0 0 0 0 0 0 0 0 0 0 0 0 0 0 0 0 0 0 0 0 0 0 0 0 0 0 0 0 0 0 0 0 0 0 0 0 0 0 0 0 0 0 0 0 0 0 0 0 0 0 0 0 0 0 0 0 0 0 0 0 0 0 0 0 0 0 0 0 0 0 0 0 0 0 0 0 0 0 0 0 0 0 0 0 0 0 0 0 0 0 0 0 0 0 0 0 0 0 0 0 0 0 0 0 0 0 0 0 0 0 0 0 0 0 0 0 0 0 0 0 0 0 0 0 0 0 0 0 0 0 0 0 0 0 0 0 0 0 0 0 0 0 0 0 0 0 0 0 0 0 0 0 0 0 0 0 0 0 0 0 0\n"
          ],
          "name": "stderr"
        },
        {
          "output_type": "stream",
          "text": [
            "INFO:tensorflow:label: [0 1 0] (id = [0, 1, 0])\n"
          ],
          "name": "stdout"
        },
        {
          "output_type": "stream",
          "text": [
            "INFO:tensorflow:label: [0 1 0] (id = [0, 1, 0])\n"
          ],
          "name": "stderr"
        },
        {
          "output_type": "stream",
          "text": [
            "INFO:tensorflow:Writing example 10000 of 20479\n"
          ],
          "name": "stdout"
        },
        {
          "output_type": "stream",
          "text": [
            "INFO:tensorflow:Writing example 10000 of 20479\n"
          ],
          "name": "stderr"
        },
        {
          "output_type": "stream",
          "text": [
            "INFO:tensorflow:Writing example 20000 of 20479\n"
          ],
          "name": "stdout"
        },
        {
          "output_type": "stream",
          "text": [
            "INFO:tensorflow:Writing example 20000 of 20479\n"
          ],
          "name": "stderr"
        }
      ]
    },
    {
      "cell_type": "code",
      "metadata": {
        "id": "oP2PrYYG55XK",
        "colab": {
          "base_uri": "https://localhost:8080/"
        },
        "outputId": "41b3c11b-950a-4760-ba93-55070af046a3"
      },
      "source": [
        "#Example on first observation in the training set\n",
        "print(\"Sentence : \", train_InputExamples.iloc[0].text_a)\n",
        "print(\"-\"*30)\n",
        "print(\"Tokens : \", tokenizer.tokenize(train_InputExamples.iloc[0].text_a))\n",
        "print(\"-\"*30)\n",
        "print(\"Input IDs : \", train_features[0].input_ids)\n",
        "print(\"-\"*30)\n",
        "print(\"Input Masks : \", train_features[0].input_mask)\n",
        "print(\"-\"*30)\n",
        "print(\"Segment IDs : \", train_features[0].segment_ids)\n",
        "print(\"-\"*30)\n",
        "print(\"Labels IDs : \", train_features[0].label_id)"
      ],
      "execution_count": null,
      "outputs": [
        {
          "output_type": "stream",
          "text": [
            "Sentence :  Yeah lots of people say that its the worst movie ever and it gets scores as low as 5 But I saw the movie today and its quite good in my opinion the ending is quite abrupt but I really dont get why people dislike it so much Youre right Im going to hell for this p More like Scumbag Gabe if you ask me OK http i imgur com 5pdWr jpg http i imgur com y0Lrp jpg Lets try this D Hmm I live there I might pass by Best one so far Good job Me and a couple of friends are planning to make a game in the near future using GM Ive been thinking however how does all the exportation to mobile devices work I mean I guess you cant just open an old project you made in GM S with an iOS module and export it Do the different modules require different programming in terms of input etc Or can we just make something in the normal version and buy Studio plus an Android module later if we think we made a decent game and export to iOS and or Android I would love some information\n",
            "------------------------------\n",
            "Tokens :  ['yeah', 'lots', 'of', 'people', 'say', 'that', 'its', 'the', 'worst', 'movie', 'ever', 'and', 'it', 'gets', 'scores', 'as', 'low', 'as', '5', 'but', 'i', 'saw', 'the', 'movie', 'today', 'and', 'its', 'quite', 'good', 'in', 'my', 'opinion', 'the', 'ending', 'is', 'quite', 'abrupt', 'but', 'i', 'really', 'don', '##t', 'get', 'why', 'people', 'dislike', 'it', 'so', 'much', 'your', '##e', 'right', 'im', 'going', 'to', 'hell', 'for', 'this', 'p', 'more', 'like', 'sc', '##umb', '##ag', 'gabe', 'if', 'you', 'ask', 'me', 'ok', 'http', 'i', 'im', '##gur', 'com', '5', '##pd', '##wr', 'jp', '##g', 'http', 'i', 'im', '##gur', 'com', 'y', '##0', '##lr', '##p', 'jp', '##g', 'lets', 'try', 'this', 'd', 'hmm', 'i', 'live', 'there', 'i', 'might', 'pass', 'by', 'best', 'one', 'so', 'far', 'good', 'job', 'me', 'and', 'a', 'couple', 'of', 'friends', 'are', 'planning', 'to', 'make', 'a', 'game', 'in', 'the', 'near', 'future', 'using', 'gm', 'iv', '##e', 'been', 'thinking', 'however', 'how', 'does', 'all', 'the', 'export', '##ation', 'to', 'mobile', 'devices', 'work', 'i', 'mean', 'i', 'guess', 'you', 'can', '##t', 'just', 'open', 'an', 'old', 'project', 'you', 'made', 'in', 'gm', 's', 'with', 'an', 'ios', 'module', 'and', 'export', 'it', 'do', 'the', 'different', 'modules', 'require', 'different', 'programming', 'in', 'terms', 'of', 'input', 'etc', 'or', 'can', 'we', 'just', 'make', 'something', 'in', 'the', 'normal', 'version', 'and', 'buy', 'studio', 'plus', 'an', 'android', 'module', 'later', 'if', 'we', 'think', 'we', 'made', 'a', 'decent', 'game', 'and', 'export', 'to', 'ios', 'and', 'or', 'android', 'i', 'would', 'love', 'some', 'information']\n",
            "------------------------------\n",
            "Input IDs :  [101, 3398, 7167, 1997, 2111, 2360, 2008, 2049, 1996, 5409, 3185, 2412, 1998, 2009, 4152, 7644, 2004, 2659, 2004, 1019, 2021, 1045, 2387, 1996, 3185, 2651, 1998, 2049, 3243, 2204, 1999, 2026, 5448, 1996, 4566, 2003, 3243, 18772, 2021, 1045, 2428, 2123, 2102, 2131, 2339, 2111, 18959, 2009, 2061, 2172, 2115, 2063, 2157, 10047, 2183, 2000, 3109, 2005, 2023, 1052, 2062, 2066, 8040, 25438, 8490, 12900, 2065, 2017, 3198, 2033, 7929, 8299, 1045, 10047, 27390, 4012, 1019, 17299, 13088, 16545, 2290, 8299, 1045, 10047, 27390, 4012, 1061, 2692, 20974, 2361, 16545, 2290, 11082, 3046, 2023, 1040, 17012, 1045, 2444, 2045, 1045, 2453, 3413, 2011, 2190, 2028, 2061, 2521, 2204, 3105, 2033, 1998, 1037, 3232, 1997, 2814, 2024, 4041, 2000, 2191, 1037, 2208, 1999, 1996, 2379, 2925, 2478, 13938, 4921, 2063, 2042, 3241, 2174, 2129, 2515, 2035, 1996, 9167, 3370, 2000, 4684, 5733, 2147, 1045, 2812, 1045, 3984, 2017, 2064, 2102, 2074, 2330, 2019, 2214, 2622, 2017, 2081, 1999, 13938, 1055, 2007, 2019, 16380, 11336, 1998, 9167, 2009, 2079, 1996, 2367, 14184, 5478, 2367, 4730, 1999, 3408, 1997, 7953, 4385, 2030, 2064, 2057, 2074, 2191, 2242, 1999, 1996, 3671, 2544, 1998, 4965, 2996, 4606, 2019, 11924, 11336, 2101, 2065, 2057, 102]\n",
            "------------------------------\n",
            "Input Masks :  [1, 1, 1, 1, 1, 1, 1, 1, 1, 1, 1, 1, 1, 1, 1, 1, 1, 1, 1, 1, 1, 1, 1, 1, 1, 1, 1, 1, 1, 1, 1, 1, 1, 1, 1, 1, 1, 1, 1, 1, 1, 1, 1, 1, 1, 1, 1, 1, 1, 1, 1, 1, 1, 1, 1, 1, 1, 1, 1, 1, 1, 1, 1, 1, 1, 1, 1, 1, 1, 1, 1, 1, 1, 1, 1, 1, 1, 1, 1, 1, 1, 1, 1, 1, 1, 1, 1, 1, 1, 1, 1, 1, 1, 1, 1, 1, 1, 1, 1, 1, 1, 1, 1, 1, 1, 1, 1, 1, 1, 1, 1, 1, 1, 1, 1, 1, 1, 1, 1, 1, 1, 1, 1, 1, 1, 1, 1, 1, 1, 1, 1, 1, 1, 1, 1, 1, 1, 1, 1, 1, 1, 1, 1, 1, 1, 1, 1, 1, 1, 1, 1, 1, 1, 1, 1, 1, 1, 1, 1, 1, 1, 1, 1, 1, 1, 1, 1, 1, 1, 1, 1, 1, 1, 1, 1, 1, 1, 1, 1, 1, 1, 1, 1, 1, 1, 1, 1, 1, 1, 1, 1, 1, 1, 1, 1, 1, 1, 1, 1, 1]\n",
            "------------------------------\n",
            "Segment IDs :  [0, 0, 0, 0, 0, 0, 0, 0, 0, 0, 0, 0, 0, 0, 0, 0, 0, 0, 0, 0, 0, 0, 0, 0, 0, 0, 0, 0, 0, 0, 0, 0, 0, 0, 0, 0, 0, 0, 0, 0, 0, 0, 0, 0, 0, 0, 0, 0, 0, 0, 0, 0, 0, 0, 0, 0, 0, 0, 0, 0, 0, 0, 0, 0, 0, 0, 0, 0, 0, 0, 0, 0, 0, 0, 0, 0, 0, 0, 0, 0, 0, 0, 0, 0, 0, 0, 0, 0, 0, 0, 0, 0, 0, 0, 0, 0, 0, 0, 0, 0, 0, 0, 0, 0, 0, 0, 0, 0, 0, 0, 0, 0, 0, 0, 0, 0, 0, 0, 0, 0, 0, 0, 0, 0, 0, 0, 0, 0, 0, 0, 0, 0, 0, 0, 0, 0, 0, 0, 0, 0, 0, 0, 0, 0, 0, 0, 0, 0, 0, 0, 0, 0, 0, 0, 0, 0, 0, 0, 0, 0, 0, 0, 0, 0, 0, 0, 0, 0, 0, 0, 0, 0, 0, 0, 0, 0, 0, 0, 0, 0, 0, 0, 0, 0, 0, 0, 0, 0, 0, 0, 0, 0, 0, 0, 0, 0, 0, 0, 0, 0]\n",
            "------------------------------\n",
            "Labels IDs :  [0, 0, 1]\n"
          ],
          "name": "stdout"
        }
      ]
    },
    {
      "cell_type": "markdown",
      "metadata": {
        "id": "kQRpsIDi6KNm"
      },
      "source": [
        "#### 1.4 BERT: Creating a Multi-Class Classifier Model"
      ]
    },
    {
      "cell_type": "code",
      "metadata": {
        "id": "fF3j_ZIJ6ED7"
      },
      "source": [
        "# BERT: Creating A Multi-Class Classifier Model\n",
        "\n",
        "BATCH_SIZE = 32 # 16 # 32 #64\n",
        "LEARNING_RATE = 2e-5\n",
        "NUM_TRAIN_EPOCHS = 3.0\n",
        "# Warmup is a period of time where the learning rate is small and gradually increases--usually helps training.\n",
        "WARMUP_PROPORTION = 0.1\n",
        "# Model configs\n",
        "SAVE_CHECKPOINTS_STEPS = 1000\n",
        "SAVE_SUMMARY_STEPS = 500\n",
        "\n",
        "# Compute train and warmup steps from batch size\n",
        "num_train_steps = int(len(train_features) / BATCH_SIZE * NUM_TRAIN_EPOCHS)\n",
        "num_warmup_steps = int(num_train_steps * WARMUP_PROPORTION)\n",
        "\n",
        "# Specify output directory and number of checkpoint steps to save\n",
        "run_config = tf.estimator.RunConfig(\n",
        "    model_dir=OUTPUT_DIR,\n",
        "    save_summary_steps=SAVE_SUMMARY_STEPS,\n",
        "    save_checkpoints_steps=SAVE_CHECKPOINTS_STEPS)"
      ],
      "execution_count": null,
      "outputs": []
    },
    {
      "cell_type": "code",
      "metadata": {
        "id": "wCA2ktoy55cx",
        "colab": {
          "base_uri": "https://localhost:8080/"
        },
        "outputId": "1d6b2006-f825-4823-f455-1c10ae99b6bf"
      },
      "source": [
        "num_train_steps, len(LABELS_SET_INDEX)"
      ],
      "execution_count": null,
      "outputs": [
        {
          "output_type": "execute_result",
          "data": {
            "text/plain": [
              "(9711, 3)"
            ]
          },
          "metadata": {
            "tags": []
          },
          "execution_count": 38
        }
      ]
    },
    {
      "cell_type": "code",
      "metadata": {
        "id": "kBG-7pDRxpef",
        "colab": {
          "base_uri": "https://localhost:8080/"
        },
        "outputId": "80ee7629-159a-4eea-d7f7-fbf15cb2304d"
      },
      "source": [
        "len(train_features)"
      ],
      "execution_count": null,
      "outputs": [
        {
          "output_type": "execute_result",
          "data": {
            "text/plain": [
              "103590"
            ]
          },
          "metadata": {
            "tags": []
          },
          "execution_count": 39
        }
      ]
    },
    {
      "cell_type": "code",
      "metadata": {
        "id": "WEvvMcyM6ZpQ",
        "colab": {
          "base_uri": "https://localhost:8080/"
        },
        "outputId": "8abd645f-b369-4722-8fcc-83a2691e8c50"
      },
      "source": [
        "#Initializing the model and the estimator\n",
        "model_fn = model_fn_builder(\n",
        "  num_labels=len(LABELS_SET),\n",
        "  learning_rate=LEARNING_RATE,\n",
        "  num_train_steps=num_train_steps,\n",
        "  num_warmup_steps=num_warmup_steps)\n",
        "\n",
        "estimator = tf.estimator.Estimator(\n",
        "  model_fn=model_fn,\n",
        "  config=run_config,\n",
        "  params={\"batch_size\": BATCH_SIZE})"
      ],
      "execution_count": null,
      "outputs": [
        {
          "output_type": "stream",
          "text": [
            "INFO:tensorflow:Using config: {'_model_dir': '/content/drive/My Drive/RecurrentNetworks/bert_multi_task', '_tf_random_seed': None, '_save_summary_steps': 500, '_save_checkpoints_steps': 1000, '_save_checkpoints_secs': None, '_session_config': allow_soft_placement: true\n",
            "graph_options {\n",
            "  rewrite_options {\n",
            "    meta_optimizer_iterations: ONE\n",
            "  }\n",
            "}\n",
            ", '_keep_checkpoint_max': 5, '_keep_checkpoint_every_n_hours': 10000, '_log_step_count_steps': 100, '_train_distribute': None, '_device_fn': None, '_protocol': None, '_eval_distribute': None, '_experimental_distribute': None, '_experimental_max_worker_delay_secs': None, '_session_creation_timeout_secs': 7200, '_service': None, '_cluster_spec': <tensorflow.python.training.server_lib.ClusterSpec object at 0x7f2b4c767710>, '_task_type': 'worker', '_task_id': 0, '_global_id_in_cluster': 0, '_master': '', '_evaluation_master': '', '_is_chief': True, '_num_ps_replicas': 0, '_num_worker_replicas': 1}\n"
          ],
          "name": "stdout"
        },
        {
          "output_type": "stream",
          "text": [
            "INFO:tensorflow:Using config: {'_model_dir': '/content/drive/My Drive/RecurrentNetworks/bert_multi_task', '_tf_random_seed': None, '_save_summary_steps': 500, '_save_checkpoints_steps': 1000, '_save_checkpoints_secs': None, '_session_config': allow_soft_placement: true\n",
            "graph_options {\n",
            "  rewrite_options {\n",
            "    meta_optimizer_iterations: ONE\n",
            "  }\n",
            "}\n",
            ", '_keep_checkpoint_max': 5, '_keep_checkpoint_every_n_hours': 10000, '_log_step_count_steps': 100, '_train_distribute': None, '_device_fn': None, '_protocol': None, '_eval_distribute': None, '_experimental_distribute': None, '_experimental_max_worker_delay_secs': None, '_session_creation_timeout_secs': 7200, '_service': None, '_cluster_spec': <tensorflow.python.training.server_lib.ClusterSpec object at 0x7f2b4c767710>, '_task_type': 'worker', '_task_id': 0, '_global_id_in_cluster': 0, '_master': '', '_evaluation_master': '', '_is_chief': True, '_num_ps_replicas': 0, '_num_worker_replicas': 1}\n"
          ],
          "name": "stderr"
        }
      ]
    },
    {
      "cell_type": "code",
      "metadata": {
        "id": "yUnhF2Lm6Zr7"
      },
      "source": [
        "# Create an input function for training. drop_remainder = True for using TPUs.\n",
        "train_input_fn = input_fn_builder(features=train_features,\n",
        "                                  seq_length=MAX_SEQ_LENGTH,\n",
        "                                  is_training=True,\n",
        "                                  drop_remainder=False)\n",
        "\n",
        "# Create an input function for validating. drop_remainder = True for using TPUs.\n",
        "val_input_fn = input_fn_builder(features=valid_features,\n",
        "                                seq_length=MAX_SEQ_LENGTH,\n",
        "                                is_training=False,\n",
        "                                drop_remainder=False)"
      ],
      "execution_count": null,
      "outputs": []
    },
    {
      "cell_type": "markdown",
      "metadata": {
        "id": "4PmZUp1P6kX2"
      },
      "source": [
        "#### 1.5 BERT: Fine Tuning Training & Evaluating"
      ]
    },
    {
      "cell_type": "code",
      "metadata": {
        "id": "dh5MVq6P6Zuy",
        "colab": {
          "base_uri": "https://localhost:8080/"
        },
        "outputId": "3a09384f-1a56-4f76-dfeb-a36c07e01e56"
      },
      "source": [
        "#Training the model\n",
        "print('Beginning Training!')\n",
        "current_time = datetime.now()\n",
        "estimator.train(input_fn=train_input_fn, max_steps=num_train_steps)\n",
        "print(\"Training took time \", datetime.now() - current_time)"
      ],
      "execution_count": null,
      "outputs": [
        {
          "output_type": "stream",
          "text": [
            "Beginning Training!\n",
            "WARNING:tensorflow:From /usr/local/lib/python3.6/dist-packages/tensorflow_core/python/training/training_util.py:236: Variable.initialized_value (from tensorflow.python.ops.variables) is deprecated and will be removed in a future version.\n",
            "Instructions for updating:\n",
            "Use Variable.read_value. Variables in 2.X are initialized automatically both in eager and graph (inside tf.defun) contexts.\n"
          ],
          "name": "stdout"
        },
        {
          "output_type": "stream",
          "text": [
            "WARNING:tensorflow:From /usr/local/lib/python3.6/dist-packages/tensorflow_core/python/training/training_util.py:236: Variable.initialized_value (from tensorflow.python.ops.variables) is deprecated and will be removed in a future version.\n",
            "Instructions for updating:\n",
            "Use Variable.read_value. Variables in 2.X are initialized automatically both in eager and graph (inside tf.defun) contexts.\n"
          ],
          "name": "stderr"
        },
        {
          "output_type": "stream",
          "text": [
            "INFO:tensorflow:Calling model_fn.\n"
          ],
          "name": "stdout"
        },
        {
          "output_type": "stream",
          "text": [
            "INFO:tensorflow:Calling model_fn.\n"
          ],
          "name": "stderr"
        },
        {
          "output_type": "stream",
          "text": [
            "INFO:tensorflow:Saver not created because there are no variables in the graph to restore\n"
          ],
          "name": "stdout"
        },
        {
          "output_type": "stream",
          "text": [
            "INFO:tensorflow:Saver not created because there are no variables in the graph to restore\n"
          ],
          "name": "stderr"
        },
        {
          "output_type": "stream",
          "text": [
            "WARNING:tensorflow:From <ipython-input-20-9c8ef075da06>:35: calling dropout (from tensorflow.python.ops.nn_ops) with keep_prob is deprecated and will be removed in a future version.\n",
            "Instructions for updating:\n",
            "Please use `rate` instead of `keep_prob`. Rate should be set to `rate = 1 - keep_prob`.\n"
          ],
          "name": "stdout"
        },
        {
          "output_type": "stream",
          "text": [
            "WARNING:tensorflow:From <ipython-input-20-9c8ef075da06>:35: calling dropout (from tensorflow.python.ops.nn_ops) with keep_prob is deprecated and will be removed in a future version.\n",
            "Instructions for updating:\n",
            "Please use `rate` instead of `keep_prob`. Rate should be set to `rate = 1 - keep_prob`.\n"
          ],
          "name": "stderr"
        },
        {
          "output_type": "stream",
          "text": [
            "WARNING:tensorflow:From /usr/local/lib/python3.6/dist-packages/tensorflow_core/python/ops/nn_impl.py:183: where (from tensorflow.python.ops.array_ops) is deprecated and will be removed in a future version.\n",
            "Instructions for updating:\n",
            "Use tf.where in 2.0, which has the same broadcast rule as np.where\n"
          ],
          "name": "stdout"
        },
        {
          "output_type": "stream",
          "text": [
            "WARNING:tensorflow:From /usr/local/lib/python3.6/dist-packages/tensorflow_core/python/ops/nn_impl.py:183: where (from tensorflow.python.ops.array_ops) is deprecated and will be removed in a future version.\n",
            "Instructions for updating:\n",
            "Use tf.where in 2.0, which has the same broadcast rule as np.where\n"
          ],
          "name": "stderr"
        },
        {
          "output_type": "stream",
          "text": [
            "INFO:tensorflow:loss:Tensor(\"loss/Mean:0\", shape=(), dtype=float32);predicted_labels:Tensor(\"loss/Round:0\", shape=(?, 3), dtype=float32);log_probsTensor(\"loss/Sigmoid:0\", shape=(?, 3), dtype=float32);labels:Tensor(\"Cast:0\", shape=(?, 3), dtype=float32)\n"
          ],
          "name": "stdout"
        },
        {
          "output_type": "stream",
          "text": [
            "INFO:tensorflow:loss:Tensor(\"loss/Mean:0\", shape=(), dtype=float32);predicted_labels:Tensor(\"loss/Round:0\", shape=(?, 3), dtype=float32);log_probsTensor(\"loss/Sigmoid:0\", shape=(?, 3), dtype=float32);labels:Tensor(\"Cast:0\", shape=(?, 3), dtype=float32)\n"
          ],
          "name": "stderr"
        },
        {
          "output_type": "stream",
          "text": [
            "WARNING:tensorflow:From /usr/local/lib/python3.6/dist-packages/bert/optimization.py:27: The name tf.train.get_or_create_global_step is deprecated. Please use tf.compat.v1.train.get_or_create_global_step instead.\n",
            "\n"
          ],
          "name": "stdout"
        },
        {
          "output_type": "stream",
          "text": [
            "WARNING:tensorflow:From /usr/local/lib/python3.6/dist-packages/bert/optimization.py:27: The name tf.train.get_or_create_global_step is deprecated. Please use tf.compat.v1.train.get_or_create_global_step instead.\n",
            "\n"
          ],
          "name": "stderr"
        },
        {
          "output_type": "stream",
          "text": [
            "WARNING:tensorflow:From /usr/local/lib/python3.6/dist-packages/bert/optimization.py:32: The name tf.train.polynomial_decay is deprecated. Please use tf.compat.v1.train.polynomial_decay instead.\n",
            "\n"
          ],
          "name": "stdout"
        },
        {
          "output_type": "stream",
          "text": [
            "WARNING:tensorflow:From /usr/local/lib/python3.6/dist-packages/bert/optimization.py:32: The name tf.train.polynomial_decay is deprecated. Please use tf.compat.v1.train.polynomial_decay instead.\n",
            "\n"
          ],
          "name": "stderr"
        },
        {
          "output_type": "stream",
          "text": [
            "WARNING:tensorflow:From /usr/local/lib/python3.6/dist-packages/bert/optimization.py:70: The name tf.trainable_variables is deprecated. Please use tf.compat.v1.trainable_variables instead.\n",
            "\n"
          ],
          "name": "stdout"
        },
        {
          "output_type": "stream",
          "text": [
            "WARNING:tensorflow:From /usr/local/lib/python3.6/dist-packages/bert/optimization.py:70: The name tf.trainable_variables is deprecated. Please use tf.compat.v1.trainable_variables instead.\n",
            "\n"
          ],
          "name": "stderr"
        },
        {
          "output_type": "stream",
          "text": [
            "INFO:tensorflow:Done calling model_fn.\n"
          ],
          "name": "stdout"
        },
        {
          "output_type": "stream",
          "text": [
            "INFO:tensorflow:Done calling model_fn.\n"
          ],
          "name": "stderr"
        },
        {
          "output_type": "stream",
          "text": [
            "INFO:tensorflow:Create CheckpointSaverHook.\n"
          ],
          "name": "stdout"
        },
        {
          "output_type": "stream",
          "text": [
            "INFO:tensorflow:Create CheckpointSaverHook.\n"
          ],
          "name": "stderr"
        },
        {
          "output_type": "stream",
          "text": [
            "INFO:tensorflow:Graph was finalized.\n"
          ],
          "name": "stdout"
        },
        {
          "output_type": "stream",
          "text": [
            "INFO:tensorflow:Graph was finalized.\n"
          ],
          "name": "stderr"
        },
        {
          "output_type": "stream",
          "text": [
            "INFO:tensorflow:Running local_init_op.\n"
          ],
          "name": "stdout"
        },
        {
          "output_type": "stream",
          "text": [
            "INFO:tensorflow:Running local_init_op.\n"
          ],
          "name": "stderr"
        },
        {
          "output_type": "stream",
          "text": [
            "INFO:tensorflow:Done running local_init_op.\n"
          ],
          "name": "stdout"
        },
        {
          "output_type": "stream",
          "text": [
            "INFO:tensorflow:Done running local_init_op.\n"
          ],
          "name": "stderr"
        },
        {
          "output_type": "stream",
          "text": [
            "INFO:tensorflow:Saving checkpoints for 0 into /content/drive/My Drive/RecurrentNetworks/bert_multi_task/model.ckpt.\n"
          ],
          "name": "stdout"
        },
        {
          "output_type": "stream",
          "text": [
            "INFO:tensorflow:Saving checkpoints for 0 into /content/drive/My Drive/RecurrentNetworks/bert_multi_task/model.ckpt.\n"
          ],
          "name": "stderr"
        },
        {
          "output_type": "stream",
          "text": [
            "INFO:tensorflow:loss = 0.63228744, step = 0\n"
          ],
          "name": "stdout"
        },
        {
          "output_type": "stream",
          "text": [
            "INFO:tensorflow:loss = 0.63228744, step = 0\n"
          ],
          "name": "stderr"
        },
        {
          "output_type": "stream",
          "text": [
            "INFO:tensorflow:global_step/sec: 0.665612\n"
          ],
          "name": "stdout"
        },
        {
          "output_type": "stream",
          "text": [
            "INFO:tensorflow:global_step/sec: 0.665612\n"
          ],
          "name": "stderr"
        },
        {
          "output_type": "stream",
          "text": [
            "INFO:tensorflow:loss = 0.7245162, step = 100 (150.165 sec)\n"
          ],
          "name": "stdout"
        },
        {
          "output_type": "stream",
          "text": [
            "INFO:tensorflow:loss = 0.7245162, step = 100 (150.165 sec)\n"
          ],
          "name": "stderr"
        },
        {
          "output_type": "stream",
          "text": [
            "INFO:tensorflow:global_step/sec: 0.715311\n"
          ],
          "name": "stdout"
        },
        {
          "output_type": "stream",
          "text": [
            "INFO:tensorflow:global_step/sec: 0.715311\n"
          ],
          "name": "stderr"
        },
        {
          "output_type": "stream",
          "text": [
            "INFO:tensorflow:loss = 0.67713195, step = 200 (139.792 sec)\n"
          ],
          "name": "stdout"
        },
        {
          "output_type": "stream",
          "text": [
            "INFO:tensorflow:loss = 0.67713195, step = 200 (139.792 sec)\n"
          ],
          "name": "stderr"
        },
        {
          "output_type": "stream",
          "text": [
            "INFO:tensorflow:global_step/sec: 0.715157\n"
          ],
          "name": "stdout"
        },
        {
          "output_type": "stream",
          "text": [
            "INFO:tensorflow:global_step/sec: 0.715157\n"
          ],
          "name": "stderr"
        },
        {
          "output_type": "stream",
          "text": [
            "INFO:tensorflow:loss = 0.65139365, step = 300 (139.830 sec)\n"
          ],
          "name": "stdout"
        },
        {
          "output_type": "stream",
          "text": [
            "INFO:tensorflow:loss = 0.65139365, step = 300 (139.830 sec)\n"
          ],
          "name": "stderr"
        },
        {
          "output_type": "stream",
          "text": [
            "INFO:tensorflow:global_step/sec: 0.71471\n"
          ],
          "name": "stdout"
        },
        {
          "output_type": "stream",
          "text": [
            "INFO:tensorflow:global_step/sec: 0.71471\n"
          ],
          "name": "stderr"
        },
        {
          "output_type": "stream",
          "text": [
            "INFO:tensorflow:loss = 0.6884268, step = 400 (139.917 sec)\n"
          ],
          "name": "stdout"
        },
        {
          "output_type": "stream",
          "text": [
            "INFO:tensorflow:loss = 0.6884268, step = 400 (139.917 sec)\n"
          ],
          "name": "stderr"
        },
        {
          "output_type": "stream",
          "text": [
            "INFO:tensorflow:global_step/sec: 0.69332\n"
          ],
          "name": "stdout"
        },
        {
          "output_type": "stream",
          "text": [
            "INFO:tensorflow:global_step/sec: 0.69332\n"
          ],
          "name": "stderr"
        },
        {
          "output_type": "stream",
          "text": [
            "INFO:tensorflow:loss = 0.73608446, step = 500 (144.235 sec)\n"
          ],
          "name": "stdout"
        },
        {
          "output_type": "stream",
          "text": [
            "INFO:tensorflow:loss = 0.73608446, step = 500 (144.235 sec)\n"
          ],
          "name": "stderr"
        },
        {
          "output_type": "stream",
          "text": [
            "INFO:tensorflow:global_step/sec: 0.713584\n"
          ],
          "name": "stdout"
        },
        {
          "output_type": "stream",
          "text": [
            "INFO:tensorflow:global_step/sec: 0.713584\n"
          ],
          "name": "stderr"
        },
        {
          "output_type": "stream",
          "text": [
            "INFO:tensorflow:loss = 0.52855146, step = 600 (140.136 sec)\n"
          ],
          "name": "stdout"
        },
        {
          "output_type": "stream",
          "text": [
            "INFO:tensorflow:loss = 0.52855146, step = 600 (140.136 sec)\n"
          ],
          "name": "stderr"
        },
        {
          "output_type": "stream",
          "text": [
            "INFO:tensorflow:global_step/sec: 0.714988\n"
          ],
          "name": "stdout"
        },
        {
          "output_type": "stream",
          "text": [
            "INFO:tensorflow:global_step/sec: 0.714988\n"
          ],
          "name": "stderr"
        },
        {
          "output_type": "stream",
          "text": [
            "INFO:tensorflow:loss = 0.4436288, step = 700 (139.864 sec)\n"
          ],
          "name": "stdout"
        },
        {
          "output_type": "stream",
          "text": [
            "INFO:tensorflow:loss = 0.4436288, step = 700 (139.864 sec)\n"
          ],
          "name": "stderr"
        },
        {
          "output_type": "stream",
          "text": [
            "INFO:tensorflow:global_step/sec: 0.714367\n"
          ],
          "name": "stdout"
        },
        {
          "output_type": "stream",
          "text": [
            "INFO:tensorflow:global_step/sec: 0.714367\n"
          ],
          "name": "stderr"
        },
        {
          "output_type": "stream",
          "text": [
            "INFO:tensorflow:loss = 0.6341873, step = 800 (139.983 sec)\n"
          ],
          "name": "stdout"
        },
        {
          "output_type": "stream",
          "text": [
            "INFO:tensorflow:loss = 0.6341873, step = 800 (139.983 sec)\n"
          ],
          "name": "stderr"
        },
        {
          "output_type": "stream",
          "text": [
            "INFO:tensorflow:global_step/sec: 0.714752\n"
          ],
          "name": "stdout"
        },
        {
          "output_type": "stream",
          "text": [
            "INFO:tensorflow:global_step/sec: 0.714752\n"
          ],
          "name": "stderr"
        },
        {
          "output_type": "stream",
          "text": [
            "INFO:tensorflow:loss = 0.66895646, step = 900 (139.908 sec)\n"
          ],
          "name": "stdout"
        },
        {
          "output_type": "stream",
          "text": [
            "INFO:tensorflow:loss = 0.66895646, step = 900 (139.908 sec)\n"
          ],
          "name": "stderr"
        },
        {
          "output_type": "stream",
          "text": [
            "INFO:tensorflow:Saving checkpoints for 1000 into /content/drive/My Drive/RecurrentNetworks/bert_multi_task/model.ckpt.\n"
          ],
          "name": "stdout"
        },
        {
          "output_type": "stream",
          "text": [
            "INFO:tensorflow:Saving checkpoints for 1000 into /content/drive/My Drive/RecurrentNetworks/bert_multi_task/model.ckpt.\n"
          ],
          "name": "stderr"
        },
        {
          "output_type": "stream",
          "text": [
            "INFO:tensorflow:global_step/sec: 0.669107\n"
          ],
          "name": "stdout"
        },
        {
          "output_type": "stream",
          "text": [
            "INFO:tensorflow:global_step/sec: 0.669107\n"
          ],
          "name": "stderr"
        },
        {
          "output_type": "stream",
          "text": [
            "INFO:tensorflow:loss = 0.60234904, step = 1000 (149.454 sec)\n"
          ],
          "name": "stdout"
        },
        {
          "output_type": "stream",
          "text": [
            "INFO:tensorflow:loss = 0.60234904, step = 1000 (149.454 sec)\n"
          ],
          "name": "stderr"
        },
        {
          "output_type": "stream",
          "text": [
            "INFO:tensorflow:global_step/sec: 0.712225\n"
          ],
          "name": "stdout"
        },
        {
          "output_type": "stream",
          "text": [
            "INFO:tensorflow:global_step/sec: 0.712225\n"
          ],
          "name": "stderr"
        },
        {
          "output_type": "stream",
          "text": [
            "INFO:tensorflow:loss = 0.6844116, step = 1100 (140.411 sec)\n"
          ],
          "name": "stdout"
        },
        {
          "output_type": "stream",
          "text": [
            "INFO:tensorflow:loss = 0.6844116, step = 1100 (140.411 sec)\n"
          ],
          "name": "stderr"
        },
        {
          "output_type": "stream",
          "text": [
            "INFO:tensorflow:global_step/sec: 0.714527\n"
          ],
          "name": "stdout"
        },
        {
          "output_type": "stream",
          "text": [
            "INFO:tensorflow:global_step/sec: 0.714527\n"
          ],
          "name": "stderr"
        },
        {
          "output_type": "stream",
          "text": [
            "INFO:tensorflow:loss = 0.43597817, step = 1200 (139.946 sec)\n"
          ],
          "name": "stdout"
        },
        {
          "output_type": "stream",
          "text": [
            "INFO:tensorflow:loss = 0.43597817, step = 1200 (139.946 sec)\n"
          ],
          "name": "stderr"
        },
        {
          "output_type": "stream",
          "text": [
            "INFO:tensorflow:global_step/sec: 0.715227\n"
          ],
          "name": "stdout"
        },
        {
          "output_type": "stream",
          "text": [
            "INFO:tensorflow:global_step/sec: 0.715227\n"
          ],
          "name": "stderr"
        },
        {
          "output_type": "stream",
          "text": [
            "INFO:tensorflow:loss = 0.5581571, step = 1300 (139.817 sec)\n"
          ],
          "name": "stdout"
        },
        {
          "output_type": "stream",
          "text": [
            "INFO:tensorflow:loss = 0.5581571, step = 1300 (139.817 sec)\n"
          ],
          "name": "stderr"
        },
        {
          "output_type": "stream",
          "text": [
            "INFO:tensorflow:global_step/sec: 0.71405\n"
          ],
          "name": "stdout"
        },
        {
          "output_type": "stream",
          "text": [
            "INFO:tensorflow:global_step/sec: 0.71405\n"
          ],
          "name": "stderr"
        },
        {
          "output_type": "stream",
          "text": [
            "INFO:tensorflow:loss = 0.2523298, step = 1400 (140.046 sec)\n"
          ],
          "name": "stdout"
        },
        {
          "output_type": "stream",
          "text": [
            "INFO:tensorflow:loss = 0.2523298, step = 1400 (140.046 sec)\n"
          ],
          "name": "stderr"
        },
        {
          "output_type": "stream",
          "text": [
            "INFO:tensorflow:global_step/sec: 0.715295\n"
          ],
          "name": "stdout"
        },
        {
          "output_type": "stream",
          "text": [
            "INFO:tensorflow:global_step/sec: 0.715295\n"
          ],
          "name": "stderr"
        },
        {
          "output_type": "stream",
          "text": [
            "INFO:tensorflow:loss = 0.1782819, step = 1500 (139.802 sec)\n"
          ],
          "name": "stdout"
        },
        {
          "output_type": "stream",
          "text": [
            "INFO:tensorflow:loss = 0.1782819, step = 1500 (139.802 sec)\n"
          ],
          "name": "stderr"
        },
        {
          "output_type": "stream",
          "text": [
            "INFO:tensorflow:global_step/sec: 0.715026\n"
          ],
          "name": "stdout"
        },
        {
          "output_type": "stream",
          "text": [
            "INFO:tensorflow:global_step/sec: 0.715026\n"
          ],
          "name": "stderr"
        },
        {
          "output_type": "stream",
          "text": [
            "INFO:tensorflow:loss = 0.68237704, step = 1600 (139.855 sec)\n"
          ],
          "name": "stdout"
        },
        {
          "output_type": "stream",
          "text": [
            "INFO:tensorflow:loss = 0.68237704, step = 1600 (139.855 sec)\n"
          ],
          "name": "stderr"
        },
        {
          "output_type": "stream",
          "text": [
            "INFO:tensorflow:global_step/sec: 0.71482\n"
          ],
          "name": "stdout"
        },
        {
          "output_type": "stream",
          "text": [
            "INFO:tensorflow:global_step/sec: 0.71482\n"
          ],
          "name": "stderr"
        },
        {
          "output_type": "stream",
          "text": [
            "INFO:tensorflow:loss = 0.65320665, step = 1700 (139.896 sec)\n"
          ],
          "name": "stdout"
        },
        {
          "output_type": "stream",
          "text": [
            "INFO:tensorflow:loss = 0.65320665, step = 1700 (139.896 sec)\n"
          ],
          "name": "stderr"
        },
        {
          "output_type": "stream",
          "text": [
            "INFO:tensorflow:global_step/sec: 0.715209\n"
          ],
          "name": "stdout"
        },
        {
          "output_type": "stream",
          "text": [
            "INFO:tensorflow:global_step/sec: 0.715209\n"
          ],
          "name": "stderr"
        },
        {
          "output_type": "stream",
          "text": [
            "INFO:tensorflow:loss = 0.69529134, step = 1800 (139.819 sec)\n"
          ],
          "name": "stdout"
        },
        {
          "output_type": "stream",
          "text": [
            "INFO:tensorflow:loss = 0.69529134, step = 1800 (139.819 sec)\n"
          ],
          "name": "stderr"
        },
        {
          "output_type": "stream",
          "text": [
            "INFO:tensorflow:global_step/sec: 0.715134\n"
          ],
          "name": "stdout"
        },
        {
          "output_type": "stream",
          "text": [
            "INFO:tensorflow:global_step/sec: 0.715134\n"
          ],
          "name": "stderr"
        },
        {
          "output_type": "stream",
          "text": [
            "INFO:tensorflow:loss = 0.29337636, step = 1900 (139.837 sec)\n"
          ],
          "name": "stdout"
        },
        {
          "output_type": "stream",
          "text": [
            "INFO:tensorflow:loss = 0.29337636, step = 1900 (139.837 sec)\n"
          ],
          "name": "stderr"
        },
        {
          "output_type": "stream",
          "text": [
            "INFO:tensorflow:Saving checkpoints for 2000 into /content/drive/My Drive/RecurrentNetworks/bert_multi_task/model.ckpt.\n"
          ],
          "name": "stdout"
        },
        {
          "output_type": "stream",
          "text": [
            "INFO:tensorflow:Saving checkpoints for 2000 into /content/drive/My Drive/RecurrentNetworks/bert_multi_task/model.ckpt.\n"
          ],
          "name": "stderr"
        },
        {
          "output_type": "stream",
          "text": [
            "INFO:tensorflow:global_step/sec: 0.669786\n"
          ],
          "name": "stdout"
        },
        {
          "output_type": "stream",
          "text": [
            "INFO:tensorflow:global_step/sec: 0.669786\n"
          ],
          "name": "stderr"
        },
        {
          "output_type": "stream",
          "text": [
            "INFO:tensorflow:loss = 0.7443549, step = 2000 (149.299 sec)\n"
          ],
          "name": "stdout"
        },
        {
          "output_type": "stream",
          "text": [
            "INFO:tensorflow:loss = 0.7443549, step = 2000 (149.299 sec)\n"
          ],
          "name": "stderr"
        },
        {
          "output_type": "stream",
          "text": [
            "INFO:tensorflow:global_step/sec: 0.712446\n"
          ],
          "name": "stdout"
        },
        {
          "output_type": "stream",
          "text": [
            "INFO:tensorflow:global_step/sec: 0.712446\n"
          ],
          "name": "stderr"
        },
        {
          "output_type": "stream",
          "text": [
            "INFO:tensorflow:loss = 0.61180454, step = 2100 (140.360 sec)\n"
          ],
          "name": "stdout"
        },
        {
          "output_type": "stream",
          "text": [
            "INFO:tensorflow:loss = 0.61180454, step = 2100 (140.360 sec)\n"
          ],
          "name": "stderr"
        },
        {
          "output_type": "stream",
          "text": [
            "INFO:tensorflow:global_step/sec: 0.712888\n"
          ],
          "name": "stdout"
        },
        {
          "output_type": "stream",
          "text": [
            "INFO:tensorflow:global_step/sec: 0.712888\n"
          ],
          "name": "stderr"
        },
        {
          "output_type": "stream",
          "text": [
            "INFO:tensorflow:loss = 0.7106703, step = 2200 (140.277 sec)\n"
          ],
          "name": "stdout"
        },
        {
          "output_type": "stream",
          "text": [
            "INFO:tensorflow:loss = 0.7106703, step = 2200 (140.277 sec)\n"
          ],
          "name": "stderr"
        },
        {
          "output_type": "stream",
          "text": [
            "INFO:tensorflow:global_step/sec: 0.713993\n"
          ],
          "name": "stdout"
        },
        {
          "output_type": "stream",
          "text": [
            "INFO:tensorflow:global_step/sec: 0.713993\n"
          ],
          "name": "stderr"
        },
        {
          "output_type": "stream",
          "text": [
            "INFO:tensorflow:loss = 0.4116335, step = 2300 (140.057 sec)\n"
          ],
          "name": "stdout"
        },
        {
          "output_type": "stream",
          "text": [
            "INFO:tensorflow:loss = 0.4116335, step = 2300 (140.057 sec)\n"
          ],
          "name": "stderr"
        },
        {
          "output_type": "stream",
          "text": [
            "INFO:tensorflow:global_step/sec: 0.71505\n"
          ],
          "name": "stdout"
        },
        {
          "output_type": "stream",
          "text": [
            "INFO:tensorflow:global_step/sec: 0.71505\n"
          ],
          "name": "stderr"
        },
        {
          "output_type": "stream",
          "text": [
            "INFO:tensorflow:loss = 0.43529013, step = 2400 (139.848 sec)\n"
          ],
          "name": "stdout"
        },
        {
          "output_type": "stream",
          "text": [
            "INFO:tensorflow:loss = 0.43529013, step = 2400 (139.848 sec)\n"
          ],
          "name": "stderr"
        },
        {
          "output_type": "stream",
          "text": [
            "INFO:tensorflow:global_step/sec: 0.715305\n"
          ],
          "name": "stdout"
        },
        {
          "output_type": "stream",
          "text": [
            "INFO:tensorflow:global_step/sec: 0.715305\n"
          ],
          "name": "stderr"
        },
        {
          "output_type": "stream",
          "text": [
            "INFO:tensorflow:loss = 0.58875793, step = 2500 (139.802 sec)\n"
          ],
          "name": "stdout"
        },
        {
          "output_type": "stream",
          "text": [
            "INFO:tensorflow:loss = 0.58875793, step = 2500 (139.802 sec)\n"
          ],
          "name": "stderr"
        },
        {
          "output_type": "stream",
          "text": [
            "INFO:tensorflow:global_step/sec: 0.714862\n"
          ],
          "name": "stdout"
        },
        {
          "output_type": "stream",
          "text": [
            "INFO:tensorflow:global_step/sec: 0.714862\n"
          ],
          "name": "stderr"
        },
        {
          "output_type": "stream",
          "text": [
            "INFO:tensorflow:loss = 0.46863082, step = 2600 (139.886 sec)\n"
          ],
          "name": "stdout"
        },
        {
          "output_type": "stream",
          "text": [
            "INFO:tensorflow:loss = 0.46863082, step = 2600 (139.886 sec)\n"
          ],
          "name": "stderr"
        },
        {
          "output_type": "stream",
          "text": [
            "INFO:tensorflow:global_step/sec: 0.715235\n"
          ],
          "name": "stdout"
        },
        {
          "output_type": "stream",
          "text": [
            "INFO:tensorflow:global_step/sec: 0.715235\n"
          ],
          "name": "stderr"
        },
        {
          "output_type": "stream",
          "text": [
            "INFO:tensorflow:loss = 0.69608545, step = 2700 (139.818 sec)\n"
          ],
          "name": "stdout"
        },
        {
          "output_type": "stream",
          "text": [
            "INFO:tensorflow:loss = 0.69608545, step = 2700 (139.818 sec)\n"
          ],
          "name": "stderr"
        },
        {
          "output_type": "stream",
          "text": [
            "INFO:tensorflow:global_step/sec: 0.71528\n"
          ],
          "name": "stdout"
        },
        {
          "output_type": "stream",
          "text": [
            "INFO:tensorflow:global_step/sec: 0.71528\n"
          ],
          "name": "stderr"
        },
        {
          "output_type": "stream",
          "text": [
            "INFO:tensorflow:loss = 0.6748465, step = 2800 (139.801 sec)\n"
          ],
          "name": "stdout"
        },
        {
          "output_type": "stream",
          "text": [
            "INFO:tensorflow:loss = 0.6748465, step = 2800 (139.801 sec)\n"
          ],
          "name": "stderr"
        },
        {
          "output_type": "stream",
          "text": [
            "INFO:tensorflow:global_step/sec: 0.714746\n"
          ],
          "name": "stdout"
        },
        {
          "output_type": "stream",
          "text": [
            "INFO:tensorflow:global_step/sec: 0.714746\n"
          ],
          "name": "stderr"
        },
        {
          "output_type": "stream",
          "text": [
            "INFO:tensorflow:loss = 0.3352941, step = 2900 (139.910 sec)\n"
          ],
          "name": "stdout"
        },
        {
          "output_type": "stream",
          "text": [
            "INFO:tensorflow:loss = 0.3352941, step = 2900 (139.910 sec)\n"
          ],
          "name": "stderr"
        },
        {
          "output_type": "stream",
          "text": [
            "INFO:tensorflow:Saving checkpoints for 3000 into /content/drive/My Drive/RecurrentNetworks/bert_multi_task/model.ckpt.\n"
          ],
          "name": "stdout"
        },
        {
          "output_type": "stream",
          "text": [
            "INFO:tensorflow:Saving checkpoints for 3000 into /content/drive/My Drive/RecurrentNetworks/bert_multi_task/model.ckpt.\n"
          ],
          "name": "stderr"
        },
        {
          "output_type": "stream",
          "text": [
            "INFO:tensorflow:global_step/sec: 0.662622\n"
          ],
          "name": "stdout"
        },
        {
          "output_type": "stream",
          "text": [
            "INFO:tensorflow:global_step/sec: 0.662622\n"
          ],
          "name": "stderr"
        },
        {
          "output_type": "stream",
          "text": [
            "INFO:tensorflow:loss = 0.43938342, step = 3000 (150.917 sec)\n"
          ],
          "name": "stdout"
        },
        {
          "output_type": "stream",
          "text": [
            "INFO:tensorflow:loss = 0.43938342, step = 3000 (150.917 sec)\n"
          ],
          "name": "stderr"
        },
        {
          "output_type": "stream",
          "text": [
            "INFO:tensorflow:global_step/sec: 0.712279\n"
          ],
          "name": "stdout"
        },
        {
          "output_type": "stream",
          "text": [
            "INFO:tensorflow:global_step/sec: 0.712279\n"
          ],
          "name": "stderr"
        },
        {
          "output_type": "stream",
          "text": [
            "INFO:tensorflow:loss = 0.44355723, step = 3100 (140.393 sec)\n"
          ],
          "name": "stdout"
        },
        {
          "output_type": "stream",
          "text": [
            "INFO:tensorflow:loss = 0.44355723, step = 3100 (140.393 sec)\n"
          ],
          "name": "stderr"
        },
        {
          "output_type": "stream",
          "text": [
            "INFO:tensorflow:global_step/sec: 0.714622\n"
          ],
          "name": "stdout"
        },
        {
          "output_type": "stream",
          "text": [
            "INFO:tensorflow:global_step/sec: 0.714622\n"
          ],
          "name": "stderr"
        },
        {
          "output_type": "stream",
          "text": [
            "INFO:tensorflow:loss = 0.66358155, step = 3200 (139.934 sec)\n"
          ],
          "name": "stdout"
        },
        {
          "output_type": "stream",
          "text": [
            "INFO:tensorflow:loss = 0.66358155, step = 3200 (139.934 sec)\n"
          ],
          "name": "stderr"
        },
        {
          "output_type": "stream",
          "text": [
            "INFO:tensorflow:global_step/sec: 0.714824\n"
          ],
          "name": "stdout"
        },
        {
          "output_type": "stream",
          "text": [
            "INFO:tensorflow:global_step/sec: 0.714824\n"
          ],
          "name": "stderr"
        },
        {
          "output_type": "stream",
          "text": [
            "INFO:tensorflow:loss = 0.48014703, step = 3300 (139.896 sec)\n"
          ],
          "name": "stdout"
        },
        {
          "output_type": "stream",
          "text": [
            "INFO:tensorflow:loss = 0.48014703, step = 3300 (139.896 sec)\n"
          ],
          "name": "stderr"
        },
        {
          "output_type": "stream",
          "text": [
            "INFO:tensorflow:global_step/sec: 0.71507\n"
          ],
          "name": "stdout"
        },
        {
          "output_type": "stream",
          "text": [
            "INFO:tensorflow:global_step/sec: 0.71507\n"
          ],
          "name": "stderr"
        },
        {
          "output_type": "stream",
          "text": [
            "INFO:tensorflow:loss = 0.41803405, step = 3400 (139.845 sec)\n"
          ],
          "name": "stdout"
        },
        {
          "output_type": "stream",
          "text": [
            "INFO:tensorflow:loss = 0.41803405, step = 3400 (139.845 sec)\n"
          ],
          "name": "stderr"
        },
        {
          "output_type": "stream",
          "text": [
            "INFO:tensorflow:global_step/sec: 0.71497\n"
          ],
          "name": "stdout"
        },
        {
          "output_type": "stream",
          "text": [
            "INFO:tensorflow:global_step/sec: 0.71497\n"
          ],
          "name": "stderr"
        },
        {
          "output_type": "stream",
          "text": [
            "INFO:tensorflow:loss = 0.826483, step = 3500 (139.865 sec)\n"
          ],
          "name": "stdout"
        },
        {
          "output_type": "stream",
          "text": [
            "INFO:tensorflow:loss = 0.826483, step = 3500 (139.865 sec)\n"
          ],
          "name": "stderr"
        },
        {
          "output_type": "stream",
          "text": [
            "INFO:tensorflow:global_step/sec: 0.715272\n"
          ],
          "name": "stdout"
        },
        {
          "output_type": "stream",
          "text": [
            "INFO:tensorflow:global_step/sec: 0.715272\n"
          ],
          "name": "stderr"
        },
        {
          "output_type": "stream",
          "text": [
            "INFO:tensorflow:loss = 0.1160778, step = 3600 (139.808 sec)\n"
          ],
          "name": "stdout"
        },
        {
          "output_type": "stream",
          "text": [
            "INFO:tensorflow:loss = 0.1160778, step = 3600 (139.808 sec)\n"
          ],
          "name": "stderr"
        },
        {
          "output_type": "stream",
          "text": [
            "INFO:tensorflow:global_step/sec: 0.715208\n"
          ],
          "name": "stdout"
        },
        {
          "output_type": "stream",
          "text": [
            "INFO:tensorflow:global_step/sec: 0.715208\n"
          ],
          "name": "stderr"
        },
        {
          "output_type": "stream",
          "text": [
            "INFO:tensorflow:loss = 0.4273312, step = 3700 (139.819 sec)\n"
          ],
          "name": "stdout"
        },
        {
          "output_type": "stream",
          "text": [
            "INFO:tensorflow:loss = 0.4273312, step = 3700 (139.819 sec)\n"
          ],
          "name": "stderr"
        },
        {
          "output_type": "stream",
          "text": [
            "INFO:tensorflow:global_step/sec: 0.713854\n"
          ],
          "name": "stdout"
        },
        {
          "output_type": "stream",
          "text": [
            "INFO:tensorflow:global_step/sec: 0.713854\n"
          ],
          "name": "stderr"
        },
        {
          "output_type": "stream",
          "text": [
            "INFO:tensorflow:loss = 0.5855451, step = 3800 (140.085 sec)\n"
          ],
          "name": "stdout"
        },
        {
          "output_type": "stream",
          "text": [
            "INFO:tensorflow:loss = 0.5855451, step = 3800 (140.085 sec)\n"
          ],
          "name": "stderr"
        },
        {
          "output_type": "stream",
          "text": [
            "INFO:tensorflow:global_step/sec: 0.714878\n"
          ],
          "name": "stdout"
        },
        {
          "output_type": "stream",
          "text": [
            "INFO:tensorflow:global_step/sec: 0.714878\n"
          ],
          "name": "stderr"
        },
        {
          "output_type": "stream",
          "text": [
            "INFO:tensorflow:loss = 0.27152357, step = 3900 (139.884 sec)\n"
          ],
          "name": "stdout"
        },
        {
          "output_type": "stream",
          "text": [
            "INFO:tensorflow:loss = 0.27152357, step = 3900 (139.884 sec)\n"
          ],
          "name": "stderr"
        },
        {
          "output_type": "stream",
          "text": [
            "INFO:tensorflow:Saving checkpoints for 4000 into /content/drive/My Drive/RecurrentNetworks/bert_multi_task/model.ckpt.\n"
          ],
          "name": "stdout"
        },
        {
          "output_type": "stream",
          "text": [
            "INFO:tensorflow:Saving checkpoints for 4000 into /content/drive/My Drive/RecurrentNetworks/bert_multi_task/model.ckpt.\n"
          ],
          "name": "stderr"
        },
        {
          "output_type": "stream",
          "text": [
            "INFO:tensorflow:global_step/sec: 0.668587\n"
          ],
          "name": "stdout"
        },
        {
          "output_type": "stream",
          "text": [
            "INFO:tensorflow:global_step/sec: 0.668587\n"
          ],
          "name": "stderr"
        },
        {
          "output_type": "stream",
          "text": [
            "INFO:tensorflow:loss = 0.5990334, step = 4000 (149.570 sec)\n"
          ],
          "name": "stdout"
        },
        {
          "output_type": "stream",
          "text": [
            "INFO:tensorflow:loss = 0.5990334, step = 4000 (149.570 sec)\n"
          ],
          "name": "stderr"
        },
        {
          "output_type": "stream",
          "text": [
            "INFO:tensorflow:global_step/sec: 0.712321\n"
          ],
          "name": "stdout"
        },
        {
          "output_type": "stream",
          "text": [
            "INFO:tensorflow:global_step/sec: 0.712321\n"
          ],
          "name": "stderr"
        },
        {
          "output_type": "stream",
          "text": [
            "INFO:tensorflow:loss = 0.25387356, step = 4100 (140.385 sec)\n"
          ],
          "name": "stdout"
        },
        {
          "output_type": "stream",
          "text": [
            "INFO:tensorflow:loss = 0.25387356, step = 4100 (140.385 sec)\n"
          ],
          "name": "stderr"
        },
        {
          "output_type": "stream",
          "text": [
            "INFO:tensorflow:global_step/sec: 0.714512\n"
          ],
          "name": "stdout"
        },
        {
          "output_type": "stream",
          "text": [
            "INFO:tensorflow:global_step/sec: 0.714512\n"
          ],
          "name": "stderr"
        },
        {
          "output_type": "stream",
          "text": [
            "INFO:tensorflow:loss = 0.55285376, step = 4200 (139.956 sec)\n"
          ],
          "name": "stdout"
        },
        {
          "output_type": "stream",
          "text": [
            "INFO:tensorflow:loss = 0.55285376, step = 4200 (139.956 sec)\n"
          ],
          "name": "stderr"
        },
        {
          "output_type": "stream",
          "text": [
            "INFO:tensorflow:global_step/sec: 0.715112\n"
          ],
          "name": "stdout"
        },
        {
          "output_type": "stream",
          "text": [
            "INFO:tensorflow:global_step/sec: 0.715112\n"
          ],
          "name": "stderr"
        },
        {
          "output_type": "stream",
          "text": [
            "INFO:tensorflow:loss = 1.1456522, step = 4300 (139.838 sec)\n"
          ],
          "name": "stdout"
        },
        {
          "output_type": "stream",
          "text": [
            "INFO:tensorflow:loss = 1.1456522, step = 4300 (139.838 sec)\n"
          ],
          "name": "stderr"
        },
        {
          "output_type": "stream",
          "text": [
            "INFO:tensorflow:global_step/sec: 0.714983\n"
          ],
          "name": "stdout"
        },
        {
          "output_type": "stream",
          "text": [
            "INFO:tensorflow:global_step/sec: 0.714983\n"
          ],
          "name": "stderr"
        },
        {
          "output_type": "stream",
          "text": [
            "INFO:tensorflow:loss = 0.54054856, step = 4400 (139.863 sec)\n"
          ],
          "name": "stdout"
        },
        {
          "output_type": "stream",
          "text": [
            "INFO:tensorflow:loss = 0.54054856, step = 4400 (139.863 sec)\n"
          ],
          "name": "stderr"
        },
        {
          "output_type": "stream",
          "text": [
            "INFO:tensorflow:global_step/sec: 0.714808\n"
          ],
          "name": "stdout"
        },
        {
          "output_type": "stream",
          "text": [
            "INFO:tensorflow:global_step/sec: 0.714808\n"
          ],
          "name": "stderr"
        },
        {
          "output_type": "stream",
          "text": [
            "INFO:tensorflow:loss = 0.53930897, step = 4500 (139.899 sec)\n"
          ],
          "name": "stdout"
        },
        {
          "output_type": "stream",
          "text": [
            "INFO:tensorflow:loss = 0.53930897, step = 4500 (139.899 sec)\n"
          ],
          "name": "stderr"
        },
        {
          "output_type": "stream",
          "text": [
            "INFO:tensorflow:global_step/sec: 0.715216\n"
          ],
          "name": "stdout"
        },
        {
          "output_type": "stream",
          "text": [
            "INFO:tensorflow:global_step/sec: 0.715216\n"
          ],
          "name": "stderr"
        },
        {
          "output_type": "stream",
          "text": [
            "INFO:tensorflow:loss = 0.52057797, step = 4600 (139.816 sec)\n"
          ],
          "name": "stdout"
        },
        {
          "output_type": "stream",
          "text": [
            "INFO:tensorflow:loss = 0.52057797, step = 4600 (139.816 sec)\n"
          ],
          "name": "stderr"
        },
        {
          "output_type": "stream",
          "text": [
            "INFO:tensorflow:global_step/sec: 0.715079\n"
          ],
          "name": "stdout"
        },
        {
          "output_type": "stream",
          "text": [
            "INFO:tensorflow:global_step/sec: 0.715079\n"
          ],
          "name": "stderr"
        },
        {
          "output_type": "stream",
          "text": [
            "INFO:tensorflow:loss = 0.4334048, step = 4700 (139.845 sec)\n"
          ],
          "name": "stdout"
        },
        {
          "output_type": "stream",
          "text": [
            "INFO:tensorflow:loss = 0.4334048, step = 4700 (139.845 sec)\n"
          ],
          "name": "stderr"
        },
        {
          "output_type": "stream",
          "text": [
            "INFO:tensorflow:global_step/sec: 0.71529\n"
          ],
          "name": "stdout"
        },
        {
          "output_type": "stream",
          "text": [
            "INFO:tensorflow:global_step/sec: 0.71529\n"
          ],
          "name": "stderr"
        },
        {
          "output_type": "stream",
          "text": [
            "INFO:tensorflow:loss = 1.0935681, step = 4800 (139.803 sec)\n"
          ],
          "name": "stdout"
        },
        {
          "output_type": "stream",
          "text": [
            "INFO:tensorflow:loss = 1.0935681, step = 4800 (139.803 sec)\n"
          ],
          "name": "stderr"
        },
        {
          "output_type": "stream",
          "text": [
            "INFO:tensorflow:global_step/sec: 0.715181\n"
          ],
          "name": "stdout"
        },
        {
          "output_type": "stream",
          "text": [
            "INFO:tensorflow:global_step/sec: 0.715181\n"
          ],
          "name": "stderr"
        },
        {
          "output_type": "stream",
          "text": [
            "INFO:tensorflow:loss = 0.20733078, step = 4900 (139.826 sec)\n"
          ],
          "name": "stdout"
        },
        {
          "output_type": "stream",
          "text": [
            "INFO:tensorflow:loss = 0.20733078, step = 4900 (139.826 sec)\n"
          ],
          "name": "stderr"
        },
        {
          "output_type": "stream",
          "text": [
            "INFO:tensorflow:Saving checkpoints for 5000 into /content/drive/My Drive/RecurrentNetworks/bert_multi_task/model.ckpt.\n"
          ],
          "name": "stdout"
        },
        {
          "output_type": "stream",
          "text": [
            "INFO:tensorflow:Saving checkpoints for 5000 into /content/drive/My Drive/RecurrentNetworks/bert_multi_task/model.ckpt.\n"
          ],
          "name": "stderr"
        },
        {
          "output_type": "stream",
          "text": [
            "WARNING:tensorflow:From /usr/local/lib/python3.6/dist-packages/tensorflow_core/python/training/saver.py:963: remove_checkpoint (from tensorflow.python.training.checkpoint_management) is deprecated and will be removed in a future version.\n",
            "Instructions for updating:\n",
            "Use standard file APIs to delete files with this prefix.\n"
          ],
          "name": "stdout"
        },
        {
          "output_type": "stream",
          "text": [
            "WARNING:tensorflow:From /usr/local/lib/python3.6/dist-packages/tensorflow_core/python/training/saver.py:963: remove_checkpoint (from tensorflow.python.training.checkpoint_management) is deprecated and will be removed in a future version.\n",
            "Instructions for updating:\n",
            "Use standard file APIs to delete files with this prefix.\n"
          ],
          "name": "stderr"
        },
        {
          "output_type": "stream",
          "text": [
            "INFO:tensorflow:global_step/sec: 0.667697\n"
          ],
          "name": "stdout"
        },
        {
          "output_type": "stream",
          "text": [
            "INFO:tensorflow:global_step/sec: 0.667697\n"
          ],
          "name": "stderr"
        },
        {
          "output_type": "stream",
          "text": [
            "INFO:tensorflow:loss = 0.25237748, step = 5000 (149.767 sec)\n"
          ],
          "name": "stdout"
        },
        {
          "output_type": "stream",
          "text": [
            "INFO:tensorflow:loss = 0.25237748, step = 5000 (149.767 sec)\n"
          ],
          "name": "stderr"
        },
        {
          "output_type": "stream",
          "text": [
            "INFO:tensorflow:global_step/sec: 0.711038\n"
          ],
          "name": "stdout"
        },
        {
          "output_type": "stream",
          "text": [
            "INFO:tensorflow:global_step/sec: 0.711038\n"
          ],
          "name": "stderr"
        },
        {
          "output_type": "stream",
          "text": [
            "INFO:tensorflow:loss = 1.31436, step = 5100 (140.641 sec)\n"
          ],
          "name": "stdout"
        },
        {
          "output_type": "stream",
          "text": [
            "INFO:tensorflow:loss = 1.31436, step = 5100 (140.641 sec)\n"
          ],
          "name": "stderr"
        },
        {
          "output_type": "stream",
          "text": [
            "INFO:tensorflow:global_step/sec: 0.713965\n"
          ],
          "name": "stdout"
        },
        {
          "output_type": "stream",
          "text": [
            "INFO:tensorflow:global_step/sec: 0.713965\n"
          ],
          "name": "stderr"
        },
        {
          "output_type": "stream",
          "text": [
            "INFO:tensorflow:loss = 0.17907704, step = 5200 (140.063 sec)\n"
          ],
          "name": "stdout"
        },
        {
          "output_type": "stream",
          "text": [
            "INFO:tensorflow:loss = 0.17907704, step = 5200 (140.063 sec)\n"
          ],
          "name": "stderr"
        },
        {
          "output_type": "stream",
          "text": [
            "INFO:tensorflow:global_step/sec: 0.714792\n"
          ],
          "name": "stdout"
        },
        {
          "output_type": "stream",
          "text": [
            "INFO:tensorflow:global_step/sec: 0.714792\n"
          ],
          "name": "stderr"
        },
        {
          "output_type": "stream",
          "text": [
            "INFO:tensorflow:loss = 0.5270098, step = 5300 (139.903 sec)\n"
          ],
          "name": "stdout"
        },
        {
          "output_type": "stream",
          "text": [
            "INFO:tensorflow:loss = 0.5270098, step = 5300 (139.903 sec)\n"
          ],
          "name": "stderr"
        },
        {
          "output_type": "stream",
          "text": [
            "INFO:tensorflow:global_step/sec: 0.714815\n"
          ],
          "name": "stdout"
        },
        {
          "output_type": "stream",
          "text": [
            "INFO:tensorflow:global_step/sec: 0.714815\n"
          ],
          "name": "stderr"
        },
        {
          "output_type": "stream",
          "text": [
            "INFO:tensorflow:loss = 0.7072323, step = 5400 (139.894 sec)\n"
          ],
          "name": "stdout"
        },
        {
          "output_type": "stream",
          "text": [
            "INFO:tensorflow:loss = 0.7072323, step = 5400 (139.894 sec)\n"
          ],
          "name": "stderr"
        },
        {
          "output_type": "stream",
          "text": [
            "INFO:tensorflow:global_step/sec: 0.71514\n"
          ],
          "name": "stdout"
        },
        {
          "output_type": "stream",
          "text": [
            "INFO:tensorflow:global_step/sec: 0.71514\n"
          ],
          "name": "stderr"
        },
        {
          "output_type": "stream",
          "text": [
            "INFO:tensorflow:loss = 0.5681002, step = 5500 (139.834 sec)\n"
          ],
          "name": "stdout"
        },
        {
          "output_type": "stream",
          "text": [
            "INFO:tensorflow:loss = 0.5681002, step = 5500 (139.834 sec)\n"
          ],
          "name": "stderr"
        },
        {
          "output_type": "stream",
          "text": [
            "INFO:tensorflow:global_step/sec: 0.715215\n"
          ],
          "name": "stdout"
        },
        {
          "output_type": "stream",
          "text": [
            "INFO:tensorflow:global_step/sec: 0.715215\n"
          ],
          "name": "stderr"
        },
        {
          "output_type": "stream",
          "text": [
            "INFO:tensorflow:loss = 0.57934004, step = 5600 (139.816 sec)\n"
          ],
          "name": "stdout"
        },
        {
          "output_type": "stream",
          "text": [
            "INFO:tensorflow:loss = 0.57934004, step = 5600 (139.816 sec)\n"
          ],
          "name": "stderr"
        },
        {
          "output_type": "stream",
          "text": [
            "INFO:tensorflow:global_step/sec: 0.713893\n"
          ],
          "name": "stdout"
        },
        {
          "output_type": "stream",
          "text": [
            "INFO:tensorflow:global_step/sec: 0.713893\n"
          ],
          "name": "stderr"
        },
        {
          "output_type": "stream",
          "text": [
            "INFO:tensorflow:loss = 0.81916, step = 5700 (140.078 sec)\n"
          ],
          "name": "stdout"
        },
        {
          "output_type": "stream",
          "text": [
            "INFO:tensorflow:loss = 0.81916, step = 5700 (140.078 sec)\n"
          ],
          "name": "stderr"
        },
        {
          "output_type": "stream",
          "text": [
            "INFO:tensorflow:global_step/sec: 0.715016\n"
          ],
          "name": "stdout"
        },
        {
          "output_type": "stream",
          "text": [
            "INFO:tensorflow:global_step/sec: 0.715016\n"
          ],
          "name": "stderr"
        },
        {
          "output_type": "stream",
          "text": [
            "INFO:tensorflow:loss = 0.4538782, step = 5800 (139.857 sec)\n"
          ],
          "name": "stdout"
        },
        {
          "output_type": "stream",
          "text": [
            "INFO:tensorflow:loss = 0.4538782, step = 5800 (139.857 sec)\n"
          ],
          "name": "stderr"
        },
        {
          "output_type": "stream",
          "text": [
            "INFO:tensorflow:global_step/sec: 0.715091\n"
          ],
          "name": "stdout"
        },
        {
          "output_type": "stream",
          "text": [
            "INFO:tensorflow:global_step/sec: 0.715091\n"
          ],
          "name": "stderr"
        },
        {
          "output_type": "stream",
          "text": [
            "INFO:tensorflow:loss = 0.3717873, step = 5900 (139.842 sec)\n"
          ],
          "name": "stdout"
        },
        {
          "output_type": "stream",
          "text": [
            "INFO:tensorflow:loss = 0.3717873, step = 5900 (139.842 sec)\n"
          ],
          "name": "stderr"
        },
        {
          "output_type": "stream",
          "text": [
            "INFO:tensorflow:Saving checkpoints for 6000 into /content/drive/My Drive/RecurrentNetworks/bert_multi_task/model.ckpt.\n"
          ],
          "name": "stdout"
        },
        {
          "output_type": "stream",
          "text": [
            "INFO:tensorflow:Saving checkpoints for 6000 into /content/drive/My Drive/RecurrentNetworks/bert_multi_task/model.ckpt.\n"
          ],
          "name": "stderr"
        },
        {
          "output_type": "stream",
          "text": [
            "INFO:tensorflow:global_step/sec: 0.663391\n"
          ],
          "name": "stdout"
        },
        {
          "output_type": "stream",
          "text": [
            "INFO:tensorflow:global_step/sec: 0.663391\n"
          ],
          "name": "stderr"
        },
        {
          "output_type": "stream",
          "text": [
            "INFO:tensorflow:loss = 0.4820057, step = 6000 (150.741 sec)\n"
          ],
          "name": "stdout"
        },
        {
          "output_type": "stream",
          "text": [
            "INFO:tensorflow:loss = 0.4820057, step = 6000 (150.741 sec)\n"
          ],
          "name": "stderr"
        },
        {
          "output_type": "stream",
          "text": [
            "INFO:tensorflow:global_step/sec: 0.710557\n"
          ],
          "name": "stdout"
        },
        {
          "output_type": "stream",
          "text": [
            "INFO:tensorflow:global_step/sec: 0.710557\n"
          ],
          "name": "stderr"
        },
        {
          "output_type": "stream",
          "text": [
            "INFO:tensorflow:loss = 0.42306408, step = 6100 (140.732 sec)\n"
          ],
          "name": "stdout"
        },
        {
          "output_type": "stream",
          "text": [
            "INFO:tensorflow:loss = 0.42306408, step = 6100 (140.732 sec)\n"
          ],
          "name": "stderr"
        },
        {
          "output_type": "stream",
          "text": [
            "INFO:tensorflow:global_step/sec: 0.714111\n"
          ],
          "name": "stdout"
        },
        {
          "output_type": "stream",
          "text": [
            "INFO:tensorflow:global_step/sec: 0.714111\n"
          ],
          "name": "stderr"
        },
        {
          "output_type": "stream",
          "text": [
            "INFO:tensorflow:loss = 0.318001, step = 6200 (140.035 sec)\n"
          ],
          "name": "stdout"
        },
        {
          "output_type": "stream",
          "text": [
            "INFO:tensorflow:loss = 0.318001, step = 6200 (140.035 sec)\n"
          ],
          "name": "stderr"
        },
        {
          "output_type": "stream",
          "text": [
            "INFO:tensorflow:global_step/sec: 0.713471\n"
          ],
          "name": "stdout"
        },
        {
          "output_type": "stream",
          "text": [
            "INFO:tensorflow:global_step/sec: 0.713471\n"
          ],
          "name": "stderr"
        },
        {
          "output_type": "stream",
          "text": [
            "INFO:tensorflow:loss = 0.14909028, step = 6300 (140.160 sec)\n"
          ],
          "name": "stdout"
        },
        {
          "output_type": "stream",
          "text": [
            "INFO:tensorflow:loss = 0.14909028, step = 6300 (140.160 sec)\n"
          ],
          "name": "stderr"
        },
        {
          "output_type": "stream",
          "text": [
            "INFO:tensorflow:global_step/sec: 0.714817\n"
          ],
          "name": "stdout"
        },
        {
          "output_type": "stream",
          "text": [
            "INFO:tensorflow:global_step/sec: 0.714817\n"
          ],
          "name": "stderr"
        },
        {
          "output_type": "stream",
          "text": [
            "INFO:tensorflow:loss = 0.3653785, step = 6400 (139.896 sec)\n"
          ],
          "name": "stdout"
        },
        {
          "output_type": "stream",
          "text": [
            "INFO:tensorflow:loss = 0.3653785, step = 6400 (139.896 sec)\n"
          ],
          "name": "stderr"
        },
        {
          "output_type": "stream",
          "text": [
            "INFO:tensorflow:global_step/sec: 0.714169\n"
          ],
          "name": "stdout"
        },
        {
          "output_type": "stream",
          "text": [
            "INFO:tensorflow:global_step/sec: 0.714169\n"
          ],
          "name": "stderr"
        },
        {
          "output_type": "stream",
          "text": [
            "INFO:tensorflow:loss = 0.4017754, step = 6500 (140.024 sec)\n"
          ],
          "name": "stdout"
        },
        {
          "output_type": "stream",
          "text": [
            "INFO:tensorflow:loss = 0.4017754, step = 6500 (140.024 sec)\n"
          ],
          "name": "stderr"
        },
        {
          "output_type": "stream",
          "text": [
            "INFO:tensorflow:global_step/sec: 0.714651\n"
          ],
          "name": "stdout"
        },
        {
          "output_type": "stream",
          "text": [
            "INFO:tensorflow:global_step/sec: 0.714651\n"
          ],
          "name": "stderr"
        },
        {
          "output_type": "stream",
          "text": [
            "INFO:tensorflow:loss = 0.59007174, step = 6600 (139.927 sec)\n"
          ],
          "name": "stdout"
        },
        {
          "output_type": "stream",
          "text": [
            "INFO:tensorflow:loss = 0.59007174, step = 6600 (139.927 sec)\n"
          ],
          "name": "stderr"
        },
        {
          "output_type": "stream",
          "text": [
            "INFO:tensorflow:global_step/sec: 0.714819\n"
          ],
          "name": "stdout"
        },
        {
          "output_type": "stream",
          "text": [
            "INFO:tensorflow:global_step/sec: 0.714819\n"
          ],
          "name": "stderr"
        },
        {
          "output_type": "stream",
          "text": [
            "INFO:tensorflow:loss = 0.43073344, step = 6700 (139.896 sec)\n"
          ],
          "name": "stdout"
        },
        {
          "output_type": "stream",
          "text": [
            "INFO:tensorflow:loss = 0.43073344, step = 6700 (139.896 sec)\n"
          ],
          "name": "stderr"
        },
        {
          "output_type": "stream",
          "text": [
            "INFO:tensorflow:global_step/sec: 0.714253\n"
          ],
          "name": "stdout"
        },
        {
          "output_type": "stream",
          "text": [
            "INFO:tensorflow:global_step/sec: 0.714253\n"
          ],
          "name": "stderr"
        },
        {
          "output_type": "stream",
          "text": [
            "INFO:tensorflow:loss = 0.36449757, step = 6800 (140.006 sec)\n"
          ],
          "name": "stdout"
        },
        {
          "output_type": "stream",
          "text": [
            "INFO:tensorflow:loss = 0.36449757, step = 6800 (140.006 sec)\n"
          ],
          "name": "stderr"
        },
        {
          "output_type": "stream",
          "text": [
            "INFO:tensorflow:global_step/sec: 0.71336\n"
          ],
          "name": "stdout"
        },
        {
          "output_type": "stream",
          "text": [
            "INFO:tensorflow:global_step/sec: 0.71336\n"
          ],
          "name": "stderr"
        },
        {
          "output_type": "stream",
          "text": [
            "INFO:tensorflow:loss = 0.41291937, step = 6900 (140.184 sec)\n"
          ],
          "name": "stdout"
        },
        {
          "output_type": "stream",
          "text": [
            "INFO:tensorflow:loss = 0.41291937, step = 6900 (140.184 sec)\n"
          ],
          "name": "stderr"
        },
        {
          "output_type": "stream",
          "text": [
            "INFO:tensorflow:Saving checkpoints for 7000 into /content/drive/My Drive/RecurrentNetworks/bert_multi_task/model.ckpt.\n"
          ],
          "name": "stdout"
        },
        {
          "output_type": "stream",
          "text": [
            "INFO:tensorflow:Saving checkpoints for 7000 into /content/drive/My Drive/RecurrentNetworks/bert_multi_task/model.ckpt.\n"
          ],
          "name": "stderr"
        },
        {
          "output_type": "stream",
          "text": [
            "INFO:tensorflow:global_step/sec: 0.667618\n"
          ],
          "name": "stdout"
        },
        {
          "output_type": "stream",
          "text": [
            "INFO:tensorflow:global_step/sec: 0.667618\n"
          ],
          "name": "stderr"
        },
        {
          "output_type": "stream",
          "text": [
            "INFO:tensorflow:loss = 0.6335685, step = 7000 (149.783 sec)\n"
          ],
          "name": "stdout"
        },
        {
          "output_type": "stream",
          "text": [
            "INFO:tensorflow:loss = 0.6335685, step = 7000 (149.783 sec)\n"
          ],
          "name": "stderr"
        },
        {
          "output_type": "stream",
          "text": [
            "INFO:tensorflow:global_step/sec: 0.710466\n"
          ],
          "name": "stdout"
        },
        {
          "output_type": "stream",
          "text": [
            "INFO:tensorflow:global_step/sec: 0.710466\n"
          ],
          "name": "stderr"
        },
        {
          "output_type": "stream",
          "text": [
            "INFO:tensorflow:loss = 0.20384581, step = 7100 (140.754 sec)\n"
          ],
          "name": "stdout"
        },
        {
          "output_type": "stream",
          "text": [
            "INFO:tensorflow:loss = 0.20384581, step = 7100 (140.754 sec)\n"
          ],
          "name": "stderr"
        },
        {
          "output_type": "stream",
          "text": [
            "INFO:tensorflow:global_step/sec: 0.714686\n"
          ],
          "name": "stdout"
        },
        {
          "output_type": "stream",
          "text": [
            "INFO:tensorflow:global_step/sec: 0.714686\n"
          ],
          "name": "stderr"
        },
        {
          "output_type": "stream",
          "text": [
            "INFO:tensorflow:loss = 0.6495807, step = 7200 (139.923 sec)\n"
          ],
          "name": "stdout"
        },
        {
          "output_type": "stream",
          "text": [
            "INFO:tensorflow:loss = 0.6495807, step = 7200 (139.923 sec)\n"
          ],
          "name": "stderr"
        },
        {
          "output_type": "stream",
          "text": [
            "INFO:tensorflow:global_step/sec: 0.714798\n"
          ],
          "name": "stdout"
        },
        {
          "output_type": "stream",
          "text": [
            "INFO:tensorflow:global_step/sec: 0.714798\n"
          ],
          "name": "stderr"
        },
        {
          "output_type": "stream",
          "text": [
            "INFO:tensorflow:loss = 0.47991824, step = 7300 (139.898 sec)\n"
          ],
          "name": "stdout"
        },
        {
          "output_type": "stream",
          "text": [
            "INFO:tensorflow:loss = 0.47991824, step = 7300 (139.898 sec)\n"
          ],
          "name": "stderr"
        },
        {
          "output_type": "stream",
          "text": [
            "INFO:tensorflow:global_step/sec: 0.71473\n"
          ],
          "name": "stdout"
        },
        {
          "output_type": "stream",
          "text": [
            "INFO:tensorflow:global_step/sec: 0.71473\n"
          ],
          "name": "stderr"
        },
        {
          "output_type": "stream",
          "text": [
            "INFO:tensorflow:loss = 0.54976386, step = 7400 (139.913 sec)\n"
          ],
          "name": "stdout"
        },
        {
          "output_type": "stream",
          "text": [
            "INFO:tensorflow:loss = 0.54976386, step = 7400 (139.913 sec)\n"
          ],
          "name": "stderr"
        },
        {
          "output_type": "stream",
          "text": [
            "INFO:tensorflow:global_step/sec: 0.714786\n"
          ],
          "name": "stdout"
        },
        {
          "output_type": "stream",
          "text": [
            "INFO:tensorflow:global_step/sec: 0.714786\n"
          ],
          "name": "stderr"
        },
        {
          "output_type": "stream",
          "text": [
            "INFO:tensorflow:loss = 0.2874134, step = 7500 (139.902 sec)\n"
          ],
          "name": "stdout"
        },
        {
          "output_type": "stream",
          "text": [
            "INFO:tensorflow:loss = 0.2874134, step = 7500 (139.902 sec)\n"
          ],
          "name": "stderr"
        },
        {
          "output_type": "stream",
          "text": [
            "INFO:tensorflow:global_step/sec: 0.714628\n"
          ],
          "name": "stdout"
        },
        {
          "output_type": "stream",
          "text": [
            "INFO:tensorflow:global_step/sec: 0.714628\n"
          ],
          "name": "stderr"
        },
        {
          "output_type": "stream",
          "text": [
            "INFO:tensorflow:loss = 0.55139273, step = 7600 (139.933 sec)\n"
          ],
          "name": "stdout"
        },
        {
          "output_type": "stream",
          "text": [
            "INFO:tensorflow:loss = 0.55139273, step = 7600 (139.933 sec)\n"
          ],
          "name": "stderr"
        },
        {
          "output_type": "stream",
          "text": [
            "INFO:tensorflow:global_step/sec: 0.714786\n"
          ],
          "name": "stdout"
        },
        {
          "output_type": "stream",
          "text": [
            "INFO:tensorflow:global_step/sec: 0.714786\n"
          ],
          "name": "stderr"
        },
        {
          "output_type": "stream",
          "text": [
            "INFO:tensorflow:loss = 0.42839572, step = 7700 (139.903 sec)\n"
          ],
          "name": "stdout"
        },
        {
          "output_type": "stream",
          "text": [
            "INFO:tensorflow:loss = 0.42839572, step = 7700 (139.903 sec)\n"
          ],
          "name": "stderr"
        },
        {
          "output_type": "stream",
          "text": [
            "INFO:tensorflow:global_step/sec: 0.713967\n"
          ],
          "name": "stdout"
        },
        {
          "output_type": "stream",
          "text": [
            "INFO:tensorflow:global_step/sec: 0.713967\n"
          ],
          "name": "stderr"
        },
        {
          "output_type": "stream",
          "text": [
            "INFO:tensorflow:loss = 0.28503338, step = 7800 (140.062 sec)\n"
          ],
          "name": "stdout"
        },
        {
          "output_type": "stream",
          "text": [
            "INFO:tensorflow:loss = 0.28503338, step = 7800 (140.062 sec)\n"
          ],
          "name": "stderr"
        },
        {
          "output_type": "stream",
          "text": [
            "INFO:tensorflow:global_step/sec: 0.714549\n"
          ],
          "name": "stdout"
        },
        {
          "output_type": "stream",
          "text": [
            "INFO:tensorflow:global_step/sec: 0.714549\n"
          ],
          "name": "stderr"
        },
        {
          "output_type": "stream",
          "text": [
            "INFO:tensorflow:loss = 0.1057027, step = 7900 (139.948 sec)\n"
          ],
          "name": "stdout"
        },
        {
          "output_type": "stream",
          "text": [
            "INFO:tensorflow:loss = 0.1057027, step = 7900 (139.948 sec)\n"
          ],
          "name": "stderr"
        },
        {
          "output_type": "stream",
          "text": [
            "INFO:tensorflow:Saving checkpoints for 8000 into /content/drive/My Drive/RecurrentNetworks/bert_multi_task/model.ckpt.\n"
          ],
          "name": "stdout"
        },
        {
          "output_type": "stream",
          "text": [
            "INFO:tensorflow:Saving checkpoints for 8000 into /content/drive/My Drive/RecurrentNetworks/bert_multi_task/model.ckpt.\n"
          ],
          "name": "stderr"
        },
        {
          "output_type": "stream",
          "text": [
            "INFO:tensorflow:global_step/sec: 0.667833\n"
          ],
          "name": "stdout"
        },
        {
          "output_type": "stream",
          "text": [
            "INFO:tensorflow:global_step/sec: 0.667833\n"
          ],
          "name": "stderr"
        },
        {
          "output_type": "stream",
          "text": [
            "INFO:tensorflow:loss = 0.42711484, step = 8000 (149.739 sec)\n"
          ],
          "name": "stdout"
        },
        {
          "output_type": "stream",
          "text": [
            "INFO:tensorflow:loss = 0.42711484, step = 8000 (149.739 sec)\n"
          ],
          "name": "stderr"
        },
        {
          "output_type": "stream",
          "text": [
            "INFO:tensorflow:global_step/sec: 0.709739\n"
          ],
          "name": "stdout"
        },
        {
          "output_type": "stream",
          "text": [
            "INFO:tensorflow:global_step/sec: 0.709739\n"
          ],
          "name": "stderr"
        },
        {
          "output_type": "stream",
          "text": [
            "INFO:tensorflow:loss = 0.29733887, step = 8100 (140.896 sec)\n"
          ],
          "name": "stdout"
        },
        {
          "output_type": "stream",
          "text": [
            "INFO:tensorflow:loss = 0.29733887, step = 8100 (140.896 sec)\n"
          ],
          "name": "stderr"
        },
        {
          "output_type": "stream",
          "text": [
            "INFO:tensorflow:global_step/sec: 0.715152\n"
          ],
          "name": "stdout"
        },
        {
          "output_type": "stream",
          "text": [
            "INFO:tensorflow:global_step/sec: 0.715152\n"
          ],
          "name": "stderr"
        },
        {
          "output_type": "stream",
          "text": [
            "INFO:tensorflow:loss = 0.22420852, step = 8200 (139.830 sec)\n"
          ],
          "name": "stdout"
        },
        {
          "output_type": "stream",
          "text": [
            "INFO:tensorflow:loss = 0.22420852, step = 8200 (139.830 sec)\n"
          ],
          "name": "stderr"
        },
        {
          "output_type": "stream",
          "text": [
            "INFO:tensorflow:global_step/sec: 0.715114\n"
          ],
          "name": "stdout"
        },
        {
          "output_type": "stream",
          "text": [
            "INFO:tensorflow:global_step/sec: 0.715114\n"
          ],
          "name": "stderr"
        },
        {
          "output_type": "stream",
          "text": [
            "INFO:tensorflow:loss = 0.5039008, step = 8300 (139.840 sec)\n"
          ],
          "name": "stdout"
        },
        {
          "output_type": "stream",
          "text": [
            "INFO:tensorflow:loss = 0.5039008, step = 8300 (139.840 sec)\n"
          ],
          "name": "stderr"
        },
        {
          "output_type": "stream",
          "text": [
            "INFO:tensorflow:global_step/sec: 0.714942\n"
          ],
          "name": "stdout"
        },
        {
          "output_type": "stream",
          "text": [
            "INFO:tensorflow:global_step/sec: 0.714942\n"
          ],
          "name": "stderr"
        },
        {
          "output_type": "stream",
          "text": [
            "INFO:tensorflow:loss = 0.45965835, step = 8400 (139.870 sec)\n"
          ],
          "name": "stdout"
        },
        {
          "output_type": "stream",
          "text": [
            "INFO:tensorflow:loss = 0.45965835, step = 8400 (139.870 sec)\n"
          ],
          "name": "stderr"
        },
        {
          "output_type": "stream",
          "text": [
            "INFO:tensorflow:global_step/sec: 0.714881\n"
          ],
          "name": "stdout"
        },
        {
          "output_type": "stream",
          "text": [
            "INFO:tensorflow:global_step/sec: 0.714881\n"
          ],
          "name": "stderr"
        },
        {
          "output_type": "stream",
          "text": [
            "INFO:tensorflow:loss = 0.37800893, step = 8500 (139.883 sec)\n"
          ],
          "name": "stdout"
        },
        {
          "output_type": "stream",
          "text": [
            "INFO:tensorflow:loss = 0.37800893, step = 8500 (139.883 sec)\n"
          ],
          "name": "stderr"
        },
        {
          "output_type": "stream",
          "text": [
            "INFO:tensorflow:global_step/sec: 0.714229\n"
          ],
          "name": "stdout"
        },
        {
          "output_type": "stream",
          "text": [
            "INFO:tensorflow:global_step/sec: 0.714229\n"
          ],
          "name": "stderr"
        },
        {
          "output_type": "stream",
          "text": [
            "INFO:tensorflow:loss = 0.29062495, step = 8600 (140.011 sec)\n"
          ],
          "name": "stdout"
        },
        {
          "output_type": "stream",
          "text": [
            "INFO:tensorflow:loss = 0.29062495, step = 8600 (140.011 sec)\n"
          ],
          "name": "stderr"
        },
        {
          "output_type": "stream",
          "text": [
            "INFO:tensorflow:global_step/sec: 0.714129\n"
          ],
          "name": "stdout"
        },
        {
          "output_type": "stream",
          "text": [
            "INFO:tensorflow:global_step/sec: 0.714129\n"
          ],
          "name": "stderr"
        },
        {
          "output_type": "stream",
          "text": [
            "INFO:tensorflow:loss = 0.3356862, step = 8700 (140.031 sec)\n"
          ],
          "name": "stdout"
        },
        {
          "output_type": "stream",
          "text": [
            "INFO:tensorflow:loss = 0.3356862, step = 8700 (140.031 sec)\n"
          ],
          "name": "stderr"
        },
        {
          "output_type": "stream",
          "text": [
            "INFO:tensorflow:global_step/sec: 0.714198\n"
          ],
          "name": "stdout"
        },
        {
          "output_type": "stream",
          "text": [
            "INFO:tensorflow:global_step/sec: 0.714198\n"
          ],
          "name": "stderr"
        },
        {
          "output_type": "stream",
          "text": [
            "INFO:tensorflow:loss = 0.4971687, step = 8800 (140.017 sec)\n"
          ],
          "name": "stdout"
        },
        {
          "output_type": "stream",
          "text": [
            "INFO:tensorflow:loss = 0.4971687, step = 8800 (140.017 sec)\n"
          ],
          "name": "stderr"
        },
        {
          "output_type": "stream",
          "text": [
            "INFO:tensorflow:global_step/sec: 0.714248\n"
          ],
          "name": "stdout"
        },
        {
          "output_type": "stream",
          "text": [
            "INFO:tensorflow:global_step/sec: 0.714248\n"
          ],
          "name": "stderr"
        },
        {
          "output_type": "stream",
          "text": [
            "INFO:tensorflow:loss = 0.22590287, step = 8900 (140.007 sec)\n"
          ],
          "name": "stdout"
        },
        {
          "output_type": "stream",
          "text": [
            "INFO:tensorflow:loss = 0.22590287, step = 8900 (140.007 sec)\n"
          ],
          "name": "stderr"
        },
        {
          "output_type": "stream",
          "text": [
            "INFO:tensorflow:Saving checkpoints for 9000 into /content/drive/My Drive/RecurrentNetworks/bert_multi_task/model.ckpt.\n"
          ],
          "name": "stdout"
        },
        {
          "output_type": "stream",
          "text": [
            "INFO:tensorflow:Saving checkpoints for 9000 into /content/drive/My Drive/RecurrentNetworks/bert_multi_task/model.ckpt.\n"
          ],
          "name": "stderr"
        },
        {
          "output_type": "stream",
          "text": [
            "INFO:tensorflow:global_step/sec: 0.66222\n"
          ],
          "name": "stdout"
        },
        {
          "output_type": "stream",
          "text": [
            "INFO:tensorflow:global_step/sec: 0.66222\n"
          ],
          "name": "stderr"
        },
        {
          "output_type": "stream",
          "text": [
            "INFO:tensorflow:loss = 0.37768063, step = 9000 (151.008 sec)\n"
          ],
          "name": "stdout"
        },
        {
          "output_type": "stream",
          "text": [
            "INFO:tensorflow:loss = 0.37768063, step = 9000 (151.008 sec)\n"
          ],
          "name": "stderr"
        },
        {
          "output_type": "stream",
          "text": [
            "INFO:tensorflow:global_step/sec: 0.709568\n"
          ],
          "name": "stdout"
        },
        {
          "output_type": "stream",
          "text": [
            "INFO:tensorflow:global_step/sec: 0.709568\n"
          ],
          "name": "stderr"
        },
        {
          "output_type": "stream",
          "text": [
            "INFO:tensorflow:loss = 0.35059428, step = 9100 (140.930 sec)\n"
          ],
          "name": "stdout"
        },
        {
          "output_type": "stream",
          "text": [
            "INFO:tensorflow:loss = 0.35059428, step = 9100 (140.930 sec)\n"
          ],
          "name": "stderr"
        },
        {
          "output_type": "stream",
          "text": [
            "INFO:tensorflow:global_step/sec: 0.713271\n"
          ],
          "name": "stdout"
        },
        {
          "output_type": "stream",
          "text": [
            "INFO:tensorflow:global_step/sec: 0.713271\n"
          ],
          "name": "stderr"
        },
        {
          "output_type": "stream",
          "text": [
            "INFO:tensorflow:loss = 0.66042775, step = 9200 (140.199 sec)\n"
          ],
          "name": "stdout"
        },
        {
          "output_type": "stream",
          "text": [
            "INFO:tensorflow:loss = 0.66042775, step = 9200 (140.199 sec)\n"
          ],
          "name": "stderr"
        },
        {
          "output_type": "stream",
          "text": [
            "INFO:tensorflow:global_step/sec: 0.714977\n"
          ],
          "name": "stdout"
        },
        {
          "output_type": "stream",
          "text": [
            "INFO:tensorflow:global_step/sec: 0.714977\n"
          ],
          "name": "stderr"
        },
        {
          "output_type": "stream",
          "text": [
            "INFO:tensorflow:loss = 0.4325285, step = 9300 (139.864 sec)\n"
          ],
          "name": "stdout"
        },
        {
          "output_type": "stream",
          "text": [
            "INFO:tensorflow:loss = 0.4325285, step = 9300 (139.864 sec)\n"
          ],
          "name": "stderr"
        },
        {
          "output_type": "stream",
          "text": [
            "INFO:tensorflow:global_step/sec: 0.715109\n"
          ],
          "name": "stdout"
        },
        {
          "output_type": "stream",
          "text": [
            "INFO:tensorflow:global_step/sec: 0.715109\n"
          ],
          "name": "stderr"
        },
        {
          "output_type": "stream",
          "text": [
            "INFO:tensorflow:loss = 0.83952594, step = 9400 (139.841 sec)\n"
          ],
          "name": "stdout"
        },
        {
          "output_type": "stream",
          "text": [
            "INFO:tensorflow:loss = 0.83952594, step = 9400 (139.841 sec)\n"
          ],
          "name": "stderr"
        },
        {
          "output_type": "stream",
          "text": [
            "INFO:tensorflow:global_step/sec: 0.715067\n"
          ],
          "name": "stdout"
        },
        {
          "output_type": "stream",
          "text": [
            "INFO:tensorflow:global_step/sec: 0.715067\n"
          ],
          "name": "stderr"
        },
        {
          "output_type": "stream",
          "text": [
            "INFO:tensorflow:loss = 0.3336698, step = 9500 (139.845 sec)\n"
          ],
          "name": "stdout"
        },
        {
          "output_type": "stream",
          "text": [
            "INFO:tensorflow:loss = 0.3336698, step = 9500 (139.845 sec)\n"
          ],
          "name": "stderr"
        },
        {
          "output_type": "stream",
          "text": [
            "INFO:tensorflow:global_step/sec: 0.714972\n"
          ],
          "name": "stdout"
        },
        {
          "output_type": "stream",
          "text": [
            "INFO:tensorflow:global_step/sec: 0.714972\n"
          ],
          "name": "stderr"
        },
        {
          "output_type": "stream",
          "text": [
            "INFO:tensorflow:loss = 0.5370746, step = 9600 (139.866 sec)\n"
          ],
          "name": "stdout"
        },
        {
          "output_type": "stream",
          "text": [
            "INFO:tensorflow:loss = 0.5370746, step = 9600 (139.866 sec)\n"
          ],
          "name": "stderr"
        },
        {
          "output_type": "stream",
          "text": [
            "INFO:tensorflow:global_step/sec: 0.715091\n"
          ],
          "name": "stdout"
        },
        {
          "output_type": "stream",
          "text": [
            "INFO:tensorflow:global_step/sec: 0.715091\n"
          ],
          "name": "stderr"
        },
        {
          "output_type": "stream",
          "text": [
            "INFO:tensorflow:loss = 0.4228256, step = 9700 (139.844 sec)\n"
          ],
          "name": "stdout"
        },
        {
          "output_type": "stream",
          "text": [
            "INFO:tensorflow:loss = 0.4228256, step = 9700 (139.844 sec)\n"
          ],
          "name": "stderr"
        },
        {
          "output_type": "stream",
          "text": [
            "INFO:tensorflow:Saving checkpoints for 9711 into /content/drive/My Drive/RecurrentNetworks/bert_multi_task/model.ckpt.\n"
          ],
          "name": "stdout"
        },
        {
          "output_type": "stream",
          "text": [
            "INFO:tensorflow:Saving checkpoints for 9711 into /content/drive/My Drive/RecurrentNetworks/bert_multi_task/model.ckpt.\n"
          ],
          "name": "stderr"
        },
        {
          "output_type": "stream",
          "text": [
            "INFO:tensorflow:Loss for final step: 0.23940988.\n"
          ],
          "name": "stdout"
        },
        {
          "output_type": "stream",
          "text": [
            "INFO:tensorflow:Loss for final step: 0.23940988.\n"
          ],
          "name": "stderr"
        },
        {
          "output_type": "stream",
          "text": [
            "Training took time  3:51:16.307360\n"
          ],
          "name": "stdout"
        }
      ]
    },
    {
      "cell_type": "code",
      "metadata": {
        "id": "cFEotip46viF",
        "colab": {
          "base_uri": "https://localhost:8080/"
        },
        "outputId": "294079b8-949c-415f-9470-1c74d1815f7e"
      },
      "source": [
        "#The accuracy for the fine tuned BERT model\n",
        "#Evaluating the model with Validation set\n",
        "estimator.evaluate(input_fn=val_input_fn, steps=None)"
      ],
      "execution_count": null,
      "outputs": [
        {
          "output_type": "stream",
          "text": [
            "INFO:tensorflow:Calling model_fn.\n"
          ],
          "name": "stdout"
        },
        {
          "output_type": "stream",
          "text": [
            "INFO:tensorflow:Calling model_fn.\n"
          ],
          "name": "stderr"
        },
        {
          "output_type": "stream",
          "text": [
            "INFO:tensorflow:Saver not created because there are no variables in the graph to restore\n"
          ],
          "name": "stdout"
        },
        {
          "output_type": "stream",
          "text": [
            "INFO:tensorflow:Saver not created because there are no variables in the graph to restore\n"
          ],
          "name": "stderr"
        },
        {
          "output_type": "stream",
          "text": [
            "INFO:tensorflow:loss:Tensor(\"loss/Mean:0\", shape=(), dtype=float32);predicted_labels:Tensor(\"loss/Round:0\", shape=(?, 3), dtype=float32);log_probsTensor(\"loss/Sigmoid:0\", shape=(?, 3), dtype=float32);labels:Tensor(\"Cast:0\", shape=(?, 3), dtype=float32)\n"
          ],
          "name": "stdout"
        },
        {
          "output_type": "stream",
          "text": [
            "INFO:tensorflow:loss:Tensor(\"loss/Mean:0\", shape=(), dtype=float32);predicted_labels:Tensor(\"loss/Round:0\", shape=(?, 3), dtype=float32);log_probsTensor(\"loss/Sigmoid:0\", shape=(?, 3), dtype=float32);labels:Tensor(\"Cast:0\", shape=(?, 3), dtype=float32)\n"
          ],
          "name": "stderr"
        },
        {
          "output_type": "stream",
          "text": [
            "INFO:tensorflow:Done calling model_fn.\n"
          ],
          "name": "stdout"
        },
        {
          "output_type": "stream",
          "text": [
            "INFO:tensorflow:Done calling model_fn.\n"
          ],
          "name": "stderr"
        },
        {
          "output_type": "stream",
          "text": [
            "INFO:tensorflow:Starting evaluation at 2020-11-08T02:36:01Z\n"
          ],
          "name": "stdout"
        },
        {
          "output_type": "stream",
          "text": [
            "INFO:tensorflow:Starting evaluation at 2020-11-08T02:36:01Z\n"
          ],
          "name": "stderr"
        },
        {
          "output_type": "stream",
          "text": [
            "INFO:tensorflow:Graph was finalized.\n"
          ],
          "name": "stdout"
        },
        {
          "output_type": "stream",
          "text": [
            "INFO:tensorflow:Graph was finalized.\n"
          ],
          "name": "stderr"
        },
        {
          "output_type": "stream",
          "text": [
            "INFO:tensorflow:Restoring parameters from /content/drive/My Drive/RecurrentNetworks/bert_multi_task/model.ckpt-9711\n"
          ],
          "name": "stdout"
        },
        {
          "output_type": "stream",
          "text": [
            "INFO:tensorflow:Restoring parameters from /content/drive/My Drive/RecurrentNetworks/bert_multi_task/model.ckpt-9711\n"
          ],
          "name": "stderr"
        },
        {
          "output_type": "stream",
          "text": [
            "INFO:tensorflow:Running local_init_op.\n"
          ],
          "name": "stdout"
        },
        {
          "output_type": "stream",
          "text": [
            "INFO:tensorflow:Running local_init_op.\n"
          ],
          "name": "stderr"
        },
        {
          "output_type": "stream",
          "text": [
            "INFO:tensorflow:Done running local_init_op.\n"
          ],
          "name": "stdout"
        },
        {
          "output_type": "stream",
          "text": [
            "INFO:tensorflow:Done running local_init_op.\n"
          ],
          "name": "stderr"
        },
        {
          "output_type": "stream",
          "text": [
            "INFO:tensorflow:Finished evaluation at 2020-11-08-03:02:42\n"
          ],
          "name": "stdout"
        },
        {
          "output_type": "stream",
          "text": [
            "INFO:tensorflow:Finished evaluation at 2020-11-08-03:02:42\n"
          ],
          "name": "stderr"
        },
        {
          "output_type": "stream",
          "text": [
            "INFO:tensorflow:Saving dict for global step 9711: eval_accuracy = 0.71874815, false_negatives = 36232.0, false_positives = 50231.0, global_step = 9711, loss = 0.5807303, true_negatives = 136801.0, true_positives = 84158.0\n"
          ],
          "name": "stdout"
        },
        {
          "output_type": "stream",
          "text": [
            "INFO:tensorflow:Saving dict for global step 9711: eval_accuracy = 0.71874815, false_negatives = 36232.0, false_positives = 50231.0, global_step = 9711, loss = 0.5807303, true_negatives = 136801.0, true_positives = 84158.0\n"
          ],
          "name": "stderr"
        },
        {
          "output_type": "stream",
          "text": [
            "INFO:tensorflow:Saving 'checkpoint_path' summary for global step 9711: /content/drive/My Drive/RecurrentNetworks/bert_multi_task/model.ckpt-9711\n"
          ],
          "name": "stdout"
        },
        {
          "output_type": "stream",
          "text": [
            "INFO:tensorflow:Saving 'checkpoint_path' summary for global step 9711: /content/drive/My Drive/RecurrentNetworks/bert_multi_task/model.ckpt-9711\n"
          ],
          "name": "stderr"
        },
        {
          "output_type": "execute_result",
          "data": {
            "text/plain": [
              "{'eval_accuracy': 0.71874815,\n",
              " 'false_negatives': 36232.0,\n",
              " 'false_positives': 50231.0,\n",
              " 'global_step': 9711,\n",
              " 'loss': 0.5807303,\n",
              " 'true_negatives': 136801.0,\n",
              " 'true_positives': 84158.0}"
            ]
          },
          "metadata": {
            "tags": []
          },
          "execution_count": 43
        }
      ]
    },
    {
      "cell_type": "markdown",
      "metadata": {
        "id": "RtoNpTPh62KQ"
      },
      "source": [
        "#### 1.6 Get The Vector Transformations from the Fine Tuned BERT"
      ]
    },
    {
      "cell_type": "code",
      "metadata": {
        "id": "NNslMkgi6vlu"
      },
      "source": [
        "# Get The Vector Transformations from the Fine Tuned BERT\n",
        "# A method to get predictions\n",
        "def getPrediction(in_sentences, type_output = \"features\"):\n",
        "  #A list to map the actual labels to the predictions\n",
        "  labels = np.unique(LABELS_SET)\n",
        "  input_examples = [InputExample(guid=\"\", text_a = x, text_b = None, label = [0, 0, 0]) for x in in_sentences] \n",
        "  input_features = convert_examples_to_features(input_examples, LABELS_SET_INDEX, \n",
        "                                                MAX_SEQ_LENGTH, tokenizer, multi_label=True)\n",
        "  #Predicting the classes \n",
        "  predict_input_fn = input_fn_builder(features=input_features, seq_length=MAX_SEQ_LENGTH, \n",
        "                                      is_training=False, drop_remainder=False)\n",
        "  predictions = estimator.predict(predict_input_fn)\n",
        "  if type_output == \"features\":\n",
        "    return [prediction['pooled_output'] for _,prediction in enumerate(predictions) ]\n",
        "  else:\n",
        "    return [prediction[\"probabilities\"] for (i, prediction) in enumerate(predictions) ]"
      ],
      "execution_count": null,
      "outputs": []
    },
    {
      "cell_type": "code",
      "metadata": {
        "id": "EygYNVyk0h5h"
      },
      "source": [
        "def extract_representations(data_df):\n",
        "  %%time\n",
        "  return np.apply_along_axis(getPrediction, 0, np.array(data_df['text']))"
      ],
      "execution_count": null,
      "outputs": []
    },
    {
      "cell_type": "code",
      "metadata": {
        "id": "GIyzYxuN0kSp"
      },
      "source": [
        "def build_final_dataset(data_df, data_emb, data_index):\n",
        "  aux = -1\n",
        "  len_l = 0\n",
        "  data_x = {}\n",
        "\n",
        "  for l, emb in zip(data_index, data_emb):\n",
        "    if l in data_x.keys():\n",
        "      data_x[l] = np.vstack([data_x[l], emb])\n",
        "    else:\n",
        "      data_x[l] = [emb]\n",
        "\n",
        "  data_l_final = []\n",
        "  dtlabel_l_final = []\n",
        "  for k in data_x.keys():\n",
        "    data_l_final.append(data_x[k])\n",
        "    dtlabel_l_final.append(data_df.loc[k]['label'])\n",
        "\n",
        "  return pd.DataFrame({'emb': data_l_final, 'label': dtlabel_l_final})"
      ],
      "execution_count": null,
      "outputs": []
    },
    {
      "cell_type": "markdown",
      "metadata": {
        "id": "dlU6seC562a1"
      },
      "source": [
        "#### 1.7 BERT Final Model"
      ]
    },
    {
      "cell_type": "markdown",
      "metadata": {
        "id": "RNZWnNqkf84d"
      },
      "source": [
        "##### 1.7.1 Test predictions mode with all test multi-label dataset"
      ]
    },
    {
      "cell_type": "code",
      "metadata": {
        "id": "EW_NFMKK7l_N",
        "colab": {
          "base_uri": "https://localhost:8080/"
        },
        "outputId": "5f286712-f82d-4a5f-91ed-3d5bd3ec17e6"
      },
      "source": [
        "pred_sentences_by_sample = np.apply_along_axis(getPrediction, 0, np.array(test_df['text']), \"predictions\")"
      ],
      "execution_count": null,
      "outputs": [
        {
          "output_type": "stream",
          "text": [
            "INFO:tensorflow:Writing example 0 of 101804\n"
          ],
          "name": "stdout"
        },
        {
          "output_type": "stream",
          "text": [
            "INFO:tensorflow:Writing example 0 of 101804\n"
          ],
          "name": "stderr"
        },
        {
          "output_type": "stream",
          "text": [
            "INFO:tensorflow:*** Example ***\n"
          ],
          "name": "stdout"
        },
        {
          "output_type": "stream",
          "text": [
            "INFO:tensorflow:*** Example ***\n"
          ],
          "name": "stderr"
        },
        {
          "output_type": "stream",
          "text": [
            "INFO:tensorflow:guid: \n"
          ],
          "name": "stdout"
        },
        {
          "output_type": "stream",
          "text": [
            "INFO:tensorflow:guid: \n"
          ],
          "name": "stderr"
        },
        {
          "output_type": "stream",
          "text": [
            "INFO:tensorflow:tokens: [CLS] definitely can then your shit smells mint ##y sweet jesus have mercy i have the same thing but i don ##t see it as a problem and when jesus smells shitty sweet tooth ##pas ##te have mercy that has happened to me far too often good sir far too often may the force be with you young one mission accomplished assuming its not a true story in which case i am deeply sorry for the bad news yes i have multiple times especially when im riding my motor ##bi ##ke sometimes i close my eyes and speed up hoping to hit a wall or another vehicle to hit me first time seeing star wars it was a moment of victory don ##t take her ne ##gat ##ivity seriously and just focus on what you are meant to be learning in class the best way to get back at him her is by getting good grades i was bull ##ied by one of my teachers from the first day i walked to his class i hated him more than anything and i responded to it by not putting any effort into his subject and not talking to him after [SEP]\n"
          ],
          "name": "stdout"
        },
        {
          "output_type": "stream",
          "text": [
            "INFO:tensorflow:tokens: [CLS] definitely can then your shit smells mint ##y sweet jesus have mercy i have the same thing but i don ##t see it as a problem and when jesus smells shitty sweet tooth ##pas ##te have mercy that has happened to me far too often good sir far too often may the force be with you young one mission accomplished assuming its not a true story in which case i am deeply sorry for the bad news yes i have multiple times especially when im riding my motor ##bi ##ke sometimes i close my eyes and speed up hoping to hit a wall or another vehicle to hit me first time seeing star wars it was a moment of victory don ##t take her ne ##gat ##ivity seriously and just focus on what you are meant to be learning in class the best way to get back at him her is by getting good grades i was bull ##ied by one of my teachers from the first day i walked to his class i hated him more than anything and i responded to it by not putting any effort into his subject and not talking to him after [SEP]\n"
          ],
          "name": "stderr"
        },
        {
          "output_type": "stream",
          "text": [
            "INFO:tensorflow:input_ids: 101 5791 2064 2059 2115 4485 14747 12927 2100 4086 4441 2031 8673 1045 2031 1996 2168 2518 2021 1045 2123 2102 2156 2009 2004 1037 3291 1998 2043 4441 14747 28543 4086 11868 19707 2618 2031 8673 2008 2038 3047 2000 2033 2521 2205 2411 2204 2909 2521 2205 2411 2089 1996 2486 2022 2007 2017 2402 2028 3260 8885 10262 2049 2025 1037 2995 2466 1999 2029 2553 1045 2572 6171 3374 2005 1996 2919 2739 2748 1045 2031 3674 2335 2926 2043 10047 5559 2026 5013 5638 3489 2823 1045 2485 2026 2159 1998 3177 2039 5327 2000 2718 1037 2813 2030 2178 4316 2000 2718 2033 2034 2051 3773 2732 5233 2009 2001 1037 2617 1997 3377 2123 2102 2202 2014 11265 20697 7730 5667 1998 2074 3579 2006 2054 2017 2024 3214 2000 2022 4083 1999 2465 1996 2190 2126 2000 2131 2067 2012 2032 2014 2003 2011 2893 2204 7022 1045 2001 7087 6340 2011 2028 1997 2026 5089 2013 1996 2034 2154 1045 2939 2000 2010 2465 1045 6283 2032 2062 2084 2505 1998 1045 5838 2000 2009 2011 2025 5128 2151 3947 2046 2010 3395 1998 2025 3331 2000 2032 2044 102\n"
          ],
          "name": "stdout"
        },
        {
          "output_type": "stream",
          "text": [
            "INFO:tensorflow:input_ids: 101 5791 2064 2059 2115 4485 14747 12927 2100 4086 4441 2031 8673 1045 2031 1996 2168 2518 2021 1045 2123 2102 2156 2009 2004 1037 3291 1998 2043 4441 14747 28543 4086 11868 19707 2618 2031 8673 2008 2038 3047 2000 2033 2521 2205 2411 2204 2909 2521 2205 2411 2089 1996 2486 2022 2007 2017 2402 2028 3260 8885 10262 2049 2025 1037 2995 2466 1999 2029 2553 1045 2572 6171 3374 2005 1996 2919 2739 2748 1045 2031 3674 2335 2926 2043 10047 5559 2026 5013 5638 3489 2823 1045 2485 2026 2159 1998 3177 2039 5327 2000 2718 1037 2813 2030 2178 4316 2000 2718 2033 2034 2051 3773 2732 5233 2009 2001 1037 2617 1997 3377 2123 2102 2202 2014 11265 20697 7730 5667 1998 2074 3579 2006 2054 2017 2024 3214 2000 2022 4083 1999 2465 1996 2190 2126 2000 2131 2067 2012 2032 2014 2003 2011 2893 2204 7022 1045 2001 7087 6340 2011 2028 1997 2026 5089 2013 1996 2034 2154 1045 2939 2000 2010 2465 1045 6283 2032 2062 2084 2505 1998 1045 5838 2000 2009 2011 2025 5128 2151 3947 2046 2010 3395 1998 2025 3331 2000 2032 2044 102\n"
          ],
          "name": "stderr"
        },
        {
          "output_type": "stream",
          "text": [
            "INFO:tensorflow:input_mask: 1 1 1 1 1 1 1 1 1 1 1 1 1 1 1 1 1 1 1 1 1 1 1 1 1 1 1 1 1 1 1 1 1 1 1 1 1 1 1 1 1 1 1 1 1 1 1 1 1 1 1 1 1 1 1 1 1 1 1 1 1 1 1 1 1 1 1 1 1 1 1 1 1 1 1 1 1 1 1 1 1 1 1 1 1 1 1 1 1 1 1 1 1 1 1 1 1 1 1 1 1 1 1 1 1 1 1 1 1 1 1 1 1 1 1 1 1 1 1 1 1 1 1 1 1 1 1 1 1 1 1 1 1 1 1 1 1 1 1 1 1 1 1 1 1 1 1 1 1 1 1 1 1 1 1 1 1 1 1 1 1 1 1 1 1 1 1 1 1 1 1 1 1 1 1 1 1 1 1 1 1 1 1 1 1 1 1 1 1 1 1 1 1 1 1 1 1 1 1 1\n"
          ],
          "name": "stdout"
        },
        {
          "output_type": "stream",
          "text": [
            "INFO:tensorflow:input_mask: 1 1 1 1 1 1 1 1 1 1 1 1 1 1 1 1 1 1 1 1 1 1 1 1 1 1 1 1 1 1 1 1 1 1 1 1 1 1 1 1 1 1 1 1 1 1 1 1 1 1 1 1 1 1 1 1 1 1 1 1 1 1 1 1 1 1 1 1 1 1 1 1 1 1 1 1 1 1 1 1 1 1 1 1 1 1 1 1 1 1 1 1 1 1 1 1 1 1 1 1 1 1 1 1 1 1 1 1 1 1 1 1 1 1 1 1 1 1 1 1 1 1 1 1 1 1 1 1 1 1 1 1 1 1 1 1 1 1 1 1 1 1 1 1 1 1 1 1 1 1 1 1 1 1 1 1 1 1 1 1 1 1 1 1 1 1 1 1 1 1 1 1 1 1 1 1 1 1 1 1 1 1 1 1 1 1 1 1 1 1 1 1 1 1 1 1 1 1 1 1\n"
          ],
          "name": "stderr"
        },
        {
          "output_type": "stream",
          "text": [
            "INFO:tensorflow:segment_ids: 0 0 0 0 0 0 0 0 0 0 0 0 0 0 0 0 0 0 0 0 0 0 0 0 0 0 0 0 0 0 0 0 0 0 0 0 0 0 0 0 0 0 0 0 0 0 0 0 0 0 0 0 0 0 0 0 0 0 0 0 0 0 0 0 0 0 0 0 0 0 0 0 0 0 0 0 0 0 0 0 0 0 0 0 0 0 0 0 0 0 0 0 0 0 0 0 0 0 0 0 0 0 0 0 0 0 0 0 0 0 0 0 0 0 0 0 0 0 0 0 0 0 0 0 0 0 0 0 0 0 0 0 0 0 0 0 0 0 0 0 0 0 0 0 0 0 0 0 0 0 0 0 0 0 0 0 0 0 0 0 0 0 0 0 0 0 0 0 0 0 0 0 0 0 0 0 0 0 0 0 0 0 0 0 0 0 0 0 0 0 0 0 0 0 0 0 0 0 0 0\n"
          ],
          "name": "stdout"
        },
        {
          "output_type": "stream",
          "text": [
            "INFO:tensorflow:segment_ids: 0 0 0 0 0 0 0 0 0 0 0 0 0 0 0 0 0 0 0 0 0 0 0 0 0 0 0 0 0 0 0 0 0 0 0 0 0 0 0 0 0 0 0 0 0 0 0 0 0 0 0 0 0 0 0 0 0 0 0 0 0 0 0 0 0 0 0 0 0 0 0 0 0 0 0 0 0 0 0 0 0 0 0 0 0 0 0 0 0 0 0 0 0 0 0 0 0 0 0 0 0 0 0 0 0 0 0 0 0 0 0 0 0 0 0 0 0 0 0 0 0 0 0 0 0 0 0 0 0 0 0 0 0 0 0 0 0 0 0 0 0 0 0 0 0 0 0 0 0 0 0 0 0 0 0 0 0 0 0 0 0 0 0 0 0 0 0 0 0 0 0 0 0 0 0 0 0 0 0 0 0 0 0 0 0 0 0 0 0 0 0 0 0 0 0 0 0 0 0 0\n"
          ],
          "name": "stderr"
        },
        {
          "output_type": "stream",
          "text": [
            "INFO:tensorflow:label: [0, 0, 0] (id = [0, 0, 0])\n"
          ],
          "name": "stdout"
        },
        {
          "output_type": "stream",
          "text": [
            "INFO:tensorflow:label: [0, 0, 0] (id = [0, 0, 0])\n"
          ],
          "name": "stderr"
        },
        {
          "output_type": "stream",
          "text": [
            "INFO:tensorflow:*** Example ***\n"
          ],
          "name": "stdout"
        },
        {
          "output_type": "stream",
          "text": [
            "INFO:tensorflow:*** Example ***\n"
          ],
          "name": "stderr"
        },
        {
          "output_type": "stream",
          "text": [
            "INFO:tensorflow:guid: \n"
          ],
          "name": "stdout"
        },
        {
          "output_type": "stream",
          "text": [
            "INFO:tensorflow:guid: \n"
          ],
          "name": "stderr"
        },
        {
          "output_type": "stream",
          "text": [
            "INFO:tensorflow:tokens: [CLS] one of my teachers from the first day i walked to his class i hated him more than anything and i responded to it by not putting any effort into his subject and not talking to him after a while i calmed down a bit and realized he was just joking around and now every time he bull ##ies me i just smile nod and do a better job at getting good grades f ##7 ##u ##12 let me think yep red ##dit the i see all the cool kids do it but im too much of a pussy to do it game that is a question you have to ask to yourself or the taste of a japanese giant ultra ##man cosmos did any of you ever watch that growing up good to know im not the only one i don ##t care what others say the scary face guy can never be over used cracks me up every time d i get these random mood swings that take me to a massive low and when the mood swings happen it feels like im not me anymore like something else takes over iv ##e managed to limit [SEP]\n"
          ],
          "name": "stdout"
        },
        {
          "output_type": "stream",
          "text": [
            "INFO:tensorflow:tokens: [CLS] one of my teachers from the first day i walked to his class i hated him more than anything and i responded to it by not putting any effort into his subject and not talking to him after a while i calmed down a bit and realized he was just joking around and now every time he bull ##ies me i just smile nod and do a better job at getting good grades f ##7 ##u ##12 let me think yep red ##dit the i see all the cool kids do it but im too much of a pussy to do it game that is a question you have to ask to yourself or the taste of a japanese giant ultra ##man cosmos did any of you ever watch that growing up good to know im not the only one i don ##t care what others say the scary face guy can never be over used cracks me up every time d i get these random mood swings that take me to a massive low and when the mood swings happen it feels like im not me anymore like something else takes over iv ##e managed to limit [SEP]\n"
          ],
          "name": "stderr"
        },
        {
          "output_type": "stream",
          "text": [
            "INFO:tensorflow:input_ids: 101 2028 1997 2026 5089 2013 1996 2034 2154 1045 2939 2000 2010 2465 1045 6283 2032 2062 2084 2505 1998 1045 5838 2000 2009 2011 2025 5128 2151 3947 2046 2010 3395 1998 2025 3331 2000 2032 2044 1037 2096 1045 20869 2091 1037 2978 1998 3651 2002 2001 2074 16644 2105 1998 2085 2296 2051 2002 7087 3111 2033 1045 2074 2868 7293 1998 2079 1037 2488 3105 2012 2893 2204 7022 1042 2581 2226 12521 2292 2033 2228 15624 2417 23194 1996 1045 2156 2035 1996 4658 4268 2079 2009 2021 10047 2205 2172 1997 1037 22418 2000 2079 2009 2208 2008 2003 1037 3160 2017 2031 2000 3198 2000 4426 2030 1996 5510 1997 1037 2887 5016 11087 2386 21182 2106 2151 1997 2017 2412 3422 2008 3652 2039 2204 2000 2113 10047 2025 1996 2069 2028 1045 2123 2102 2729 2054 2500 2360 1996 12459 2227 3124 2064 2196 2022 2058 2109 15288 2033 2039 2296 2051 1040 1045 2131 2122 6721 6888 18755 2008 2202 2033 2000 1037 5294 2659 1998 2043 1996 6888 18755 4148 2009 5683 2066 10047 2025 2033 4902 2066 2242 2842 3138 2058 4921 2063 3266 2000 5787 102\n"
          ],
          "name": "stdout"
        },
        {
          "output_type": "stream",
          "text": [
            "INFO:tensorflow:input_ids: 101 2028 1997 2026 5089 2013 1996 2034 2154 1045 2939 2000 2010 2465 1045 6283 2032 2062 2084 2505 1998 1045 5838 2000 2009 2011 2025 5128 2151 3947 2046 2010 3395 1998 2025 3331 2000 2032 2044 1037 2096 1045 20869 2091 1037 2978 1998 3651 2002 2001 2074 16644 2105 1998 2085 2296 2051 2002 7087 3111 2033 1045 2074 2868 7293 1998 2079 1037 2488 3105 2012 2893 2204 7022 1042 2581 2226 12521 2292 2033 2228 15624 2417 23194 1996 1045 2156 2035 1996 4658 4268 2079 2009 2021 10047 2205 2172 1997 1037 22418 2000 2079 2009 2208 2008 2003 1037 3160 2017 2031 2000 3198 2000 4426 2030 1996 5510 1997 1037 2887 5016 11087 2386 21182 2106 2151 1997 2017 2412 3422 2008 3652 2039 2204 2000 2113 10047 2025 1996 2069 2028 1045 2123 2102 2729 2054 2500 2360 1996 12459 2227 3124 2064 2196 2022 2058 2109 15288 2033 2039 2296 2051 1040 1045 2131 2122 6721 6888 18755 2008 2202 2033 2000 1037 5294 2659 1998 2043 1996 6888 18755 4148 2009 5683 2066 10047 2025 2033 4902 2066 2242 2842 3138 2058 4921 2063 3266 2000 5787 102\n"
          ],
          "name": "stderr"
        },
        {
          "output_type": "stream",
          "text": [
            "INFO:tensorflow:input_mask: 1 1 1 1 1 1 1 1 1 1 1 1 1 1 1 1 1 1 1 1 1 1 1 1 1 1 1 1 1 1 1 1 1 1 1 1 1 1 1 1 1 1 1 1 1 1 1 1 1 1 1 1 1 1 1 1 1 1 1 1 1 1 1 1 1 1 1 1 1 1 1 1 1 1 1 1 1 1 1 1 1 1 1 1 1 1 1 1 1 1 1 1 1 1 1 1 1 1 1 1 1 1 1 1 1 1 1 1 1 1 1 1 1 1 1 1 1 1 1 1 1 1 1 1 1 1 1 1 1 1 1 1 1 1 1 1 1 1 1 1 1 1 1 1 1 1 1 1 1 1 1 1 1 1 1 1 1 1 1 1 1 1 1 1 1 1 1 1 1 1 1 1 1 1 1 1 1 1 1 1 1 1 1 1 1 1 1 1 1 1 1 1 1 1 1 1 1 1 1 1\n"
          ],
          "name": "stdout"
        },
        {
          "output_type": "stream",
          "text": [
            "INFO:tensorflow:input_mask: 1 1 1 1 1 1 1 1 1 1 1 1 1 1 1 1 1 1 1 1 1 1 1 1 1 1 1 1 1 1 1 1 1 1 1 1 1 1 1 1 1 1 1 1 1 1 1 1 1 1 1 1 1 1 1 1 1 1 1 1 1 1 1 1 1 1 1 1 1 1 1 1 1 1 1 1 1 1 1 1 1 1 1 1 1 1 1 1 1 1 1 1 1 1 1 1 1 1 1 1 1 1 1 1 1 1 1 1 1 1 1 1 1 1 1 1 1 1 1 1 1 1 1 1 1 1 1 1 1 1 1 1 1 1 1 1 1 1 1 1 1 1 1 1 1 1 1 1 1 1 1 1 1 1 1 1 1 1 1 1 1 1 1 1 1 1 1 1 1 1 1 1 1 1 1 1 1 1 1 1 1 1 1 1 1 1 1 1 1 1 1 1 1 1 1 1 1 1 1 1\n"
          ],
          "name": "stderr"
        },
        {
          "output_type": "stream",
          "text": [
            "INFO:tensorflow:segment_ids: 0 0 0 0 0 0 0 0 0 0 0 0 0 0 0 0 0 0 0 0 0 0 0 0 0 0 0 0 0 0 0 0 0 0 0 0 0 0 0 0 0 0 0 0 0 0 0 0 0 0 0 0 0 0 0 0 0 0 0 0 0 0 0 0 0 0 0 0 0 0 0 0 0 0 0 0 0 0 0 0 0 0 0 0 0 0 0 0 0 0 0 0 0 0 0 0 0 0 0 0 0 0 0 0 0 0 0 0 0 0 0 0 0 0 0 0 0 0 0 0 0 0 0 0 0 0 0 0 0 0 0 0 0 0 0 0 0 0 0 0 0 0 0 0 0 0 0 0 0 0 0 0 0 0 0 0 0 0 0 0 0 0 0 0 0 0 0 0 0 0 0 0 0 0 0 0 0 0 0 0 0 0 0 0 0 0 0 0 0 0 0 0 0 0 0 0 0 0 0 0\n"
          ],
          "name": "stdout"
        },
        {
          "output_type": "stream",
          "text": [
            "INFO:tensorflow:segment_ids: 0 0 0 0 0 0 0 0 0 0 0 0 0 0 0 0 0 0 0 0 0 0 0 0 0 0 0 0 0 0 0 0 0 0 0 0 0 0 0 0 0 0 0 0 0 0 0 0 0 0 0 0 0 0 0 0 0 0 0 0 0 0 0 0 0 0 0 0 0 0 0 0 0 0 0 0 0 0 0 0 0 0 0 0 0 0 0 0 0 0 0 0 0 0 0 0 0 0 0 0 0 0 0 0 0 0 0 0 0 0 0 0 0 0 0 0 0 0 0 0 0 0 0 0 0 0 0 0 0 0 0 0 0 0 0 0 0 0 0 0 0 0 0 0 0 0 0 0 0 0 0 0 0 0 0 0 0 0 0 0 0 0 0 0 0 0 0 0 0 0 0 0 0 0 0 0 0 0 0 0 0 0 0 0 0 0 0 0 0 0 0 0 0 0 0 0 0 0 0 0\n"
          ],
          "name": "stderr"
        },
        {
          "output_type": "stream",
          "text": [
            "INFO:tensorflow:label: [0, 0, 0] (id = [0, 0, 0])\n"
          ],
          "name": "stdout"
        },
        {
          "output_type": "stream",
          "text": [
            "INFO:tensorflow:label: [0, 0, 0] (id = [0, 0, 0])\n"
          ],
          "name": "stderr"
        },
        {
          "output_type": "stream",
          "text": [
            "INFO:tensorflow:*** Example ***\n"
          ],
          "name": "stdout"
        },
        {
          "output_type": "stream",
          "text": [
            "INFO:tensorflow:*** Example ***\n"
          ],
          "name": "stderr"
        },
        {
          "output_type": "stream",
          "text": [
            "INFO:tensorflow:guid: \n"
          ],
          "name": "stdout"
        },
        {
          "output_type": "stream",
          "text": [
            "INFO:tensorflow:guid: \n"
          ],
          "name": "stderr"
        },
        {
          "output_type": "stream",
          "text": [
            "INFO:tensorflow:tokens: [CLS] me up every time d i get these random mood swings that take me to a massive low and when the mood swings happen it feels like im not me anymore like something else takes over iv ##e managed to limit what i do in these swings by cutting myself for some reason it gives me a eu ##ph ##oric feeling like a natural high that calm ##s me down and stops me from doing anything worse what ##s pink silver and is running towards a corner of the wall a baby with forks in its eyes what ##s green and silver and is sitting in the corner same baby 6 months later what do you do when you see a dead baby on the ground stop laughing and re ##load i don ##t know im still trying to work it out with the school counsel ##lor but cutting has been a part of me since i was a kid that it doesn ##t really bother me if anything i kinda enjoy it and its a quick way of bringing myself back to a normal state in case my mood swing happens in public holy crap i sha [SEP]\n"
          ],
          "name": "stdout"
        },
        {
          "output_type": "stream",
          "text": [
            "INFO:tensorflow:tokens: [CLS] me up every time d i get these random mood swings that take me to a massive low and when the mood swings happen it feels like im not me anymore like something else takes over iv ##e managed to limit what i do in these swings by cutting myself for some reason it gives me a eu ##ph ##oric feeling like a natural high that calm ##s me down and stops me from doing anything worse what ##s pink silver and is running towards a corner of the wall a baby with forks in its eyes what ##s green and silver and is sitting in the corner same baby 6 months later what do you do when you see a dead baby on the ground stop laughing and re ##load i don ##t know im still trying to work it out with the school counsel ##lor but cutting has been a part of me since i was a kid that it doesn ##t really bother me if anything i kinda enjoy it and its a quick way of bringing myself back to a normal state in case my mood swing happens in public holy crap i sha [SEP]\n"
          ],
          "name": "stderr"
        },
        {
          "output_type": "stream",
          "text": [
            "INFO:tensorflow:input_ids: 101 2033 2039 2296 2051 1040 1045 2131 2122 6721 6888 18755 2008 2202 2033 2000 1037 5294 2659 1998 2043 1996 6888 18755 4148 2009 5683 2066 10047 2025 2033 4902 2066 2242 2842 3138 2058 4921 2063 3266 2000 5787 2054 1045 2079 1999 2122 18755 2011 6276 2870 2005 2070 3114 2009 3957 2033 1037 7327 8458 29180 3110 2066 1037 3019 2152 2008 5475 2015 2033 2091 1998 6762 2033 2013 2725 2505 4788 2054 2015 5061 3165 1998 2003 2770 2875 1037 3420 1997 1996 2813 1037 3336 2007 19896 1999 2049 2159 2054 2015 2665 1998 3165 1998 2003 3564 1999 1996 3420 2168 3336 1020 2706 2101 2054 2079 2017 2079 2043 2017 2156 1037 2757 3336 2006 1996 2598 2644 5870 1998 2128 11066 1045 2123 2102 2113 10047 2145 2667 2000 2147 2009 2041 2007 1996 2082 9517 10626 2021 6276 2038 2042 1037 2112 1997 2033 2144 1045 2001 1037 4845 2008 2009 2987 2102 2428 8572 2033 2065 2505 1045 17704 5959 2009 1998 2049 1037 4248 2126 1997 5026 2870 2067 2000 1037 3671 2110 1999 2553 2026 6888 7370 6433 1999 2270 4151 10231 1045 21146 102\n"
          ],
          "name": "stdout"
        },
        {
          "output_type": "stream",
          "text": [
            "INFO:tensorflow:input_ids: 101 2033 2039 2296 2051 1040 1045 2131 2122 6721 6888 18755 2008 2202 2033 2000 1037 5294 2659 1998 2043 1996 6888 18755 4148 2009 5683 2066 10047 2025 2033 4902 2066 2242 2842 3138 2058 4921 2063 3266 2000 5787 2054 1045 2079 1999 2122 18755 2011 6276 2870 2005 2070 3114 2009 3957 2033 1037 7327 8458 29180 3110 2066 1037 3019 2152 2008 5475 2015 2033 2091 1998 6762 2033 2013 2725 2505 4788 2054 2015 5061 3165 1998 2003 2770 2875 1037 3420 1997 1996 2813 1037 3336 2007 19896 1999 2049 2159 2054 2015 2665 1998 3165 1998 2003 3564 1999 1996 3420 2168 3336 1020 2706 2101 2054 2079 2017 2079 2043 2017 2156 1037 2757 3336 2006 1996 2598 2644 5870 1998 2128 11066 1045 2123 2102 2113 10047 2145 2667 2000 2147 2009 2041 2007 1996 2082 9517 10626 2021 6276 2038 2042 1037 2112 1997 2033 2144 1045 2001 1037 4845 2008 2009 2987 2102 2428 8572 2033 2065 2505 1045 17704 5959 2009 1998 2049 1037 4248 2126 1997 5026 2870 2067 2000 1037 3671 2110 1999 2553 2026 6888 7370 6433 1999 2270 4151 10231 1045 21146 102\n"
          ],
          "name": "stderr"
        },
        {
          "output_type": "stream",
          "text": [
            "INFO:tensorflow:input_mask: 1 1 1 1 1 1 1 1 1 1 1 1 1 1 1 1 1 1 1 1 1 1 1 1 1 1 1 1 1 1 1 1 1 1 1 1 1 1 1 1 1 1 1 1 1 1 1 1 1 1 1 1 1 1 1 1 1 1 1 1 1 1 1 1 1 1 1 1 1 1 1 1 1 1 1 1 1 1 1 1 1 1 1 1 1 1 1 1 1 1 1 1 1 1 1 1 1 1 1 1 1 1 1 1 1 1 1 1 1 1 1 1 1 1 1 1 1 1 1 1 1 1 1 1 1 1 1 1 1 1 1 1 1 1 1 1 1 1 1 1 1 1 1 1 1 1 1 1 1 1 1 1 1 1 1 1 1 1 1 1 1 1 1 1 1 1 1 1 1 1 1 1 1 1 1 1 1 1 1 1 1 1 1 1 1 1 1 1 1 1 1 1 1 1 1 1 1 1 1 1\n"
          ],
          "name": "stdout"
        },
        {
          "output_type": "stream",
          "text": [
            "INFO:tensorflow:input_mask: 1 1 1 1 1 1 1 1 1 1 1 1 1 1 1 1 1 1 1 1 1 1 1 1 1 1 1 1 1 1 1 1 1 1 1 1 1 1 1 1 1 1 1 1 1 1 1 1 1 1 1 1 1 1 1 1 1 1 1 1 1 1 1 1 1 1 1 1 1 1 1 1 1 1 1 1 1 1 1 1 1 1 1 1 1 1 1 1 1 1 1 1 1 1 1 1 1 1 1 1 1 1 1 1 1 1 1 1 1 1 1 1 1 1 1 1 1 1 1 1 1 1 1 1 1 1 1 1 1 1 1 1 1 1 1 1 1 1 1 1 1 1 1 1 1 1 1 1 1 1 1 1 1 1 1 1 1 1 1 1 1 1 1 1 1 1 1 1 1 1 1 1 1 1 1 1 1 1 1 1 1 1 1 1 1 1 1 1 1 1 1 1 1 1 1 1 1 1 1 1\n"
          ],
          "name": "stderr"
        },
        {
          "output_type": "stream",
          "text": [
            "INFO:tensorflow:segment_ids: 0 0 0 0 0 0 0 0 0 0 0 0 0 0 0 0 0 0 0 0 0 0 0 0 0 0 0 0 0 0 0 0 0 0 0 0 0 0 0 0 0 0 0 0 0 0 0 0 0 0 0 0 0 0 0 0 0 0 0 0 0 0 0 0 0 0 0 0 0 0 0 0 0 0 0 0 0 0 0 0 0 0 0 0 0 0 0 0 0 0 0 0 0 0 0 0 0 0 0 0 0 0 0 0 0 0 0 0 0 0 0 0 0 0 0 0 0 0 0 0 0 0 0 0 0 0 0 0 0 0 0 0 0 0 0 0 0 0 0 0 0 0 0 0 0 0 0 0 0 0 0 0 0 0 0 0 0 0 0 0 0 0 0 0 0 0 0 0 0 0 0 0 0 0 0 0 0 0 0 0 0 0 0 0 0 0 0 0 0 0 0 0 0 0 0 0 0 0 0 0\n"
          ],
          "name": "stdout"
        },
        {
          "output_type": "stream",
          "text": [
            "INFO:tensorflow:segment_ids: 0 0 0 0 0 0 0 0 0 0 0 0 0 0 0 0 0 0 0 0 0 0 0 0 0 0 0 0 0 0 0 0 0 0 0 0 0 0 0 0 0 0 0 0 0 0 0 0 0 0 0 0 0 0 0 0 0 0 0 0 0 0 0 0 0 0 0 0 0 0 0 0 0 0 0 0 0 0 0 0 0 0 0 0 0 0 0 0 0 0 0 0 0 0 0 0 0 0 0 0 0 0 0 0 0 0 0 0 0 0 0 0 0 0 0 0 0 0 0 0 0 0 0 0 0 0 0 0 0 0 0 0 0 0 0 0 0 0 0 0 0 0 0 0 0 0 0 0 0 0 0 0 0 0 0 0 0 0 0 0 0 0 0 0 0 0 0 0 0 0 0 0 0 0 0 0 0 0 0 0 0 0 0 0 0 0 0 0 0 0 0 0 0 0 0 0 0 0 0 0\n"
          ],
          "name": "stderr"
        },
        {
          "output_type": "stream",
          "text": [
            "INFO:tensorflow:label: [0, 0, 0] (id = [0, 0, 0])\n"
          ],
          "name": "stdout"
        },
        {
          "output_type": "stream",
          "text": [
            "INFO:tensorflow:label: [0, 0, 0] (id = [0, 0, 0])\n"
          ],
          "name": "stderr"
        },
        {
          "output_type": "stream",
          "text": [
            "INFO:tensorflow:*** Example ***\n"
          ],
          "name": "stdout"
        },
        {
          "output_type": "stream",
          "text": [
            "INFO:tensorflow:*** Example ***\n"
          ],
          "name": "stderr"
        },
        {
          "output_type": "stream",
          "text": [
            "INFO:tensorflow:guid: \n"
          ],
          "name": "stdout"
        },
        {
          "output_type": "stream",
          "text": [
            "INFO:tensorflow:guid: \n"
          ],
          "name": "stderr"
        },
        {
          "output_type": "stream",
          "text": [
            "INFO:tensorflow:tokens: [CLS] kid that it doesn ##t really bother me if anything i kinda enjoy it and its a quick way of bringing myself back to a normal state in case my mood swing happens in public holy crap i sha ##t myself laughing when i saw the fa ##p that shit face i am the 66 ##6th person to up ##vot ##e this all hail my name for my name is satan oh and im baked as shit sometimes i wake up in a really bad mood and keep going down throughout the day without a reason but usually when something gets me angry i don ##t stop getting angry until i cut myself bt ##w i really appreciate you asking continuously it makes me feel better to know that someone cares im not taking med ##s and i don ##t think i want to it ##ll make me feel less normal than what i already feel i don ##t think i would still cut myself if i didn ##t get mood swings the problem is i don ##t know how to get rid of the mood swings it all started when my parents split up and my dad [SEP]\n"
          ],
          "name": "stdout"
        },
        {
          "output_type": "stream",
          "text": [
            "INFO:tensorflow:tokens: [CLS] kid that it doesn ##t really bother me if anything i kinda enjoy it and its a quick way of bringing myself back to a normal state in case my mood swing happens in public holy crap i sha ##t myself laughing when i saw the fa ##p that shit face i am the 66 ##6th person to up ##vot ##e this all hail my name for my name is satan oh and im baked as shit sometimes i wake up in a really bad mood and keep going down throughout the day without a reason but usually when something gets me angry i don ##t stop getting angry until i cut myself bt ##w i really appreciate you asking continuously it makes me feel better to know that someone cares im not taking med ##s and i don ##t think i want to it ##ll make me feel less normal than what i already feel i don ##t think i would still cut myself if i didn ##t get mood swings the problem is i don ##t know how to get rid of the mood swings it all started when my parents split up and my dad [SEP]\n"
          ],
          "name": "stderr"
        },
        {
          "output_type": "stream",
          "text": [
            "INFO:tensorflow:input_ids: 101 4845 2008 2009 2987 2102 2428 8572 2033 2065 2505 1045 17704 5959 2009 1998 2049 1037 4248 2126 1997 5026 2870 2067 2000 1037 3671 2110 1999 2553 2026 6888 7370 6433 1999 2270 4151 10231 1045 21146 2102 2870 5870 2043 1045 2387 1996 6904 2361 2008 4485 2227 1045 2572 1996 5764 25994 2711 2000 2039 22994 2063 2023 2035 16889 2026 2171 2005 2026 2171 2003 16795 2821 1998 10047 17776 2004 4485 2823 1045 5256 2039 1999 1037 2428 2919 6888 1998 2562 2183 2091 2802 1996 2154 2302 1037 3114 2021 2788 2043 2242 4152 2033 4854 1045 2123 2102 2644 2893 4854 2127 1045 3013 2870 18411 2860 1045 2428 9120 2017 4851 10843 2009 3084 2033 2514 2488 2000 2113 2008 2619 14977 10047 2025 2635 19960 2015 1998 1045 2123 2102 2228 1045 2215 2000 2009 3363 2191 2033 2514 2625 3671 2084 2054 1045 2525 2514 1045 2123 2102 2228 1045 2052 2145 3013 2870 2065 1045 2134 2102 2131 6888 18755 1996 3291 2003 1045 2123 2102 2113 2129 2000 2131 9436 1997 1996 6888 18755 2009 2035 2318 2043 2026 3008 3975 2039 1998 2026 3611 102\n"
          ],
          "name": "stdout"
        },
        {
          "output_type": "stream",
          "text": [
            "INFO:tensorflow:input_ids: 101 4845 2008 2009 2987 2102 2428 8572 2033 2065 2505 1045 17704 5959 2009 1998 2049 1037 4248 2126 1997 5026 2870 2067 2000 1037 3671 2110 1999 2553 2026 6888 7370 6433 1999 2270 4151 10231 1045 21146 2102 2870 5870 2043 1045 2387 1996 6904 2361 2008 4485 2227 1045 2572 1996 5764 25994 2711 2000 2039 22994 2063 2023 2035 16889 2026 2171 2005 2026 2171 2003 16795 2821 1998 10047 17776 2004 4485 2823 1045 5256 2039 1999 1037 2428 2919 6888 1998 2562 2183 2091 2802 1996 2154 2302 1037 3114 2021 2788 2043 2242 4152 2033 4854 1045 2123 2102 2644 2893 4854 2127 1045 3013 2870 18411 2860 1045 2428 9120 2017 4851 10843 2009 3084 2033 2514 2488 2000 2113 2008 2619 14977 10047 2025 2635 19960 2015 1998 1045 2123 2102 2228 1045 2215 2000 2009 3363 2191 2033 2514 2625 3671 2084 2054 1045 2525 2514 1045 2123 2102 2228 1045 2052 2145 3013 2870 2065 1045 2134 2102 2131 6888 18755 1996 3291 2003 1045 2123 2102 2113 2129 2000 2131 9436 1997 1996 6888 18755 2009 2035 2318 2043 2026 3008 3975 2039 1998 2026 3611 102\n"
          ],
          "name": "stderr"
        },
        {
          "output_type": "stream",
          "text": [
            "INFO:tensorflow:input_mask: 1 1 1 1 1 1 1 1 1 1 1 1 1 1 1 1 1 1 1 1 1 1 1 1 1 1 1 1 1 1 1 1 1 1 1 1 1 1 1 1 1 1 1 1 1 1 1 1 1 1 1 1 1 1 1 1 1 1 1 1 1 1 1 1 1 1 1 1 1 1 1 1 1 1 1 1 1 1 1 1 1 1 1 1 1 1 1 1 1 1 1 1 1 1 1 1 1 1 1 1 1 1 1 1 1 1 1 1 1 1 1 1 1 1 1 1 1 1 1 1 1 1 1 1 1 1 1 1 1 1 1 1 1 1 1 1 1 1 1 1 1 1 1 1 1 1 1 1 1 1 1 1 1 1 1 1 1 1 1 1 1 1 1 1 1 1 1 1 1 1 1 1 1 1 1 1 1 1 1 1 1 1 1 1 1 1 1 1 1 1 1 1 1 1 1 1 1 1 1 1\n"
          ],
          "name": "stdout"
        },
        {
          "output_type": "stream",
          "text": [
            "INFO:tensorflow:input_mask: 1 1 1 1 1 1 1 1 1 1 1 1 1 1 1 1 1 1 1 1 1 1 1 1 1 1 1 1 1 1 1 1 1 1 1 1 1 1 1 1 1 1 1 1 1 1 1 1 1 1 1 1 1 1 1 1 1 1 1 1 1 1 1 1 1 1 1 1 1 1 1 1 1 1 1 1 1 1 1 1 1 1 1 1 1 1 1 1 1 1 1 1 1 1 1 1 1 1 1 1 1 1 1 1 1 1 1 1 1 1 1 1 1 1 1 1 1 1 1 1 1 1 1 1 1 1 1 1 1 1 1 1 1 1 1 1 1 1 1 1 1 1 1 1 1 1 1 1 1 1 1 1 1 1 1 1 1 1 1 1 1 1 1 1 1 1 1 1 1 1 1 1 1 1 1 1 1 1 1 1 1 1 1 1 1 1 1 1 1 1 1 1 1 1 1 1 1 1 1 1\n"
          ],
          "name": "stderr"
        },
        {
          "output_type": "stream",
          "text": [
            "INFO:tensorflow:segment_ids: 0 0 0 0 0 0 0 0 0 0 0 0 0 0 0 0 0 0 0 0 0 0 0 0 0 0 0 0 0 0 0 0 0 0 0 0 0 0 0 0 0 0 0 0 0 0 0 0 0 0 0 0 0 0 0 0 0 0 0 0 0 0 0 0 0 0 0 0 0 0 0 0 0 0 0 0 0 0 0 0 0 0 0 0 0 0 0 0 0 0 0 0 0 0 0 0 0 0 0 0 0 0 0 0 0 0 0 0 0 0 0 0 0 0 0 0 0 0 0 0 0 0 0 0 0 0 0 0 0 0 0 0 0 0 0 0 0 0 0 0 0 0 0 0 0 0 0 0 0 0 0 0 0 0 0 0 0 0 0 0 0 0 0 0 0 0 0 0 0 0 0 0 0 0 0 0 0 0 0 0 0 0 0 0 0 0 0 0 0 0 0 0 0 0 0 0 0 0 0 0\n"
          ],
          "name": "stdout"
        },
        {
          "output_type": "stream",
          "text": [
            "INFO:tensorflow:segment_ids: 0 0 0 0 0 0 0 0 0 0 0 0 0 0 0 0 0 0 0 0 0 0 0 0 0 0 0 0 0 0 0 0 0 0 0 0 0 0 0 0 0 0 0 0 0 0 0 0 0 0 0 0 0 0 0 0 0 0 0 0 0 0 0 0 0 0 0 0 0 0 0 0 0 0 0 0 0 0 0 0 0 0 0 0 0 0 0 0 0 0 0 0 0 0 0 0 0 0 0 0 0 0 0 0 0 0 0 0 0 0 0 0 0 0 0 0 0 0 0 0 0 0 0 0 0 0 0 0 0 0 0 0 0 0 0 0 0 0 0 0 0 0 0 0 0 0 0 0 0 0 0 0 0 0 0 0 0 0 0 0 0 0 0 0 0 0 0 0 0 0 0 0 0 0 0 0 0 0 0 0 0 0 0 0 0 0 0 0 0 0 0 0 0 0 0 0 0 0 0 0\n"
          ],
          "name": "stderr"
        },
        {
          "output_type": "stream",
          "text": [
            "INFO:tensorflow:label: [0, 0, 0] (id = [0, 0, 0])\n"
          ],
          "name": "stdout"
        },
        {
          "output_type": "stream",
          "text": [
            "INFO:tensorflow:label: [0, 0, 0] (id = [0, 0, 0])\n"
          ],
          "name": "stderr"
        },
        {
          "output_type": "stream",
          "text": [
            "INFO:tensorflow:*** Example ***\n"
          ],
          "name": "stdout"
        },
        {
          "output_type": "stream",
          "text": [
            "INFO:tensorflow:*** Example ***\n"
          ],
          "name": "stderr"
        },
        {
          "output_type": "stream",
          "text": [
            "INFO:tensorflow:guid: \n"
          ],
          "name": "stdout"
        },
        {
          "output_type": "stream",
          "text": [
            "INFO:tensorflow:guid: \n"
          ],
          "name": "stderr"
        },
        {
          "output_type": "stream",
          "text": [
            "INFO:tensorflow:tokens: [CLS] still cut myself if i didn ##t get mood swings the problem is i don ##t know how to get rid of the mood swings it all started when my parents split up and my dad abandoned me with my grand parents taking me away from my mum since then i tend to bottle up my anger and when the bottle is full i burst un ##con ##tro ##lla ##bly makes me ashamed of being indonesian ill rep ##hra ##se one of many reasons im ashamed of being indonesian ha ##ha ##ha nah im proud of who i am and where i come from and i love indonesia can ##t say the same thing about those corrupt bastards in power though so you from jakarta im from bali but currently living in sydney always good to know an indonesian red ##itt ##or i burst into laughter when i saw it thank you for making the rt ##he people on the bus think im crazy people generally don ##t know when im angry i don ##t feel comfortable showing it to people so iv ##e never experienced someone telling me to calm down when im angry but i would [SEP]\n"
          ],
          "name": "stdout"
        },
        {
          "output_type": "stream",
          "text": [
            "INFO:tensorflow:tokens: [CLS] still cut myself if i didn ##t get mood swings the problem is i don ##t know how to get rid of the mood swings it all started when my parents split up and my dad abandoned me with my grand parents taking me away from my mum since then i tend to bottle up my anger and when the bottle is full i burst un ##con ##tro ##lla ##bly makes me ashamed of being indonesian ill rep ##hra ##se one of many reasons im ashamed of being indonesian ha ##ha ##ha nah im proud of who i am and where i come from and i love indonesia can ##t say the same thing about those corrupt bastards in power though so you from jakarta im from bali but currently living in sydney always good to know an indonesian red ##itt ##or i burst into laughter when i saw it thank you for making the rt ##he people on the bus think im crazy people generally don ##t know when im angry i don ##t feel comfortable showing it to people so iv ##e never experienced someone telling me to calm down when im angry but i would [SEP]\n"
          ],
          "name": "stderr"
        },
        {
          "output_type": "stream",
          "text": [
            "INFO:tensorflow:input_ids: 101 2145 3013 2870 2065 1045 2134 2102 2131 6888 18755 1996 3291 2003 1045 2123 2102 2113 2129 2000 2131 9436 1997 1996 6888 18755 2009 2035 2318 2043 2026 3008 3975 2039 1998 2026 3611 4704 2033 2007 2026 2882 3008 2635 2033 2185 2013 2026 12954 2144 2059 1045 7166 2000 5835 2039 2026 4963 1998 2043 1996 5835 2003 2440 1045 6532 4895 8663 13181 4571 6321 3084 2033 14984 1997 2108 9003 5665 16360 13492 3366 2028 1997 2116 4436 10047 14984 1997 2108 9003 5292 3270 3270 20976 10047 7098 1997 2040 1045 2572 1998 2073 1045 2272 2013 1998 1045 2293 6239 2064 2102 2360 1996 2168 2518 2055 2216 13593 21123 1999 2373 2295 2061 2017 2013 14426 10047 2013 20222 2021 2747 2542 1999 3994 2467 2204 2000 2113 2019 9003 2417 12474 2953 1045 6532 2046 7239 2043 1045 2387 2009 4067 2017 2005 2437 1996 19387 5369 2111 2006 1996 3902 2228 10047 4689 2111 3227 2123 2102 2113 2043 10047 4854 1045 2123 2102 2514 6625 4760 2009 2000 2111 2061 4921 2063 2196 5281 2619 4129 2033 2000 5475 2091 2043 10047 4854 2021 1045 2052 102\n"
          ],
          "name": "stdout"
        },
        {
          "output_type": "stream",
          "text": [
            "INFO:tensorflow:input_ids: 101 2145 3013 2870 2065 1045 2134 2102 2131 6888 18755 1996 3291 2003 1045 2123 2102 2113 2129 2000 2131 9436 1997 1996 6888 18755 2009 2035 2318 2043 2026 3008 3975 2039 1998 2026 3611 4704 2033 2007 2026 2882 3008 2635 2033 2185 2013 2026 12954 2144 2059 1045 7166 2000 5835 2039 2026 4963 1998 2043 1996 5835 2003 2440 1045 6532 4895 8663 13181 4571 6321 3084 2033 14984 1997 2108 9003 5665 16360 13492 3366 2028 1997 2116 4436 10047 14984 1997 2108 9003 5292 3270 3270 20976 10047 7098 1997 2040 1045 2572 1998 2073 1045 2272 2013 1998 1045 2293 6239 2064 2102 2360 1996 2168 2518 2055 2216 13593 21123 1999 2373 2295 2061 2017 2013 14426 10047 2013 20222 2021 2747 2542 1999 3994 2467 2204 2000 2113 2019 9003 2417 12474 2953 1045 6532 2046 7239 2043 1045 2387 2009 4067 2017 2005 2437 1996 19387 5369 2111 2006 1996 3902 2228 10047 4689 2111 3227 2123 2102 2113 2043 10047 4854 1045 2123 2102 2514 6625 4760 2009 2000 2111 2061 4921 2063 2196 5281 2619 4129 2033 2000 5475 2091 2043 10047 4854 2021 1045 2052 102\n"
          ],
          "name": "stderr"
        },
        {
          "output_type": "stream",
          "text": [
            "INFO:tensorflow:input_mask: 1 1 1 1 1 1 1 1 1 1 1 1 1 1 1 1 1 1 1 1 1 1 1 1 1 1 1 1 1 1 1 1 1 1 1 1 1 1 1 1 1 1 1 1 1 1 1 1 1 1 1 1 1 1 1 1 1 1 1 1 1 1 1 1 1 1 1 1 1 1 1 1 1 1 1 1 1 1 1 1 1 1 1 1 1 1 1 1 1 1 1 1 1 1 1 1 1 1 1 1 1 1 1 1 1 1 1 1 1 1 1 1 1 1 1 1 1 1 1 1 1 1 1 1 1 1 1 1 1 1 1 1 1 1 1 1 1 1 1 1 1 1 1 1 1 1 1 1 1 1 1 1 1 1 1 1 1 1 1 1 1 1 1 1 1 1 1 1 1 1 1 1 1 1 1 1 1 1 1 1 1 1 1 1 1 1 1 1 1 1 1 1 1 1 1 1 1 1 1 1\n"
          ],
          "name": "stdout"
        },
        {
          "output_type": "stream",
          "text": [
            "INFO:tensorflow:input_mask: 1 1 1 1 1 1 1 1 1 1 1 1 1 1 1 1 1 1 1 1 1 1 1 1 1 1 1 1 1 1 1 1 1 1 1 1 1 1 1 1 1 1 1 1 1 1 1 1 1 1 1 1 1 1 1 1 1 1 1 1 1 1 1 1 1 1 1 1 1 1 1 1 1 1 1 1 1 1 1 1 1 1 1 1 1 1 1 1 1 1 1 1 1 1 1 1 1 1 1 1 1 1 1 1 1 1 1 1 1 1 1 1 1 1 1 1 1 1 1 1 1 1 1 1 1 1 1 1 1 1 1 1 1 1 1 1 1 1 1 1 1 1 1 1 1 1 1 1 1 1 1 1 1 1 1 1 1 1 1 1 1 1 1 1 1 1 1 1 1 1 1 1 1 1 1 1 1 1 1 1 1 1 1 1 1 1 1 1 1 1 1 1 1 1 1 1 1 1 1 1\n"
          ],
          "name": "stderr"
        },
        {
          "output_type": "stream",
          "text": [
            "INFO:tensorflow:segment_ids: 0 0 0 0 0 0 0 0 0 0 0 0 0 0 0 0 0 0 0 0 0 0 0 0 0 0 0 0 0 0 0 0 0 0 0 0 0 0 0 0 0 0 0 0 0 0 0 0 0 0 0 0 0 0 0 0 0 0 0 0 0 0 0 0 0 0 0 0 0 0 0 0 0 0 0 0 0 0 0 0 0 0 0 0 0 0 0 0 0 0 0 0 0 0 0 0 0 0 0 0 0 0 0 0 0 0 0 0 0 0 0 0 0 0 0 0 0 0 0 0 0 0 0 0 0 0 0 0 0 0 0 0 0 0 0 0 0 0 0 0 0 0 0 0 0 0 0 0 0 0 0 0 0 0 0 0 0 0 0 0 0 0 0 0 0 0 0 0 0 0 0 0 0 0 0 0 0 0 0 0 0 0 0 0 0 0 0 0 0 0 0 0 0 0 0 0 0 0 0 0\n"
          ],
          "name": "stdout"
        },
        {
          "output_type": "stream",
          "text": [
            "INFO:tensorflow:segment_ids: 0 0 0 0 0 0 0 0 0 0 0 0 0 0 0 0 0 0 0 0 0 0 0 0 0 0 0 0 0 0 0 0 0 0 0 0 0 0 0 0 0 0 0 0 0 0 0 0 0 0 0 0 0 0 0 0 0 0 0 0 0 0 0 0 0 0 0 0 0 0 0 0 0 0 0 0 0 0 0 0 0 0 0 0 0 0 0 0 0 0 0 0 0 0 0 0 0 0 0 0 0 0 0 0 0 0 0 0 0 0 0 0 0 0 0 0 0 0 0 0 0 0 0 0 0 0 0 0 0 0 0 0 0 0 0 0 0 0 0 0 0 0 0 0 0 0 0 0 0 0 0 0 0 0 0 0 0 0 0 0 0 0 0 0 0 0 0 0 0 0 0 0 0 0 0 0 0 0 0 0 0 0 0 0 0 0 0 0 0 0 0 0 0 0 0 0 0 0 0 0\n"
          ],
          "name": "stderr"
        },
        {
          "output_type": "stream",
          "text": [
            "INFO:tensorflow:label: [0, 0, 0] (id = [0, 0, 0])\n"
          ],
          "name": "stdout"
        },
        {
          "output_type": "stream",
          "text": [
            "INFO:tensorflow:label: [0, 0, 0] (id = [0, 0, 0])\n"
          ],
          "name": "stderr"
        },
        {
          "output_type": "stream",
          "text": [
            "INFO:tensorflow:Writing example 10000 of 101804\n"
          ],
          "name": "stdout"
        },
        {
          "output_type": "stream",
          "text": [
            "INFO:tensorflow:Writing example 10000 of 101804\n"
          ],
          "name": "stderr"
        },
        {
          "output_type": "stream",
          "text": [
            "INFO:tensorflow:Writing example 20000 of 101804\n"
          ],
          "name": "stdout"
        },
        {
          "output_type": "stream",
          "text": [
            "INFO:tensorflow:Writing example 20000 of 101804\n"
          ],
          "name": "stderr"
        },
        {
          "output_type": "stream",
          "text": [
            "INFO:tensorflow:Writing example 30000 of 101804\n"
          ],
          "name": "stdout"
        },
        {
          "output_type": "stream",
          "text": [
            "INFO:tensorflow:Writing example 30000 of 101804\n"
          ],
          "name": "stderr"
        },
        {
          "output_type": "stream",
          "text": [
            "INFO:tensorflow:Writing example 40000 of 101804\n"
          ],
          "name": "stdout"
        },
        {
          "output_type": "stream",
          "text": [
            "INFO:tensorflow:Writing example 40000 of 101804\n"
          ],
          "name": "stderr"
        },
        {
          "output_type": "stream",
          "text": [
            "INFO:tensorflow:Writing example 50000 of 101804\n"
          ],
          "name": "stdout"
        },
        {
          "output_type": "stream",
          "text": [
            "INFO:tensorflow:Writing example 50000 of 101804\n"
          ],
          "name": "stderr"
        },
        {
          "output_type": "stream",
          "text": [
            "INFO:tensorflow:Writing example 60000 of 101804\n"
          ],
          "name": "stdout"
        },
        {
          "output_type": "stream",
          "text": [
            "INFO:tensorflow:Writing example 60000 of 101804\n"
          ],
          "name": "stderr"
        },
        {
          "output_type": "stream",
          "text": [
            "INFO:tensorflow:Writing example 70000 of 101804\n"
          ],
          "name": "stdout"
        },
        {
          "output_type": "stream",
          "text": [
            "INFO:tensorflow:Writing example 70000 of 101804\n"
          ],
          "name": "stderr"
        },
        {
          "output_type": "stream",
          "text": [
            "INFO:tensorflow:Writing example 80000 of 101804\n"
          ],
          "name": "stdout"
        },
        {
          "output_type": "stream",
          "text": [
            "INFO:tensorflow:Writing example 80000 of 101804\n"
          ],
          "name": "stderr"
        },
        {
          "output_type": "stream",
          "text": [
            "INFO:tensorflow:Writing example 90000 of 101804\n"
          ],
          "name": "stdout"
        },
        {
          "output_type": "stream",
          "text": [
            "INFO:tensorflow:Writing example 90000 of 101804\n"
          ],
          "name": "stderr"
        },
        {
          "output_type": "stream",
          "text": [
            "INFO:tensorflow:Writing example 100000 of 101804\n"
          ],
          "name": "stdout"
        },
        {
          "output_type": "stream",
          "text": [
            "INFO:tensorflow:Writing example 100000 of 101804\n"
          ],
          "name": "stderr"
        },
        {
          "output_type": "stream",
          "text": [
            "INFO:tensorflow:Calling model_fn.\n"
          ],
          "name": "stdout"
        },
        {
          "output_type": "stream",
          "text": [
            "INFO:tensorflow:Calling model_fn.\n"
          ],
          "name": "stderr"
        },
        {
          "output_type": "stream",
          "text": [
            "INFO:tensorflow:Saver not created because there are no variables in the graph to restore\n"
          ],
          "name": "stdout"
        },
        {
          "output_type": "stream",
          "text": [
            "INFO:tensorflow:Saver not created because there are no variables in the graph to restore\n"
          ],
          "name": "stderr"
        },
        {
          "output_type": "stream",
          "text": [
            "INFO:tensorflow:Done calling model_fn.\n"
          ],
          "name": "stdout"
        },
        {
          "output_type": "stream",
          "text": [
            "INFO:tensorflow:Done calling model_fn.\n"
          ],
          "name": "stderr"
        },
        {
          "output_type": "stream",
          "text": [
            "INFO:tensorflow:Graph was finalized.\n"
          ],
          "name": "stdout"
        },
        {
          "output_type": "stream",
          "text": [
            "INFO:tensorflow:Graph was finalized.\n"
          ],
          "name": "stderr"
        },
        {
          "output_type": "stream",
          "text": [
            "INFO:tensorflow:Restoring parameters from /content/drive/My Drive/RecurrentNetworks/bert_multi_task/model.ckpt-9711\n"
          ],
          "name": "stdout"
        },
        {
          "output_type": "stream",
          "text": [
            "INFO:tensorflow:Restoring parameters from /content/drive/My Drive/RecurrentNetworks/bert_multi_task/model.ckpt-9711\n"
          ],
          "name": "stderr"
        },
        {
          "output_type": "stream",
          "text": [
            "INFO:tensorflow:Running local_init_op.\n"
          ],
          "name": "stdout"
        },
        {
          "output_type": "stream",
          "text": [
            "INFO:tensorflow:Running local_init_op.\n"
          ],
          "name": "stderr"
        },
        {
          "output_type": "stream",
          "text": [
            "INFO:tensorflow:Done running local_init_op.\n"
          ],
          "name": "stdout"
        },
        {
          "output_type": "stream",
          "text": [
            "INFO:tensorflow:Done running local_init_op.\n"
          ],
          "name": "stderr"
        }
      ]
    },
    {
      "cell_type": "code",
      "metadata": {
        "id": "-mVma6f3zcnK"
      },
      "source": [
        "pred_sentences_by_sample_df = build_final_dataset(test_src_df, pred_sentences_by_sample, test_index)"
      ],
      "execution_count": null,
      "outputs": []
    },
    {
      "cell_type": "code",
      "metadata": {
        "id": "DzlQbmcdyqh9"
      },
      "source": [
        "#Calc average and max value predicion in each class by sample\n",
        "predict_avg_by_sample = []\n",
        "predict_max_by_sample = []\n",
        "for idx, row in pred_sentences_by_sample_df.iterrows():\n",
        "  predict_avg_by_sample.append(np.average(row.emb, axis=0))  \n",
        "  predict_max_by_sample.append(np.max(row.emb, axis=0))  \n",
        "\n",
        "y_avg_pred = np.round(np.array(predict_avg_by_sample, dtype='float32'))\n",
        "y_max_pred = np.round(np.array(predict_max_by_sample, dtype='float32'))"
      ],
      "execution_count": null,
      "outputs": []
    },
    {
      "cell_type": "code",
      "metadata": {
        "id": "3-yOiopZyquo"
      },
      "source": [
        "y_test = np.array(test_src_df.label.to_list(), dtype='float32')"
      ],
      "execution_count": null,
      "outputs": []
    },
    {
      "cell_type": "code",
      "metadata": {
        "id": "WspvGU1xmH7C",
        "colab": {
          "base_uri": "https://localhost:8080/"
        },
        "outputId": "33fb82f1-09fb-4006-f3b8-0e28e90f79bb"
      },
      "source": [
        "print(\"========= Metrics considering the average value for predictions =========\")\n",
        "multitask_metrics(y_test, y_avg_pred, LABELS_SET, 'bert_fine_tuning_multitask_avg', 'bert_fine_tuning_multitask_avg')"
      ],
      "execution_count": null,
      "outputs": [
        {
          "output_type": "stream",
          "text": [
            "========= Metrics considering the average value for predictions =========\n",
            "Correct Prediction per Label: [0.8122727 0.7081818 0.6877273]\n",
            "Exact Match Ratio: 0.44545454545454544\n",
            "Hamming Loss: 0.2639393939393939\n",
            "Confusion Matrix: \n",
            "[[[1081  239]\n",
            "  [ 174  706]]\n",
            "\n",
            " [[1039  281]\n",
            "  [ 361  519]]\n",
            "\n",
            " [[1004  316]\n",
            "  [ 371  509]]]\n",
            "=== Model Performance - Multi-label Metrics ===\n",
            "              precision    recall  f1-score   support\n",
            "\n",
            "     control       0.75      0.80      0.77       880\n",
            "     anxiety       0.65      0.59      0.62       880\n",
            "  depression       0.62      0.58      0.60       880\n",
            "\n",
            "   micro avg       0.67      0.66      0.67      2640\n",
            "   macro avg       0.67      0.66      0.66      2640\n",
            "weighted avg       0.67      0.66      0.66      2640\n",
            " samples avg       0.56      0.67      0.59      2640\n",
            "\n",
            "\n",
            "\n",
            "=== Model Performance - Single-label Metrics ===\n",
            "control\n",
            "[[1081  239]\n",
            " [ 174  706]]\n",
            "anxiety\n",
            "[[1758    2]\n",
            " [ 438    2]]\n",
            "depression\n",
            "[[1740   20]\n",
            " [ 431    9]]\n",
            "anxiety,depression\n",
            "[[1227  533]\n",
            " [ 177  263]]\n",
            "\n",
            "                      precision    recall  f1-score   support\n",
            "\n",
            "             control       0.75      0.80      0.77       880\n",
            "             anxiety       0.50      0.00      0.01       440\n",
            "          depression       0.31      0.02      0.04       440\n",
            "  anxiety,depression       0.33      0.60      0.43       440\n",
            "\n",
            "\n"
          ],
          "name": "stdout"
        }
      ]
    },
    {
      "cell_type": "code",
      "metadata": {
        "id": "qhQygfPXZE5r",
        "colab": {
          "base_uri": "https://localhost:8080/"
        },
        "outputId": "4bebef0d-36d2-47bf-db8d-0961c55f33b6"
      },
      "source": [
        "print(\"========= Metrics considering the maximum value for predictions =========\")\n",
        "multitask_metrics(y_test, y_max_pred, LABELS_SET, 'bert_fine_tuning_multitask_max', 'bert_fine_tuning_multitask_max')"
      ],
      "execution_count": null,
      "outputs": [
        {
          "output_type": "stream",
          "text": [
            "========= Metrics considering the maximum value for predictions =========\n",
            "Correct Prediction per Label: [0.52363634 0.5081818  0.50136364]\n",
            "Exact Match Ratio: 0.15227272727272728\n",
            "Hamming Loss: 0.48893939393939395\n",
            "Confusion Matrix: \n",
            "[[[ 283 1037]\n",
            "  [  11  869]]\n",
            "\n",
            " [[ 262 1058]\n",
            "  [  24  856]]\n",
            "\n",
            " [[ 244 1076]\n",
            "  [  21  859]]]\n",
            "=== Model Performance - Multi-label Metrics ===\n",
            "              precision    recall  f1-score   support\n",
            "\n",
            "     control       0.46      0.99      0.62       880\n",
            "     anxiety       0.45      0.97      0.61       880\n",
            "  depression       0.44      0.98      0.61       880\n",
            "\n",
            "   micro avg       0.45      0.98      0.62      2640\n",
            "   macro avg       0.45      0.98      0.62      2640\n",
            "weighted avg       0.45      0.98      0.62      2640\n",
            " samples avg       0.49      0.98      0.63      2640\n",
            "\n",
            "\n",
            "\n",
            "=== Model Performance - Single-label Metrics ===\n",
            "control\n",
            "[[1292   28]\n",
            " [ 653  227]]\n",
            "anxiety\n",
            "[[1760    0]\n",
            " [ 440    0]]\n",
            "depression\n",
            "[[1760    0]\n",
            " [ 440    0]]\n",
            "anxiety,depression\n",
            "[[1574  186]\n",
            " [ 332  108]]\n",
            "\n",
            "                      precision    recall  f1-score   support\n",
            "\n",
            "             control       0.89      0.26      0.40       880\n",
            "             anxiety       0.00      0.00      0.00       440\n",
            "          depression       0.00      0.00      0.00       440\n",
            "  anxiety,depression       0.37      0.25      0.29       440\n",
            "\n",
            "\n"
          ],
          "name": "stdout"
        }
      ]
    },
    {
      "cell_type": "markdown",
      "metadata": {
        "id": "_rx5PNubfknI"
      },
      "source": [
        "##### 1.7.2 Test predictions model with stacked test dataset"
      ]
    },
    {
      "cell_type": "code",
      "metadata": {
        "id": "cxi72yX_fGDq",
        "colab": {
          "base_uri": "https://localhost:8080/"
        },
        "outputId": "bd9ebbdc-4fac-4e02-cb99-59d2716e7af7"
      },
      "source": [
        "pred_sentences_by_sample = np.apply_along_axis(getPrediction, 0, np.array(test_stk_df['text']), \"predictions\")"
      ],
      "execution_count": null,
      "outputs": [
        {
          "output_type": "stream",
          "text": [
            "INFO:tensorflow:Writing example 0 of 20479\n"
          ],
          "name": "stdout"
        },
        {
          "output_type": "stream",
          "text": [
            "INFO:tensorflow:Writing example 0 of 20479\n"
          ],
          "name": "stderr"
        },
        {
          "output_type": "stream",
          "text": [
            "INFO:tensorflow:*** Example ***\n"
          ],
          "name": "stdout"
        },
        {
          "output_type": "stream",
          "text": [
            "INFO:tensorflow:*** Example ***\n"
          ],
          "name": "stderr"
        },
        {
          "output_type": "stream",
          "text": [
            "INFO:tensorflow:guid: \n"
          ],
          "name": "stdout"
        },
        {
          "output_type": "stream",
          "text": [
            "INFO:tensorflow:guid: \n"
          ],
          "name": "stderr"
        },
        {
          "output_type": "stream",
          "text": [
            "INFO:tensorflow:tokens: [CLS] perhaps something like the stomach va ##gina ##s that shoot like br ##im ##stone front and back i disagree i think the habit sc ##ap ##ular wa ##fer is better possibly not 100 true but the combo has definitely is useful ha ##ha ##ae ur tr ##ole ##ing here x ##dd ##dd ##dd that should be epic fe ##tus ah bis ##na ##p love him to death learned breaking in isaac through him as well g ##g friend iv ##e been wondering myself if you will rec ##ie ##ve a free copy by way of purchasing a copy on ps ##3 previously it looks good can ##t wait for the beta to come out tomorrow around when it was first announced did u touched h ##te bobo ##s dub ##e fu k ye ##a dan ##k bog wat ##e r basically aqua teen but what time does it launch simply glorious i love your house its the most green red candy cane iv ##e ever seen lick my balls m ##hart ##i lick my fucking balls got number 69 day made i don ##t know if he moved in or something but he used to not live there [SEP]\n"
          ],
          "name": "stdout"
        },
        {
          "output_type": "stream",
          "text": [
            "INFO:tensorflow:tokens: [CLS] perhaps something like the stomach va ##gina ##s that shoot like br ##im ##stone front and back i disagree i think the habit sc ##ap ##ular wa ##fer is better possibly not 100 true but the combo has definitely is useful ha ##ha ##ae ur tr ##ole ##ing here x ##dd ##dd ##dd that should be epic fe ##tus ah bis ##na ##p love him to death learned breaking in isaac through him as well g ##g friend iv ##e been wondering myself if you will rec ##ie ##ve a free copy by way of purchasing a copy on ps ##3 previously it looks good can ##t wait for the beta to come out tomorrow around when it was first announced did u touched h ##te bobo ##s dub ##e fu k ye ##a dan ##k bog wat ##e r basically aqua teen but what time does it launch simply glorious i love your house its the most green red candy cane iv ##e ever seen lick my balls m ##hart ##i lick my fucking balls got number 69 day made i don ##t know if he moved in or something but he used to not live there [SEP]\n"
          ],
          "name": "stderr"
        },
        {
          "output_type": "stream",
          "text": [
            "INFO:tensorflow:input_ids: 101 3383 2242 2066 1996 4308 12436 20876 2015 2008 5607 2066 7987 5714 9221 2392 1998 2067 1045 21090 1045 2228 1996 10427 8040 9331 7934 11333 7512 2003 2488 4298 2025 2531 2995 2021 1996 25025 2038 5791 2003 6179 5292 3270 6679 24471 19817 9890 2075 2182 1060 14141 14141 14141 2008 2323 2022 8680 10768 5809 6289 20377 2532 2361 2293 2032 2000 2331 4342 4911 1999 7527 2083 2032 2004 2092 1043 2290 2767 4921 2063 2042 6603 2870 2065 2017 2097 28667 2666 3726 1037 2489 6100 2011 2126 1997 13131 1037 6100 2006 8827 2509 3130 2009 3504 2204 2064 2102 3524 2005 1996 8247 2000 2272 2041 4826 2105 2043 2009 2001 2034 2623 2106 1057 5028 1044 2618 27418 2015 12931 2063 11865 1047 6300 2050 4907 2243 22132 28194 2063 1054 10468 28319 9458 2021 2054 2051 2515 2009 4888 3432 14013 1045 2293 2115 2160 2049 1996 2087 2665 2417 9485 11942 4921 2063 2412 2464 15385 2026 7395 1049 10686 2072 15385 2026 8239 7395 2288 2193 6353 2154 2081 1045 2123 2102 2113 2065 2002 2333 1999 2030 2242 2021 2002 2109 2000 2025 2444 2045 102\n"
          ],
          "name": "stdout"
        },
        {
          "output_type": "stream",
          "text": [
            "INFO:tensorflow:input_ids: 101 3383 2242 2066 1996 4308 12436 20876 2015 2008 5607 2066 7987 5714 9221 2392 1998 2067 1045 21090 1045 2228 1996 10427 8040 9331 7934 11333 7512 2003 2488 4298 2025 2531 2995 2021 1996 25025 2038 5791 2003 6179 5292 3270 6679 24471 19817 9890 2075 2182 1060 14141 14141 14141 2008 2323 2022 8680 10768 5809 6289 20377 2532 2361 2293 2032 2000 2331 4342 4911 1999 7527 2083 2032 2004 2092 1043 2290 2767 4921 2063 2042 6603 2870 2065 2017 2097 28667 2666 3726 1037 2489 6100 2011 2126 1997 13131 1037 6100 2006 8827 2509 3130 2009 3504 2204 2064 2102 3524 2005 1996 8247 2000 2272 2041 4826 2105 2043 2009 2001 2034 2623 2106 1057 5028 1044 2618 27418 2015 12931 2063 11865 1047 6300 2050 4907 2243 22132 28194 2063 1054 10468 28319 9458 2021 2054 2051 2515 2009 4888 3432 14013 1045 2293 2115 2160 2049 1996 2087 2665 2417 9485 11942 4921 2063 2412 2464 15385 2026 7395 1049 10686 2072 15385 2026 8239 7395 2288 2193 6353 2154 2081 1045 2123 2102 2113 2065 2002 2333 1999 2030 2242 2021 2002 2109 2000 2025 2444 2045 102\n"
          ],
          "name": "stderr"
        },
        {
          "output_type": "stream",
          "text": [
            "INFO:tensorflow:input_mask: 1 1 1 1 1 1 1 1 1 1 1 1 1 1 1 1 1 1 1 1 1 1 1 1 1 1 1 1 1 1 1 1 1 1 1 1 1 1 1 1 1 1 1 1 1 1 1 1 1 1 1 1 1 1 1 1 1 1 1 1 1 1 1 1 1 1 1 1 1 1 1 1 1 1 1 1 1 1 1 1 1 1 1 1 1 1 1 1 1 1 1 1 1 1 1 1 1 1 1 1 1 1 1 1 1 1 1 1 1 1 1 1 1 1 1 1 1 1 1 1 1 1 1 1 1 1 1 1 1 1 1 1 1 1 1 1 1 1 1 1 1 1 1 1 1 1 1 1 1 1 1 1 1 1 1 1 1 1 1 1 1 1 1 1 1 1 1 1 1 1 1 1 1 1 1 1 1 1 1 1 1 1 1 1 1 1 1 1 1 1 1 1 1 1 1 1 1 1 1 1\n"
          ],
          "name": "stdout"
        },
        {
          "output_type": "stream",
          "text": [
            "INFO:tensorflow:input_mask: 1 1 1 1 1 1 1 1 1 1 1 1 1 1 1 1 1 1 1 1 1 1 1 1 1 1 1 1 1 1 1 1 1 1 1 1 1 1 1 1 1 1 1 1 1 1 1 1 1 1 1 1 1 1 1 1 1 1 1 1 1 1 1 1 1 1 1 1 1 1 1 1 1 1 1 1 1 1 1 1 1 1 1 1 1 1 1 1 1 1 1 1 1 1 1 1 1 1 1 1 1 1 1 1 1 1 1 1 1 1 1 1 1 1 1 1 1 1 1 1 1 1 1 1 1 1 1 1 1 1 1 1 1 1 1 1 1 1 1 1 1 1 1 1 1 1 1 1 1 1 1 1 1 1 1 1 1 1 1 1 1 1 1 1 1 1 1 1 1 1 1 1 1 1 1 1 1 1 1 1 1 1 1 1 1 1 1 1 1 1 1 1 1 1 1 1 1 1 1 1\n"
          ],
          "name": "stderr"
        },
        {
          "output_type": "stream",
          "text": [
            "INFO:tensorflow:segment_ids: 0 0 0 0 0 0 0 0 0 0 0 0 0 0 0 0 0 0 0 0 0 0 0 0 0 0 0 0 0 0 0 0 0 0 0 0 0 0 0 0 0 0 0 0 0 0 0 0 0 0 0 0 0 0 0 0 0 0 0 0 0 0 0 0 0 0 0 0 0 0 0 0 0 0 0 0 0 0 0 0 0 0 0 0 0 0 0 0 0 0 0 0 0 0 0 0 0 0 0 0 0 0 0 0 0 0 0 0 0 0 0 0 0 0 0 0 0 0 0 0 0 0 0 0 0 0 0 0 0 0 0 0 0 0 0 0 0 0 0 0 0 0 0 0 0 0 0 0 0 0 0 0 0 0 0 0 0 0 0 0 0 0 0 0 0 0 0 0 0 0 0 0 0 0 0 0 0 0 0 0 0 0 0 0 0 0 0 0 0 0 0 0 0 0 0 0 0 0 0 0\n"
          ],
          "name": "stdout"
        },
        {
          "output_type": "stream",
          "text": [
            "INFO:tensorflow:segment_ids: 0 0 0 0 0 0 0 0 0 0 0 0 0 0 0 0 0 0 0 0 0 0 0 0 0 0 0 0 0 0 0 0 0 0 0 0 0 0 0 0 0 0 0 0 0 0 0 0 0 0 0 0 0 0 0 0 0 0 0 0 0 0 0 0 0 0 0 0 0 0 0 0 0 0 0 0 0 0 0 0 0 0 0 0 0 0 0 0 0 0 0 0 0 0 0 0 0 0 0 0 0 0 0 0 0 0 0 0 0 0 0 0 0 0 0 0 0 0 0 0 0 0 0 0 0 0 0 0 0 0 0 0 0 0 0 0 0 0 0 0 0 0 0 0 0 0 0 0 0 0 0 0 0 0 0 0 0 0 0 0 0 0 0 0 0 0 0 0 0 0 0 0 0 0 0 0 0 0 0 0 0 0 0 0 0 0 0 0 0 0 0 0 0 0 0 0 0 0 0 0\n"
          ],
          "name": "stderr"
        },
        {
          "output_type": "stream",
          "text": [
            "INFO:tensorflow:label: [0, 0, 0] (id = [0, 0, 0])\n"
          ],
          "name": "stdout"
        },
        {
          "output_type": "stream",
          "text": [
            "INFO:tensorflow:label: [0, 0, 0] (id = [0, 0, 0])\n"
          ],
          "name": "stderr"
        },
        {
          "output_type": "stream",
          "text": [
            "INFO:tensorflow:*** Example ***\n"
          ],
          "name": "stdout"
        },
        {
          "output_type": "stream",
          "text": [
            "INFO:tensorflow:*** Example ***\n"
          ],
          "name": "stderr"
        },
        {
          "output_type": "stream",
          "text": [
            "INFO:tensorflow:guid: \n"
          ],
          "name": "stdout"
        },
        {
          "output_type": "stream",
          "text": [
            "INFO:tensorflow:guid: \n"
          ],
          "name": "stderr"
        },
        {
          "output_type": "stream",
          "text": [
            "INFO:tensorflow:tokens: [CLS] don ##t know if he moved in or something but he used to not live there kin ##ky yes what the fuck kind of drugs are you on because i want some bis ##na ##p indefinitely i used to be obsessed with nl but then i found bis ##na ##p imagine how i felt when nl started talking about bis ##na ##p in his videos the two most op enemies come together how can i get rid of all of my mod ##s on the steam version i kinda messed up one of the characters and i can ##t change it now help is much ##o appreciated iv ##e tried that but my mod ##s were still there i suppose i could try it again once i get the chance i mean i don ##t mind it too badly its just that my computer is really slow it takes no ex ##agger ##ating here about 5 10 minutes just to get to the log in screen any help would be wonderful the first time i look at the comments on any post of this sub ##red ##dit and this shit is happening im very scared i just got [SEP]\n"
          ],
          "name": "stdout"
        },
        {
          "output_type": "stream",
          "text": [
            "INFO:tensorflow:tokens: [CLS] don ##t know if he moved in or something but he used to not live there kin ##ky yes what the fuck kind of drugs are you on because i want some bis ##na ##p indefinitely i used to be obsessed with nl but then i found bis ##na ##p imagine how i felt when nl started talking about bis ##na ##p in his videos the two most op enemies come together how can i get rid of all of my mod ##s on the steam version i kinda messed up one of the characters and i can ##t change it now help is much ##o appreciated iv ##e tried that but my mod ##s were still there i suppose i could try it again once i get the chance i mean i don ##t mind it too badly its just that my computer is really slow it takes no ex ##agger ##ating here about 5 10 minutes just to get to the log in screen any help would be wonderful the first time i look at the comments on any post of this sub ##red ##dit and this shit is happening im very scared i just got [SEP]\n"
          ],
          "name": "stderr"
        },
        {
          "output_type": "stream",
          "text": [
            "INFO:tensorflow:input_ids: 101 2123 2102 2113 2065 2002 2333 1999 2030 2242 2021 2002 2109 2000 2025 2444 2045 12631 4801 2748 2054 1996 6616 2785 1997 5850 2024 2017 2006 2138 1045 2215 2070 20377 2532 2361 20733 1045 2109 2000 2022 15896 2007 17953 2021 2059 1045 2179 20377 2532 2361 5674 2129 1045 2371 2043 17953 2318 3331 2055 20377 2532 2361 1999 2010 6876 1996 2048 2087 6728 6716 2272 2362 2129 2064 1045 2131 9436 1997 2035 1997 2026 16913 2015 2006 1996 5492 2544 1045 17704 18358 2039 2028 1997 1996 3494 1998 1045 2064 2102 2689 2009 2085 2393 2003 2172 2080 12315 4921 2063 2699 2008 2021 2026 16913 2015 2020 2145 2045 1045 6814 1045 2071 3046 2009 2153 2320 1045 2131 1996 3382 1045 2812 1045 2123 2102 2568 2009 2205 6649 2049 2074 2008 2026 3274 2003 2428 4030 2009 3138 2053 4654 27609 5844 2182 2055 1019 2184 2781 2074 2000 2131 2000 1996 8833 1999 3898 2151 2393 2052 2022 6919 1996 2034 2051 1045 2298 2012 1996 7928 2006 2151 2695 1997 2023 4942 5596 23194 1998 2023 4485 2003 6230 10047 2200 6015 1045 2074 2288 102\n"
          ],
          "name": "stdout"
        },
        {
          "output_type": "stream",
          "text": [
            "INFO:tensorflow:input_ids: 101 2123 2102 2113 2065 2002 2333 1999 2030 2242 2021 2002 2109 2000 2025 2444 2045 12631 4801 2748 2054 1996 6616 2785 1997 5850 2024 2017 2006 2138 1045 2215 2070 20377 2532 2361 20733 1045 2109 2000 2022 15896 2007 17953 2021 2059 1045 2179 20377 2532 2361 5674 2129 1045 2371 2043 17953 2318 3331 2055 20377 2532 2361 1999 2010 6876 1996 2048 2087 6728 6716 2272 2362 2129 2064 1045 2131 9436 1997 2035 1997 2026 16913 2015 2006 1996 5492 2544 1045 17704 18358 2039 2028 1997 1996 3494 1998 1045 2064 2102 2689 2009 2085 2393 2003 2172 2080 12315 4921 2063 2699 2008 2021 2026 16913 2015 2020 2145 2045 1045 6814 1045 2071 3046 2009 2153 2320 1045 2131 1996 3382 1045 2812 1045 2123 2102 2568 2009 2205 6649 2049 2074 2008 2026 3274 2003 2428 4030 2009 3138 2053 4654 27609 5844 2182 2055 1019 2184 2781 2074 2000 2131 2000 1996 8833 1999 3898 2151 2393 2052 2022 6919 1996 2034 2051 1045 2298 2012 1996 7928 2006 2151 2695 1997 2023 4942 5596 23194 1998 2023 4485 2003 6230 10047 2200 6015 1045 2074 2288 102\n"
          ],
          "name": "stderr"
        },
        {
          "output_type": "stream",
          "text": [
            "INFO:tensorflow:input_mask: 1 1 1 1 1 1 1 1 1 1 1 1 1 1 1 1 1 1 1 1 1 1 1 1 1 1 1 1 1 1 1 1 1 1 1 1 1 1 1 1 1 1 1 1 1 1 1 1 1 1 1 1 1 1 1 1 1 1 1 1 1 1 1 1 1 1 1 1 1 1 1 1 1 1 1 1 1 1 1 1 1 1 1 1 1 1 1 1 1 1 1 1 1 1 1 1 1 1 1 1 1 1 1 1 1 1 1 1 1 1 1 1 1 1 1 1 1 1 1 1 1 1 1 1 1 1 1 1 1 1 1 1 1 1 1 1 1 1 1 1 1 1 1 1 1 1 1 1 1 1 1 1 1 1 1 1 1 1 1 1 1 1 1 1 1 1 1 1 1 1 1 1 1 1 1 1 1 1 1 1 1 1 1 1 1 1 1 1 1 1 1 1 1 1 1 1 1 1 1 1\n"
          ],
          "name": "stdout"
        },
        {
          "output_type": "stream",
          "text": [
            "INFO:tensorflow:input_mask: 1 1 1 1 1 1 1 1 1 1 1 1 1 1 1 1 1 1 1 1 1 1 1 1 1 1 1 1 1 1 1 1 1 1 1 1 1 1 1 1 1 1 1 1 1 1 1 1 1 1 1 1 1 1 1 1 1 1 1 1 1 1 1 1 1 1 1 1 1 1 1 1 1 1 1 1 1 1 1 1 1 1 1 1 1 1 1 1 1 1 1 1 1 1 1 1 1 1 1 1 1 1 1 1 1 1 1 1 1 1 1 1 1 1 1 1 1 1 1 1 1 1 1 1 1 1 1 1 1 1 1 1 1 1 1 1 1 1 1 1 1 1 1 1 1 1 1 1 1 1 1 1 1 1 1 1 1 1 1 1 1 1 1 1 1 1 1 1 1 1 1 1 1 1 1 1 1 1 1 1 1 1 1 1 1 1 1 1 1 1 1 1 1 1 1 1 1 1 1 1\n"
          ],
          "name": "stderr"
        },
        {
          "output_type": "stream",
          "text": [
            "INFO:tensorflow:segment_ids: 0 0 0 0 0 0 0 0 0 0 0 0 0 0 0 0 0 0 0 0 0 0 0 0 0 0 0 0 0 0 0 0 0 0 0 0 0 0 0 0 0 0 0 0 0 0 0 0 0 0 0 0 0 0 0 0 0 0 0 0 0 0 0 0 0 0 0 0 0 0 0 0 0 0 0 0 0 0 0 0 0 0 0 0 0 0 0 0 0 0 0 0 0 0 0 0 0 0 0 0 0 0 0 0 0 0 0 0 0 0 0 0 0 0 0 0 0 0 0 0 0 0 0 0 0 0 0 0 0 0 0 0 0 0 0 0 0 0 0 0 0 0 0 0 0 0 0 0 0 0 0 0 0 0 0 0 0 0 0 0 0 0 0 0 0 0 0 0 0 0 0 0 0 0 0 0 0 0 0 0 0 0 0 0 0 0 0 0 0 0 0 0 0 0 0 0 0 0 0 0\n"
          ],
          "name": "stdout"
        },
        {
          "output_type": "stream",
          "text": [
            "INFO:tensorflow:segment_ids: 0 0 0 0 0 0 0 0 0 0 0 0 0 0 0 0 0 0 0 0 0 0 0 0 0 0 0 0 0 0 0 0 0 0 0 0 0 0 0 0 0 0 0 0 0 0 0 0 0 0 0 0 0 0 0 0 0 0 0 0 0 0 0 0 0 0 0 0 0 0 0 0 0 0 0 0 0 0 0 0 0 0 0 0 0 0 0 0 0 0 0 0 0 0 0 0 0 0 0 0 0 0 0 0 0 0 0 0 0 0 0 0 0 0 0 0 0 0 0 0 0 0 0 0 0 0 0 0 0 0 0 0 0 0 0 0 0 0 0 0 0 0 0 0 0 0 0 0 0 0 0 0 0 0 0 0 0 0 0 0 0 0 0 0 0 0 0 0 0 0 0 0 0 0 0 0 0 0 0 0 0 0 0 0 0 0 0 0 0 0 0 0 0 0 0 0 0 0 0 0\n"
          ],
          "name": "stderr"
        },
        {
          "output_type": "stream",
          "text": [
            "INFO:tensorflow:label: [0, 0, 0] (id = [0, 0, 0])\n"
          ],
          "name": "stdout"
        },
        {
          "output_type": "stream",
          "text": [
            "INFO:tensorflow:label: [0, 0, 0] (id = [0, 0, 0])\n"
          ],
          "name": "stderr"
        },
        {
          "output_type": "stream",
          "text": [
            "INFO:tensorflow:*** Example ***\n"
          ],
          "name": "stdout"
        },
        {
          "output_type": "stream",
          "text": [
            "INFO:tensorflow:*** Example ***\n"
          ],
          "name": "stderr"
        },
        {
          "output_type": "stream",
          "text": [
            "INFO:tensorflow:guid: \n"
          ],
          "name": "stdout"
        },
        {
          "output_type": "stream",
          "text": [
            "INFO:tensorflow:guid: \n"
          ],
          "name": "stderr"
        },
        {
          "output_type": "stream",
          "text": [
            "INFO:tensorflow:tokens: [CLS] any help would be wonderful the first time i look at the comments on any post of this sub ##red ##dit and this shit is happening im very scared i just got a 3d ##s and animal crossing new leaf whenever i go to set up my game i can ##t name my town or set the time and date all of my friends are able to but i just can ##t seem to do it any advice gladly give me a little while how to sp ##el ##unk mac thank god im a glass cannon i forgot to kappa expansion ##s are much ##o app ##re ##cia ##do as well c ps my flair is a wish ##list with just ca ##h expansion ##s thanks in advance do you still have any http am ##z ##n com w 3 ##rot ##tl ##k ##wo ##u ##8 ##j ##5 thanks in advance lt 3 id love to but my printers e ##ffed up and i can ##t mo ##och off of any of my friends because they don ##t have printers pretty stupid sit ##ch im in on that front i have one it was very worth it ios [SEP]\n"
          ],
          "name": "stdout"
        },
        {
          "output_type": "stream",
          "text": [
            "INFO:tensorflow:tokens: [CLS] any help would be wonderful the first time i look at the comments on any post of this sub ##red ##dit and this shit is happening im very scared i just got a 3d ##s and animal crossing new leaf whenever i go to set up my game i can ##t name my town or set the time and date all of my friends are able to but i just can ##t seem to do it any advice gladly give me a little while how to sp ##el ##unk mac thank god im a glass cannon i forgot to kappa expansion ##s are much ##o app ##re ##cia ##do as well c ps my flair is a wish ##list with just ca ##h expansion ##s thanks in advance do you still have any http am ##z ##n com w 3 ##rot ##tl ##k ##wo ##u ##8 ##j ##5 thanks in advance lt 3 id love to but my printers e ##ffed up and i can ##t mo ##och off of any of my friends because they don ##t have printers pretty stupid sit ##ch im in on that front i have one it was very worth it ios [SEP]\n"
          ],
          "name": "stderr"
        },
        {
          "output_type": "stream",
          "text": [
            "INFO:tensorflow:input_ids: 101 2151 2393 2052 2022 6919 1996 2034 2051 1045 2298 2012 1996 7928 2006 2151 2695 1997 2023 4942 5596 23194 1998 2023 4485 2003 6230 10047 2200 6015 1045 2074 2288 1037 7605 2015 1998 4111 5153 2047 7053 7188 1045 2175 2000 2275 2039 2026 2208 1045 2064 2102 2171 2026 2237 2030 2275 1996 2051 1998 3058 2035 1997 2026 2814 2024 2583 2000 2021 1045 2074 2064 2102 4025 2000 2079 2009 2151 6040 24986 2507 2033 1037 2210 2096 2129 2000 11867 2884 16814 6097 4067 2643 10047 1037 3221 8854 1045 9471 2000 16000 4935 2015 2024 2172 2080 10439 2890 7405 3527 2004 2092 1039 8827 2026 22012 2003 1037 4299 9863 2007 2074 6187 2232 4935 2015 4283 1999 5083 2079 2017 2145 2031 2151 8299 2572 2480 2078 4012 1059 1017 21709 19646 2243 12155 2226 2620 3501 2629 4283 1999 5083 8318 1017 8909 2293 2000 2021 2026 23557 1041 15388 2039 1998 1045 2064 2102 9587 11663 2125 1997 2151 1997 2026 2814 2138 2027 2123 2102 2031 23557 3492 5236 4133 2818 10047 1999 2006 2008 2392 1045 2031 2028 2009 2001 2200 4276 2009 16380 102\n"
          ],
          "name": "stdout"
        },
        {
          "output_type": "stream",
          "text": [
            "INFO:tensorflow:input_ids: 101 2151 2393 2052 2022 6919 1996 2034 2051 1045 2298 2012 1996 7928 2006 2151 2695 1997 2023 4942 5596 23194 1998 2023 4485 2003 6230 10047 2200 6015 1045 2074 2288 1037 7605 2015 1998 4111 5153 2047 7053 7188 1045 2175 2000 2275 2039 2026 2208 1045 2064 2102 2171 2026 2237 2030 2275 1996 2051 1998 3058 2035 1997 2026 2814 2024 2583 2000 2021 1045 2074 2064 2102 4025 2000 2079 2009 2151 6040 24986 2507 2033 1037 2210 2096 2129 2000 11867 2884 16814 6097 4067 2643 10047 1037 3221 8854 1045 9471 2000 16000 4935 2015 2024 2172 2080 10439 2890 7405 3527 2004 2092 1039 8827 2026 22012 2003 1037 4299 9863 2007 2074 6187 2232 4935 2015 4283 1999 5083 2079 2017 2145 2031 2151 8299 2572 2480 2078 4012 1059 1017 21709 19646 2243 12155 2226 2620 3501 2629 4283 1999 5083 8318 1017 8909 2293 2000 2021 2026 23557 1041 15388 2039 1998 1045 2064 2102 9587 11663 2125 1997 2151 1997 2026 2814 2138 2027 2123 2102 2031 23557 3492 5236 4133 2818 10047 1999 2006 2008 2392 1045 2031 2028 2009 2001 2200 4276 2009 16380 102\n"
          ],
          "name": "stderr"
        },
        {
          "output_type": "stream",
          "text": [
            "INFO:tensorflow:input_mask: 1 1 1 1 1 1 1 1 1 1 1 1 1 1 1 1 1 1 1 1 1 1 1 1 1 1 1 1 1 1 1 1 1 1 1 1 1 1 1 1 1 1 1 1 1 1 1 1 1 1 1 1 1 1 1 1 1 1 1 1 1 1 1 1 1 1 1 1 1 1 1 1 1 1 1 1 1 1 1 1 1 1 1 1 1 1 1 1 1 1 1 1 1 1 1 1 1 1 1 1 1 1 1 1 1 1 1 1 1 1 1 1 1 1 1 1 1 1 1 1 1 1 1 1 1 1 1 1 1 1 1 1 1 1 1 1 1 1 1 1 1 1 1 1 1 1 1 1 1 1 1 1 1 1 1 1 1 1 1 1 1 1 1 1 1 1 1 1 1 1 1 1 1 1 1 1 1 1 1 1 1 1 1 1 1 1 1 1 1 1 1 1 1 1 1 1 1 1 1 1\n"
          ],
          "name": "stdout"
        },
        {
          "output_type": "stream",
          "text": [
            "INFO:tensorflow:input_mask: 1 1 1 1 1 1 1 1 1 1 1 1 1 1 1 1 1 1 1 1 1 1 1 1 1 1 1 1 1 1 1 1 1 1 1 1 1 1 1 1 1 1 1 1 1 1 1 1 1 1 1 1 1 1 1 1 1 1 1 1 1 1 1 1 1 1 1 1 1 1 1 1 1 1 1 1 1 1 1 1 1 1 1 1 1 1 1 1 1 1 1 1 1 1 1 1 1 1 1 1 1 1 1 1 1 1 1 1 1 1 1 1 1 1 1 1 1 1 1 1 1 1 1 1 1 1 1 1 1 1 1 1 1 1 1 1 1 1 1 1 1 1 1 1 1 1 1 1 1 1 1 1 1 1 1 1 1 1 1 1 1 1 1 1 1 1 1 1 1 1 1 1 1 1 1 1 1 1 1 1 1 1 1 1 1 1 1 1 1 1 1 1 1 1 1 1 1 1 1 1\n"
          ],
          "name": "stderr"
        },
        {
          "output_type": "stream",
          "text": [
            "INFO:tensorflow:segment_ids: 0 0 0 0 0 0 0 0 0 0 0 0 0 0 0 0 0 0 0 0 0 0 0 0 0 0 0 0 0 0 0 0 0 0 0 0 0 0 0 0 0 0 0 0 0 0 0 0 0 0 0 0 0 0 0 0 0 0 0 0 0 0 0 0 0 0 0 0 0 0 0 0 0 0 0 0 0 0 0 0 0 0 0 0 0 0 0 0 0 0 0 0 0 0 0 0 0 0 0 0 0 0 0 0 0 0 0 0 0 0 0 0 0 0 0 0 0 0 0 0 0 0 0 0 0 0 0 0 0 0 0 0 0 0 0 0 0 0 0 0 0 0 0 0 0 0 0 0 0 0 0 0 0 0 0 0 0 0 0 0 0 0 0 0 0 0 0 0 0 0 0 0 0 0 0 0 0 0 0 0 0 0 0 0 0 0 0 0 0 0 0 0 0 0 0 0 0 0 0 0\n"
          ],
          "name": "stdout"
        },
        {
          "output_type": "stream",
          "text": [
            "INFO:tensorflow:segment_ids: 0 0 0 0 0 0 0 0 0 0 0 0 0 0 0 0 0 0 0 0 0 0 0 0 0 0 0 0 0 0 0 0 0 0 0 0 0 0 0 0 0 0 0 0 0 0 0 0 0 0 0 0 0 0 0 0 0 0 0 0 0 0 0 0 0 0 0 0 0 0 0 0 0 0 0 0 0 0 0 0 0 0 0 0 0 0 0 0 0 0 0 0 0 0 0 0 0 0 0 0 0 0 0 0 0 0 0 0 0 0 0 0 0 0 0 0 0 0 0 0 0 0 0 0 0 0 0 0 0 0 0 0 0 0 0 0 0 0 0 0 0 0 0 0 0 0 0 0 0 0 0 0 0 0 0 0 0 0 0 0 0 0 0 0 0 0 0 0 0 0 0 0 0 0 0 0 0 0 0 0 0 0 0 0 0 0 0 0 0 0 0 0 0 0 0 0 0 0 0 0\n"
          ],
          "name": "stderr"
        },
        {
          "output_type": "stream",
          "text": [
            "INFO:tensorflow:label: [0, 0, 0] (id = [0, 0, 0])\n"
          ],
          "name": "stdout"
        },
        {
          "output_type": "stream",
          "text": [
            "INFO:tensorflow:label: [0, 0, 0] (id = [0, 0, 0])\n"
          ],
          "name": "stderr"
        },
        {
          "output_type": "stream",
          "text": [
            "INFO:tensorflow:*** Example ***\n"
          ],
          "name": "stdout"
        },
        {
          "output_type": "stream",
          "text": [
            "INFO:tensorflow:*** Example ***\n"
          ],
          "name": "stderr"
        },
        {
          "output_type": "stream",
          "text": [
            "INFO:tensorflow:guid: \n"
          ],
          "name": "stdout"
        },
        {
          "output_type": "stream",
          "text": [
            "INFO:tensorflow:guid: \n"
          ],
          "name": "stderr"
        },
        {
          "output_type": "stream",
          "text": [
            "INFO:tensorflow:tokens: [CLS] printers pretty stupid sit ##ch im in on that front i have one it was very worth it ios pl ##es do it old ##fa ##g gt ##fo 0 10 down ##fo ##ted report ##d what fucking website is this holy shit what is this life also little planet is a new item that makes your tears circle around you 76 4 completed the tutor ##ial are you serious oh yeah good point i just got basement boy after 69 420 deaths wat when is this going to be public or is it already wonderful nope i believe its mountain lion the fact that there ##s 69 up ##vot ##es makes this even better regardless there ##s no problem with that i can ##t seem to bring myself to do it iv ##e tried several times but i can ##t get it out i do take certain medications and no i va ##pe but that ##s it i may im a little bit busy right now but when i get the chance if i remember that is ill message you about it thank you i will try to take your advice http g ##ya ##zo com 37 ##20 [SEP]\n"
          ],
          "name": "stdout"
        },
        {
          "output_type": "stream",
          "text": [
            "INFO:tensorflow:tokens: [CLS] printers pretty stupid sit ##ch im in on that front i have one it was very worth it ios pl ##es do it old ##fa ##g gt ##fo 0 10 down ##fo ##ted report ##d what fucking website is this holy shit what is this life also little planet is a new item that makes your tears circle around you 76 4 completed the tutor ##ial are you serious oh yeah good point i just got basement boy after 69 420 deaths wat when is this going to be public or is it already wonderful nope i believe its mountain lion the fact that there ##s 69 up ##vot ##es makes this even better regardless there ##s no problem with that i can ##t seem to bring myself to do it iv ##e tried several times but i can ##t get it out i do take certain medications and no i va ##pe but that ##s it i may im a little bit busy right now but when i get the chance if i remember that is ill message you about it thank you i will try to take your advice http g ##ya ##zo com 37 ##20 [SEP]\n"
          ],
          "name": "stderr"
        },
        {
          "output_type": "stream",
          "text": [
            "INFO:tensorflow:input_ids: 101 23557 3492 5236 4133 2818 10047 1999 2006 2008 2392 1045 2031 2028 2009 2001 2200 4276 2009 16380 20228 2229 2079 2009 2214 7011 2290 14181 14876 1014 2184 2091 14876 3064 3189 2094 2054 8239 4037 2003 2023 4151 4485 2054 2003 2023 2166 2036 2210 4774 2003 1037 2047 8875 2008 3084 2115 4000 4418 2105 2017 6146 1018 2949 1996 14924 4818 2024 2017 3809 2821 3398 2204 2391 1045 2074 2288 8102 2879 2044 6353 17442 6677 28194 2043 2003 2023 2183 2000 2022 2270 2030 2003 2009 2525 6919 16780 1045 2903 2049 3137 7006 1996 2755 2008 2045 2015 6353 2039 22994 2229 3084 2023 2130 2488 7539 2045 2015 2053 3291 2007 2008 1045 2064 2102 4025 2000 3288 2870 2000 2079 2009 4921 2063 2699 2195 2335 2021 1045 2064 2102 2131 2009 2041 1045 2079 2202 3056 20992 1998 2053 1045 12436 5051 2021 2008 2015 2009 1045 2089 10047 1037 2210 2978 5697 2157 2085 2021 2043 1045 2131 1996 3382 2065 1045 3342 2008 2003 5665 4471 2017 2055 2009 4067 2017 1045 2097 3046 2000 2202 2115 6040 8299 1043 3148 6844 4012 4261 11387 102\n"
          ],
          "name": "stdout"
        },
        {
          "output_type": "stream",
          "text": [
            "INFO:tensorflow:input_ids: 101 23557 3492 5236 4133 2818 10047 1999 2006 2008 2392 1045 2031 2028 2009 2001 2200 4276 2009 16380 20228 2229 2079 2009 2214 7011 2290 14181 14876 1014 2184 2091 14876 3064 3189 2094 2054 8239 4037 2003 2023 4151 4485 2054 2003 2023 2166 2036 2210 4774 2003 1037 2047 8875 2008 3084 2115 4000 4418 2105 2017 6146 1018 2949 1996 14924 4818 2024 2017 3809 2821 3398 2204 2391 1045 2074 2288 8102 2879 2044 6353 17442 6677 28194 2043 2003 2023 2183 2000 2022 2270 2030 2003 2009 2525 6919 16780 1045 2903 2049 3137 7006 1996 2755 2008 2045 2015 6353 2039 22994 2229 3084 2023 2130 2488 7539 2045 2015 2053 3291 2007 2008 1045 2064 2102 4025 2000 3288 2870 2000 2079 2009 4921 2063 2699 2195 2335 2021 1045 2064 2102 2131 2009 2041 1045 2079 2202 3056 20992 1998 2053 1045 12436 5051 2021 2008 2015 2009 1045 2089 10047 1037 2210 2978 5697 2157 2085 2021 2043 1045 2131 1996 3382 2065 1045 3342 2008 2003 5665 4471 2017 2055 2009 4067 2017 1045 2097 3046 2000 2202 2115 6040 8299 1043 3148 6844 4012 4261 11387 102\n"
          ],
          "name": "stderr"
        },
        {
          "output_type": "stream",
          "text": [
            "INFO:tensorflow:input_mask: 1 1 1 1 1 1 1 1 1 1 1 1 1 1 1 1 1 1 1 1 1 1 1 1 1 1 1 1 1 1 1 1 1 1 1 1 1 1 1 1 1 1 1 1 1 1 1 1 1 1 1 1 1 1 1 1 1 1 1 1 1 1 1 1 1 1 1 1 1 1 1 1 1 1 1 1 1 1 1 1 1 1 1 1 1 1 1 1 1 1 1 1 1 1 1 1 1 1 1 1 1 1 1 1 1 1 1 1 1 1 1 1 1 1 1 1 1 1 1 1 1 1 1 1 1 1 1 1 1 1 1 1 1 1 1 1 1 1 1 1 1 1 1 1 1 1 1 1 1 1 1 1 1 1 1 1 1 1 1 1 1 1 1 1 1 1 1 1 1 1 1 1 1 1 1 1 1 1 1 1 1 1 1 1 1 1 1 1 1 1 1 1 1 1 1 1 1 1 1 1\n"
          ],
          "name": "stdout"
        },
        {
          "output_type": "stream",
          "text": [
            "INFO:tensorflow:input_mask: 1 1 1 1 1 1 1 1 1 1 1 1 1 1 1 1 1 1 1 1 1 1 1 1 1 1 1 1 1 1 1 1 1 1 1 1 1 1 1 1 1 1 1 1 1 1 1 1 1 1 1 1 1 1 1 1 1 1 1 1 1 1 1 1 1 1 1 1 1 1 1 1 1 1 1 1 1 1 1 1 1 1 1 1 1 1 1 1 1 1 1 1 1 1 1 1 1 1 1 1 1 1 1 1 1 1 1 1 1 1 1 1 1 1 1 1 1 1 1 1 1 1 1 1 1 1 1 1 1 1 1 1 1 1 1 1 1 1 1 1 1 1 1 1 1 1 1 1 1 1 1 1 1 1 1 1 1 1 1 1 1 1 1 1 1 1 1 1 1 1 1 1 1 1 1 1 1 1 1 1 1 1 1 1 1 1 1 1 1 1 1 1 1 1 1 1 1 1 1 1\n"
          ],
          "name": "stderr"
        },
        {
          "output_type": "stream",
          "text": [
            "INFO:tensorflow:segment_ids: 0 0 0 0 0 0 0 0 0 0 0 0 0 0 0 0 0 0 0 0 0 0 0 0 0 0 0 0 0 0 0 0 0 0 0 0 0 0 0 0 0 0 0 0 0 0 0 0 0 0 0 0 0 0 0 0 0 0 0 0 0 0 0 0 0 0 0 0 0 0 0 0 0 0 0 0 0 0 0 0 0 0 0 0 0 0 0 0 0 0 0 0 0 0 0 0 0 0 0 0 0 0 0 0 0 0 0 0 0 0 0 0 0 0 0 0 0 0 0 0 0 0 0 0 0 0 0 0 0 0 0 0 0 0 0 0 0 0 0 0 0 0 0 0 0 0 0 0 0 0 0 0 0 0 0 0 0 0 0 0 0 0 0 0 0 0 0 0 0 0 0 0 0 0 0 0 0 0 0 0 0 0 0 0 0 0 0 0 0 0 0 0 0 0 0 0 0 0 0 0\n"
          ],
          "name": "stdout"
        },
        {
          "output_type": "stream",
          "text": [
            "INFO:tensorflow:segment_ids: 0 0 0 0 0 0 0 0 0 0 0 0 0 0 0 0 0 0 0 0 0 0 0 0 0 0 0 0 0 0 0 0 0 0 0 0 0 0 0 0 0 0 0 0 0 0 0 0 0 0 0 0 0 0 0 0 0 0 0 0 0 0 0 0 0 0 0 0 0 0 0 0 0 0 0 0 0 0 0 0 0 0 0 0 0 0 0 0 0 0 0 0 0 0 0 0 0 0 0 0 0 0 0 0 0 0 0 0 0 0 0 0 0 0 0 0 0 0 0 0 0 0 0 0 0 0 0 0 0 0 0 0 0 0 0 0 0 0 0 0 0 0 0 0 0 0 0 0 0 0 0 0 0 0 0 0 0 0 0 0 0 0 0 0 0 0 0 0 0 0 0 0 0 0 0 0 0 0 0 0 0 0 0 0 0 0 0 0 0 0 0 0 0 0 0 0 0 0 0 0\n"
          ],
          "name": "stderr"
        },
        {
          "output_type": "stream",
          "text": [
            "INFO:tensorflow:label: [0, 0, 0] (id = [0, 0, 0])\n"
          ],
          "name": "stdout"
        },
        {
          "output_type": "stream",
          "text": [
            "INFO:tensorflow:label: [0, 0, 0] (id = [0, 0, 0])\n"
          ],
          "name": "stderr"
        },
        {
          "output_type": "stream",
          "text": [
            "INFO:tensorflow:*** Example ***\n"
          ],
          "name": "stdout"
        },
        {
          "output_type": "stream",
          "text": [
            "INFO:tensorflow:*** Example ***\n"
          ],
          "name": "stderr"
        },
        {
          "output_type": "stream",
          "text": [
            "INFO:tensorflow:guid: \n"
          ],
          "name": "stdout"
        },
        {
          "output_type": "stream",
          "text": [
            "INFO:tensorflow:guid: \n"
          ],
          "name": "stderr"
        },
        {
          "output_type": "stream",
          "text": [
            "INFO:tensorflow:tokens: [CLS] i get the chance if i remember that is ill message you about it thank you i will try to take your advice http g ##ya ##zo com 37 ##20 ##ef ##0 ##9 ##f ##9 ##a ##7 ##8 ##33 ##6 ##cd ##57 ##be ##52 ##dd ##17 ##d ##8 ##c ##f ill ##umi ##nat ##i confirmed unnatural hair color girls with glasses girls with ta ##ts and sex in the shower or bath tub i don ##t know why male oh yeah well you need me because im the only one that knows were per ##du ##cci is and where that is is that he is in istanbul danger ##es ##que 3 this is utter bullshit they hound ##ing have to fight for their right for marriage what kind of world do we live in where someone can ##t spend the rest of their life with their loved ones you know what i meant so basically what your ##e saying is that because your ##e wrong other people have to think your ##e right if i had money id totally buy something from you i have it downloaded but i have no idea how to use it some help [SEP]\n"
          ],
          "name": "stdout"
        },
        {
          "output_type": "stream",
          "text": [
            "INFO:tensorflow:tokens: [CLS] i get the chance if i remember that is ill message you about it thank you i will try to take your advice http g ##ya ##zo com 37 ##20 ##ef ##0 ##9 ##f ##9 ##a ##7 ##8 ##33 ##6 ##cd ##57 ##be ##52 ##dd ##17 ##d ##8 ##c ##f ill ##umi ##nat ##i confirmed unnatural hair color girls with glasses girls with ta ##ts and sex in the shower or bath tub i don ##t know why male oh yeah well you need me because im the only one that knows were per ##du ##cci is and where that is is that he is in istanbul danger ##es ##que 3 this is utter bullshit they hound ##ing have to fight for their right for marriage what kind of world do we live in where someone can ##t spend the rest of their life with their loved ones you know what i meant so basically what your ##e saying is that because your ##e wrong other people have to think your ##e right if i had money id totally buy something from you i have it downloaded but i have no idea how to use it some help [SEP]\n"
          ],
          "name": "stderr"
        },
        {
          "output_type": "stream",
          "text": [
            "INFO:tensorflow:input_ids: 101 1045 2131 1996 3382 2065 1045 3342 2008 2003 5665 4471 2017 2055 2009 4067 2017 1045 2097 3046 2000 2202 2115 6040 8299 1043 3148 6844 4012 4261 11387 12879 2692 2683 2546 2683 2050 2581 2620 22394 2575 19797 28311 4783 25746 14141 16576 2094 2620 2278 2546 5665 12717 19833 2072 4484 21242 2606 3609 3057 2007 7877 3057 2007 11937 3215 1998 3348 1999 1996 6457 2030 7198 14366 1045 2123 2102 2113 2339 3287 2821 3398 2092 2017 2342 2033 2138 10047 1996 2069 2028 2008 4282 2020 2566 8566 14693 2003 1998 2073 2008 2003 2003 2008 2002 2003 1999 9960 5473 2229 4226 1017 2023 2003 14395 14636 2027 19598 2075 2031 2000 2954 2005 2037 2157 2005 3510 2054 2785 1997 2088 2079 2057 2444 1999 2073 2619 2064 2102 5247 1996 2717 1997 2037 2166 2007 2037 3866 3924 2017 2113 2054 1045 3214 2061 10468 2054 2115 2063 3038 2003 2008 2138 2115 2063 3308 2060 2111 2031 2000 2228 2115 2063 2157 2065 1045 2018 2769 8909 6135 4965 2242 2013 2017 1045 2031 2009 22817 2021 1045 2031 2053 2801 2129 2000 2224 2009 2070 2393 102\n"
          ],
          "name": "stdout"
        },
        {
          "output_type": "stream",
          "text": [
            "INFO:tensorflow:input_ids: 101 1045 2131 1996 3382 2065 1045 3342 2008 2003 5665 4471 2017 2055 2009 4067 2017 1045 2097 3046 2000 2202 2115 6040 8299 1043 3148 6844 4012 4261 11387 12879 2692 2683 2546 2683 2050 2581 2620 22394 2575 19797 28311 4783 25746 14141 16576 2094 2620 2278 2546 5665 12717 19833 2072 4484 21242 2606 3609 3057 2007 7877 3057 2007 11937 3215 1998 3348 1999 1996 6457 2030 7198 14366 1045 2123 2102 2113 2339 3287 2821 3398 2092 2017 2342 2033 2138 10047 1996 2069 2028 2008 4282 2020 2566 8566 14693 2003 1998 2073 2008 2003 2003 2008 2002 2003 1999 9960 5473 2229 4226 1017 2023 2003 14395 14636 2027 19598 2075 2031 2000 2954 2005 2037 2157 2005 3510 2054 2785 1997 2088 2079 2057 2444 1999 2073 2619 2064 2102 5247 1996 2717 1997 2037 2166 2007 2037 3866 3924 2017 2113 2054 1045 3214 2061 10468 2054 2115 2063 3038 2003 2008 2138 2115 2063 3308 2060 2111 2031 2000 2228 2115 2063 2157 2065 1045 2018 2769 8909 6135 4965 2242 2013 2017 1045 2031 2009 22817 2021 1045 2031 2053 2801 2129 2000 2224 2009 2070 2393 102\n"
          ],
          "name": "stderr"
        },
        {
          "output_type": "stream",
          "text": [
            "INFO:tensorflow:input_mask: 1 1 1 1 1 1 1 1 1 1 1 1 1 1 1 1 1 1 1 1 1 1 1 1 1 1 1 1 1 1 1 1 1 1 1 1 1 1 1 1 1 1 1 1 1 1 1 1 1 1 1 1 1 1 1 1 1 1 1 1 1 1 1 1 1 1 1 1 1 1 1 1 1 1 1 1 1 1 1 1 1 1 1 1 1 1 1 1 1 1 1 1 1 1 1 1 1 1 1 1 1 1 1 1 1 1 1 1 1 1 1 1 1 1 1 1 1 1 1 1 1 1 1 1 1 1 1 1 1 1 1 1 1 1 1 1 1 1 1 1 1 1 1 1 1 1 1 1 1 1 1 1 1 1 1 1 1 1 1 1 1 1 1 1 1 1 1 1 1 1 1 1 1 1 1 1 1 1 1 1 1 1 1 1 1 1 1 1 1 1 1 1 1 1 1 1 1 1 1 1\n"
          ],
          "name": "stdout"
        },
        {
          "output_type": "stream",
          "text": [
            "INFO:tensorflow:input_mask: 1 1 1 1 1 1 1 1 1 1 1 1 1 1 1 1 1 1 1 1 1 1 1 1 1 1 1 1 1 1 1 1 1 1 1 1 1 1 1 1 1 1 1 1 1 1 1 1 1 1 1 1 1 1 1 1 1 1 1 1 1 1 1 1 1 1 1 1 1 1 1 1 1 1 1 1 1 1 1 1 1 1 1 1 1 1 1 1 1 1 1 1 1 1 1 1 1 1 1 1 1 1 1 1 1 1 1 1 1 1 1 1 1 1 1 1 1 1 1 1 1 1 1 1 1 1 1 1 1 1 1 1 1 1 1 1 1 1 1 1 1 1 1 1 1 1 1 1 1 1 1 1 1 1 1 1 1 1 1 1 1 1 1 1 1 1 1 1 1 1 1 1 1 1 1 1 1 1 1 1 1 1 1 1 1 1 1 1 1 1 1 1 1 1 1 1 1 1 1 1\n"
          ],
          "name": "stderr"
        },
        {
          "output_type": "stream",
          "text": [
            "INFO:tensorflow:segment_ids: 0 0 0 0 0 0 0 0 0 0 0 0 0 0 0 0 0 0 0 0 0 0 0 0 0 0 0 0 0 0 0 0 0 0 0 0 0 0 0 0 0 0 0 0 0 0 0 0 0 0 0 0 0 0 0 0 0 0 0 0 0 0 0 0 0 0 0 0 0 0 0 0 0 0 0 0 0 0 0 0 0 0 0 0 0 0 0 0 0 0 0 0 0 0 0 0 0 0 0 0 0 0 0 0 0 0 0 0 0 0 0 0 0 0 0 0 0 0 0 0 0 0 0 0 0 0 0 0 0 0 0 0 0 0 0 0 0 0 0 0 0 0 0 0 0 0 0 0 0 0 0 0 0 0 0 0 0 0 0 0 0 0 0 0 0 0 0 0 0 0 0 0 0 0 0 0 0 0 0 0 0 0 0 0 0 0 0 0 0 0 0 0 0 0 0 0 0 0 0 0\n"
          ],
          "name": "stdout"
        },
        {
          "output_type": "stream",
          "text": [
            "INFO:tensorflow:segment_ids: 0 0 0 0 0 0 0 0 0 0 0 0 0 0 0 0 0 0 0 0 0 0 0 0 0 0 0 0 0 0 0 0 0 0 0 0 0 0 0 0 0 0 0 0 0 0 0 0 0 0 0 0 0 0 0 0 0 0 0 0 0 0 0 0 0 0 0 0 0 0 0 0 0 0 0 0 0 0 0 0 0 0 0 0 0 0 0 0 0 0 0 0 0 0 0 0 0 0 0 0 0 0 0 0 0 0 0 0 0 0 0 0 0 0 0 0 0 0 0 0 0 0 0 0 0 0 0 0 0 0 0 0 0 0 0 0 0 0 0 0 0 0 0 0 0 0 0 0 0 0 0 0 0 0 0 0 0 0 0 0 0 0 0 0 0 0 0 0 0 0 0 0 0 0 0 0 0 0 0 0 0 0 0 0 0 0 0 0 0 0 0 0 0 0 0 0 0 0 0 0\n"
          ],
          "name": "stderr"
        },
        {
          "output_type": "stream",
          "text": [
            "INFO:tensorflow:label: [0, 0, 0] (id = [0, 0, 0])\n"
          ],
          "name": "stdout"
        },
        {
          "output_type": "stream",
          "text": [
            "INFO:tensorflow:label: [0, 0, 0] (id = [0, 0, 0])\n"
          ],
          "name": "stderr"
        },
        {
          "output_type": "stream",
          "text": [
            "INFO:tensorflow:Writing example 10000 of 20479\n"
          ],
          "name": "stdout"
        },
        {
          "output_type": "stream",
          "text": [
            "INFO:tensorflow:Writing example 10000 of 20479\n"
          ],
          "name": "stderr"
        },
        {
          "output_type": "stream",
          "text": [
            "INFO:tensorflow:Writing example 20000 of 20479\n"
          ],
          "name": "stdout"
        },
        {
          "output_type": "stream",
          "text": [
            "INFO:tensorflow:Writing example 20000 of 20479\n"
          ],
          "name": "stderr"
        },
        {
          "output_type": "stream",
          "text": [
            "INFO:tensorflow:Calling model_fn.\n"
          ],
          "name": "stdout"
        },
        {
          "output_type": "stream",
          "text": [
            "INFO:tensorflow:Calling model_fn.\n"
          ],
          "name": "stderr"
        },
        {
          "output_type": "stream",
          "text": [
            "INFO:tensorflow:Saver not created because there are no variables in the graph to restore\n"
          ],
          "name": "stdout"
        },
        {
          "output_type": "stream",
          "text": [
            "INFO:tensorflow:Saver not created because there are no variables in the graph to restore\n"
          ],
          "name": "stderr"
        },
        {
          "output_type": "stream",
          "text": [
            "INFO:tensorflow:Done calling model_fn.\n"
          ],
          "name": "stdout"
        },
        {
          "output_type": "stream",
          "text": [
            "INFO:tensorflow:Done calling model_fn.\n"
          ],
          "name": "stderr"
        },
        {
          "output_type": "stream",
          "text": [
            "INFO:tensorflow:Graph was finalized.\n"
          ],
          "name": "stdout"
        },
        {
          "output_type": "stream",
          "text": [
            "INFO:tensorflow:Graph was finalized.\n"
          ],
          "name": "stderr"
        },
        {
          "output_type": "stream",
          "text": [
            "INFO:tensorflow:Restoring parameters from /content/drive/My Drive/RecurrentNetworks/bert_multi_task/model.ckpt-9711\n"
          ],
          "name": "stdout"
        },
        {
          "output_type": "stream",
          "text": [
            "INFO:tensorflow:Restoring parameters from /content/drive/My Drive/RecurrentNetworks/bert_multi_task/model.ckpt-9711\n"
          ],
          "name": "stderr"
        },
        {
          "output_type": "stream",
          "text": [
            "INFO:tensorflow:Running local_init_op.\n"
          ],
          "name": "stdout"
        },
        {
          "output_type": "stream",
          "text": [
            "INFO:tensorflow:Running local_init_op.\n"
          ],
          "name": "stderr"
        },
        {
          "output_type": "stream",
          "text": [
            "INFO:tensorflow:Done running local_init_op.\n"
          ],
          "name": "stdout"
        },
        {
          "output_type": "stream",
          "text": [
            "INFO:tensorflow:Done running local_init_op.\n"
          ],
          "name": "stderr"
        }
      ]
    },
    {
      "cell_type": "code",
      "metadata": {
        "id": "PBwJuTn3fGZK"
      },
      "source": [
        "pred_sentences_by_sample_df = build_final_dataset(test_stk_src_df, pred_sentences_by_sample, test_stk_index)"
      ],
      "execution_count": null,
      "outputs": []
    },
    {
      "cell_type": "code",
      "metadata": {
        "id": "bJrs4-PPfZv0"
      },
      "source": [
        "#Calc average and max value predicion in each class by sample\n",
        "predict_avg_by_sample = []\n",
        "predict_max_by_sample = []\n",
        "for idx, row in pred_sentences_by_sample_df.iterrows():\n",
        "  predict_avg_by_sample.append(np.average(row.emb, axis=0))  \n",
        "  predict_max_by_sample.append(np.max(row.emb, axis=0))  \n",
        "\n",
        "y_avg_pred = np.round(np.array(predict_avg_by_sample, dtype='float32'))\n",
        "y_max_pred = np.round(np.array(predict_max_by_sample, dtype='float32'))"
      ],
      "execution_count": null,
      "outputs": []
    },
    {
      "cell_type": "code",
      "metadata": {
        "id": "TyUS9EJQfGVo"
      },
      "source": [
        "y_test = np.array(test_stk_src_df.label.to_list(), dtype='float32')"
      ],
      "execution_count": null,
      "outputs": []
    },
    {
      "cell_type": "code",
      "metadata": {
        "id": "3RnMqEY7fGSJ",
        "colab": {
          "base_uri": "https://localhost:8080/"
        },
        "outputId": "59a587db-9239-4d36-c29b-f0907639ce5a"
      },
      "source": [
        "print(\"========= Metrics considering the average value for predictions =========\")\n",
        "multitask_metrics(y_test, y_avg_pred, LABELS_SET, 'bert_fine_tuning_multitask_avg_stk', 'bert_fine_tuning_multitask_avg_stk')"
      ],
      "execution_count": null,
      "outputs": [
        {
          "output_type": "stream",
          "text": [
            "========= Metrics considering the average value for predictions =========\n",
            "Correct Prediction per Label: [0.7840909  0.70681816 0.68636364]\n",
            "Exact Match Ratio: 0.44090909090909086\n",
            "Hamming Loss: 0.27424242424242423\n",
            "Confusion Matrix: \n",
            "[[[208  56]\n",
            "  [ 39 137]]\n",
            "\n",
            " [[210  54]\n",
            "  [ 75 101]]\n",
            "\n",
            " [[203  61]\n",
            "  [ 77  99]]]\n",
            "=== Model Performance - Multi-label Metrics ===\n",
            "              precision    recall  f1-score   support\n",
            "\n",
            "     control       0.71      0.78      0.74       176\n",
            "     anxiety       0.65      0.57      0.61       176\n",
            "  depression       0.62      0.56      0.59       176\n",
            "\n",
            "   micro avg       0.66      0.64      0.65       528\n",
            "   macro avg       0.66      0.64      0.65       528\n",
            "weighted avg       0.66      0.64      0.65       528\n",
            " samples avg       0.54      0.64      0.57       528\n",
            "\n",
            "\n",
            "\n",
            "=== Model Performance - Single-label Metrics ===\n",
            "control\n",
            "[[208  56]\n",
            " [ 39 137]]\n",
            "anxiety\n",
            "[[351   1]\n",
            " [ 88   0]]\n",
            "depression\n",
            "[[347   5]\n",
            " [ 87   1]]\n",
            "anxiety,depression\n",
            "[[254  98]\n",
            " [ 32  56]]\n",
            "\n",
            "                      precision    recall  f1-score   support\n",
            "\n",
            "             control       0.71      0.78      0.74       176\n",
            "             anxiety       0.00      0.00      0.00        88\n",
            "          depression       0.17      0.01      0.02        88\n",
            "  anxiety,depression       0.36      0.64      0.46        88\n",
            "\n",
            "\n"
          ],
          "name": "stdout"
        }
      ]
    },
    {
      "cell_type": "code",
      "metadata": {
        "id": "KNE4arABfGOr",
        "colab": {
          "base_uri": "https://localhost:8080/"
        },
        "outputId": "3300e5de-252e-4cc5-c239-5aed5e8bed6e"
      },
      "source": [
        "print(\"========= Metrics considering the maximum value for predictions =========\")\n",
        "multitask_metrics(y_test, y_max_pred, LABELS_SET, 'bert_fine_tuning_multitask_max_stk', 'bert_fine_tuning_multitask_max_stk')"
      ],
      "execution_count": null,
      "outputs": [
        {
          "output_type": "stream",
          "text": [
            "========= Metrics considering the maximum value for predictions =========\n",
            "Correct Prediction per Label: [0.5022727  0.5181818  0.50454545]\n",
            "Exact Match Ratio: 0.14545454545454545\n",
            "Hamming Loss: 0.49166666666666664\n",
            "Confusion Matrix: \n",
            "[[[ 48 216]\n",
            "  [  3 173]]\n",
            "\n",
            " [[ 56 208]\n",
            "  [  4 172]]\n",
            "\n",
            " [[ 52 212]\n",
            "  [  6 170]]]\n",
            "=== Model Performance - Multi-label Metrics ===\n",
            "              precision    recall  f1-score   support\n",
            "\n",
            "     control       0.44      0.98      0.61       176\n",
            "     anxiety       0.45      0.98      0.62       176\n",
            "  depression       0.45      0.97      0.61       176\n",
            "\n",
            "   micro avg       0.45      0.98      0.61       528\n",
            "   macro avg       0.45      0.98      0.61       528\n",
            "weighted avg       0.45      0.98      0.61       528\n",
            " samples avg       0.49      0.98      0.62       528\n",
            "\n",
            "\n",
            "\n",
            "=== Model Performance - Single-label Metrics ===\n",
            "control\n",
            "[[257   7]\n",
            " [128  48]]\n",
            "anxiety\n",
            "[[352   0]\n",
            " [ 88   0]]\n",
            "depression\n",
            "[[352   0]\n",
            " [ 88   0]]\n",
            "anxiety,depression\n",
            "[[317  35]\n",
            " [ 72  16]]\n",
            "\n",
            "                      precision    recall  f1-score   support\n",
            "\n",
            "             control       0.87      0.27      0.42       176\n",
            "             anxiety       0.00      0.00      0.00        88\n",
            "          depression       0.00      0.00      0.00        88\n",
            "  anxiety,depression       0.31      0.18      0.23        88\n",
            "\n",
            "\n"
          ],
          "name": "stdout"
        }
      ]
    },
    {
      "cell_type": "markdown",
      "metadata": {
        "id": "JR3xnjWPufmb"
      },
      "source": [
        "#### 1.8 Use bert fine tuning as embedding for final model"
      ]
    },
    {
      "cell_type": "markdown",
      "metadata": {
        "id": "PklUfwBrvupn"
      },
      "source": [
        "##### 1.8.1 Prepare data bert fine tuning format"
      ]
    },
    {
      "cell_type": "code",
      "metadata": {
        "id": "fUdU-BkJCWrc",
        "colab": {
          "base_uri": "https://localhost:8080/"
        },
        "outputId": "8a426bc6-f9ca-4493-877b-44538a1dd6c1"
      },
      "source": [
        "tf.compat.v1.logging.set_verbosity(tf.logging.ERROR)\n",
        "MAX_SEQ_LENGTH"
      ],
      "execution_count": null,
      "outputs": [
        {
          "output_type": "execute_result",
          "data": {
            "text/plain": [
              "200"
            ]
          },
          "metadata": {
            "tags": []
          },
          "execution_count": 59
        }
      ]
    },
    {
      "cell_type": "code",
      "metadata": {
        "id": "ith5stW-uzCc",
        "colab": {
          "base_uri": "https://localhost:8080/"
        },
        "outputId": "0c6691c9-5263-4587-8a56-d6ce711c9505"
      },
      "source": [
        "# Now extracting the representations:\n",
        "train_emb = extract_representations(train_df)\n",
        "valid_emb = extract_representations(valid_df)\n",
        "test_emb = extract_representations(test_df)\n",
        "test_stk_emb = extract_representations(test_stk_df)"
      ],
      "execution_count": null,
      "outputs": [
        {
          "output_type": "stream",
          "text": [
            "CPU times: user 0 ns, sys: 32 µs, total: 32 µs\n",
            "Wall time: 35.5 µs\n",
            "CPU times: user 1 µs, sys: 2 µs, total: 3 µs\n",
            "Wall time: 5.48 µs\n",
            "CPU times: user 0 ns, sys: 3 µs, total: 3 µs\n",
            "Wall time: 6.44 µs\n",
            "CPU times: user 1 µs, sys: 3 µs, total: 4 µs\n",
            "Wall time: 7.63 µs\n"
          ],
          "name": "stdout"
        }
      ]
    },
    {
      "cell_type": "code",
      "metadata": {
        "id": "0wjNqdHTuzRa",
        "colab": {
          "base_uri": "https://localhost:8080/"
        },
        "outputId": "1b020404-d884-4cdb-87bf-dbd501b9004f"
      },
      "source": [
        "train_emb.shape, valid_emb.shape, test_emb.shape, test_stk_emb.shape"
      ],
      "execution_count": null,
      "outputs": [
        {
          "output_type": "execute_result",
          "data": {
            "text/plain": [
              "((103590, 768), (102474, 768), (101804, 768), (20479, 768))"
            ]
          },
          "metadata": {
            "tags": []
          },
          "execution_count": 61
        }
      ]
    },
    {
      "cell_type": "code",
      "metadata": {
        "id": "LEXKk404u3f_"
      },
      "source": [
        "final_train_df = build_final_dataset(train_src_df, train_emb, train_index)"
      ],
      "execution_count": null,
      "outputs": []
    },
    {
      "cell_type": "code",
      "metadata": {
        "id": "aZD8jcZxu3st"
      },
      "source": [
        "final_valid_df = build_final_dataset(valid_src_df, valid_emb, valid_index)"
      ],
      "execution_count": null,
      "outputs": []
    },
    {
      "cell_type": "code",
      "metadata": {
        "id": "RgeqmFDTu9F5"
      },
      "source": [
        "final_test_df = build_final_dataset(test_src_df, test_emb, test_index)"
      ],
      "execution_count": null,
      "outputs": []
    },
    {
      "cell_type": "code",
      "metadata": {
        "id": "lhzuOCu5gUA_"
      },
      "source": [
        "final_test_stk_df = build_final_dataset(test_stk_src_df, test_stk_emb, test_stk_index)"
      ],
      "execution_count": null,
      "outputs": []
    },
    {
      "cell_type": "markdown",
      "metadata": {
        "id": "BToX0i_zvnaH"
      },
      "source": [
        "##### 1.8.2 Generator Functions"
      ]
    },
    {
      "cell_type": "code",
      "metadata": {
        "id": "X6tcOZt_1QjO",
        "colab": {
          "base_uri": "https://localhost:8080/"
        },
        "outputId": "d1131c69-d621-4157-dd37-e9a30a8874de"
      },
      "source": [
        "final_train_df.shape, final_valid_df.shape, final_test_df.shape, final_test_stk_df.shape"
      ],
      "execution_count": null,
      "outputs": [
        {
          "output_type": "execute_result",
          "data": {
            "text/plain": [
              "((2200, 2), (2200, 2), (2200, 2), (440, 2))"
            ]
          },
          "metadata": {
            "tags": []
          },
          "execution_count": 66
        }
      ]
    },
    {
      "cell_type": "code",
      "metadata": {
        "id": "8T8LavBRn5q8",
        "colab": {
          "base_uri": "https://localhost:8080/"
        },
        "outputId": "3302e75f-85a0-4299-9416-e9744bb1bc5b"
      },
      "source": [
        "len(final_test_stk_df['emb'].to_list())"
      ],
      "execution_count": null,
      "outputs": [
        {
          "output_type": "execute_result",
          "data": {
            "text/plain": [
              "440"
            ]
          },
          "metadata": {
            "tags": []
          },
          "execution_count": 67
        }
      ]
    },
    {
      "cell_type": "code",
      "metadata": {
        "id": "55h0iiJJvBMk"
      },
      "source": [
        "# The generator function\n",
        "def train_generator(df, batch_size, batches_per_epoch):\n",
        "    num_sequences = len(df['emb'].to_list())\n",
        "    assert batch_size * batches_per_epoch == num_sequences\n",
        "    num_features= 768\n",
        "\n",
        "    x_list= df['emb'].to_list()\n",
        "    y_list =  df.label.to_list()\n",
        "    # Generate batches\n",
        "    while True:\n",
        "        for b in range(batches_per_epoch):\n",
        "            longest_index = (b + 1) * batch_size - 1\n",
        "            timesteps = len(max(df['emb'].to_list()[:(b + 1) * batch_size][-batch_size:], key=len))\n",
        "            x_train = np.full((batch_size, timesteps, num_features), -99.)\n",
        "            y_train = np.zeros((batch_size,  len(LABELS_SET)))\n",
        "            for i in range(batch_size):\n",
        "                li = b * batch_size + i\n",
        "                # print(\"train \", batch_size, batches_per_epoch, li, len(x_list[li]))\n",
        "                x_train[i, 0:len(x_list[li]), :] = x_list[li]\n",
        "                y_train[i] = y_list[li]\n",
        "            # print(x_train.shape, y_train.shape)\n",
        "            yield x_train, y_train"
      ],
      "execution_count": null,
      "outputs": []
    },
    {
      "cell_type": "code",
      "metadata": {
        "id": "gp7ttQsBvBYs"
      },
      "source": [
        "def val_generator(df, batch_size_val, batches_per_epoch_val):\n",
        "    num_sequences_val = len(df['emb'].to_list())\n",
        "    assert batch_size_val * batches_per_epoch_val == num_sequences_val\n",
        "    num_features= 768\n",
        "\n",
        "    x_list= df['emb'].to_list()\n",
        "    y_list =  df.label.to_list()\n",
        "    # Generate batches\n",
        "    while True:\n",
        "        for b in range(batches_per_epoch_val):\n",
        "            longest_index = (b + 1) * batch_size_val - 1\n",
        "            timesteps = len(max(df['emb'].to_list()[:(b + 1) * batch_size_val][-batch_size_val:], key=len))\n",
        "            x_train = np.full((batch_size_val, timesteps, num_features), -99.)\n",
        "            y_train = np.zeros((batch_size_val,  len(LABELS_SET)))\n",
        "            for i in range(batch_size_val):\n",
        "                li = b * batch_size_val + i\n",
        "                # print(\"valid \",batch_size_val, batches_per_epoch_val, li, len(x_list[li]))\n",
        "                x_train[i, 0:len(x_list[li]), :] = x_list[li]\n",
        "                y_train[i] = y_list[li]\n",
        "                # print(x_train.shape, y_train.shape)\n",
        "            yield x_train, y_train"
      ],
      "execution_count": null,
      "outputs": []
    },
    {
      "cell_type": "code",
      "metadata": {
        "id": "pgfNuMVOwE1_"
      },
      "source": [
        "from keras.callbacks import ReduceLROnPlateau\n",
        "call_reduce = ReduceLROnPlateau(monitor='val_acc', factor=0.95, patience=3, verbose=2,\n",
        "                                mode='auto', min_delta=0.01, cooldown=0, min_lr=0)"
      ],
      "execution_count": null,
      "outputs": []
    },
    {
      "cell_type": "code",
      "metadata": {
        "id": "6Az09PFJ9qkt"
      },
      "source": [
        "def save_history(history, file_name, mode_file='w'):\n",
        "    hist_df = pd.DataFrame(history.history)\n",
        "\n",
        "    with open(dn.PATH_PROJECT+file_name+'.csv', mode=mode_file) as file:\n",
        "        hist_df.to_csv(file)"
      ],
      "execution_count": null,
      "outputs": []
    },
    {
      "cell_type": "markdown",
      "metadata": {
        "id": "A7G2Zfc_uGrV"
      },
      "source": [
        "##### 1.8.3 BERT Embedding + LSTM Model"
      ]
    },
    {
      "cell_type": "code",
      "metadata": {
        "id": "p6FbgtzOuHGw"
      },
      "source": [
        "def bert_lstm_multitask():\n",
        "  text_input = Input(shape=(None,768,), dtype='float32', name='text_bert_lstm')\n",
        "\n",
        "  l_mask = layers.Masking(mask_value=-99.)(text_input)\n",
        "\n",
        "  lstm_layer_1 = layers.LSTM(16, activation='tanh', dropout=0.2, kernel_initializer='glorot_uniform',\n",
        "                              recurrent_dropout=0.2, return_sequences=True,\n",
        "                              name='dense_bert_lstm_1')(l_mask)\n",
        "  lstm_layer_2 = layers.LSTM(16, activation='tanh', dropout=0.2, kernel_initializer='glorot_uniform',\n",
        "                              recurrent_dropout=0.2, return_sequences=True,\n",
        "                              name='dense_bert_lstm_2')(lstm_layer_1)\n",
        "  lstm_layer_3 = layers.LSTM(16, activation='tanh', dropout=0.2, kernel_initializer='glorot_uniform',\n",
        "                              recurrent_dropout=0.2,\n",
        "                              name='dense_bert_lstm_3')(lstm_layer_2)\n",
        "  out = layers.Dense(len(LABELS_SET), activation='sigmoid', name='dense_bert_lstm_4')(lstm_layer_3)\n",
        "\n",
        "  model = Model(text_input, out)\n",
        "  model.compile(optimizer='adam',\n",
        "                loss='binary_crossentropy',\n",
        "                metrics=['acc'])\n",
        "  model.summary()\n",
        "\n",
        "  return model"
      ],
      "execution_count": null,
      "outputs": []
    },
    {
      "cell_type": "code",
      "metadata": {
        "id": "pLgel31ZuHvQ",
        "colab": {
          "base_uri": "https://localhost:8080/"
        },
        "outputId": "bc7cd6ad-8006-4510-f0c8-1bd1a0a3c990"
      },
      "source": [
        "# Create Model\n",
        "model = bert_lstm_multitask()"
      ],
      "execution_count": null,
      "outputs": [
        {
          "output_type": "stream",
          "text": [
            "Model: \"model_1\"\n",
            "_________________________________________________________________\n",
            "Layer (type)                 Output Shape              Param #   \n",
            "=================================================================\n",
            "text_bert_lstm (InputLayer)  (None, None, 768)         0         \n",
            "_________________________________________________________________\n",
            "masking_1 (Masking)          (None, None, 768)         0         \n",
            "_________________________________________________________________\n",
            "dense_bert_lstm_1 (LSTM)     (None, None, 16)          50240     \n",
            "_________________________________________________________________\n",
            "dense_bert_lstm_2 (LSTM)     (None, None, 16)          2112      \n",
            "_________________________________________________________________\n",
            "dense_bert_lstm_3 (LSTM)     (None, 16)                2112      \n",
            "_________________________________________________________________\n",
            "dense_bert_lstm_4 (Dense)    (None, 3)                 51        \n",
            "=================================================================\n",
            "Total params: 54,515\n",
            "Trainable params: 54,515\n",
            "Non-trainable params: 0\n",
            "_________________________________________________________________\n"
          ],
          "name": "stdout"
        }
      ]
    },
    {
      "cell_type": "code",
      "metadata": {
        "id": "q3SH2R0RuH7Z",
        "colab": {
          "base_uri": "https://localhost:8080/"
        },
        "outputId": "06e748f5-7be8-4a10-9ac3-59e1ab13622e"
      },
      "source": [
        "# Train model\n",
        "# Calculte with based in rule: batch_size_val * batches_per_epoch_val == total_sequences_dataset_train_df\n",
        "history = model.fit_generator(train_generator(final_train_df, batch_size=40, batches_per_epoch=55), steps_per_epoch=55, epochs=32,\n",
        "                              validation_data=val_generator(final_valid_df, batch_size_val=40, batches_per_epoch_val=55), validation_steps=55, callbacks =[call_reduce])"
      ],
      "execution_count": null,
      "outputs": [
        {
          "output_type": "stream",
          "text": [
            "Epoch 1/32\n",
            "55/55 [==============================] - 93s 2s/step - loss: 0.5290 - acc: 0.7845 - val_loss: 0.5535 - val_acc: 0.7205\n",
            "Epoch 2/32\n",
            "55/55 [==============================] - 91s 2s/step - loss: 0.4051 - acc: 0.8186 - val_loss: 0.5829 - val_acc: 0.7189\n",
            "Epoch 3/32\n",
            "55/55 [==============================] - 92s 2s/step - loss: 0.3823 - acc: 0.8194 - val_loss: 0.5936 - val_acc: 0.7179\n",
            "Epoch 4/32\n",
            "55/55 [==============================] - 91s 2s/step - loss: 0.3734 - acc: 0.8205 - val_loss: 0.5976 - val_acc: 0.7241\n",
            "\n",
            "Epoch 00004: ReduceLROnPlateau reducing learning rate to 0.0009500000451225787.\n",
            "Epoch 5/32\n",
            "55/55 [==============================] - 92s 2s/step - loss: 0.3696 - acc: 0.8233 - val_loss: 0.6108 - val_acc: 0.7232\n",
            "Epoch 6/32\n",
            "55/55 [==============================] - 92s 2s/step - loss: 0.3642 - acc: 0.8224 - val_loss: 0.6123 - val_acc: 0.7223\n",
            "Epoch 7/32\n",
            "55/55 [==============================] - 91s 2s/step - loss: 0.3632 - acc: 0.8218 - val_loss: 0.6196 - val_acc: 0.7161\n",
            "\n",
            "Epoch 00007: ReduceLROnPlateau reducing learning rate to 0.0009025000152178108.\n",
            "Epoch 8/32\n",
            "55/55 [==============================] - 90s 2s/step - loss: 0.3573 - acc: 0.8238 - val_loss: 0.6148 - val_acc: 0.7142\n",
            "Epoch 9/32\n",
            "55/55 [==============================] - 92s 2s/step - loss: 0.3526 - acc: 0.8282 - val_loss: 0.6272 - val_acc: 0.7220\n",
            "Epoch 10/32\n",
            "55/55 [==============================] - 91s 2s/step - loss: 0.3549 - acc: 0.8258 - val_loss: 0.6320 - val_acc: 0.7198\n",
            "\n",
            "Epoch 00010: ReduceLROnPlateau reducing learning rate to 0.0008573750033974647.\n",
            "Epoch 11/32\n",
            "55/55 [==============================] - 91s 2s/step - loss: 0.3587 - acc: 0.8255 - val_loss: 0.6251 - val_acc: 0.7145\n",
            "Epoch 12/32\n",
            "55/55 [==============================] - 91s 2s/step - loss: 0.3536 - acc: 0.8248 - val_loss: 0.6371 - val_acc: 0.7179\n",
            "Epoch 13/32\n",
            "55/55 [==============================] - 90s 2s/step - loss: 0.3525 - acc: 0.8256 - val_loss: 0.6387 - val_acc: 0.7118\n",
            "\n",
            "Epoch 00013: ReduceLROnPlateau reducing learning rate to 0.0008145062311086804.\n",
            "Epoch 14/32\n",
            "55/55 [==============================] - 89s 2s/step - loss: 0.3461 - acc: 0.8262 - val_loss: 0.6453 - val_acc: 0.7156\n",
            "Epoch 15/32\n",
            "55/55 [==============================] - 91s 2s/step - loss: 0.3465 - acc: 0.8283 - val_loss: 0.6340 - val_acc: 0.7115\n",
            "Epoch 16/32\n",
            "55/55 [==============================] - 91s 2s/step - loss: 0.3480 - acc: 0.8294 - val_loss: 0.6289 - val_acc: 0.7209\n",
            "\n",
            "Epoch 00016: ReduceLROnPlateau reducing learning rate to 0.0007737808919046074.\n",
            "Epoch 17/32\n",
            "55/55 [==============================] - 90s 2s/step - loss: 0.3464 - acc: 0.8270 - val_loss: 0.6263 - val_acc: 0.7197\n",
            "Epoch 18/32\n",
            "55/55 [==============================] - 91s 2s/step - loss: 0.3448 - acc: 0.8295 - val_loss: 0.6429 - val_acc: 0.7159\n",
            "Epoch 19/32\n",
            "55/55 [==============================] - 92s 2s/step - loss: 0.3435 - acc: 0.8323 - val_loss: 0.6617 - val_acc: 0.7173\n",
            "\n",
            "Epoch 00019: ReduceLROnPlateau reducing learning rate to 0.000735091819660738.\n",
            "Epoch 20/32\n",
            "55/55 [==============================] - 93s 2s/step - loss: 0.3439 - acc: 0.8302 - val_loss: 0.6343 - val_acc: 0.7177\n",
            "Epoch 21/32\n",
            "55/55 [==============================] - 91s 2s/step - loss: 0.3367 - acc: 0.8329 - val_loss: 0.6471 - val_acc: 0.7206\n",
            "Epoch 22/32\n",
            "55/55 [==============================] - 91s 2s/step - loss: 0.3448 - acc: 0.8295 - val_loss: 0.6458 - val_acc: 0.7224\n",
            "\n",
            "Epoch 00022: ReduceLROnPlateau reducing learning rate to 0.0006983372120885178.\n",
            "Epoch 23/32\n",
            "55/55 [==============================] - 90s 2s/step - loss: 0.3400 - acc: 0.8312 - val_loss: 0.6389 - val_acc: 0.7152\n",
            "Epoch 24/32\n",
            "55/55 [==============================] - 90s 2s/step - loss: 0.3375 - acc: 0.8321 - val_loss: 0.6442 - val_acc: 0.7170\n",
            "Epoch 25/32\n",
            "55/55 [==============================] - 91s 2s/step - loss: 0.3402 - acc: 0.8362 - val_loss: 0.6374 - val_acc: 0.7180\n",
            "\n",
            "Epoch 00025: ReduceLROnPlateau reducing learning rate to 0.0006634203542489559.\n",
            "Epoch 26/32\n",
            "55/55 [==============================] - 91s 2s/step - loss: 0.3368 - acc: 0.8347 - val_loss: 0.6476 - val_acc: 0.7174\n",
            "Epoch 27/32\n",
            "55/55 [==============================] - 90s 2s/step - loss: 0.3356 - acc: 0.8333 - val_loss: 0.6444 - val_acc: 0.7195\n",
            "Epoch 28/32\n",
            "55/55 [==============================] - 90s 2s/step - loss: 0.3369 - acc: 0.8371 - val_loss: 0.6447 - val_acc: 0.7176\n",
            "\n",
            "Epoch 00028: ReduceLROnPlateau reducing learning rate to 0.0006302493420662358.\n",
            "Epoch 29/32\n",
            "55/55 [==============================] - 90s 2s/step - loss: 0.3344 - acc: 0.8379 - val_loss: 0.6393 - val_acc: 0.7174\n",
            "Epoch 30/32\n",
            "55/55 [==============================] - 90s 2s/step - loss: 0.3295 - acc: 0.8359 - val_loss: 0.6513 - val_acc: 0.7202\n",
            "Epoch 31/32\n",
            "55/55 [==============================] - 90s 2s/step - loss: 0.3336 - acc: 0.8320 - val_loss: 0.6499 - val_acc: 0.7155\n",
            "\n",
            "Epoch 00031: ReduceLROnPlateau reducing learning rate to 0.0005987368611386045.\n",
            "Epoch 32/32\n",
            "55/55 [==============================] - 90s 2s/step - loss: 0.3281 - acc: 0.8388 - val_loss: 0.6537 - val_acc: 0.7135\n"
          ],
          "name": "stdout"
        }
      ]
    },
    {
      "cell_type": "code",
      "metadata": {
        "id": "hgVUYiqZ9vc6"
      },
      "source": [
        "save_history(history, 'bert_fine_tuning_multitask_lstm_hst')"
      ],
      "execution_count": null,
      "outputs": []
    },
    {
      "cell_type": "code",
      "metadata": {
        "id": "SgKnNsR8kPkh"
      },
      "source": [
        "# Save model\n",
        "model.save(dn.PATH_PROJECT + \"bert_fine_tuning_multitask_lstm.h5\")"
      ],
      "execution_count": null,
      "outputs": []
    },
    {
      "cell_type": "code",
      "metadata": {
        "id": "18quR6J6uIIF",
        "colab": {
          "base_uri": "https://localhost:8080/"
        },
        "outputId": "88fa1e2d-aa12-4fde-decf-63f350fe105c"
      },
      "source": [
        "# Test Model\n",
        "model.evaluate_generator(val_generator(final_test_df, batch_size_val=40, batches_per_epoch_val=55), steps=55)"
      ],
      "execution_count": null,
      "outputs": [
        {
          "output_type": "execute_result",
          "data": {
            "text/plain": [
              "[0.6297144012017684, 0.7172727584838867]"
            ]
          },
          "metadata": {
            "tags": []
          },
          "execution_count": 77
        }
      ]
    },
    {
      "cell_type": "code",
      "metadata": {
        "id": "gv188ugxwRKh",
        "colab": {
          "base_uri": "https://localhost:8080/"
        },
        "outputId": "e72bae7b-61e0-46fe-c084-512c1f3b5508"
      },
      "source": [
        "# Metrics Test Set\n",
        "predicts = model.predict_generator(val_generator(final_test_df, batch_size_val=40, batches_per_epoch_val=55), steps=55)\n",
        "y_test = np.array(final_test_df.label.to_list(), dtype='float32')\n",
        "\n",
        "print(\"========= Metrics BERT Embedding + LSTM Model =========\")\n",
        "multitask_metrics(y_test, predicts, LABELS_SET, 'bert_fine_tuning_multitask_lstm', 'bert_fine_tuning_multitask_lstm')"
      ],
      "execution_count": null,
      "outputs": [
        {
          "output_type": "stream",
          "text": [
            "========= Metrics BERT Embedding + LSTM Model =========\n",
            "Correct Prediction per Label: [0.79545456 0.6868182  0.6695455 ]\n",
            "Exact Match Ratio: 0.44772727272727275\n",
            "Hamming Loss: 0.2827272727272727\n",
            "Confusion Matrix: \n",
            "[[[1142  178]\n",
            "  [ 272  608]]\n",
            "\n",
            " [[ 896  424]\n",
            "  [ 265  615]]\n",
            "\n",
            " [[ 760  560]\n",
            "  [ 167  713]]]\n",
            "=== Model Performance - Multi-label Metrics ===\n",
            "              precision    recall  f1-score   support\n",
            "\n",
            "     control       0.77      0.69      0.73       880\n",
            "     anxiety       0.59      0.70      0.64       880\n",
            "  depression       0.56      0.81      0.66       880\n",
            "\n",
            "   micro avg       0.62      0.73      0.67      2640\n",
            "   macro avg       0.64      0.73      0.68      2640\n",
            "weighted avg       0.64      0.73      0.68      2640\n",
            " samples avg       0.60      0.72      0.64      2640\n",
            "\n",
            "\n",
            "\n",
            "=== Model Performance - Single-label Metrics ===\n",
            "control\n",
            "[[1142  178]\n",
            " [ 272  608]]\n",
            "anxiety\n",
            "[[1760    0]\n",
            " [ 440    0]]\n",
            "depression\n",
            "[[1584  176]\n",
            " [ 382   58]]\n",
            "anxiety,depression\n",
            "[[1040  720]\n",
            " [ 121  319]]\n",
            "\n",
            "                      precision    recall  f1-score   support\n",
            "\n",
            "             control       0.77      0.69      0.73       880\n",
            "             anxiety       0.00      0.00      0.00       440\n",
            "          depression       0.25      0.13      0.17       440\n",
            "  anxiety,depression       0.31      0.72      0.43       440\n",
            "\n",
            "\n"
          ],
          "name": "stdout"
        }
      ]
    },
    {
      "cell_type": "code",
      "metadata": {
        "id": "_YPZFgPJgilk",
        "colab": {
          "base_uri": "https://localhost:8080/"
        },
        "outputId": "9cebe77f-df2f-4b4f-a2d1-07cee15f1dbb"
      },
      "source": [
        "# Metrics Test Set\n",
        "predicts = model.predict_generator(val_generator(final_test_stk_df, batch_size_val=40, batches_per_epoch_val=11), steps=11)\n",
        "y_test = np.array(final_test_stk_df.label.to_list(), dtype='float32')\n",
        "\n",
        "print(\"========= Metrics BERT Embedding + LSTM Model =========\")\n",
        "multitask_metrics(y_test, predicts, LABELS_SET, 'bert_fine_tuning_multitask_lstm_stk', 'bert_fine_tuning_multitask_lstm_stk')"
      ],
      "execution_count": null,
      "outputs": [
        {
          "output_type": "stream",
          "text": [
            "========= Metrics BERT Embedding + LSTM Model =========\n",
            "Correct Prediction per Label: [0.7681818 0.6931818 0.6522727]\n",
            "Exact Match Ratio: 0.4295454545454545\n",
            "Hamming Loss: 0.29545454545454547\n",
            "Confusion Matrix: \n",
            "[[[221  43]\n",
            "  [ 59 117]]\n",
            "\n",
            " [[182  82]\n",
            "  [ 53 123]]\n",
            "\n",
            " [[151 113]\n",
            "  [ 40 136]]]\n",
            "=== Model Performance - Multi-label Metrics ===\n",
            "              precision    recall  f1-score   support\n",
            "\n",
            "     control       0.73      0.66      0.70       176\n",
            "     anxiety       0.60      0.70      0.65       176\n",
            "  depression       0.55      0.77      0.64       176\n",
            "\n",
            "   micro avg       0.61      0.71      0.66       528\n",
            "   macro avg       0.63      0.71      0.66       528\n",
            "weighted avg       0.63      0.71      0.66       528\n",
            " samples avg       0.59      0.70      0.62       528\n",
            "\n",
            "\n",
            "\n",
            "=== Model Performance - Single-label Metrics ===\n",
            "control\n",
            "[[221  43]\n",
            " [ 59 117]]\n",
            "anxiety\n",
            "[[352   0]\n",
            " [ 88   0]]\n",
            "depression\n",
            "[[317  35]\n",
            " [ 79   9]]\n",
            "anxiety,depression\n",
            "[[210 142]\n",
            " [ 25  63]]\n",
            "\n",
            "                      precision    recall  f1-score   support\n",
            "\n",
            "             control       0.73      0.66      0.70       176\n",
            "             anxiety       0.00      0.00      0.00        88\n",
            "          depression       0.20      0.10      0.14        88\n",
            "  anxiety,depression       0.31      0.72      0.43        88\n",
            "\n",
            "\n"
          ],
          "name": "stdout"
        }
      ]
    },
    {
      "cell_type": "code",
      "metadata": {
        "id": "CVfPIBf4wUZp",
        "colab": {
          "base_uri": "https://localhost:8080/",
          "height": 644
        },
        "outputId": "a61a7cdd-86c8-4092-ae04-1ba19afaa756"
      },
      "source": [
        "# Save Topology Model in Image\n",
        "from keras.utils.vis_utils import plot_model\n",
        "plot_model(model, to_file=dn.PATH_PROJECT + 'bert_fine_tuning_multitask_lstm.png', show_shapes=True, show_layer_names=True)"
      ],
      "execution_count": null,
      "outputs": [
        {
          "output_type": "execute_result",
          "data": {
            "image/png": "[encoded data removed]",
            "text/plain": [
              "<IPython.core.display.Image object>"
            ]
          },
          "metadata": {
            "tags": []
          },
          "execution_count": 80
        }
      ]
    },
    {
      "cell_type": "markdown",
      "metadata": {
        "id": "y7zZ-gXdwVOB"
      },
      "source": [
        "##### 1.8.4 BERT Embedding + CNN Model"
      ]
    },
    {
      "cell_type": "code",
      "metadata": {
        "id": "IGV7M6_AweVN"
      },
      "source": [
        "def bert_cnn_multitask():\n",
        "  text_input = Input(shape=(None,768,), dtype='float32', name='text_bert_cnn')\n",
        "  \n",
        "  cnn_layer_1 = layers.Dropout(0.2, name='dense_bert_cnn_dout_1')(text_input)\n",
        "  cnn_layer_2 = layers.Conv1D(filters=100, kernel_size=3,\n",
        "                              kernel_initializer='glorot_uniform',\n",
        "                              padding='valid', activation='relu',\n",
        "                              name='dense_bert_cnn_conv_1')(cnn_layer_1)\n",
        "  cnn_layer_3 = layers.GlobalAveragePooling1D(name='dense_bert_cnn_gbl_avg_pool_1')(cnn_layer_2)\n",
        "  cnn_layer_4 = layers.Dense(100, activation='relu', kernel_initializer='glorot_uniform',\n",
        "                             name='dense_bert_cnn_')(cnn_layer_3)\n",
        "  cnn_layer_5 = layers.Dropout(0.2, name='dense_bert_cnn_dout_2')(cnn_layer_4)\n",
        "\n",
        "  out = layers.Dense(len(LABELS_SET), activation='sigmoid', \n",
        "                     name='dense_bert_cnn_6')(cnn_layer_5)\n",
        "\n",
        "  model = Model(text_input, out)\n",
        "  model.compile(optimizer='adadelta',\n",
        "                loss='binary_crossentropy',\n",
        "                metrics=['acc'])\n",
        "  model.summary()\n",
        "\n",
        "  return model"
      ],
      "execution_count": null,
      "outputs": []
    },
    {
      "cell_type": "code",
      "metadata": {
        "id": "k3K4LzExp36Y",
        "colab": {
          "base_uri": "https://localhost:8080/"
        },
        "outputId": "dc4262d4-f94e-4c2b-b3b9-a859d49ab6ed"
      },
      "source": [
        "model = bert_cnn_multitask()"
      ],
      "execution_count": null,
      "outputs": [
        {
          "output_type": "stream",
          "text": [
            "Model: \"model_2\"\n",
            "_________________________________________________________________\n",
            "Layer (type)                 Output Shape              Param #   \n",
            "=================================================================\n",
            "text_bert_cnn (InputLayer)   (None, None, 768)         0         \n",
            "_________________________________________________________________\n",
            "dense_bert_cnn_dout_1 (Dropo (None, None, 768)         0         \n",
            "_________________________________________________________________\n",
            "dense_bert_cnn_conv_1 (Conv1 (None, None, 100)         230500    \n",
            "_________________________________________________________________\n",
            "dense_bert_cnn_gbl_avg_pool_ (None, 100)               0         \n",
            "_________________________________________________________________\n",
            "dense_bert_cnn_ (Dense)      (None, 100)               10100     \n",
            "_________________________________________________________________\n",
            "dense_bert_cnn_dout_2 (Dropo (None, 100)               0         \n",
            "_________________________________________________________________\n",
            "dense_bert_cnn_6 (Dense)     (None, 3)                 303       \n",
            "=================================================================\n",
            "Total params: 240,903\n",
            "Trainable params: 240,903\n",
            "Non-trainable params: 0\n",
            "_________________________________________________________________\n"
          ],
          "name": "stdout"
        }
      ]
    },
    {
      "cell_type": "code",
      "metadata": {
        "id": "uxJ5zxF6wjJb",
        "colab": {
          "base_uri": "https://localhost:8080/"
        },
        "outputId": "af837760-ce85-40bf-9031-2563b04a8092"
      },
      "source": [
        "# Train model\n",
        "history = model.fit_generator(train_generator(final_train_df, batch_size=20, batches_per_epoch=110), steps_per_epoch=110, epochs=10,\n",
        "                              validation_data=val_generator(final_valid_df, batch_size_val=20, batches_per_epoch_val=110), validation_steps=110, callbacks =[call_reduce])"
      ],
      "execution_count": null,
      "outputs": [
        {
          "output_type": "stream",
          "text": [
            "Epoch 1/10\n",
            "110/110 [==============================] - 16s 143ms/step - loss: 6.2076 - acc: 0.6050 - val_loss: 6.1564 - val_acc: 0.6091\n",
            "Epoch 2/10\n",
            "110/110 [==============================] - 3s 28ms/step - loss: 6.4460 - acc: 0.5902 - val_loss: 6.1528 - val_acc: 0.6100\n",
            "Epoch 3/10\n",
            "110/110 [==============================] - 3s 30ms/step - loss: 6.1356 - acc: 0.6109 - val_loss: 6.1571 - val_acc: 0.6091\n",
            "Epoch 4/10\n",
            "110/110 [==============================] - 3s 29ms/step - loss: 6.1735 - acc: 0.6076 - val_loss: 7.2031 - val_acc: 0.5415\n",
            "\n",
            "Epoch 00004: ReduceLROnPlateau reducing learning rate to 0.95.\n",
            "Epoch 5/10\n",
            "110/110 [==============================] - 3s 29ms/step - loss: 6.4480 - acc: 0.5892 - val_loss: 6.1621 - val_acc: 0.6086\n",
            "Epoch 6/10\n",
            "110/110 [==============================] - 3s 28ms/step - loss: 6.2412 - acc: 0.6017 - val_loss: 6.1600 - val_acc: 0.6086\n",
            "Epoch 7/10\n",
            "110/110 [==============================] - 3s 28ms/step - loss: 6.1276 - acc: 0.6097 - val_loss: 6.1610 - val_acc: 0.6083\n",
            "\n",
            "Epoch 00007: ReduceLROnPlateau reducing learning rate to 0.9024999886751175.\n",
            "Epoch 8/10\n",
            "110/110 [==============================] - 3s 27ms/step - loss: 6.1863 - acc: 0.6065 - val_loss: 6.1576 - val_acc: 0.6088\n",
            "Epoch 9/10\n",
            "110/110 [==============================] - 3s 29ms/step - loss: 6.1833 - acc: 0.6068 - val_loss: 6.1546 - val_acc: 0.6086\n",
            "Epoch 10/10\n",
            "110/110 [==============================] - 3s 27ms/step - loss: 6.1213 - acc: 0.6092 - val_loss: 6.1619 - val_acc: 0.6092\n",
            "\n",
            "Epoch 00010: ReduceLROnPlateau reducing learning rate to 0.8573749750852584.\n"
          ],
          "name": "stdout"
        }
      ]
    },
    {
      "cell_type": "code",
      "metadata": {
        "id": "9UIM8_ym-HSV"
      },
      "source": [
        "save_history(history, 'bert_fine_tuning_multitask_cnn_hst')"
      ],
      "execution_count": null,
      "outputs": []
    },
    {
      "cell_type": "code",
      "metadata": {
        "id": "-Magj5Uek6CV"
      },
      "source": [
        "model.save(dn.PATH_PROJECT + \"bert_fine_tuning_multitask_cnn.h5\")"
      ],
      "execution_count": null,
      "outputs": []
    },
    {
      "cell_type": "code",
      "metadata": {
        "id": "7so8Yz5TwjV7",
        "colab": {
          "base_uri": "https://localhost:8080/"
        },
        "outputId": "6cb25e44-ac8a-43b5-dd01-aef1bd88bc61"
      },
      "source": [
        "# Test Model\n",
        "model.evaluate_generator(val_generator(final_test_df, batch_size_val=20, batches_per_epoch_val=110), steps=110)"
      ],
      "execution_count": null,
      "outputs": [
        {
          "output_type": "execute_result",
          "data": {
            "text/plain": [
              "[6.149624300003052, 0.6115151719613509]"
            ]
          },
          "metadata": {
            "tags": []
          },
          "execution_count": 86
        }
      ]
    },
    {
      "cell_type": "code",
      "metadata": {
        "id": "-oTXOmnrwjhF",
        "colab": {
          "base_uri": "https://localhost:8080/"
        },
        "outputId": "9556b953-ab23-4d8e-fec1-71ad0d3a3dee"
      },
      "source": [
        "# Metrics Test Set\n",
        "predicts = model.predict_generator(val_generator(final_test_df, batch_size_val=20, batches_per_epoch_val=110), steps=110)\n",
        "y_test = np.array(final_test_df.label.to_list(), dtype='float32')\n",
        "\n",
        "print(\"========= Metrics BERT Embedding + CNN Model =========\")\n",
        "multitask_metrics(y_test, predicts, LABELS_SET, 'bert_fine_tuning_multitask_cnn', 'bert_fine_tuning_multitask_cnn')"
      ],
      "execution_count": null,
      "outputs": [
        {
          "output_type": "stream",
          "text": [
            "========= Metrics BERT Embedding + CNN Model =========\n",
            "Correct Prediction per Label: [0.62       0.60318184 0.61136365]\n",
            "Exact Match Ratio: 0.03363636363636364\n",
            "Hamming Loss: 0.3884848484848485\n",
            "Confusion Matrix: \n",
            "[[[1311    9]\n",
            "  [ 827   53]]\n",
            "\n",
            " [[1306   14]\n",
            "  [ 859   21]]\n",
            "\n",
            " [[1309   11]\n",
            "  [ 844   36]]]\n",
            "=== Model Performance - Multi-label Metrics ===\n",
            "              precision    recall  f1-score   support\n",
            "\n",
            "     control       0.85      0.06      0.11       880\n",
            "     anxiety       0.60      0.02      0.05       880\n",
            "  depression       0.77      0.04      0.08       880\n",
            "\n",
            "   micro avg       0.76      0.04      0.08      2640\n",
            "   macro avg       0.74      0.04      0.08      2640\n",
            "weighted avg       0.74      0.04      0.08      2640\n",
            " samples avg       0.04      0.04      0.04      2640\n",
            "\n",
            "\n",
            "\n",
            "=== Model Performance - Single-label Metrics ===\n",
            "control\n",
            "[[1311    9]\n",
            " [ 828   52]]\n",
            "anxiety\n",
            "[[1757    3]\n",
            " [ 436    4]]\n",
            "depression\n",
            "[[1747   13]\n",
            " [ 433    7]]\n",
            "anxiety,depression\n",
            "[[1744   16]\n",
            " [ 429   11]]\n",
            "\n",
            "                      precision    recall  f1-score   support\n",
            "\n",
            "             control       0.85      0.06      0.11       880\n",
            "             anxiety       0.57      0.01      0.02       440\n",
            "          depression       0.35      0.02      0.03       440\n",
            "  anxiety,depression       0.41      0.03      0.05       440\n",
            "\n",
            "\n"
          ],
          "name": "stdout"
        }
      ]
    },
    {
      "cell_type": "code",
      "metadata": {
        "id": "ZAbr0Uk7grFo",
        "colab": {
          "base_uri": "https://localhost:8080/"
        },
        "outputId": "73d6f649-d8b6-43bd-ceb7-48adf32d2cb8"
      },
      "source": [
        "# Metrics Test Set\n",
        "predicts = model.predict_generator(val_generator(final_test_stk_df, batch_size_val=20, batches_per_epoch_val=22), steps=22)\n",
        "y_test = np.array(final_test_stk_df.label.to_list(), dtype='float32')\n",
        "\n",
        "print(\"========= Metrics BERT Embedding + CNN Model =========\")\n",
        "multitask_metrics(y_test, predicts, LABELS_SET, 'bert_fine_tuning_multitask_cnn_stk', 'bert_fine_tuning_multitask_cnn_stk')"
      ],
      "execution_count": null,
      "outputs": [
        {
          "output_type": "stream",
          "text": [
            "========= Metrics BERT Embedding + CNN Model =========\n",
            "Correct Prediction per Label: [0.6181818  0.59772724 0.6159091 ]\n",
            "Exact Match Ratio: 0.02727272727272727\n",
            "Hamming Loss: 0.3893939393939394\n",
            "Confusion Matrix: \n",
            "[[[263   1]\n",
            "  [167   9]]\n",
            "\n",
            " [[260   4]\n",
            "  [173   3]]\n",
            "\n",
            " [[262   2]\n",
            "  [167   9]]]\n",
            "=== Model Performance - Multi-label Metrics ===\n",
            "              precision    recall  f1-score   support\n",
            "\n",
            "     control       0.90      0.05      0.10       176\n",
            "     anxiety       0.43      0.02      0.03       176\n",
            "  depression       0.82      0.05      0.10       176\n",
            "\n",
            "   micro avg       0.75      0.04      0.08       528\n",
            "   macro avg       0.72      0.04      0.08       528\n",
            "weighted avg       0.72      0.04      0.08       528\n",
            " samples avg       0.04      0.04      0.04       528\n",
            "\n",
            "\n",
            "\n",
            "=== Model Performance - Single-label Metrics ===\n",
            "control\n",
            "[[263   1]\n",
            " [167   9]]\n",
            "anxiety\n",
            "[[351   1]\n",
            " [ 88   0]]\n",
            "depression\n",
            "[[348   4]\n",
            " [ 87   1]]\n",
            "anxiety,depression\n",
            "[[348   4]\n",
            " [ 86   2]]\n",
            "\n",
            "                      precision    recall  f1-score   support\n",
            "\n",
            "             control       0.90      0.05      0.10       176\n",
            "             anxiety       0.00      0.00      0.00        88\n",
            "          depression       0.20      0.01      0.02        88\n",
            "  anxiety,depression       0.33      0.02      0.04        88\n",
            "\n",
            "\n"
          ],
          "name": "stdout"
        }
      ]
    },
    {
      "cell_type": "code",
      "metadata": {
        "id": "zO8rvKQwwjrp",
        "colab": {
          "base_uri": "https://localhost:8080/",
          "height": 754
        },
        "outputId": "45fe4db4-8f7f-4d32-9469-8bfd9759b1e8"
      },
      "source": [
        "# Save Topology Model in Image\n",
        "plot_model(model, to_file=dn.PATH_PROJECT + 'bert_fine_tuning_multitask_cnn.png', show_shapes=True, show_layer_names=True)"
      ],
      "execution_count": null,
      "outputs": [
        {
          "output_type": "execute_result",
          "data": {
            "image/png": "[encoded data removed]",
            "text/plain": [
              "<IPython.core.display.Image object>"
            ]
          },
          "metadata": {
            "tags": []
          },
          "execution_count": 89
        }
      ]
    },
    {
      "cell_type": "markdown",
      "metadata": {
        "id": "smdSEXswwz4-"
      },
      "source": [
        "##### 1.8.5 BERT Embedding + Hybrid Model"
      ]
    },
    {
      "cell_type": "code",
      "metadata": {
        "id": "kV1a0dY-w7sk"
      },
      "source": [
        "def bert_hybrid_multitask():\n",
        "  text_input = Input(shape=(None,768,), dtype='float32', name='text_bert_hybrid')\n",
        "\n",
        "  hybrid_layer_1 = layers.Dropout(0.5, name='dense_bert_hybrid_dout_1')(text_input)\n",
        "  hybrid_layer_2 = layers.Conv1D(filters=64, kernel_size=4,\n",
        "                                 kernel_initializer='glorot_uniform',\n",
        "                                 padding='valid', activation='relu',\n",
        "                                 name='dense_bert_hybrid_conv_1')(hybrid_layer_1)\n",
        "  hybrid_layer_3 = layers.MaxPooling1D(name='dense_bert_hybrid_max_pool_1')(hybrid_layer_2)\n",
        "  hybrid_layer_4 = layers.LSTM(64, kernel_initializer='glorot_uniform',\n",
        "                               activation='tanh', dropout=0.2,\n",
        "                               recurrent_dropout=0.2,\n",
        "                               return_sequences=True, name='dense_bert_hybrid_lstm_1')(hybrid_layer_3)\n",
        "  hybrid_layer_5 = layers.LSTM(64, kernel_initializer='glorot_uniform',\n",
        "                               activation='tanh', dropout=0.2,\n",
        "                               recurrent_dropout=0.2,\n",
        "                               return_sequences=True, name='dense_bert_hybrid_lstm_2')(hybrid_layer_4)\n",
        "  hybrid_layer_6 = layers.LSTM(64, kernel_initializer='glorot_uniform', \n",
        "                               activation='tanh', dropout=0.2,\n",
        "                               recurrent_dropout=0.2,\n",
        "                               name='dense_bert_hybrid_lstm_3')(hybrid_layer_5)\n",
        "  out = layers.Dense(len(LABELS_SET), activation='sigmoid', \n",
        "                     name='dense_bert_hybrid_dense_1')(hybrid_layer_6)\n",
        "\n",
        "  model = Model(text_input, out)\n",
        "  model.compile(optimizer='adadelta',\n",
        "                loss='binary_crossentropy',\n",
        "                metrics=['acc'])\n",
        "  model.summary()\n",
        "\n",
        "  return model"
      ],
      "execution_count": null,
      "outputs": []
    },
    {
      "cell_type": "code",
      "metadata": {
        "id": "G-qpbIHLw8r8",
        "colab": {
          "base_uri": "https://localhost:8080/"
        },
        "outputId": "4d686752-bd50-424e-f9d6-bd24698f392b"
      },
      "source": [
        "# Create Model\n",
        "model = bert_hybrid_multitask()"
      ],
      "execution_count": null,
      "outputs": [
        {
          "output_type": "stream",
          "text": [
            "Model: \"model_3\"\n",
            "_________________________________________________________________\n",
            "Layer (type)                 Output Shape              Param #   \n",
            "=================================================================\n",
            "text_bert_hybrid (InputLayer (None, None, 768)         0         \n",
            "_________________________________________________________________\n",
            "dense_bert_hybrid_dout_1 (Dr (None, None, 768)         0         \n",
            "_________________________________________________________________\n",
            "dense_bert_hybrid_conv_1 (Co (None, None, 64)          196672    \n",
            "_________________________________________________________________\n",
            "dense_bert_hybrid_max_pool_1 (None, None, 64)          0         \n",
            "_________________________________________________________________\n",
            "dense_bert_hybrid_lstm_1 (LS (None, None, 64)          33024     \n",
            "_________________________________________________________________\n",
            "dense_bert_hybrid_lstm_2 (LS (None, None, 64)          33024     \n",
            "_________________________________________________________________\n",
            "dense_bert_hybrid_lstm_3 (LS (None, 64)                33024     \n",
            "_________________________________________________________________\n",
            "dense_bert_hybrid_dense_1 (D (None, 3)                 195       \n",
            "=================================================================\n",
            "Total params: 295,939\n",
            "Trainable params: 295,939\n",
            "Non-trainable params: 0\n",
            "_________________________________________________________________\n"
          ],
          "name": "stdout"
        }
      ]
    },
    {
      "cell_type": "code",
      "metadata": {
        "id": "mAuUWAwUw81X",
        "colab": {
          "base_uri": "https://localhost:8080/"
        },
        "outputId": "fdbdad2c-9140-4679-f195-3358b8991072"
      },
      "source": [
        "# Train model\n",
        "history = model.fit_generator(train_generator(final_train_df, batch_size=20, batches_per_epoch=110), steps_per_epoch=110, epochs=50,\n",
        "                              validation_data=val_generator(final_valid_df, batch_size_val=20, batches_per_epoch_val=110), validation_steps=110, callbacks =[call_reduce])"
      ],
      "execution_count": null,
      "outputs": [
        {
          "output_type": "stream",
          "text": [
            "Epoch 1/50\n",
            "110/110 [==============================] - 68s 621ms/step - loss: 0.4577 - acc: 0.7811 - val_loss: 0.6184 - val_acc: 0.7227\n",
            "Epoch 2/50\n",
            "110/110 [==============================] - 62s 560ms/step - loss: 0.4161 - acc: 0.8076 - val_loss: 0.6400 - val_acc: 0.7188\n",
            "Epoch 3/50\n",
            "110/110 [==============================] - 61s 553ms/step - loss: 0.4107 - acc: 0.8076 - val_loss: 0.6107 - val_acc: 0.7020\n",
            "Epoch 4/50\n",
            "110/110 [==============================] - 60s 548ms/step - loss: 0.3937 - acc: 0.8124 - val_loss: 0.6257 - val_acc: 0.7226\n",
            "\n",
            "Epoch 00004: ReduceLROnPlateau reducing learning rate to 0.95.\n",
            "Epoch 5/50\n",
            "110/110 [==============================] - 62s 563ms/step - loss: 0.3896 - acc: 0.8138 - val_loss: 0.6107 - val_acc: 0.7192\n",
            "Epoch 6/50\n",
            "110/110 [==============================] - 62s 562ms/step - loss: 0.3821 - acc: 0.8173 - val_loss: 0.6350 - val_acc: 0.7248\n",
            "Epoch 7/50\n",
            "110/110 [==============================] - 61s 551ms/step - loss: 0.3833 - acc: 0.8155 - val_loss: 0.6482 - val_acc: 0.7094\n",
            "\n",
            "Epoch 00007: ReduceLROnPlateau reducing learning rate to 0.9024999886751175.\n",
            "Epoch 8/50\n",
            "110/110 [==============================] - 52s 468ms/step - loss: 0.3817 - acc: 0.8202 - val_loss: 0.6490 - val_acc: 0.7135\n",
            "Epoch 9/50\n",
            "110/110 [==============================] - 53s 479ms/step - loss: 0.3770 - acc: 0.8191 - val_loss: 0.6585 - val_acc: 0.7208\n",
            "Epoch 10/50\n",
            "110/110 [==============================] - 52s 469ms/step - loss: 0.3774 - acc: 0.8182 - val_loss: 0.6519 - val_acc: 0.7171\n",
            "\n",
            "Epoch 00010: ReduceLROnPlateau reducing learning rate to 0.8573749750852584.\n",
            "Epoch 11/50\n",
            "110/110 [==============================] - 53s 477ms/step - loss: 0.3831 - acc: 0.8195 - val_loss: 0.6088 - val_acc: 0.7208\n",
            "Epoch 12/50\n",
            "110/110 [==============================] - 52s 474ms/step - loss: 0.3726 - acc: 0.8183 - val_loss: 0.6607 - val_acc: 0.7211\n",
            "Epoch 13/50\n",
            "110/110 [==============================] - 53s 480ms/step - loss: 0.3704 - acc: 0.8208 - val_loss: 0.6424 - val_acc: 0.7158\n",
            "\n",
            "Epoch 00013: ReduceLROnPlateau reducing learning rate to 0.8145062178373337.\n",
            "Epoch 14/50\n",
            "110/110 [==============================] - 53s 486ms/step - loss: 0.3723 - acc: 0.8182 - val_loss: 0.6323 - val_acc: 0.7132\n",
            "Epoch 15/50\n",
            "110/110 [==============================] - 53s 480ms/step - loss: 0.3723 - acc: 0.8205 - val_loss: 0.6493 - val_acc: 0.7179\n",
            "Epoch 16/50\n",
            "110/110 [==============================] - 53s 481ms/step - loss: 0.3656 - acc: 0.8242 - val_loss: 0.6424 - val_acc: 0.7189\n",
            "\n",
            "Epoch 00016: ReduceLROnPlateau reducing learning rate to 0.77378092110157.\n",
            "Epoch 17/50\n",
            "110/110 [==============================] - 52s 469ms/step - loss: 0.3679 - acc: 0.8224 - val_loss: 0.6654 - val_acc: 0.7286\n",
            "Epoch 18/50\n",
            "110/110 [==============================] - 54s 492ms/step - loss: 0.3718 - acc: 0.8206 - val_loss: 0.6464 - val_acc: 0.7211\n",
            "Epoch 19/50\n",
            "110/110 [==============================] - 53s 486ms/step - loss: 0.3657 - acc: 0.8212 - val_loss: 0.6460 - val_acc: 0.7232\n",
            "\n",
            "Epoch 00019: ReduceLROnPlateau reducing learning rate to 0.735091894865036.\n",
            "Epoch 20/50\n",
            "110/110 [==============================] - 53s 484ms/step - loss: 0.3649 - acc: 0.8226 - val_loss: 0.6435 - val_acc: 0.7262\n",
            "Epoch 21/50\n",
            "110/110 [==============================] - 53s 478ms/step - loss: 0.3674 - acc: 0.8238 - val_loss: 0.6456 - val_acc: 0.7227\n",
            "Epoch 22/50\n",
            "110/110 [==============================] - 53s 483ms/step - loss: 0.3652 - acc: 0.8211 - val_loss: 0.6481 - val_acc: 0.7218\n",
            "\n",
            "Epoch 00022: ReduceLROnPlateau reducing learning rate to 0.6983373284339904.\n",
            "Epoch 23/50\n",
            "110/110 [==============================] - 52s 475ms/step - loss: 0.3610 - acc: 0.8255 - val_loss: 0.6548 - val_acc: 0.7203\n",
            "Epoch 24/50\n",
            "110/110 [==============================] - 54s 490ms/step - loss: 0.3598 - acc: 0.8264 - val_loss: 0.6200 - val_acc: 0.7189\n",
            "Epoch 25/50\n",
            "110/110 [==============================] - 53s 481ms/step - loss: 0.3595 - acc: 0.8239 - val_loss: 0.6447 - val_acc: 0.7158\n",
            "\n",
            "Epoch 00025: ReduceLROnPlateau reducing learning rate to 0.6634204506874084.\n",
            "Epoch 26/50\n",
            "110/110 [==============================] - 53s 483ms/step - loss: 0.3612 - acc: 0.8252 - val_loss: 0.6374 - val_acc: 0.7177\n",
            "Epoch 27/50\n",
            "110/110 [==============================] - 53s 479ms/step - loss: 0.3599 - acc: 0.8248 - val_loss: 0.6583 - val_acc: 0.7197\n",
            "Epoch 28/50\n",
            "110/110 [==============================] - 53s 484ms/step - loss: 0.3535 - acc: 0.8279 - val_loss: 0.6499 - val_acc: 0.7180\n",
            "\n",
            "Epoch 00028: ReduceLROnPlateau reducing learning rate to 0.6302494168281555.\n",
            "Epoch 29/50\n",
            "110/110 [==============================] - 54s 490ms/step - loss: 0.3597 - acc: 0.8232 - val_loss: 0.6463 - val_acc: 0.7212\n",
            "Epoch 30/50\n",
            "110/110 [==============================] - 53s 478ms/step - loss: 0.3593 - acc: 0.8264 - val_loss: 0.6603 - val_acc: 0.7127\n",
            "Epoch 31/50\n",
            "110/110 [==============================] - 52s 476ms/step - loss: 0.3561 - acc: 0.8271 - val_loss: 0.6468 - val_acc: 0.7212\n",
            "\n",
            "Epoch 00031: ReduceLROnPlateau reducing learning rate to 0.5987369686365127.\n",
            "Epoch 32/50\n",
            "110/110 [==============================] - 52s 477ms/step - loss: 0.3586 - acc: 0.8241 - val_loss: 0.6285 - val_acc: 0.7239\n",
            "Epoch 33/50\n",
            "110/110 [==============================] - 52s 473ms/step - loss: 0.3553 - acc: 0.8255 - val_loss: 0.6378 - val_acc: 0.7212\n",
            "Epoch 34/50\n",
            "110/110 [==============================] - 53s 478ms/step - loss: 0.3570 - acc: 0.8239 - val_loss: 0.6202 - val_acc: 0.7198\n",
            "\n",
            "Epoch 00034: ReduceLROnPlateau reducing learning rate to 0.5688000947237014.\n",
            "Epoch 35/50\n",
            "110/110 [==============================] - 53s 479ms/step - loss: 0.3523 - acc: 0.8270 - val_loss: 0.6469 - val_acc: 0.7212\n",
            "Epoch 36/50\n",
            "110/110 [==============================] - 52s 471ms/step - loss: 0.3536 - acc: 0.8288 - val_loss: 0.6490 - val_acc: 0.7259\n",
            "Epoch 37/50\n",
            "110/110 [==============================] - 53s 483ms/step - loss: 0.3580 - acc: 0.8270 - val_loss: 0.6348 - val_acc: 0.7212\n",
            "\n",
            "Epoch 00037: ReduceLROnPlateau reducing learning rate to 0.5403600871562958.\n",
            "Epoch 38/50\n",
            "110/110 [==============================] - 52s 471ms/step - loss: 0.3520 - acc: 0.8276 - val_loss: 0.6435 - val_acc: 0.7176\n",
            "Epoch 39/50\n",
            "110/110 [==============================] - 52s 477ms/step - loss: 0.3559 - acc: 0.8285 - val_loss: 0.6386 - val_acc: 0.7203\n",
            "Epoch 40/50\n",
            "110/110 [==============================] - 54s 487ms/step - loss: 0.3524 - acc: 0.8288 - val_loss: 0.6463 - val_acc: 0.7183\n",
            "\n",
            "Epoch 00040: ReduceLROnPlateau reducing learning rate to 0.5133420884609222.\n",
            "Epoch 41/50\n",
            "110/110 [==============================] - 53s 480ms/step - loss: 0.3507 - acc: 0.8286 - val_loss: 0.6248 - val_acc: 0.7192\n",
            "Epoch 42/50\n",
            "110/110 [==============================] - 53s 481ms/step - loss: 0.3496 - acc: 0.8282 - val_loss: 0.6401 - val_acc: 0.7161\n",
            "Epoch 43/50\n",
            "110/110 [==============================] - 53s 479ms/step - loss: 0.3473 - acc: 0.8305 - val_loss: 0.6325 - val_acc: 0.7185\n",
            "\n",
            "Epoch 00043: ReduceLROnPlateau reducing learning rate to 0.48767497837543483.\n",
            "Epoch 44/50\n",
            "110/110 [==============================] - 53s 478ms/step - loss: 0.3483 - acc: 0.8295 - val_loss: 0.6507 - val_acc: 0.7182\n",
            "Epoch 45/50\n",
            "110/110 [==============================] - 53s 484ms/step - loss: 0.3513 - acc: 0.8271 - val_loss: 0.6328 - val_acc: 0.7189\n",
            "Epoch 46/50\n",
            "110/110 [==============================] - 54s 488ms/step - loss: 0.3503 - acc: 0.8300 - val_loss: 0.6287 - val_acc: 0.7205\n",
            "\n",
            "Epoch 00046: ReduceLROnPlateau reducing learning rate to 0.4632912322878837.\n",
            "Epoch 47/50\n",
            "110/110 [==============================] - 53s 481ms/step - loss: 0.3432 - acc: 0.8339 - val_loss: 0.6466 - val_acc: 0.7212\n",
            "Epoch 48/50\n",
            "110/110 [==============================] - 53s 481ms/step - loss: 0.3529 - acc: 0.8282 - val_loss: 0.6390 - val_acc: 0.7203\n",
            "Epoch 49/50\n",
            "110/110 [==============================] - 52s 477ms/step - loss: 0.3445 - acc: 0.8303 - val_loss: 0.6627 - val_acc: 0.7182\n",
            "\n",
            "Epoch 00049: ReduceLROnPlateau reducing learning rate to 0.4401266664266586.\n",
            "Epoch 50/50\n",
            "110/110 [==============================] - 53s 486ms/step - loss: 0.3456 - acc: 0.8302 - val_loss: 0.6544 - val_acc: 0.7144\n"
          ],
          "name": "stdout"
        }
      ]
    },
    {
      "cell_type": "code",
      "metadata": {
        "id": "sG0BMbSp-Y7i"
      },
      "source": [
        "save_history(history, 'bert_fine_tuning_multitask_hybrid_hst')"
      ],
      "execution_count": null,
      "outputs": []
    },
    {
      "cell_type": "code",
      "metadata": {
        "id": "QGhB7HvHlScL"
      },
      "source": [
        "model.save(dn.PATH_PROJECT + \"bert_fine_tuning_multitask_hybrid.h5\")"
      ],
      "execution_count": null,
      "outputs": []
    },
    {
      "cell_type": "code",
      "metadata": {
        "id": "TK0WL5i7w9AT",
        "colab": {
          "base_uri": "https://localhost:8080/"
        },
        "outputId": "5f6ee60d-cfa6-4a68-84ab-8278f8423f53"
      },
      "source": [
        "# Test Model\n",
        "model.evaluate_generator(val_generator(final_test_df, batch_size_val=20, batches_per_epoch_val=110), steps=110)"
      ],
      "execution_count": null,
      "outputs": [
        {
          "output_type": "execute_result",
          "data": {
            "text/plain": [
              "[0.6303901872851632, 0.7254545699466358]"
            ]
          },
          "metadata": {
            "tags": []
          },
          "execution_count": 95
        }
      ]
    },
    {
      "cell_type": "code",
      "metadata": {
        "id": "rIgLfnLow9Je",
        "colab": {
          "base_uri": "https://localhost:8080/"
        },
        "outputId": "f2e5eb5e-f112-4f8d-e006-62d3627a5121"
      },
      "source": [
        "# Metrics Test Set\n",
        "predicts = model.predict_generator(val_generator(final_test_df, batch_size_val=20, batches_per_epoch_val=110), steps=110)\n",
        "y_test = np.array(final_test_df.label.to_list(), dtype='float32')\n",
        "\n",
        "print(\"========= Metrics BERT Embedding + Hybrid Model =========\")\n",
        "multitask_metrics(y_test, predicts, LABELS_SET, 'bert_fine_tuning_multitask_hybrid', 'bert_fine_tuning_multitask_hybrid')"
      ],
      "execution_count": null,
      "outputs": [
        {
          "output_type": "stream",
          "text": [
            "========= Metrics BERT Embedding + Hybrid Model =========\n",
            "Correct Prediction per Label: [0.8        0.7031818  0.67318183]\n",
            "Exact Match Ratio: 0.46\n",
            "Hamming Loss: 0.27454545454545454\n",
            "Confusion Matrix: \n",
            "[[[1143  177]\n",
            "  [ 263  617]]\n",
            "\n",
            " [[ 884  436]\n",
            "  [ 217  663]]\n",
            "\n",
            " [[ 737  583]\n",
            "  [ 136  744]]]\n",
            "=== Model Performance - Multi-label Metrics ===\n",
            "              precision    recall  f1-score   support\n",
            "\n",
            "     control       0.78      0.70      0.74       880\n",
            "     anxiety       0.60      0.75      0.67       880\n",
            "  depression       0.56      0.85      0.67       880\n",
            "\n",
            "   micro avg       0.63      0.77      0.69      2640\n",
            "   macro avg       0.65      0.77      0.69      2640\n",
            "weighted avg       0.65      0.77      0.69      2640\n",
            " samples avg       0.62      0.76      0.67      2640\n",
            "\n",
            "\n",
            "\n",
            "=== Model Performance - Single-label Metrics ===\n",
            "control\n",
            "[[1143  177]\n",
            " [ 263  617]]\n",
            "anxiety\n",
            "[[1759    1]\n",
            " [ 438    2]]\n",
            "depression\n",
            "[[1588  172]\n",
            " [ 381   59]]\n",
            "anxiety,depression\n",
            "[[998 762]\n",
            " [106 334]]\n",
            "\n",
            "                      precision    recall  f1-score   support\n",
            "\n",
            "             control       0.78      0.70      0.74       880\n",
            "             anxiety       0.67      0.00      0.01       440\n",
            "          depression       0.26      0.13      0.18       440\n",
            "  anxiety,depression       0.30      0.76      0.43       440\n",
            "\n",
            "\n"
          ],
          "name": "stdout"
        }
      ]
    },
    {
      "cell_type": "code",
      "metadata": {
        "id": "-Ker1H5qg0w9",
        "colab": {
          "base_uri": "https://localhost:8080/"
        },
        "outputId": "ad1ef889-503a-433a-fd8c-8735e1c1b41b"
      },
      "source": [
        "# Metrics Test Set\n",
        "predicts = model.predict_generator(val_generator(final_test_stk_df, batch_size_val=20, batches_per_epoch_val=22), steps=22)\n",
        "y_test = np.array(final_test_stk_df.label.to_list(), dtype='float32')\n",
        "\n",
        "print(\"========= Metrics BERT Embedding + Hybrid Model =========\")\n",
        "multitask_metrics(y_test, predicts, LABELS_SET, 'bert_fine_tuning_multitask_hybrid_stk', 'bert_fine_tuning_multitask_hybrid_stk')"
      ],
      "execution_count": null,
      "outputs": [
        {
          "output_type": "stream",
          "text": [
            "========= Metrics BERT Embedding + Hybrid Model =========\n",
            "Correct Prediction per Label: [0.76363635 0.7090909  0.6522727 ]\n",
            "Exact Match Ratio: 0.4340909090909091\n",
            "Hamming Loss: 0.2916666666666667\n",
            "Confusion Matrix: \n",
            "[[[223  41]\n",
            "  [ 63 113]]\n",
            "\n",
            " [[183  81]\n",
            "  [ 47 129]]\n",
            "\n",
            " [[145 119]\n",
            "  [ 34 142]]]\n",
            "=== Model Performance - Multi-label Metrics ===\n",
            "              precision    recall  f1-score   support\n",
            "\n",
            "     control       0.73      0.64      0.68       176\n",
            "     anxiety       0.61      0.73      0.67       176\n",
            "  depression       0.54      0.81      0.65       176\n",
            "\n",
            "   micro avg       0.61      0.73      0.67       528\n",
            "   macro avg       0.63      0.73      0.67       528\n",
            "weighted avg       0.63      0.73      0.67       528\n",
            " samples avg       0.60      0.71      0.63       528\n",
            "\n",
            "\n",
            "\n",
            "=== Model Performance - Single-label Metrics ===\n",
            "control\n",
            "[[223  41]\n",
            " [ 63 113]]\n",
            "anxiety\n",
            "[[350   2]\n",
            " [ 87   1]]\n",
            "depression\n",
            "[[310  42]\n",
            " [ 76  12]]\n",
            "anxiety,depression\n",
            "[[210 142]\n",
            " [ 23  65]]\n",
            "\n",
            "                      precision    recall  f1-score   support\n",
            "\n",
            "             control       0.73      0.64      0.68       176\n",
            "             anxiety       0.33      0.01      0.02        88\n",
            "          depression       0.22      0.14      0.17        88\n",
            "  anxiety,depression       0.31      0.74      0.44        88\n",
            "\n",
            "\n"
          ],
          "name": "stdout"
        }
      ]
    },
    {
      "cell_type": "code",
      "metadata": {
        "id": "c1wvPowrw9SH",
        "colab": {
          "base_uri": "https://localhost:8080/",
          "height": 865
        },
        "outputId": "3ea672be-9c76-4e96-8b7f-d7bf3eb94bb0"
      },
      "source": [
        "# Save Topology Model in Image\n",
        "plot_model(model, to_file=dn.PATH_PROJECT + 'bert_fine_tuning_multitask_hybrid.png', show_shapes=True, show_layer_names=True)"
      ],
      "execution_count": null,
      "outputs": [
        {
          "output_type": "execute_result",
          "data": {
            "image/png": "[encoded data removed]",
            "text/plain": [
              "<IPython.core.display.Image object>"
            ]
          },
          "metadata": {
            "tags": []
          },
          "execution_count": 98
        }
      ]
    },
    {
      "cell_type": "code",
      "metadata": {
        "id": "1YdBxiy0iPzM"
      },
      "source": [
        ""
      ],
      "execution_count": null,
      "outputs": []
    },
    {
      "cell_type": "markdown",
      "metadata": {
        "id": "Yl_GURjEs_7_"
      },
      "source": [
        "##### 1.8.6 BERT Embedding + CNN without first dropout layer"
      ]
    },
    {
      "cell_type": "code",
      "metadata": {
        "id": "SUQq3NEEk4E_"
      },
      "source": [
        "def bert_cnn_wd_multitask():\n",
        "  text_input = Input(shape=(None,768,), dtype='float32', name='text_bert_cnn')\n",
        "  \n",
        "  # cnn_layer_1 = layers.Dropout(0.2, name='dense_bert_cnn_dout_1')(text_input)\n",
        "  cnn_layer_2 = layers.Conv1D(filters=100, kernel_size=3,\n",
        "                              kernel_initializer='glorot_uniform',\n",
        "                              padding='valid', activation='relu',\n",
        "                              name='dense_bert_cnn_conv_1')(text_input)\n",
        "  cnn_layer_3 = layers.GlobalAveragePooling1D(name='dense_bert_cnn_gbl_avg_pool_1')(cnn_layer_2)\n",
        "  cnn_layer_4 = layers.Dense(100, activation='relu', kernel_initializer='glorot_uniform',\n",
        "                             name='dense_bert_cnn_')(cnn_layer_3)\n",
        "  cnn_layer_5 = layers.Dropout(0.2, name='dense_bert_cnn_dout_2')(cnn_layer_4)\n",
        "\n",
        "  out = layers.Dense(len(LABELS_SET), activation='sigmoid', \n",
        "                     name='dense_bert_cnn_6')(cnn_layer_5)\n",
        "\n",
        "  model = Model(text_input, out)\n",
        "  model.compile(optimizer='adadelta',\n",
        "                loss='binary_crossentropy',\n",
        "                metrics=['acc'])\n",
        "  model.summary()\n",
        "\n",
        "  return model"
      ],
      "execution_count": null,
      "outputs": []
    },
    {
      "cell_type": "code",
      "metadata": {
        "id": "k_rYXApDk-xY",
        "colab": {
          "base_uri": "https://localhost:8080/"
        },
        "outputId": "9575d4e4-eba9-4d04-8cf8-85a7934748ca"
      },
      "source": [
        "model = bert_cnn_wd_multitask()"
      ],
      "execution_count": null,
      "outputs": [
        {
          "output_type": "stream",
          "text": [
            "Model: \"model_4\"\n",
            "_________________________________________________________________\n",
            "Layer (type)                 Output Shape              Param #   \n",
            "=================================================================\n",
            "text_bert_cnn (InputLayer)   (None, None, 768)         0         \n",
            "_________________________________________________________________\n",
            "dense_bert_cnn_conv_1 (Conv1 (None, None, 100)         230500    \n",
            "_________________________________________________________________\n",
            "dense_bert_cnn_gbl_avg_pool_ (None, 100)               0         \n",
            "_________________________________________________________________\n",
            "dense_bert_cnn_ (Dense)      (None, 100)               10100     \n",
            "_________________________________________________________________\n",
            "dense_bert_cnn_dout_2 (Dropo (None, 100)               0         \n",
            "_________________________________________________________________\n",
            "dense_bert_cnn_6 (Dense)     (None, 3)                 303       \n",
            "=================================================================\n",
            "Total params: 240,903\n",
            "Trainable params: 240,903\n",
            "Non-trainable params: 0\n",
            "_________________________________________________________________\n"
          ],
          "name": "stdout"
        }
      ]
    },
    {
      "cell_type": "code",
      "metadata": {
        "id": "UvCPiLcDk-Dz",
        "colab": {
          "base_uri": "https://localhost:8080/"
        },
        "outputId": "24bc27d7-ad31-432e-e46b-89ded7862159"
      },
      "source": [
        "# Train model\n",
        "history = model.fit_generator(train_generator(final_train_df, batch_size=20, batches_per_epoch=110), steps_per_epoch=110, epochs=10,\n",
        "                              validation_data=val_generator(final_valid_df, batch_size_val=20, batches_per_epoch_val=110), validation_steps=110, callbacks =[call_reduce])"
      ],
      "execution_count": null,
      "outputs": [
        {
          "output_type": "stream",
          "text": [
            "Epoch 1/10\n",
            "110/110 [==============================] - 5s 41ms/step - loss: 7.1880 - acc: 0.5397 - val_loss: 6.1581 - val_acc: 0.6089\n",
            "Epoch 2/10\n",
            "110/110 [==============================] - 3s 25ms/step - loss: 6.2038 - acc: 0.6064 - val_loss: 6.1558 - val_acc: 0.6103\n",
            "Epoch 3/10\n",
            "110/110 [==============================] - 3s 24ms/step - loss: 6.4270 - acc: 0.5915 - val_loss: 6.1600 - val_acc: 0.6088\n",
            "Epoch 4/10\n",
            "110/110 [==============================] - 3s 25ms/step - loss: 6.1678 - acc: 0.6056 - val_loss: 6.1568 - val_acc: 0.6100\n",
            "\n",
            "Epoch 00004: ReduceLROnPlateau reducing learning rate to 0.95.\n",
            "Epoch 5/10\n",
            "110/110 [==============================] - 3s 24ms/step - loss: 6.1486 - acc: 0.6085 - val_loss: 6.1587 - val_acc: 0.6088\n",
            "Epoch 6/10\n",
            "110/110 [==============================] - 3s 26ms/step - loss: 6.4342 - acc: 0.5895 - val_loss: 6.1567 - val_acc: 0.6092\n",
            "Epoch 7/10\n",
            "110/110 [==============================] - 3s 25ms/step - loss: 6.1664 - acc: 0.6089 - val_loss: 6.1644 - val_acc: 0.6085\n",
            "\n",
            "Epoch 00007: ReduceLROnPlateau reducing learning rate to 0.9024999886751175.\n",
            "Epoch 8/10\n",
            "110/110 [==============================] - 3s 25ms/step - loss: 6.1421 - acc: 0.6114 - val_loss: 6.1587 - val_acc: 0.6092\n",
            "Epoch 9/10\n",
            "110/110 [==============================] - 3s 25ms/step - loss: 6.1763 - acc: 0.6076 - val_loss: 6.1617 - val_acc: 0.6086\n",
            "Epoch 10/10\n",
            "110/110 [==============================] - 3s 25ms/step - loss: 6.1326 - acc: 0.6108 - val_loss: 6.1603 - val_acc: 0.6095\n",
            "\n",
            "Epoch 00010: ReduceLROnPlateau reducing learning rate to 0.8573749750852584.\n"
          ],
          "name": "stdout"
        }
      ]
    },
    {
      "cell_type": "code",
      "metadata": {
        "id": "Psb7LEJXlQMx"
      },
      "source": [
        "save_history(history, 'bert_fine_tuning_multitask_cnn_wd_hst')"
      ],
      "execution_count": null,
      "outputs": []
    },
    {
      "cell_type": "code",
      "metadata": {
        "id": "G_WN_OejlRAa"
      },
      "source": [
        "model.save(dn.PATH_PROJECT + \"bert_fine_tuning_multitask_cnn_wd.h5\")"
      ],
      "execution_count": null,
      "outputs": []
    },
    {
      "cell_type": "code",
      "metadata": {
        "id": "6TgPz89PlimZ",
        "colab": {
          "base_uri": "https://localhost:8080/"
        },
        "outputId": "6ec75ca6-2ee2-4f41-b27c-4e956dac363e"
      },
      "source": [
        "# Test Model\n",
        "model.evaluate_generator(val_generator(final_test_df, batch_size_val=20, batches_per_epoch_val=110), steps=110)"
      ],
      "execution_count": null,
      "outputs": [
        {
          "output_type": "execute_result",
          "data": {
            "text/plain": [
              "[6.14220569783991, 0.6115151719613509]"
            ]
          },
          "metadata": {
            "tags": []
          },
          "execution_count": 104
        }
      ]
    },
    {
      "cell_type": "code",
      "metadata": {
        "id": "P-ILEWMAlm6b",
        "colab": {
          "base_uri": "https://localhost:8080/"
        },
        "outputId": "2224e3f4-fc06-446b-d2f6-761566f58b2a"
      },
      "source": [
        "# Metrics Test Set\n",
        "predicts = model.predict_generator(val_generator(final_test_df, batch_size_val=20, batches_per_epoch_val=110), steps=110)\n",
        "y_test = np.array(final_test_df.label.to_list(), dtype='float32')\n",
        "\n",
        "print(\"========= Metrics BERT Embedding + CNN Model =========\")\n",
        "multitask_metrics(y_test, predicts, LABELS_SET, 'bert_fine_tuning_multitask_cnn_wd', 'bert_fine_tuning_multitask_cnn_wd')"
      ],
      "execution_count": null,
      "outputs": [
        {
          "output_type": "stream",
          "text": [
            "========= Metrics BERT Embedding + CNN Model =========\n",
            "Correct Prediction per Label: [0.61954546 0.60318184 0.6118182 ]\n",
            "Exact Match Ratio: 0.031363636363636364\n",
            "Hamming Loss: 0.3884848484848485\n",
            "Confusion Matrix: \n",
            "[[[1313    7]\n",
            "  [ 830   50]]\n",
            "\n",
            " [[1303   17]\n",
            "  [ 856   24]]\n",
            "\n",
            " [[1311    9]\n",
            "  [ 845   35]]]\n",
            "=== Model Performance - Multi-label Metrics ===\n",
            "              precision    recall  f1-score   support\n",
            "\n",
            "     control       0.88      0.06      0.11       880\n",
            "     anxiety       0.59      0.03      0.05       880\n",
            "  depression       0.80      0.04      0.08       880\n",
            "\n",
            "   micro avg       0.77      0.04      0.08      2640\n",
            "   macro avg       0.75      0.04      0.08      2640\n",
            "weighted avg       0.75      0.04      0.08      2640\n",
            " samples avg       0.04      0.04      0.04      2640\n",
            "\n",
            "\n",
            "\n",
            "=== Model Performance - Single-label Metrics ===\n",
            "control\n",
            "[[1315    5]\n",
            " [ 832   48]]\n",
            "anxiety\n",
            "[[1756    4]\n",
            " [ 436    4]]\n",
            "depression\n",
            "[[1749   11]\n",
            " [ 436    4]]\n",
            "anxiety,depression\n",
            "[[1744   16]\n",
            " [ 427   13]]\n",
            "\n",
            "                      precision    recall  f1-score   support\n",
            "\n",
            "             control       0.91      0.05      0.10       880\n",
            "             anxiety       0.50      0.01      0.02       440\n",
            "          depression       0.27      0.01      0.02       440\n",
            "  anxiety,depression       0.45      0.03      0.06       440\n",
            "\n",
            "\n"
          ],
          "name": "stdout"
        }
      ]
    },
    {
      "cell_type": "code",
      "metadata": {
        "id": "CzeEBvjrg9b0",
        "colab": {
          "base_uri": "https://localhost:8080/"
        },
        "outputId": "7f687a2a-8250-48f2-c524-46b2d69e69f9"
      },
      "source": [
        "# Metrics Test Set\n",
        "predicts = model.predict_generator(val_generator(final_test_stk_df, batch_size_val=20, batches_per_epoch_val=22), steps=22)\n",
        "y_test = np.array(final_test_stk_df.label.to_list(), dtype='float32')\n",
        "\n",
        "print(\"========= Metrics BERT Embedding + CNN Model =========\")\n",
        "multitask_metrics(y_test, predicts, LABELS_SET, 'bert_fine_tuning_multitask_cnn_wd_stk', 'bert_fine_tuning_multitask_cnn_wd_stk')"
      ],
      "execution_count": null,
      "outputs": [
        {
          "output_type": "stream",
          "text": [
            "========= Metrics BERT Embedding + CNN Model =========\n",
            "Correct Prediction per Label: [0.6181818 0.5931818 0.6159091]\n",
            "Exact Match Ratio: 0.02727272727272727\n",
            "Hamming Loss: 0.39090909090909093\n",
            "Confusion Matrix: \n",
            "[[[263   1]\n",
            "  [167   9]]\n",
            "\n",
            " [[258   6]\n",
            "  [173   3]]\n",
            "\n",
            " [[262   2]\n",
            "  [167   9]]]\n",
            "=== Model Performance - Multi-label Metrics ===\n",
            "              precision    recall  f1-score   support\n",
            "\n",
            "     control       0.90      0.05      0.10       176\n",
            "     anxiety       0.33      0.02      0.03       176\n",
            "  depression       0.82      0.05      0.10       176\n",
            "\n",
            "   micro avg       0.70      0.04      0.08       528\n",
            "   macro avg       0.68      0.04      0.08       528\n",
            "weighted avg       0.68      0.04      0.08       528\n",
            " samples avg       0.04      0.04      0.04       528\n",
            "\n",
            "\n",
            "\n",
            "=== Model Performance - Single-label Metrics ===\n",
            "control\n",
            "[[264   0]\n",
            " [168   8]]\n",
            "anxiety\n",
            "[[351   1]\n",
            " [ 88   0]]\n",
            "depression\n",
            "[[348   4]\n",
            " [ 87   1]]\n",
            "anxiety,depression\n",
            "[[349   3]\n",
            " [ 85   3]]\n",
            "\n",
            "                      precision    recall  f1-score   support\n",
            "\n",
            "             control       1.00      0.05      0.09       176\n",
            "             anxiety       0.00      0.00      0.00        88\n",
            "          depression       0.20      0.01      0.02        88\n",
            "  anxiety,depression       0.50      0.03      0.06        88\n",
            "\n",
            "\n"
          ],
          "name": "stdout"
        }
      ]
    },
    {
      "cell_type": "code",
      "metadata": {
        "id": "IBX3ZOcclVWj",
        "colab": {
          "base_uri": "https://localhost:8080/"
        },
        "outputId": "5256ff03-bed3-4365-d85b-4570881a5cbf"
      },
      "source": [
        "plot_model(model, to_file=dn.PATH_PROJECT + 'bert_fine_tuning_multitask_cnn_wd.png', show_shapes=True, show_layer_names=True)"
      ],
      "execution_count": null,
      "outputs": [
        {
          "output_type": "execute_result",
          "data": {
            "image/png": "[encoded data removed]",
            "text/plain": [
              "<IPython.core.display.Image object>"
            ]
          },
          "metadata": {
            "tags": []
          },
          "execution_count": 107
        }
      ]
    },
    {
      "cell_type": "code",
      "metadata": {
        "id": "MPQw_v-7tQMu"
      },
      "source": [
        ""
      ],
      "execution_count": null,
      "outputs": []
    }
  ]
}